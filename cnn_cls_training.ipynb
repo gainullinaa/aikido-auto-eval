{
 "cells": [
  {
   "cell_type": "code",
   "execution_count": 64,
   "id": "881eb7ea-8b29-452b-9434-06c65094f79d",
   "metadata": {},
   "outputs": [],
   "source": [
    "import numpy as np\n",
    "from tqdm import tqdm\n",
    "import cv2 as cv\n",
    "import matplotlib.pyplot as plt\n",
    "import torch\n",
    "import torchvision.models as models\n",
    "import torchvision.transforms as T\n",
    "from torch.utils.data import Dataset, random_split, DataLoader\n",
    "import torch.nn.functional as F\n",
    "\n",
    "import json\n",
    "import os\n",
    "import random"
   ]
  },
  {
   "cell_type": "code",
   "execution_count": 2,
   "id": "bcf94c40-c1bb-4e8d-b795-cba81ccd951e",
   "metadata": {},
   "outputs": [],
   "source": [
    "track_id2student_id_it = {7:0, 6:1, 0:2, 8:3, 1:4, 3:5, 11:6, 15:7, 16:8, 2:9, 5:12, 9:13, 4:14} # irimi tenkan, my tracking algo\n",
    "track_id2student_id_ta = {8:0, 7:1, 2:2, 10:3, 3:4, 4:5, 14:6, 9:7, 1:8, 12:9, 11:10, 0:11, 6:12, 5:13} # tsugi ashi, my tracking algo\n",
    "track_id2student_id_utmt = {7:0, 6:1, 1:2, 8:3, 3:4, 5:5, 11:6, 10:7, 2:8, 0:11, 4:13, 9:9, 12:10, 19:12} # utmt, my tracking algo\n",
    "\n",
    "# 1156 - 0\n",
    "# 1237 - 1\n",
    "# 0756 - 0\n",
    "# 0912 - 0\n",
    "# 1043 - 0"
   ]
  },
  {
   "cell_type": "code",
   "execution_count": 3,
   "id": "275ae783-8066-44f1-bd1c-9d581a24bf91",
   "metadata": {},
   "outputs": [],
   "source": [
    "file2mapping = {\"./alphapose_res/irimi_tenkan_kps.json\":track_id2student_id_it,\n",
    "                \"./alphapose_res/ta_tracking.json\":track_id2student_id_ta,\n",
    "                \"./alphapose_res/utmt_kps.json\":track_id2student_id_utmt}\n",
    "annotations_map = {\"./alphapose_res/irimi_tenkan_kps.json\":\"./data/irimi_tenkan/annotations.json\",\n",
    "                \"./alphapose_res/ta_tracking.json\":\"./data/tsugi_ashi/annotations.json\",\n",
    "                \"./alphapose_res/utmt_kps.json\":\"./data/ushiro_tenkan_mae_tenkan/annotations.json\"}\n",
    "SAMPLE_MAX_FRAME_COUNT = 192 # ?\n",
    "THRESHOLD = 0.5"
   ]
  },
  {
   "cell_type": "markdown",
   "id": "69d3bb3e-4261-4115-91fc-9dc35cf1b941",
   "metadata": {},
   "source": [
    "Код для обучения взят из ноутбука:"
   ]
  },
  {
   "cell_type": "markdown",
   "id": "50001202-604c-4596-9431-814cc11e2641",
   "metadata": {},
   "source": [
    "### https://www.kaggle.com/code/boascent/multi-label-image-classification-pytorch-gpu"
   ]
  },
  {
   "cell_type": "markdown",
   "id": "f3dc0563-a346-4542-ba42-0f8db5faf50b",
   "metadata": {},
   "source": [
    "# Data processing functions"
   ]
  },
  {
   "cell_type": "code",
   "execution_count": 4,
   "id": "61bc51b9-a691-44d3-b638-fdf21958f0c8",
   "metadata": {},
   "outputs": [],
   "source": [
    "from dataproc import *"
   ]
  },
  {
   "cell_type": "markdown",
   "id": "2aa6076e-100e-4893-ac9a-d510052b46ec",
   "metadata": {},
   "source": [
    "# Датасет"
   ]
  },
  {
   "cell_type": "code",
   "execution_count": 6,
   "id": "618d4133-bdd5-46a1-9fc5-6568589e45f7",
   "metadata": {},
   "outputs": [],
   "source": [
    "# augmentations\n",
    "def mirror_coordinate(coords:np.ndarray, coord_idx:int=0):\n",
    "    \"\"\" Принимает, что координата должна быть в основном в 0...1, но может быть >1 и <0.\n",
    "        Отражает относительно 0.5, меняется только в 3 размерности (coords.shape[2]), как цветовой канал. \n",
    "        Не для нормализованных данных!\n",
    "        Args:\n",
    "            coords, ndarray - len(coords.shape)==3\n",
    "            coord_idx, int - какую координату нужно отразить\n",
    "        Returns:\n",
    "            np.copy(coords), но соответствующая координата отражена\n",
    "    \"\"\"\n",
    "    new_coords = np.copy(coords)\n",
    "    new_coords[:, :, coord_idx] = 1 - new_coords[:, :, coord_idx]\n",
    "    return new_coords    "
   ]
  },
  {
   "cell_type": "markdown",
   "id": "1ad49b3b-0c85-4061-81a8-6bfc8480424a",
   "metadata": {},
   "source": [
    "Собрать всё в массивы"
   ]
  },
  {
   "cell_type": "code",
   "execution_count": 7,
   "id": "18fc6fb6-6edd-4f8c-ad41-7a8fa0628ae7",
   "metadata": {},
   "outputs": [],
   "source": [
    "exercise2points = dict()\n",
    "exercise2errors = dict()\n",
    "encoded_errors = {\"\":0}\n",
    "for filename in file2mapping:\n",
    "    sid2kps = parse_crowd_exercise(filename, file2mapping[filename])    \n",
    "    with open(annotations_map[filename], \"r\", encoding=\"utf8\") as ja:\n",
    "        ann = json.load(ja)\n",
    "        for k in ann:\n",
    "            people = list(ann[k].keys())\n",
    "            for personid in people:\n",
    "                intkey = int(personid)\n",
    "                ann[k][intkey] = ann[k][personid]            \n",
    "    exname = os.path.basename(filename).split('.')[0]\n",
    "    student_tries = split_student_tries(sid2kps, ann['people_exercise_frames'])\n",
    "    errs = get_error_codes(ann, encoded_errors)\n",
    "    exercise2points[exname] = student_tries\n",
    "    exercise2errors[exname] = errs        "
   ]
  },
  {
   "cell_type": "code",
   "execution_count": 8,
   "id": "1d535c5f-86f7-47b9-aa32-fe82539b1781",
   "metadata": {},
   "outputs": [],
   "source": [
    "delete_keys = []\n",
    "for ename in exercise2errors:\n",
    "    for k in exercise2errors[ename]:\n",
    "        if type(k) == str:\n",
    "            delete_keys.append(k)\n",
    "    for k in delete_keys:\n",
    "        del exercise2errors[ename][k]\n",
    "    delete_keys.clear()    "
   ]
  },
  {
   "cell_type": "code",
   "execution_count": 9,
   "id": "2f43f87a-917b-495f-8e2a-7e062a80afbe",
   "metadata": {},
   "outputs": [],
   "source": [
    "idx2error = dict()\n",
    "for n in encoded_errors:\n",
    "    idx = encoded_errors[n]\n",
    "    idx2error[idx] = n"
   ]
  },
  {
   "cell_type": "code",
   "execution_count": 10,
   "id": "c96634ef-35b1-4cbb-b23d-8fc50229a113",
   "metadata": {
    "scrolled": true
   },
   "outputs": [
    {
     "data": {
      "text/plain": [
       "{0: '',\n",
       " 1: 'наклон корпуса',\n",
       " 2: 'короткая стойка',\n",
       " 3: 'вес на задней',\n",
       " 4: 'касание, нет упора',\n",
       " 5: 'подтаскивание',\n",
       " 6: 'стопа в воздухе',\n",
       " 7: 'стопы не доворачиваются'}"
      ]
     },
     "execution_count": 10,
     "metadata": {},
     "output_type": "execute_result"
    }
   ],
   "source": [
    "idx2error"
   ]
  },
  {
   "cell_type": "markdown",
   "id": "be35ee66-1016-4015-98de-be272b171f30",
   "metadata": {},
   "source": [
    "Dataset"
   ]
  },
  {
   "cell_type": "code",
   "execution_count": 12,
   "id": "a8ff437c-c347-42b2-95e8-b1e11ffaf073",
   "metadata": {},
   "outputs": [],
   "source": [
    "def encode_label(label:list, class_count:int):\n",
    "    target = torch.zeros(class_count)\n",
    "    for idx in label:\n",
    "      target[idx] = 1\n",
    "    return target\n",
    "    \n",
    "def decode_target(target, classes:dict, threshold:float=0.5):\n",
    "    result = []\n",
    "    for i, x in enumerate(target):\n",
    "        if (x >= threshold):\n",
    "          result.append(classes[i])\n",
    "    return result"
   ]
  },
  {
   "cell_type": "code",
   "execution_count": 31,
   "id": "f71aa273-588c-421f-8163-4b98eb060cf2",
   "metadata": {},
   "outputs": [],
   "source": [
    "class AutoEvalCNNDataset(Dataset):\n",
    "    def __init__(self, images:list, labels:list, class_mapping:dict, transform):\n",
    "        #self.exercises = exercises\n",
    "        #self.errors = errors\n",
    "        self.transform = transform\n",
    "        self.idx2class = class_mapping\n",
    "        self.images = images\n",
    "        self.labels = labels\n",
    "        # for exname in self.exercises:\n",
    "        #     cur_exerc = self.exercises[exname]\n",
    "        #     cur_errors = self.errors[exname]\n",
    "        #     for p in cur_exerc:\n",
    "        #         tries = cur_exerc[p]\n",
    "        #         errs = cur_errors[p]\n",
    "        #         for i, e in enumerate(tries):\n",
    "        #             self.images.append(e)\n",
    "        #             self.labels.append(errs[i])\n",
    "\n",
    "    def __len__(self):\n",
    "        return len(self.images)\n",
    "\n",
    "    def __getitem__(self, idx):\n",
    "        img = self.images[idx]\n",
    "        label = self.labels[idx]\n",
    "        if self.transform:\n",
    "            img = self.transform(img)\n",
    "        target = encode_label(label, max(self.idx2class) + 1)\n",
    "        return img, target\n",
    "                \n",
    "    "
   ]
  },
  {
   "cell_type": "code",
   "execution_count": 53,
   "id": "921f4132-5716-4a50-b7cd-ece622f5505c",
   "metadata": {},
   "outputs": [],
   "source": [
    "def random_mirroring(img_array:np.ndarray, channel:int, proba:float=0.5):\n",
    "    if torch.rand(1) <= proba: # apply with probability\n",
    "        return mirror_coordinate(img_array, channel)\n",
    "    else: # else - return unchanged\n",
    "        return img_array\n",
    "        \n",
    "train_transform = T.Compose([T.Lambda(lambda ar: resample_to_frame_length(ar, SAMPLE_MAX_FRAME_COUNT)),\n",
    "                            T.Lambda(lambda ar: random_mirroring(ar, 0)),\n",
    "                            T.ToTensor(),\n",
    "                            T.ConvertImageDtype(torch.float32)]) # normalization ?\n",
    "val_transform = T.Compose([T.Lambda(lambda ar: resample_to_frame_length(ar, SAMPLE_MAX_FRAME_COUNT)),\n",
    "                          T.ToTensor(),\n",
    "                          T.ConvertImageDtype(torch.float32)]) # normalization ?"
   ]
  },
  {
   "cell_type": "markdown",
   "id": "6914cd98-086d-40dc-bfb0-90632f75f53b",
   "metadata": {},
   "source": [
    "Train/Val/Test Split"
   ]
  },
  {
   "cell_type": "code",
   "execution_count": 22,
   "id": "d1213c4a-203e-4c0d-b5b1-d886406ce2fa",
   "metadata": {},
   "outputs": [],
   "source": [
    "random.seed(42)"
   ]
  },
  {
   "cell_type": "code",
   "execution_count": 184,
   "id": "82970d7c-c18d-456d-8c1f-9fdca9e66645",
   "metadata": {},
   "outputs": [
    {
     "name": "stdout",
     "output_type": "stream",
     "text": [
      "Total 234\n",
      "Train count 154\n",
      "Test count 35\n",
      "Val count 45\n"
     ]
    }
   ],
   "source": [
    "# dividing\n",
    "train_frac = 0.7\n",
    "val_frac = 0.15\n",
    "test_frac = 0.15\n",
    "assert (train_frac + val_frac + test_frac) == 1\n",
    "\n",
    "train_imgs, train_labels = [], []\n",
    "test_imgs, test_labels = [], []\n",
    "val_imgs, val_labels = [], []\n",
    "\n",
    "train_ids = []\n",
    "val_ids = []\n",
    "test_ids = []\n",
    "total_data_count = 0\n",
    "for exname in exercise2points:\n",
    "    cur_exerc = exercise2points[exname]\n",
    "    cur_errors = exercise2errors[exname]\n",
    "    for p in cur_exerc:\n",
    "        tries = cur_exerc[p]\n",
    "        errs = cur_errors[p]\n",
    "        for i, e in enumerate(tries):\n",
    "            total_data_count += 1\n",
    "            rval = random.random()\n",
    "            if rval <= train_frac:\n",
    "                train_imgs.append(e)\n",
    "                train_labels.append(errs[i])\n",
    "                train_ids.append((exname, p, i))\n",
    "            elif rval <= (train_frac + test_frac):\n",
    "                test_imgs.append(e)\n",
    "                test_labels.append(errs[i])\n",
    "                test_ids.append((exname, p, i))\n",
    "            else:\n",
    "                val_imgs.append(e)\n",
    "                val_labels.append(errs[i])\n",
    "                val_ids.append((exname, p, i))\n",
    "\n",
    "print(\"Total\", total_data_count)\n",
    "print(\"Train count\", len(train_imgs))\n",
    "print(\"Test count\", len(test_imgs))\n",
    "print(\"Val count\", len(val_imgs))"
   ]
  },
  {
   "cell_type": "code",
   "execution_count": 185,
   "id": "95e72d43-afd7-4bb6-8e8a-b128acc6ac81",
   "metadata": {},
   "outputs": [],
   "source": [
    "assert len(train_imgs)==len(train_labels)\n",
    "assert len(test_imgs)==len(test_labels)\n",
    "assert len(val_imgs)==len(val_labels)"
   ]
  },
  {
   "cell_type": "code",
   "execution_count": 186,
   "id": "7d139276-1d46-4cd5-a6f2-88b28c949679",
   "metadata": {},
   "outputs": [],
   "source": [
    "train_ds = AutoEvalCNNDataset(train_imgs, train_labels, idx2error, train_transform)\n",
    "val_ds = AutoEvalCNNDataset(val_imgs, val_labels, idx2error, val_transform)\n",
    "test_ds = AutoEvalCNNDataset(test_imgs, test_labels, idx2error, val_transform)"
   ]
  },
  {
   "cell_type": "markdown",
   "id": "76fc1ed7-97d0-42a6-a840-4edca21f3109",
   "metadata": {},
   "source": [
    "Dataloader"
   ]
  },
  {
   "cell_type": "code",
   "execution_count": 188,
   "id": "ddec91b7-8064-4bad-95fa-658b66e8ade2",
   "metadata": {},
   "outputs": [],
   "source": [
    "# setting batch size for Dataloader to load the data batch by batch\n",
    "batch_size = 32\n",
    "train_loader = DataLoader(train_ds, batch_size, shuffle=True)\n",
    "val_loader = DataLoader(val_ds, batch_size)\n",
    "test_loader = DataLoader(test_ds, 1, shuffle=False)"
   ]
  },
  {
   "cell_type": "code",
   "execution_count": 34,
   "id": "2764a21e-a082-4553-af30-98ee7153646c",
   "metadata": {},
   "outputs": [
    {
     "name": "stdout",
     "output_type": "stream",
     "text": [
      "torch.Size([32, 3, 26, 192])\n",
      "torch.Size([32, 8])\n"
     ]
    }
   ],
   "source": [
    "for xb, yb in train_loader:\n",
    "  print(xb.shape)\n",
    "  print(yb.shape)\n",
    "  break"
   ]
  },
  {
   "cell_type": "markdown",
   "id": "4fc5f99a-7be9-4768-84d0-307a99633c8d",
   "metadata": {},
   "source": [
    "# Training"
   ]
  },
  {
   "cell_type": "code",
   "execution_count": 189,
   "id": "837f09ac-b7e1-48cc-b25a-2d987da9b84f",
   "metadata": {},
   "outputs": [],
   "source": [
    "def F_score(output, label, threshold=0.5, beta=1): #Calculate the accuracy of the model\n",
    "    prob = output > threshold\n",
    "    label = label > threshold\n",
    "\n",
    "    TP = (prob & label).sum(1).float()\n",
    "    TN = ((~prob) & (~label)).sum(1).float()\n",
    "    FP = (prob & (~label)).sum(1).float()\n",
    "    FN = ((~prob) & label).sum(1).float()\n",
    "\n",
    "    precision = torch.mean(TP / (TP + FP + 1e-12))\n",
    "    recall = torch.mean(TP / (TP + FN + 1e-12))\n",
    "    F2 = (1 + beta**2) * precision * recall / (beta**2 * precision + recall + 1e-12)\n",
    "    return F2.mean(0)\n",
    "\n",
    "class MultilabelImageClassificationBase(torch.nn.Module):\n",
    "    def training_step(self, batch):\n",
    "        images, targets = batch \n",
    "        out = self(images)                            # Generate predictions\n",
    "        loss = F.binary_cross_entropy(out, targets)   # Calculate loss\n",
    "        return loss    \n",
    "\n",
    "    def validation_step(self, batch):\n",
    "        images, targets = batch \n",
    "        out = self(images)                           # Generate predictions\n",
    "        loss = F.binary_cross_entropy(out, targets)  # Calculate loss\n",
    "        score = F_score(out, targets)                # Calculate accuracy\n",
    "        return {'val_loss': loss.detach(), 'val_score': score.detach() }      \n",
    "\n",
    "\n",
    "    def validation_epoch_end(self, outputs):\n",
    "        batch_losses = [x['val_loss'] for x in outputs]\n",
    "        epoch_loss = torch.stack(batch_losses).mean()       # Combine losses and get the mean value\n",
    "        batch_scores = [x['val_score'] for x in outputs]    \n",
    "        epoch_score = torch.stack(batch_scores).mean()      # Combine accuracies and get the mean value\n",
    "        return {'val_loss': epoch_loss.item(), 'val_score': epoch_score.item()}    \n",
    "\n",
    "    def epoch_end(self, epoch, result):                     # display the losses\n",
    "        # print(\"Epoch [{}], last_lr: {:.4f}, train_loss: {:.4f}, val_loss: {:.4f}, val_score: {:.4f}\".format(\n",
    "        #     epoch, result['lrs'][-1], result['train_loss'], result['val_loss'], result['val_score']))\n",
    "        print(\"Epoch [{}], train_loss: {:.4f}, val_loss: {:.4f}, val_score: {:.4f}\".format(\n",
    "            epoch, result['train_loss'], result['val_loss'], result['val_score']))"
   ]
  },
  {
   "cell_type": "code",
   "execution_count": 190,
   "id": "34aa27bc-c639-4f18-ae63-e5808b68e978",
   "metadata": {},
   "outputs": [
    {
     "name": "stdout",
     "output_type": "stream",
     "text": [
      "cuda\n"
     ]
    }
   ],
   "source": [
    "def to_device(data, device):\n",
    "    \"\"\"Move tensor(s) to chosen device\"\"\"\n",
    "    if isinstance(data, (list,tuple)):\n",
    "        return [to_device(x, device) for x in data]\n",
    "    return data.to(device, non_blocking=True)\n",
    "\n",
    "class DeviceDataLoader():  \n",
    "    \"\"\"Wrap a dataloader to move data to a device\"\"\"\n",
    "    def __init__(self, dl, device):\n",
    "        self.dl = dl\n",
    "        self.device = device       \n",
    "\n",
    "    def __iter__(self):\n",
    "        \"\"\"Yield a batch of data after moving it to device\"\"\"\n",
    "        for b in self.dl: \n",
    "            yield to_device(b, self.device)\n",
    "\n",
    "    def __len__(self):\n",
    "        \"\"\"Number of batches\"\"\"\n",
    "        return len(self.dl)\n",
    "\n",
    "device = torch.device('cuda') if torch.cuda.is_available() else torch.device('cpu')\n",
    "print(device)\n",
    "\n",
    "train_dl = DeviceDataLoader(train_loader, device)\n",
    "val_dl = DeviceDataLoader(val_loader, device)"
   ]
  },
  {
   "cell_type": "code",
   "execution_count": 191,
   "id": "a46a2002-58ed-431b-b1e0-342d113c6bcc",
   "metadata": {},
   "outputs": [],
   "source": [
    "@torch.no_grad()\n",
    "def evaluate(model, val_loader):\n",
    "    model.eval()\n",
    "    outputs = [model.validation_step(batch) for batch in val_loader]\n",
    "    return model.validation_epoch_end(outputs)\n",
    "\n",
    "def fit(epochs, lr, model, train_loader, val_loader, opt_func=torch.optim.SGD):\n",
    "    history = []\n",
    "    optimizer = opt_func(model.parameters(), lr)\n",
    "    for epoch in range(epochs):\n",
    "        # Training Phase\n",
    "        model.train()\n",
    "        train_losses = []\n",
    "        for batch in tqdm(train_loader):\n",
    "            loss = model.training_step(batch)\n",
    "            train_losses.append(loss)\n",
    "            loss.backward()\n",
    "            optimizer.step()\n",
    "            optimizer.zero_grad()\n",
    "        # Validation phase\n",
    "        result = evaluate(model, val_loader)\n",
    "        result['train_loss'] = torch.stack(train_losses).mean().item()\n",
    "        model.epoch_end(epoch, result)\n",
    "        history.append(result)\n",
    "    return history\n",
    "\n",
    "def get_lr(optimizer):\n",
    "    for param_group in optimizer.param_groups:\n",
    "        return param_group['lr']\n"
   ]
  },
  {
   "cell_type": "code",
   "execution_count": 192,
   "id": "c5bc57d9-117e-4a4a-b7c5-ce309fef6534",
   "metadata": {
    "scrolled": true
   },
   "outputs": [
    {
     "data": {
      "text/plain": [
       "ResNetWrapper(\n",
       "  (model): ResNet(\n",
       "    (conv1): Conv2d(3, 64, kernel_size=(7, 7), stride=(2, 2), padding=(3, 3), bias=False)\n",
       "    (bn1): BatchNorm2d(64, eps=1e-05, momentum=0.1, affine=True, track_running_stats=True)\n",
       "    (relu): ReLU(inplace=True)\n",
       "    (maxpool): MaxPool2d(kernel_size=3, stride=2, padding=1, dilation=1, ceil_mode=False)\n",
       "    (layer1): Sequential(\n",
       "      (0): BasicBlock(\n",
       "        (conv1): Conv2d(64, 64, kernel_size=(3, 3), stride=(1, 1), padding=(1, 1), bias=False)\n",
       "        (bn1): BatchNorm2d(64, eps=1e-05, momentum=0.1, affine=True, track_running_stats=True)\n",
       "        (relu): ReLU(inplace=True)\n",
       "        (conv2): Conv2d(64, 64, kernel_size=(3, 3), stride=(1, 1), padding=(1, 1), bias=False)\n",
       "        (bn2): BatchNorm2d(64, eps=1e-05, momentum=0.1, affine=True, track_running_stats=True)\n",
       "      )\n",
       "      (1): BasicBlock(\n",
       "        (conv1): Conv2d(64, 64, kernel_size=(3, 3), stride=(1, 1), padding=(1, 1), bias=False)\n",
       "        (bn1): BatchNorm2d(64, eps=1e-05, momentum=0.1, affine=True, track_running_stats=True)\n",
       "        (relu): ReLU(inplace=True)\n",
       "        (conv2): Conv2d(64, 64, kernel_size=(3, 3), stride=(1, 1), padding=(1, 1), bias=False)\n",
       "        (bn2): BatchNorm2d(64, eps=1e-05, momentum=0.1, affine=True, track_running_stats=True)\n",
       "      )\n",
       "    )\n",
       "    (layer2): Sequential(\n",
       "      (0): BasicBlock(\n",
       "        (conv1): Conv2d(64, 128, kernel_size=(3, 3), stride=(2, 2), padding=(1, 1), bias=False)\n",
       "        (bn1): BatchNorm2d(128, eps=1e-05, momentum=0.1, affine=True, track_running_stats=True)\n",
       "        (relu): ReLU(inplace=True)\n",
       "        (conv2): Conv2d(128, 128, kernel_size=(3, 3), stride=(1, 1), padding=(1, 1), bias=False)\n",
       "        (bn2): BatchNorm2d(128, eps=1e-05, momentum=0.1, affine=True, track_running_stats=True)\n",
       "        (downsample): Sequential(\n",
       "          (0): Conv2d(64, 128, kernel_size=(1, 1), stride=(2, 2), bias=False)\n",
       "          (1): BatchNorm2d(128, eps=1e-05, momentum=0.1, affine=True, track_running_stats=True)\n",
       "        )\n",
       "      )\n",
       "      (1): BasicBlock(\n",
       "        (conv1): Conv2d(128, 128, kernel_size=(3, 3), stride=(1, 1), padding=(1, 1), bias=False)\n",
       "        (bn1): BatchNorm2d(128, eps=1e-05, momentum=0.1, affine=True, track_running_stats=True)\n",
       "        (relu): ReLU(inplace=True)\n",
       "        (conv2): Conv2d(128, 128, kernel_size=(3, 3), stride=(1, 1), padding=(1, 1), bias=False)\n",
       "        (bn2): BatchNorm2d(128, eps=1e-05, momentum=0.1, affine=True, track_running_stats=True)\n",
       "      )\n",
       "    )\n",
       "    (layer3): Sequential(\n",
       "      (0): BasicBlock(\n",
       "        (conv1): Conv2d(128, 256, kernel_size=(3, 3), stride=(2, 2), padding=(1, 1), bias=False)\n",
       "        (bn1): BatchNorm2d(256, eps=1e-05, momentum=0.1, affine=True, track_running_stats=True)\n",
       "        (relu): ReLU(inplace=True)\n",
       "        (conv2): Conv2d(256, 256, kernel_size=(3, 3), stride=(1, 1), padding=(1, 1), bias=False)\n",
       "        (bn2): BatchNorm2d(256, eps=1e-05, momentum=0.1, affine=True, track_running_stats=True)\n",
       "        (downsample): Sequential(\n",
       "          (0): Conv2d(128, 256, kernel_size=(1, 1), stride=(2, 2), bias=False)\n",
       "          (1): BatchNorm2d(256, eps=1e-05, momentum=0.1, affine=True, track_running_stats=True)\n",
       "        )\n",
       "      )\n",
       "      (1): BasicBlock(\n",
       "        (conv1): Conv2d(256, 256, kernel_size=(3, 3), stride=(1, 1), padding=(1, 1), bias=False)\n",
       "        (bn1): BatchNorm2d(256, eps=1e-05, momentum=0.1, affine=True, track_running_stats=True)\n",
       "        (relu): ReLU(inplace=True)\n",
       "        (conv2): Conv2d(256, 256, kernel_size=(3, 3), stride=(1, 1), padding=(1, 1), bias=False)\n",
       "        (bn2): BatchNorm2d(256, eps=1e-05, momentum=0.1, affine=True, track_running_stats=True)\n",
       "      )\n",
       "    )\n",
       "    (layer4): Sequential(\n",
       "      (0): BasicBlock(\n",
       "        (conv1): Conv2d(256, 512, kernel_size=(3, 3), stride=(2, 2), padding=(1, 1), bias=False)\n",
       "        (bn1): BatchNorm2d(512, eps=1e-05, momentum=0.1, affine=True, track_running_stats=True)\n",
       "        (relu): ReLU(inplace=True)\n",
       "        (conv2): Conv2d(512, 512, kernel_size=(3, 3), stride=(1, 1), padding=(1, 1), bias=False)\n",
       "        (bn2): BatchNorm2d(512, eps=1e-05, momentum=0.1, affine=True, track_running_stats=True)\n",
       "        (downsample): Sequential(\n",
       "          (0): Conv2d(256, 512, kernel_size=(1, 1), stride=(2, 2), bias=False)\n",
       "          (1): BatchNorm2d(512, eps=1e-05, momentum=0.1, affine=True, track_running_stats=True)\n",
       "        )\n",
       "      )\n",
       "      (1): BasicBlock(\n",
       "        (conv1): Conv2d(512, 512, kernel_size=(3, 3), stride=(1, 1), padding=(1, 1), bias=False)\n",
       "        (bn1): BatchNorm2d(512, eps=1e-05, momentum=0.1, affine=True, track_running_stats=True)\n",
       "        (relu): ReLU(inplace=True)\n",
       "        (conv2): Conv2d(512, 512, kernel_size=(3, 3), stride=(1, 1), padding=(1, 1), bias=False)\n",
       "        (bn2): BatchNorm2d(512, eps=1e-05, momentum=0.1, affine=True, track_running_stats=True)\n",
       "      )\n",
       "    )\n",
       "    (avgpool): AdaptiveAvgPool2d(output_size=(1, 1))\n",
       "    (fc): Linear(in_features=512, out_features=8, bias=True)\n",
       "  )\n",
       "  (sigmoid): Sigmoid()\n",
       ")"
      ]
     },
     "execution_count": 192,
     "metadata": {},
     "output_type": "execute_result"
    }
   ],
   "source": [
    "# just using baseline\n",
    "class ResNetWrapper(MultilabelImageClassificationBase):\n",
    "    def __init__(self, num_classes):\n",
    "        super().__init__()     \n",
    "        self.model = models.resnet18()\n",
    "        infeats = self.model.fc.in_features\n",
    "        new_cls = torch.nn.Linear(infeats, num_classes)\n",
    "        self.model.fc = new_cls\n",
    "        self.sigmoid = torch.nn.Sigmoid()\n",
    "\n",
    "    def forward(self, xb):\n",
    "        tmp_x = self.model(xb)\n",
    "        return self.sigmoid(tmp_x)\n",
    "\n",
    "model = to_device(ResNetWrapper(len(idx2error)), device)\n",
    "model"
   ]
  },
  {
   "cell_type": "markdown",
   "id": "9eaebcb4-ad1d-4265-87cc-98bcbf3b6f4f",
   "metadata": {},
   "source": [
    "Checking"
   ]
  },
  {
   "cell_type": "code",
   "execution_count": 193,
   "id": "c8008415-f17d-4d77-b5f9-2d3407bfdb50",
   "metadata": {},
   "outputs": [
    {
     "name": "stdout",
     "output_type": "stream",
     "text": [
      "torch.Size([32, 3, 26, 192])\n",
      "outputs.shape :  torch.Size([32, 8])\n",
      "Sample outputs :\n",
      " tensor([[0.4990, 0.4093, 0.6227, 0.4376, 0.6350, 0.5325, 0.5707, 0.5119],\n",
      "        [0.4629, 0.2891, 0.6591, 0.4733, 0.6101, 0.5787, 0.3413, 0.4142]],\n",
      "       device='cuda:0')\n",
      "[{'val_loss': 0.7020999193191528, 'val_score': 0.13194595277309418}]\n"
     ]
    }
   ],
   "source": [
    "#checking the shape of outputs that the model will produce before starting the training process\n",
    "for images, labels in train_dl:\n",
    "    print(images.shape)\n",
    "    outputs = model(images)\n",
    "    break\n",
    "\n",
    "print('outputs.shape : ', outputs.shape)\n",
    "print('Sample outputs :\\n', outputs[:2].data)\n",
    "history = [evaluate(model, val_dl)]\n",
    "print(history)"
   ]
  },
  {
   "cell_type": "code",
   "execution_count": 194,
   "id": "c688ecde-2242-4394-b89e-0e56533979af",
   "metadata": {},
   "outputs": [],
   "source": [
    "epochs = 100\n",
    "lr = 0.001\n",
    "grad_clip = 0.1\n",
    "weight_decay = 1e-4\n",
    "opt_func = torch.optim.Adam"
   ]
  },
  {
   "cell_type": "code",
   "execution_count": null,
   "id": "6102e6e8-e216-4af7-b806-9a3e06ee4553",
   "metadata": {
    "scrolled": true
   },
   "outputs": [],
   "source": [
    "history = fit(epochs, lr, model, train_dl, val_dl, opt_func=opt_func)"
   ]
  },
  {
   "cell_type": "markdown",
   "id": "d1e70476-f8e8-4a98-8a82-bb46f7cc6470",
   "metadata": {},
   "source": [
    "Showing results"
   ]
  },
  {
   "cell_type": "code",
   "execution_count": 86,
   "id": "059ad775-a404-497b-9fdf-3aa79ba50c68",
   "metadata": {},
   "outputs": [],
   "source": [
    "def plot_scores(history):\n",
    "    scores = [x['val_score'] for x in history]\n",
    "    plt.plot(scores, '-x')\n",
    "    plt.xlabel('epoch')\n",
    "    plt.ylabel('score')\n",
    "    plt.title('F1 score vs. No. of epochs');\n",
    "    \n",
    "def plot_losses(history):\n",
    "    train_losses = [x.get('train_loss') for x in history]\n",
    "    val_losses = [x['val_loss'] for x in history]\n",
    "    plt.plot(train_losses, '-bx')\n",
    "    plt.plot(val_losses, '-rx')\n",
    "    plt.xlabel('epoch')\n",
    "    plt.ylabel('loss')\n",
    "    plt.legend(['Training', 'Validation'])\n",
    "    plt.title('Loss vs. No. of epochs');"
   ]
  },
  {
   "cell_type": "code",
   "execution_count": 196,
   "id": "33cfc1bd-4b35-42ef-88ac-d32c4e426db3",
   "metadata": {},
   "outputs": [
    {
     "data": {
      "image/png": "[encoded data removed]",
      "text/plain": [
       "<Figure size 640x480 with 1 Axes>"
      ]
     },
     "metadata": {},
     "output_type": "display_data"
    }
   ],
   "source": [
    "plot_scores(history)"
   ]
  },
  {
   "cell_type": "code",
   "execution_count": 197,
   "id": "38c52754-477c-4656-b3bb-b24bcd3fb10a",
   "metadata": {},
   "outputs": [
    {
     "data": {
      "image/png": "[encoded data removed]",
      "text/plain": [
       "<Figure size 640x480 with 1 Axes>"
      ]
     },
     "metadata": {},
     "output_type": "display_data"
    }
   ],
   "source": [
    "plot_losses(history)"
   ]
  },
  {
   "cell_type": "markdown",
   "id": "511ab0ff-77ed-4186-a99f-151e68321929",
   "metadata": {},
   "source": [
    "# Testing"
   ]
  },
  {
   "cell_type": "code",
   "execution_count": 98,
   "id": "297bed59-d4d1-445b-9b90-ae9df3140e3d",
   "metadata": {},
   "outputs": [],
   "source": [
    "def show_example(img, pred_label, true_label=None):\n",
    "    plt.imshow(img.permute(1,2,0))\n",
    "    print(\"Predicted label:\", decode_target(pred_label, idx2error))\n",
    "    if true_label != None:\n",
    "        print(\"True label:\", decode_target(true_label, idx2error))\n",
    "    print()\n",
    "    print(pred_label)\n",
    "\n",
    "def predict_single(image, label=None):\n",
    "    xb = image.unsqueeze(0)\n",
    "    xb = to_device(xb, device)\n",
    "    preds = model(xb)\n",
    "    prediction = preds[0]\n",
    "    show_example(image, prediction, label)"
   ]
  },
  {
   "cell_type": "code",
   "execution_count": 198,
   "id": "24a09220-eebb-429c-927c-a2fe4747122a",
   "metadata": {},
   "outputs": [
    {
     "name": "stderr",
     "output_type": "stream",
     "text": [
      "Clipping input data to the valid range for imshow with RGB data ([0..1] for floats or [0..255] for integers).\n"
     ]
    },
    {
     "name": "stdout",
     "output_type": "stream",
     "text": [
      "Predicted label: ['наклон корпуса']\n",
      "True label: ['']\n",
      "\n",
      "tensor([4.8918e-02, 9.0729e-01, 1.1319e-04, 6.1260e-03, 1.4077e-04, 3.6618e-05,\n",
      "        4.4914e-04, 6.5014e-04], device='cuda:0', grad_fn=<SelectBackward0>)\n"
     ]
    },
    {
     "data": {
      "image/png": "[encoded data removed]",
      "text/plain": [
       "<Figure size 640x480 with 1 Axes>"
      ]
     },
     "metadata": {},
     "output_type": "display_data"
    }
   ],
   "source": [
    "predict_single(test_ds[0][0], test_ds[0][1])"
   ]
  },
  {
   "cell_type": "code",
   "execution_count": 199,
   "id": "c635d4c8-7267-417a-9258-4fa34128dff3",
   "metadata": {},
   "outputs": [],
   "source": [
    "model.eval()\n",
    "test_dl = DeviceDataLoader(test_loader, device)\n",
    "\n",
    "test_losses = []\n",
    "test_f1s = []\n",
    "preds = []\n",
    "trues = []\n",
    "with torch.no_grad():\n",
    "    for batch in test_dl:\n",
    "        images, targets = batch \n",
    "        out = model(images)                           # Generate predictions\n",
    "        loss = F.binary_cross_entropy(out, targets)   # Calculate loss\n",
    "        score = F_score(out, targets)                 # Calculate accuracy\n",
    "        test_losses.append(loss.detach().cpu().item())\n",
    "        test_f1s.append(score.detach().cpu().item())\n",
    "        preds.append(out.cpu().numpy())\n",
    "        trues.append(targets.cpu().numpy())"
   ]
  },
  {
   "cell_type": "code",
   "execution_count": 200,
   "id": "c4627e2d-5638-4b8b-ab94-e1414b36513c",
   "metadata": {},
   "outputs": [],
   "source": [
    "preds_labels = []\n",
    "for pred in preds:\n",
    "    preds_labels.append((pred > THRESHOLD).astype(np.float32))"
   ]
  },
  {
   "cell_type": "code",
   "execution_count": 201,
   "id": "b9d78fd7-5690-455f-8190-7a1f2deb4e7e",
   "metadata": {},
   "outputs": [
    {
     "name": "stdout",
     "output_type": "stream",
     "text": [
      "Test BCE loss: 0.31011595643518114\n",
      "Test F1-score: 0.7142857142857143\n"
     ]
    }
   ],
   "source": [
    "test_loss = np.mean(test_losses)\n",
    "testf1 = np.mean(test_f1s)\n",
    "print(\"Test BCE loss:\", test_loss)\n",
    "print(\"Test F1-score:\", testf1)"
   ]
  },
  {
   "cell_type": "code",
   "execution_count": 205,
   "id": "217d43ef-77b7-44c2-a2f4-7816e59452a7",
   "metadata": {},
   "outputs": [
    {
     "name": "stdout",
     "output_type": "stream",
     "text": [
      "Zeros in data: 0.875\n"
     ]
    }
   ],
   "source": [
    "zeros_fraction = (trues_ar == 0).astype(np.float32).sum() / trues_ar.size\n",
    "print(\"Zeros in data:\", zeros_fraction)"
   ]
  },
  {
   "cell_type": "code",
   "execution_count": 202,
   "id": "2763874c-cb96-4ef9-a085-7b74aa3c9445",
   "metadata": {},
   "outputs": [
    {
     "name": "stdout",
     "output_type": "stream",
     "text": [
      "Exact match ratio: 0.9357142857142857\n"
     ]
    }
   ],
   "source": [
    "# exact match ratio\n",
    "pred_ar = np.array(preds_labels)\n",
    "trues_ar = np.array(trues)\n",
    "assert pred_ar.shape==trues_ar.shape\n",
    "emr = (trues_ar == pred_ar).astype(np.float32).sum() / trues_ar.size\n",
    "print(\"Exact match ratio:\", emr)"
   ]
  },
  {
   "cell_type": "code",
   "execution_count": 203,
   "id": "5213f70c-9af1-44a2-93c4-956b26deb934",
   "metadata": {},
   "outputs": [
    {
     "name": "stdout",
     "output_type": "stream",
     "text": [
      "0 |should be [[1. 0. 0. 0. 0. 0. 0. 0.]]\n",
      "0 |actual [[0. 1. 0. 0. 0. 0. 0. 0.]]\n",
      "3 |should be [[0. 1. 0. 0. 0. 0. 0. 0.]]\n",
      "3 |actual [[1. 0. 0. 0. 0. 0. 0. 0.]]\n",
      "4 |should be [[0. 0. 1. 0. 0. 0. 0. 0.]]\n",
      "4 |actual [[1. 0. 0. 0. 0. 0. 0. 0.]]\n",
      "7 |should be [[1. 0. 0. 0. 0. 0. 0. 0.]]\n",
      "7 |actual [[0. 0. 0. 0. 0. 0. 0. 0.]]\n",
      "8 |should be [[1. 0. 0. 0. 0. 0. 0. 0.]]\n",
      "8 |actual [[0. 0. 0. 0. 1. 0. 0. 0.]]\n",
      "14 |should be [[0. 0. 0. 0. 0. 0. 1. 0.]]\n",
      "14 |actual [[1. 0. 0. 0. 0. 0. 0. 0.]]\n",
      "15 |should be [[0. 0. 0. 0. 0. 0. 1. 0.]]\n",
      "15 |actual [[1. 0. 0. 0. 0. 0. 0. 0.]]\n",
      "21 |should be [[1. 0. 0. 0. 0. 0. 0. 0.]]\n",
      "21 |actual [[0. 0. 0. 0. 0. 0. 0. 0.]]\n",
      "28 |should be [[0. 0. 1. 0. 0. 0. 0. 0.]]\n",
      "28 |actual [[1. 0. 0. 0. 0. 0. 0. 0.]]\n",
      "32 |should be [[0. 0. 0. 0. 0. 0. 0. 1.]]\n",
      "32 |actual [[1. 0. 0. 0. 0. 0. 0. 0.]]\n"
     ]
    }
   ],
   "source": [
    "for i, predl in enumerate(preds_labels):\n",
    "    if np.any((predl != trues[i])):\n",
    "        print(i, \"|should be\", trues[i])\n",
    "        print(i,\"|actual\", predl)"
   ]
  }
 ],
 "metadata": {
  "kernelspec": {
   "display_name": "Python 3 (ipykernel)",
   "language": "python",
   "name": "python3"
  },
  "language_info": {
   "codemirror_mode": {
    "name": "ipython",
    "version": 3
   },
   "file_extension": ".py",
   "mimetype": "text/x-python",
   "name": "python",
   "nbconvert_exporter": "python",
   "pygments_lexer": "ipython3",
   "version": "3.11.7"
  }
 },
 "nbformat": 4,
 "nbformat_minor": 5
}
