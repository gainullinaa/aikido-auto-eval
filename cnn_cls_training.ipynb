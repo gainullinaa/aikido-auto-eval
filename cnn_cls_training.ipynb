{
 "cells": [
  {
   "cell_type": "code",
   "execution_count": 5,
   "id": "881eb7ea-8b29-452b-9434-06c65094f79d",
   "metadata": {},
   "outputs": [],
   "source": [
    "import numpy as np\n",
    "from tqdm import tqdm\n",
    "import cv2 as cv\n",
    "import matplotlib.pyplot as plt\n",
    "from sklearn.metrics import precision_score, recall_score, f1_score\n",
    "\n",
    "import torch\n",
    "import torchvision.models as models\n",
    "import torchvision.transforms as T\n",
    "from torch.utils.data import Dataset, random_split, DataLoader\n",
    "import torch.nn.functional as F\n",
    "\n",
    "import json\n",
    "import os\n",
    "import random"
   ]
  },
  {
   "cell_type": "code",
   "execution_count": 6,
   "id": "bcf94c40-c1bb-4e8d-b795-cba81ccd951e",
   "metadata": {},
   "outputs": [],
   "source": [
    "track_id2student_id_it = {7:0, 6:1, 0:2, 8:3, 1:4, 3:5, 11:6, 15:7, 16:8, 2:9, 5:12, 9:13, 4:14} # irimi tenkan, my tracking algo\n",
    "track_id2student_id_ta = {8:0, 7:1, 2:2, 10:3, 3:4, 4:5, 14:6, 9:7, 1:8, 12:9, 11:10, 0:11, 6:12, 5:13} # tsugi ashi, my tracking algo\n",
    "track_id2student_id_utmt = {7:0, 6:1, 1:2, 8:3, 3:4, 5:5, 11:6, 10:7, 2:8, 0:11, 4:13, 9:9, 12:10, 19:12} # utmt, my tracking algo\n",
    "\n",
    "single_student_tids = {\"1156\":0, \"1237\":1, \"0756\":0, \"0912\":0, \"1043\":0}"
   ]
  },
  {
   "cell_type": "code",
   "execution_count": 292,
   "id": "275ae783-8066-44f1-bd1c-9d581a24bf91",
   "metadata": {},
   "outputs": [],
   "source": [
    "file2mapping = {\"../alphapose_res/irimi_tenkan_kps.json\":track_id2student_id_it,\n",
    "                \"../alphapose_res/ta_tracking.json\":track_id2student_id_ta,\n",
    "                \"../alphapose_res/utmt_kps.json\":track_id2student_id_utmt}\n",
    "annotations_map = {\"../alphapose_res/irimi_tenkan_kps.json\":\"../data/irimi_tenkan/annotations.json\",\n",
    "                \"../alphapose_res/ta_tracking.json\":\"../data/tsugi_ashi/annotations.json\",\n",
    "                \"../alphapose_res/utmt_kps.json\":\"../data/ushiro_tenkan_mae_tenkan/annotations.json\"}\n",
    "single_st_ann = \"../data/single_student_annotations.json\"\n",
    "\n",
    "\n",
    "SAMPLE_MAX_FRAME_COUNT = 192 # ?\n",
    "THRESHOLD = 0.5\n",
    "CHANNELS = 2"
   ]
  },
  {
   "cell_type": "markdown",
   "id": "69d3bb3e-4261-4115-91fc-9dc35cf1b941",
   "metadata": {},
   "source": [
    "Код для обучения взят из ноутбука:"
   ]
  },
  {
   "cell_type": "markdown",
   "id": "50001202-604c-4596-9431-814cc11e2641",
   "metadata": {},
   "source": [
    "### https://www.kaggle.com/code/boascent/multi-label-image-classification-pytorch-gpu"
   ]
  },
  {
   "cell_type": "markdown",
   "id": "f3dc0563-a346-4542-ba42-0f8db5faf50b",
   "metadata": {},
   "source": [
    "# Data processing functions"
   ]
  },
  {
   "cell_type": "code",
   "execution_count": 8,
   "id": "61bc51b9-a691-44d3-b638-fdf21958f0c8",
   "metadata": {},
   "outputs": [],
   "source": [
    "from dataproc import *"
   ]
  },
  {
   "cell_type": "markdown",
   "id": "2aa6076e-100e-4893-ac9a-d510052b46ec",
   "metadata": {},
   "source": [
    "# Датасет"
   ]
  },
  {
   "cell_type": "code",
   "execution_count": 119,
   "id": "618d4133-bdd5-46a1-9fc5-6568589e45f7",
   "metadata": {},
   "outputs": [],
   "source": [
    "# augmentations\n",
    "def mirror_coordinate(coords:np.ndarray, coord_idx:int=0):\n",
    "    \"\"\" Принимает, что координата должна быть в основном в 0...1, но может быть >1 и <0.\n",
    "        Отражает относительно 0.5, меняется только в 3 размерности (coords.shape[2]), как цветовой канал. \n",
    "        Не для нормализованных данных!\n",
    "        Args:\n",
    "            coords, ndarray - len(coords.shape)==3\n",
    "            coord_idx, int - какую координату нужно отразить\n",
    "        Returns:\n",
    "            np.copy(coords), но соответствующая координата отражена\n",
    "    \"\"\"\n",
    "    new_coords = np.copy(coords)\n",
    "    new_coords[:, :, coord_idx] = 1 - new_coords[:, :, coord_idx]\n",
    "    return new_coords    "
   ]
  },
  {
   "cell_type": "markdown",
   "id": "1ad49b3b-0c85-4061-81a8-6bfc8480424a",
   "metadata": {},
   "source": [
    "Собрать всё в массивы"
   ]
  },
  {
   "cell_type": "markdown",
   "id": "7b592a78-2be1-4163-83e6-2e2f2ce0d7c7",
   "metadata": {},
   "source": [
    "1. Аннотации видео с толпой"
   ]
  },
  {
   "cell_type": "code",
   "execution_count": 120,
   "id": "18fc6fb6-6edd-4f8c-ad41-7a8fa0628ae7",
   "metadata": {},
   "outputs": [],
   "source": [
    "exercise2points = dict()\n",
    "exercise2errors = dict()\n",
    "encoded_errors = {\"\":0}\n",
    "for filename in file2mapping:\n",
    "    sid2kps = parse_crowd_exercise(filename, file2mapping[filename])    \n",
    "    with open(annotations_map[filename], \"r\", encoding=\"utf8\") as ja:\n",
    "        ann = json.load(ja)\n",
    "        for k in ann:\n",
    "            people = list(ann[k].keys())\n",
    "            for personid in people:\n",
    "                intkey = int(personid)\n",
    "                ann[k][intkey] = ann[k][personid]            \n",
    "    exname = os.path.basename(filename).split('.')[0]\n",
    "    student_tries = split_student_tries(sid2kps, ann['people_exercise_frames'])\n",
    "    errs = get_error_codes(ann, encoded_errors)\n",
    "    exercise2points[exname] = student_tries\n",
    "    exercise2errors[exname] = errs        "
   ]
  },
  {
   "cell_type": "markdown",
   "id": "2f5c4f24-b151-4eda-9f24-44ed0b63cbfd",
   "metadata": {},
   "source": [
    "2. Аннотации видео одного ученика"
   ]
  },
  {
   "cell_type": "code",
   "execution_count": 121,
   "id": "aca1eee5-5b93-47aa-8ace-e28eed873cbc",
   "metadata": {},
   "outputs": [],
   "source": [
    "student2points = dict()\n",
    "#student2errors = dict()\n",
    "with open(single_st_ann, \"r\", encoding=\"utf8\") as common_ann_file:\n",
    "    common_ann = json.load(common_ann_file)\n",
    "ss_vid_ann = [os.path.join(\"../alphapose_res\", f) for f in [\"0756_alpha.json\", \"0912_alpha.json\",\n",
    "                                                           \"1043_alpha.json\", \"1156_alpha.json\", \n",
    "                                                            \"1237_alpha.json\"]]\n",
    "for filename in ss_vid_ann:\n",
    "    stud_id = os.path.split(filename)[-1][:4]\n",
    "    dynamic = parse_single_person_exercise(filename, single_student_tids[stud_id])\n",
    "    internal_vid_id = common_ann[\"file2id\"][stud_id]\n",
    "    student_tries = split_student_tries({internal_vid_id:dynamic}, common_ann['people_exercise_frames'])\n",
    "    student2points[internal_vid_id] = student_tries[internal_vid_id]\n",
    "student2errors = get_error_codes(common_ann, encoded_errors)"
   ]
  },
  {
   "cell_type": "code",
   "execution_count": 122,
   "id": "1d535c5f-86f7-47b9-aa32-fe82539b1781",
   "metadata": {},
   "outputs": [],
   "source": [
    "delete_keys = []\n",
    "for ename in exercise2errors:\n",
    "    for k in exercise2errors[ename]:\n",
    "        if type(k) == str:\n",
    "            delete_keys.append(k)\n",
    "    for k in delete_keys:\n",
    "        del exercise2errors[ename][k]\n",
    "    delete_keys.clear()    "
   ]
  },
  {
   "cell_type": "code",
   "execution_count": 123,
   "id": "2f43f87a-917b-495f-8e2a-7e062a80afbe",
   "metadata": {},
   "outputs": [],
   "source": [
    "idx2error = dict()\n",
    "for n in encoded_errors:\n",
    "    idx = encoded_errors[n]\n",
    "    idx2error[idx] = n"
   ]
  },
  {
   "cell_type": "code",
   "execution_count": 124,
   "id": "c96634ef-35b1-4cbb-b23d-8fc50229a113",
   "metadata": {},
   "outputs": [
    {
     "data": {
      "text/plain": [
       "{0: '',\n",
       " 1: 'наклон корпуса',\n",
       " 2: 'короткая стойка',\n",
       " 3: 'вес на задней',\n",
       " 4: 'касание, нет упора',\n",
       " 5: 'подтаскивание',\n",
       " 6: 'стопа в воздухе',\n",
       " 7: 'стопы не доворачиваются',\n",
       " 8: 'повышение таза',\n",
       " 9: 'стопы направлены внутрь',\n",
       " 10: 'ноги распрямляются',\n",
       " 11: 'пятки на одной линии',\n",
       " 12: 'перепрыгивает',\n",
       " 13: 'подтащил переднюю',\n",
       " 14: 'недоворот таза',\n",
       " 15: 'ось вращения в центре стопы',\n",
       " 16: 'движение из падения',\n",
       " 17: 'задняя стопа пересекает прямую между стопами',\n",
       " 18: 'сгибается задняя нога',\n",
       " 19: 'колени смотрят внутрь',\n",
       " 20: 'завалено переднее колено',\n",
       " 21: 'передняя пятка смещается назад, а должна вперед',\n",
       " 22: 'задняя нога распрямляется'}"
      ]
     },
     "execution_count": 124,
     "metadata": {},
     "output_type": "execute_result"
    }
   ],
   "source": [
    "idx2error"
   ]
  },
  {
   "cell_type": "code",
   "execution_count": 125,
   "id": "e14db7ea-ea68-42eb-b75b-c8c69f514dce",
   "metadata": {},
   "outputs": [],
   "source": [
    "exercise2points[\"single_student\"] = student2points\n",
    "exercise2errors[\"single_student\"] = student2errors"
   ]
  },
  {
   "cell_type": "markdown",
   "id": "be35ee66-1016-4015-98de-be272b171f30",
   "metadata": {},
   "source": [
    "Dataset"
   ]
  },
  {
   "cell_type": "code",
   "execution_count": 293,
   "id": "a8ff437c-c347-42b2-95e8-b1e11ffaf073",
   "metadata": {},
   "outputs": [],
   "source": [
    "def encode_label(label:list, class_count:int):\n",
    "    target = torch.zeros(class_count)\n",
    "    for idx in label:\n",
    "      target[idx] = 1\n",
    "    return target\n",
    "    \n",
    "def decode_target(target, classes:dict, threshold:float=0.5):\n",
    "    result = []\n",
    "    for i, x in enumerate(target):\n",
    "        if (x >= threshold):\n",
    "          result.append(classes[i])\n",
    "    return result"
   ]
  },
  {
   "cell_type": "code",
   "execution_count": 294,
   "id": "f71aa273-588c-421f-8163-4b98eb060cf2",
   "metadata": {},
   "outputs": [],
   "source": [
    "class AutoEvalCNNDataset(Dataset):\n",
    "    def __init__(self, images:list, labels:list, class_mapping:dict, transform):\n",
    "        self.transform = transform\n",
    "        self.idx2class = class_mapping\n",
    "        self.images = images\n",
    "        self.labels = labels\n",
    "\n",
    "    def __len__(self):\n",
    "        return len(self.images)\n",
    "\n",
    "    def __getitem__(self, idx):\n",
    "        img = self.images[idx]\n",
    "        label = self.labels[idx]\n",
    "        if self.transform:\n",
    "            img = self.transform(img)\n",
    "        target = encode_label(label, max(self.idx2class) + 1)\n",
    "        return img, target"
   ]
  },
  {
   "cell_type": "code",
   "execution_count": 295,
   "id": "921f4132-5716-4a50-b7cd-ece622f5505c",
   "metadata": {},
   "outputs": [],
   "source": [
    "def random_mirroring(img_array:np.ndarray, channel:int, proba:float=0.5)->np.ndarray:\n",
    "    if torch.rand(1) <= proba: # apply with probability\n",
    "        return mirror_coordinate(img_array, channel)\n",
    "    else: # else - return unchanged\n",
    "        return img_array\n",
    "\n",
    "def normalize01(img_array:np.ndarray)->np.ndarray:\n",
    "    res = np.copy(img_array)\n",
    "    for channel in range(res.shape[-1]):\n",
    "        charr = res[:, :, channel]\n",
    "        res[:, :, channel] = (charr - charr.min()) / (charr.max() - charr.min())\n",
    "    return res\n",
    "    \n",
    "keep_1st_n_channels = lambda img_array: img_array[:, :, :CHANNELS]\n",
    "\n",
    "train_transform = T.Compose([\n",
    "    T.Lambda(keep_1st_n_channels),\n",
    "    T.Lambda(lambda ar: resample_to_frame_length(ar, SAMPLE_MAX_FRAME_COUNT)),\n",
    "    T.Lambda(lambda ar: random_mirroring(ar, 0)),\n",
    "    T.Lambda(normalize01),\n",
    "    T.ToTensor(),\n",
    "    T.ConvertImageDtype(torch.float32)\n",
    "])\n",
    "val_transform = T.Compose([\n",
    "    T.Lambda(keep_1st_n_channels),    \n",
    "    T.Lambda(lambda ar: resample_to_frame_length(ar, SAMPLE_MAX_FRAME_COUNT)),\n",
    "    T.Lambda(normalize01),\n",
    "    T.ToTensor(),\n",
    "    T.ConvertImageDtype(torch.float32)\n",
    "]) "
   ]
  },
  {
   "cell_type": "markdown",
   "id": "6914cd98-086d-40dc-bfb0-90632f75f53b",
   "metadata": {},
   "source": [
    "Train/Val/Test Split"
   ]
  },
  {
   "cell_type": "code",
   "execution_count": 155,
   "id": "d1213c4a-203e-4c0d-b5b1-d886406ce2fa",
   "metadata": {},
   "outputs": [],
   "source": [
    "random.seed(42)"
   ]
  },
  {
   "cell_type": "code",
   "execution_count": 297,
   "id": "82970d7c-c18d-456d-8c1f-9fdca9e66645",
   "metadata": {},
   "outputs": [
    {
     "name": "stdout",
     "output_type": "stream",
     "text": [
      "Total 296\n",
      "Train count 208\n",
      "Test count 55\n",
      "Val count 33\n"
     ]
    }
   ],
   "source": [
    "# dividing\n",
    "train_frac = 0.7\n",
    "val_frac = 0.1\n",
    "test_frac = 0.2\n",
    "assert (train_frac + val_frac + test_frac) == 1\n",
    "\n",
    "train_imgs, train_labels = [], []\n",
    "test_imgs, test_labels = [], []\n",
    "val_imgs, val_labels = [], []\n",
    "\n",
    "train_ids = []\n",
    "val_ids = []\n",
    "test_ids = []\n",
    "total_data_count = 0\n",
    "for exname in exercise2points:\n",
    "    cur_exerc = exercise2points[exname]\n",
    "    cur_errors = exercise2errors[exname]\n",
    "    for p in cur_exerc:\n",
    "        tries = cur_exerc[p]\n",
    "        errs = cur_errors[p]\n",
    "        for i, e in enumerate(tries):\n",
    "            total_data_count += 1\n",
    "            rval = random.random()\n",
    "            if rval <= train_frac:\n",
    "                train_imgs.append(e)\n",
    "                train_labels.append(errs[i])\n",
    "                train_ids.append((exname, p, i))\n",
    "            elif rval <= (train_frac + test_frac):\n",
    "                test_imgs.append(e)\n",
    "                test_labels.append(errs[i])\n",
    "                test_ids.append((exname, p, i))\n",
    "            else:\n",
    "                val_imgs.append(e)\n",
    "                val_labels.append(errs[i])\n",
    "                val_ids.append((exname, p, i))\n",
    "\n",
    "print(\"Total\", total_data_count)\n",
    "print(\"Train count\", len(train_imgs))\n",
    "print(\"Test count\", len(test_imgs))\n",
    "print(\"Val count\", len(val_imgs))"
   ]
  },
  {
   "cell_type": "code",
   "execution_count": 298,
   "id": "95e72d43-afd7-4bb6-8e8a-b128acc6ac81",
   "metadata": {},
   "outputs": [],
   "source": [
    "assert len(train_imgs)==len(train_labels)\n",
    "assert len(test_imgs)==len(test_labels)\n",
    "assert len(val_imgs)==len(val_labels)"
   ]
  },
  {
   "cell_type": "code",
   "execution_count": 299,
   "id": "7d139276-1d46-4cd5-a6f2-88b28c949679",
   "metadata": {},
   "outputs": [],
   "source": [
    "train_ds = AutoEvalCNNDataset(train_imgs, train_labels, idx2error, train_transform)\n",
    "val_ds = AutoEvalCNNDataset(val_imgs, val_labels, idx2error, val_transform)\n",
    "test_ds = AutoEvalCNNDataset(test_imgs, test_labels, idx2error, val_transform)"
   ]
  },
  {
   "cell_type": "markdown",
   "id": "76fc1ed7-97d0-42a6-a840-4edca21f3109",
   "metadata": {},
   "source": [
    "Dataloader"
   ]
  },
  {
   "cell_type": "code",
   "execution_count": 300,
   "id": "ddec91b7-8064-4bad-95fa-658b66e8ade2",
   "metadata": {},
   "outputs": [],
   "source": [
    "# setting batch size for Dataloader to load the data batch by batch\n",
    "batch_size = 32\n",
    "train_loader = DataLoader(train_ds, batch_size, shuffle=True)\n",
    "val_loader = DataLoader(val_ds, batch_size)\n",
    "test_loader = DataLoader(test_ds, 1, shuffle=False)"
   ]
  },
  {
   "cell_type": "markdown",
   "id": "4fc5f99a-7be9-4768-84d0-307a99633c8d",
   "metadata": {},
   "source": [
    "# Training"
   ]
  },
  {
   "cell_type": "code",
   "execution_count": 301,
   "id": "837f09ac-b7e1-48cc-b25a-2d987da9b84f",
   "metadata": {},
   "outputs": [],
   "source": [
    "def F_score(output, label, threshold=0.5, beta=1): #Calculate the accuracy of the model\n",
    "    prob = output > threshold\n",
    "    label = label > threshold\n",
    "\n",
    "    TP = (prob & label).sum(1).float()\n",
    "    TN = ((~prob) & (~label)).sum(1).float()\n",
    "    FP = (prob & (~label)).sum(1).float()\n",
    "    FN = ((~prob) & label).sum(1).float()\n",
    "\n",
    "    precision = torch.mean(TP / (TP + FP + 1e-12))\n",
    "    recall = torch.mean(TP / (TP + FN + 1e-12))\n",
    "    F2 = (1 + beta**2) * precision * recall / (beta**2 * precision + recall + 1e-12)\n",
    "    return F2.mean(0)\n",
    "\n",
    "class MultilabelImageClassificationBase(torch.nn.Module):\n",
    "    def training_step(self, batch):\n",
    "        images, targets = batch \n",
    "        out = self(images)                            # Generate predictions\n",
    "        loss = F.binary_cross_entropy(out, targets)   # Calculate loss\n",
    "        return loss    \n",
    "\n",
    "    def validation_step(self, batch):\n",
    "        images, targets = batch \n",
    "        out = self(images)                           # Generate predictions\n",
    "        loss = F.binary_cross_entropy(out, targets)  # Calculate loss\n",
    "        score = F_score(out, targets)                # Calculate accuracy\n",
    "        return {'val_loss': loss.detach(), 'val_score': score.detach() }      \n",
    "\n",
    "\n",
    "    def validation_epoch_end(self, outputs):\n",
    "        batch_losses = [x['val_loss'] for x in outputs]\n",
    "        epoch_loss = torch.stack(batch_losses).mean()       # Combine losses and get the mean value\n",
    "        batch_scores = [x['val_score'] for x in outputs]    \n",
    "        epoch_score = torch.stack(batch_scores).mean()      # Combine accuracies and get the mean value\n",
    "        return {'val_loss': epoch_loss.item(), 'val_score': epoch_score.item()}    \n",
    "\n",
    "    def epoch_end(self, epoch, result):                     # display the losses\n",
    "        # print(\"Epoch [{}], last_lr: {:.4f}, train_loss: {:.4f}, val_loss: {:.4f}, val_score: {:.4f}\".format(\n",
    "        #     epoch, result['lrs'][-1], result['train_loss'], result['val_loss'], result['val_score']))\n",
    "        print(\"Epoch [{}], train_loss: {:.4f}, val_loss: {:.4f}, val_score: {:.4f}\".format(\n",
    "            epoch, result['train_loss'], result['val_loss'], result['val_score']))"
   ]
  },
  {
   "cell_type": "code",
   "execution_count": 302,
   "id": "34aa27bc-c639-4f18-ae63-e5808b68e978",
   "metadata": {},
   "outputs": [
    {
     "name": "stdout",
     "output_type": "stream",
     "text": [
      "cuda\n"
     ]
    }
   ],
   "source": [
    "def to_device(data, device):\n",
    "    \"\"\"Move tensor(s) to chosen device\"\"\"\n",
    "    if isinstance(data, (list,tuple)):\n",
    "        return [to_device(x, device) for x in data]\n",
    "    return data.to(device, non_blocking=True)\n",
    "\n",
    "class DeviceDataLoader():  \n",
    "    \"\"\"Wrap a dataloader to move data to a device\"\"\"\n",
    "    def __init__(self, dl, device):\n",
    "        self.dl = dl\n",
    "        self.device = device       \n",
    "\n",
    "    def __iter__(self):\n",
    "        \"\"\"Yield a batch of data after moving it to device\"\"\"\n",
    "        for b in self.dl: \n",
    "            yield to_device(b, self.device)\n",
    "\n",
    "    def __len__(self):\n",
    "        \"\"\"Number of batches\"\"\"\n",
    "        return len(self.dl)\n",
    "\n",
    "device = torch.device('cuda') if torch.cuda.is_available() else torch.device('cpu')\n",
    "print(device)\n",
    "\n",
    "train_dl = DeviceDataLoader(train_loader, device)\n",
    "val_dl = DeviceDataLoader(val_loader, device)"
   ]
  },
  {
   "cell_type": "code",
   "execution_count": 303,
   "id": "a46a2002-58ed-431b-b1e0-342d113c6bcc",
   "metadata": {},
   "outputs": [],
   "source": [
    "@torch.no_grad()\n",
    "def evaluate(model, val_loader):\n",
    "    model.eval()\n",
    "    outputs = [model.validation_step(batch) for batch in val_loader]\n",
    "    return model.validation_epoch_end(outputs)\n",
    "\n",
    "def fit(epochs, lr, model, train_loader, val_loader, opt_func=torch.optim.SGD):\n",
    "    history = []\n",
    "    optimizer = opt_func(model.parameters(), lr)\n",
    "    for epoch in range(epochs):\n",
    "        # Training Phase\n",
    "        model.train()\n",
    "        train_losses = []\n",
    "        for batch in tqdm(train_loader):\n",
    "            loss = model.training_step(batch)\n",
    "            train_losses.append(loss)\n",
    "            loss.backward()\n",
    "            optimizer.step()\n",
    "            optimizer.zero_grad()\n",
    "        # Validation phase\n",
    "        result = evaluate(model, val_loader)\n",
    "        result['train_loss'] = torch.stack(train_losses).mean().item()\n",
    "        model.epoch_end(epoch, result)\n",
    "        history.append(result)\n",
    "    return history\n",
    "\n",
    "def get_lr(optimizer):\n",
    "    for param_group in optimizer.param_groups:\n",
    "        return param_group['lr']\n"
   ]
  },
  {
   "cell_type": "code",
   "execution_count": 304,
   "id": "0bce190e-f1b3-41ee-a748-ae0f57940531",
   "metadata": {
    "scrolled": true
   },
   "outputs": [],
   "source": [
    "# just using baseline\n",
    "class ResNetWrapper(MultilabelImageClassificationBase):\n",
    "    def __init__(self, num_classes, num_channels=3):\n",
    "        super().__init__()     \n",
    "        self.model = models.resnet50()\n",
    "        self.model.conv1 = torch.nn.Conv2d(num_channels, 64, kernel_size=(7, 7), stride=(2, 2), padding=(3, 3), bias=False)\n",
    "        infeats = self.model.fc.in_features\n",
    "        self.model.fc = torch.nn.Sequential(\n",
    "            torch.nn.Linear(infeats, infeats//2),\n",
    "            torch.nn.ReLU(),\n",
    "            torch.nn.Linear(infeats//2, num_classes)\n",
    "        )\n",
    "        self.sigmoid = torch.nn.Sigmoid()\n",
    "\n",
    "    def forward(self, xb):\n",
    "        tmp_x = self.model(xb)\n",
    "        return self.sigmoid(tmp_x)"
   ]
  },
  {
   "cell_type": "code",
   "execution_count": null,
   "id": "ba65161b-8993-4f85-b25c-744acd9e7ed4",
   "metadata": {
    "scrolled": true
   },
   "outputs": [],
   "source": [
    "model = to_device(ResNetWrapper(len(idx2error), CHANNELS), device)\n",
    "model"
   ]
  },
  {
   "cell_type": "markdown",
   "id": "9eaebcb4-ad1d-4265-87cc-98bcbf3b6f4f",
   "metadata": {},
   "source": [
    "Checking"
   ]
  },
  {
   "cell_type": "code",
   "execution_count": 239,
   "id": "c8008415-f17d-4d77-b5f9-2d3407bfdb50",
   "metadata": {},
   "outputs": [
    {
     "name": "stdout",
     "output_type": "stream",
     "text": [
      "torch.Size([32, 2, 26, 192])\n",
      "outputs.shape :  torch.Size([32, 23])\n",
      "Sample outputs :\n",
      " tensor([[9.8342e-01, 1.5506e-02, 2.2672e-04, 1.0377e-02, 7.7307e-04, 7.9065e-04,\n",
      "         7.0789e-05, 5.8625e-04, 1.8705e-04, 6.8972e-03, 3.8470e-08, 5.3163e-04,\n",
      "         2.5121e-05, 1.6283e-05, 9.9878e-04, 1.3976e-05, 8.7829e-06, 9.3225e-03,\n",
      "         3.1411e-05, 7.0036e-08, 2.1026e-02, 1.5273e-05, 2.2279e-05],\n",
      "        [8.9611e-01, 6.9017e-02, 3.2764e-05, 1.4359e-01, 1.2578e-03, 2.9822e-03,\n",
      "         7.3323e-05, 5.5881e-04, 1.8160e-04, 1.9536e-03, 2.8651e-08, 4.0588e-04,\n",
      "         1.5530e-05, 3.4021e-06, 6.0865e-04, 1.1802e-05, 1.4026e-05, 1.6667e-02,\n",
      "         6.9156e-06, 5.5682e-08, 3.4996e-03, 1.0538e-05, 7.6546e-06]],\n",
      "       device='cuda:0')\n",
      "[{'val_loss': 0.3509978950023651, 'val_score': 0.234375}]\n"
     ]
    }
   ],
   "source": [
    "#checking the shape of outputs that the model will produce before starting the training process\n",
    "for images, labels in train_dl:\n",
    "    print(images.shape)\n",
    "    outputs = model(images)\n",
    "    break\n",
    "\n",
    "print('outputs.shape : ', outputs.shape)\n",
    "print('Sample outputs :\\n', outputs[:2].data)\n",
    "history = [evaluate(model, val_dl)]\n",
    "print(history)"
   ]
  },
  {
   "cell_type": "code",
   "execution_count": 306,
   "id": "c688ecde-2242-4394-b89e-0e56533979af",
   "metadata": {},
   "outputs": [],
   "source": [
    "epochs = 50\n",
    "lr = 0.001\n",
    "grad_clip = 0.1\n",
    "weight_decay = 1e-4\n",
    "opt_func = torch.optim.Adam"
   ]
  },
  {
   "cell_type": "code",
   "execution_count": null,
   "id": "6102e6e8-e216-4af7-b806-9a3e06ee4553",
   "metadata": {
    "scrolled": true
   },
   "outputs": [],
   "source": [
    "history = fit(epochs, lr, model, train_dl, val_dl, opt_func=opt_func)"
   ]
  },
  {
   "cell_type": "markdown",
   "id": "d1e70476-f8e8-4a98-8a82-bb46f7cc6470",
   "metadata": {},
   "source": [
    "Showing results"
   ]
  },
  {
   "cell_type": "code",
   "execution_count": 260,
   "id": "059ad775-a404-497b-9fdf-3aa79ba50c68",
   "metadata": {},
   "outputs": [],
   "source": [
    "def plot_scores(history):\n",
    "    scores = [x['val_score'] for x in history]\n",
    "    plt.plot(scores, '-x')\n",
    "    plt.xlabel('epoch')\n",
    "    plt.ylabel('score')\n",
    "    plt.title('F1 score vs. No. of epochs');\n",
    "    \n",
    "def plot_losses(history):\n",
    "    train_losses = [x.get('train_loss') for x in history]\n",
    "    val_losses = [x['val_loss'] for x in history]\n",
    "    plt.plot(train_losses, '-bx')\n",
    "    plt.plot(val_losses, '-rx')\n",
    "    plt.xlabel('epoch')\n",
    "    plt.ylabel('loss')\n",
    "    plt.legend(['Training', 'Validation'])\n",
    "    plt.title('Loss vs. No. of epochs');"
   ]
  },
  {
   "cell_type": "code",
   "execution_count": 308,
   "id": "33cfc1bd-4b35-42ef-88ac-d32c4e426db3",
   "metadata": {},
   "outputs": [
    {
     "data": {
      "image/png": "[encoded data removed]",
      "text/plain": [
       "<Figure size 640x480 with 1 Axes>"
      ]
     },
     "metadata": {},
     "output_type": "display_data"
    }
   ],
   "source": [
    "plot_scores(history)"
   ]
  },
  {
   "cell_type": "code",
   "execution_count": 309,
   "id": "38c52754-477c-4656-b3bb-b24bcd3fb10a",
   "metadata": {},
   "outputs": [
    {
     "data": {
      "image/png": "[encoded data removed]",
      "text/plain": [
       "<Figure size 640x480 with 1 Axes>"
      ]
     },
     "metadata": {},
     "output_type": "display_data"
    }
   ],
   "source": [
    "plot_losses(history)"
   ]
  },
  {
   "cell_type": "markdown",
   "id": "55b5b5ba-c915-48f2-86da-a95d4402b0fd",
   "metadata": {},
   "source": [
    "# Metrics"
   ]
  },
  {
   "cell_type": "markdown",
   "id": "d32a952e-d2db-445c-a3c8-f71b55d0702f",
   "metadata": {},
   "source": [
    "https://stats.stackexchange.com/questions/12702/what-are-the-measure-for-accuracy-of-multilabel-data"
   ]
  },
  {
   "cell_type": "code",
   "execution_count": 263,
   "id": "37f340a2-a4ac-44bd-949a-faad9591b869",
   "metadata": {},
   "outputs": [],
   "source": [
    "def exact_match_ratio(y_pred:np.ndarray, y_true:np.ndarray)->float:\n",
    "    samples_count = y_pred.shape[0]\n",
    "    return (y_true == y_pred).all(1).astype(np.float32).sum() / samples_count\n",
    "\n",
    "def multilabel_accuracy(y_pred:np.ndarray, y_true:np.ndarray)->float: # пока равна recall\n",
    "    samples_count = y_pred.shape[0]\n",
    "    # intersection over union of classes\n",
    "    accuracy_sum = 0.0\n",
    "    for sample in range(samples_count):\n",
    "        pred_sample = y_pred[sample, :]\n",
    "        true_sample = y_true[sample, :]\n",
    "        pred_classes = set(decode_target(pred_sample, idx2error))\n",
    "        true_classes = set(decode_target(true_sample, idx2error))\n",
    "        accuracy_sum += float(len(pred_classes&true_classes))/len(pred_classes|true_classes)\n",
    "    return accuracy_sum / samples_count\n",
    "\n",
    "def hamming_loss(y_pred:np.ndarray, y_true:np.ndarray)->float:\n",
    "    hl_sum = (1 - y_pred[np.nonzero(y_true)]).sum()\n",
    "    hl_sum += y_pred[y_true == 0].sum()\n",
    "    return hl_sum / y_pred.size"
   ]
  },
  {
   "cell_type": "markdown",
   "id": "511ab0ff-77ed-4186-a99f-151e68321929",
   "metadata": {},
   "source": [
    "# Testing"
   ]
  },
  {
   "cell_type": "code",
   "execution_count": 264,
   "id": "297bed59-d4d1-445b-9b90-ae9df3140e3d",
   "metadata": {},
   "outputs": [],
   "source": [
    "def show_example(img, pred_label, true_label=None):\n",
    "    plt.imshow(img.permute(1,2,0))\n",
    "    print(\"Predicted label:\", decode_target(pred_label, idx2error))\n",
    "    if true_label != None:\n",
    "        print(\"True label:\", decode_target(true_label, idx2error))\n",
    "    print()\n",
    "    print(pred_label)\n",
    "\n",
    "def predict_single(image, label=None):\n",
    "    xb = image.unsqueeze(0)\n",
    "    xb = to_device(xb, device)\n",
    "    preds = model(xb)\n",
    "    prediction = preds[0]\n",
    "    show_example(image, prediction, label)"
   ]
  },
  {
   "cell_type": "code",
   "execution_count": 310,
   "id": "c635d4c8-7267-417a-9258-4fa34128dff3",
   "metadata": {},
   "outputs": [],
   "source": [
    "model.eval()\n",
    "test_dl = DeviceDataLoader(test_loader, device)\n",
    "\n",
    "test_losses = []\n",
    "test_f1s = []\n",
    "preds = []\n",
    "trues = []\n",
    "with torch.no_grad():\n",
    "    for batch in test_dl:\n",
    "        images, targets = batch \n",
    "        out = model(images)                           # Generate predictions\n",
    "        loss = F.binary_cross_entropy(out, targets)   # Calculate loss\n",
    "        score = F_score(out, targets)                 # Calculate accuracy\n",
    "        test_losses.append(loss.detach().cpu().item())\n",
    "        test_f1s.append(score.detach().cpu().item())\n",
    "        preds.append(out.cpu().numpy())\n",
    "        trues.append(targets.cpu().numpy())"
   ]
  },
  {
   "cell_type": "code",
   "execution_count": 311,
   "id": "c4627e2d-5638-4b8b-ab94-e1414b36513c",
   "metadata": {},
   "outputs": [],
   "source": [
    "preds_labels = []\n",
    "for pred in preds:\n",
    "    preds_labels.append((pred > THRESHOLD).astype(np.float32))\n",
    "pred_ar = np.array(preds_labels).squeeze()\n",
    "trues_ar = np.array(trues).squeeze()"
   ]
  },
  {
   "cell_type": "code",
   "execution_count": 312,
   "id": "217d43ef-77b7-44c2-a2f4-7816e59452a7",
   "metadata": {},
   "outputs": [
    {
     "name": "stdout",
     "output_type": "stream",
     "text": [
      "Zeros in data: 0.950197628458498\n"
     ]
    }
   ],
   "source": [
    "zeros_fraction = (trues_ar == 0).astype(np.float32).sum() / trues_ar.size\n",
    "print(\"Zeros in data:\", zeros_fraction)"
   ]
  },
  {
   "cell_type": "code",
   "execution_count": 313,
   "id": "b9d78fd7-5690-455f-8190-7a1f2deb4e7e",
   "metadata": {},
   "outputs": [
    {
     "name": "stdout",
     "output_type": "stream",
     "text": [
      "Test BCE loss: 0.20726440226167556\n",
      "Test F1-score: 0.43030303066427056\n"
     ]
    }
   ],
   "source": [
    "# test_loss = np.mean(test_losses)\n",
    "# testf1 = np.mean(test_f1s)\n",
    "print(\"Test BCE loss:\", np.mean(test_losses))\n",
    "print(\"Test F1-score:\", np.mean(test_f1s))"
   ]
  },
  {
   "cell_type": "code",
   "execution_count": 314,
   "id": "2763874c-cb96-4ef9-a085-7b74aa3c9445",
   "metadata": {},
   "outputs": [
    {
     "name": "stdout",
     "output_type": "stream",
     "text": [
      "Exact match ratio: 0.4\n"
     ]
    }
   ],
   "source": [
    "# exact match ratio\n",
    "#emr = (trues_ar == pred_ar).astype(np.float32).sum() / trues_ar.size\n",
    "emr = exact_match_ratio(pred_ar, trues_ar)\n",
    "print(\"Exact match ratio:\", emr)"
   ]
  },
  {
   "cell_type": "code",
   "execution_count": 315,
   "id": "eb6582f1-b30a-44ae-bff8-ee702d2ed7a4",
   "metadata": {},
   "outputs": [
    {
     "name": "stdout",
     "output_type": "stream",
     "text": [
      "Hamming loss: 0.04743083003952569\n"
     ]
    }
   ],
   "source": [
    "print(\"Hamming loss:\", hamming_loss(pred_ar, trues_ar)) # less is better"
   ]
  },
  {
   "cell_type": "code",
   "execution_count": 316,
   "id": "9a7244c0-e8d8-4214-adef-30ee10979136",
   "metadata": {},
   "outputs": [
    {
     "name": "stdout",
     "output_type": "stream",
     "text": [
      "Accuracy: 0.42121212121212115\n"
     ]
    }
   ],
   "source": [
    "print(\"Accuracy:\", multilabel_accuracy(pred_ar, trues_ar))"
   ]
  },
  {
   "cell_type": "code",
   "execution_count": 317,
   "id": "67a133cc-ddc4-40a8-b798-3738b0592b1f",
   "metadata": {},
   "outputs": [
    {
     "name": "stdout",
     "output_type": "stream",
     "text": [
      "micro/precision: 0.5306122448979592\n",
      "micro/recall 0.4126984126984127\n",
      "micro/f1 0.4642857142857143\n",
      "macro/precision 0.08043478260869565\n",
      "macro/recall 0.09224441833137485\n",
      "macro/f1 0.06552521672573587\n",
      "samples/precision 0.42727272727272725\n",
      "samples/recall 0.4436363636363636\n",
      "samples/f1 0.43030303030303024\n"
     ]
    }
   ],
   "source": [
    "#zero_division=0 suppresses warning\n",
    "print('micro/precision:', precision_score(y_true=trues_ar, y_pred=pred_ar, average='micro', zero_division=0))\n",
    "print('micro/recall', recall_score(y_true=trues_ar, y_pred=pred_ar, average='micro', zero_division=0))\n",
    "print('micro/f1', f1_score(y_true=trues_ar, y_pred=pred_ar, average='micro', zero_division=0))\n",
    "print('macro/precision', precision_score(y_true=trues_ar, y_pred=pred_ar, average='macro', zero_division=0))\n",
    "print('macro/recall', recall_score(y_true=trues_ar, y_pred=pred_ar, average='macro', zero_division=0))\n",
    "print('macro/f1', f1_score(y_true=trues_ar, y_pred=pred_ar, average='macro', zero_division=0))\n",
    "print('samples/precision', precision_score(y_true=trues_ar, y_pred=pred_ar, average='samples', zero_division=0))\n",
    "print('samples/recall', recall_score(y_true=trues_ar, y_pred=pred_ar, average='samples', zero_division=0))\n",
    "print('samples/f1', f1_score(y_true=trues_ar, y_pred=pred_ar, average='samples', zero_division=0))"
   ]
  },
  {
   "cell_type": "code",
   "execution_count": null,
   "id": "5213f70c-9af1-44a2-93c4-956b26deb934",
   "metadata": {},
   "outputs": [],
   "source": [
    "for i, predl in enumerate(preds_labels):\n",
    "    if np.all(predl == trues[i]):\n",
    "        print(i, \"|should be\", trues[i])\n",
    "        print(i,\"|predicted\", predl)"
   ]
  },
  {
   "cell_type": "code",
   "execution_count": null,
   "id": "2f73d9a1-f528-4c82-8449-5b46b01815c3",
   "metadata": {},
   "outputs": [],
   "source": []
  }
 ],
 "metadata": {
  "kernelspec": {
   "display_name": "Python 3 (ipykernel)",
   "language": "python",
   "name": "python3"
  },
  "language_info": {
   "codemirror_mode": {
    "name": "ipython",
    "version": 3
   },
   "file_extension": ".py",
   "mimetype": "text/x-python",
   "name": "python",
   "nbconvert_exporter": "python",
   "pygments_lexer": "ipython3",
   "version": "3.11.7"
  }
 },
 "nbformat": 4,
 "nbformat_minor": 5
}
