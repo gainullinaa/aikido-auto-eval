{
 "cells": [
  {
   "cell_type": "code",
   "execution_count": 1,
   "id": "881eb7ea-8b29-452b-9434-06c65094f79d",
   "metadata": {},
   "outputs": [],
   "source": [
    "import numpy as np\n",
    "from tqdm import tqdm\n",
    "import cv2 as cv\n",
    "import matplotlib.pyplot as plt\n",
    "from sklearn.metrics import precision_score, recall_score, f1_score, classification_report\n",
    "from sklearn.model_selection import train_test_split\n",
    "\n",
    "import torch\n",
    "import torchvision.models as models\n",
    "import torchvision.transforms as T\n",
    "from torch.utils.data import Dataset, random_split, DataLoader\n",
    "import torch.nn.functional as F\n",
    "\n",
    "import json\n",
    "import os\n",
    "import random"
   ]
  },
  {
   "cell_type": "code",
   "execution_count": 2,
   "id": "bcf94c40-c1bb-4e8d-b795-cba81ccd951e",
   "metadata": {},
   "outputs": [],
   "source": [
    "track_id2student_id_it = {7:0, 6:1, 0:2, 8:3, 1:4, 3:5, 11:6, 15:7, 16:8, 2:9, 5:12, 9:13, 4:14} # irimi tenkan, my tracking algo\n",
    "track_id2student_id_ta = {8:0, 7:1, 2:2, 10:3, 3:4, 4:5, 14:6, 9:7, 1:8, 12:9, 11:10, 0:11, 6:12, 5:13} # tsugi ashi, my tracking algo\n",
    "track_id2student_id_utmt = {7:0, 6:1, 1:2, 8:3, 3:4, 5:5, 11:6, 10:7, 2:8, 0:11, 4:13, 9:9, 12:10, 19:12} # utmt, my tracking algo\n",
    "\n",
    "single_student_tids = {\"1156\":0, \"1237\":1, \"0756\":0, \"0912\":0, \"1043\":0}"
   ]
  },
  {
   "cell_type": "code",
   "execution_count": 3,
   "id": "275ae783-8066-44f1-bd1c-9d581a24bf91",
   "metadata": {},
   "outputs": [],
   "source": [
    "file2mapping = {\"../alphapose_res/irimi_tenkan_kps.json\":track_id2student_id_it,\n",
    "                \"../alphapose_res/ta_tracking.json\":track_id2student_id_ta,\n",
    "                \"../alphapose_res/utmt_kps.json\":track_id2student_id_utmt}\n",
    "annotations_map = {\"../alphapose_res/irimi_tenkan_kps.json\":\"../data/irimi_tenkan/annotations.json\",\n",
    "                \"../alphapose_res/ta_tracking.json\":\"../data/tsugi_ashi/annotations.json\",\n",
    "                \"../alphapose_res/utmt_kps.json\":\"../data/ushiro_tenkan_mae_tenkan/annotations.json\"}\n",
    "single_st_ann = \"../data/single_student_annotations.json\"\n",
    "\n",
    "\n",
    "SAMPLE_MAX_FRAME_COUNT = 192 # ?\n",
    "THRESHOLD = 0.5\n",
    "CHANNELS = 3"
   ]
  },
  {
   "cell_type": "markdown",
   "id": "69d3bb3e-4261-4115-91fc-9dc35cf1b941",
   "metadata": {},
   "source": [
    "Код для обучения взят из ноутбука:"
   ]
  },
  {
   "cell_type": "markdown",
   "id": "50001202-604c-4596-9431-814cc11e2641",
   "metadata": {},
   "source": [
    "### https://www.kaggle.com/code/boascent/multi-label-image-classification-pytorch-gpu"
   ]
  },
  {
   "cell_type": "markdown",
   "id": "f3dc0563-a346-4542-ba42-0f8db5faf50b",
   "metadata": {},
   "source": [
    "# Data processing functions"
   ]
  },
  {
   "cell_type": "code",
   "execution_count": 4,
   "id": "61bc51b9-a691-44d3-b638-fdf21958f0c8",
   "metadata": {},
   "outputs": [],
   "source": [
    "from dataproc import *"
   ]
  },
  {
   "cell_type": "markdown",
   "id": "2aa6076e-100e-4893-ac9a-d510052b46ec",
   "metadata": {},
   "source": [
    "# Датасет"
   ]
  },
  {
   "cell_type": "code",
   "execution_count": 5,
   "id": "618d4133-bdd5-46a1-9fc5-6568589e45f7",
   "metadata": {},
   "outputs": [],
   "source": [
    "# augmentations\n",
    "def mirror_coordinate(coords:np.ndarray, coord_idx:int=0):\n",
    "    \"\"\" Принимает, что координата должна быть в основном в 0...1, но может быть >1 и <0.\n",
    "        Отражает относительно 0.5, меняется только в 3 размерности (coords.shape[2]), как цветовой канал. \n",
    "        Не для нормализованных данных!\n",
    "        Args:\n",
    "            coords, ndarray - len(coords.shape)==3\n",
    "            coord_idx, int - какую координату нужно отразить\n",
    "        Returns:\n",
    "            np.copy(coords), но соответствующая координата отражена\n",
    "    \"\"\"\n",
    "    new_coords = np.copy(coords)\n",
    "    new_coords[:, :, coord_idx] = 1 - new_coords[:, :, coord_idx]\n",
    "    return new_coords    "
   ]
  },
  {
   "cell_type": "markdown",
   "id": "1ad49b3b-0c85-4061-81a8-6bfc8480424a",
   "metadata": {},
   "source": [
    "Собрать всё в массивы"
   ]
  },
  {
   "cell_type": "markdown",
   "id": "7b592a78-2be1-4163-83e6-2e2f2ce0d7c7",
   "metadata": {},
   "source": [
    "1. Аннотации видео с толпой"
   ]
  },
  {
   "cell_type": "code",
   "execution_count": 6,
   "id": "18fc6fb6-6edd-4f8c-ad41-7a8fa0628ae7",
   "metadata": {},
   "outputs": [],
   "source": [
    "exercise2points = dict()\n",
    "exercise2errors = dict()\n",
    "encoded_errors = {\"нет ошибок\":0}\n",
    "for filename in file2mapping:\n",
    "    sid2kps = parse_crowd_exercise(filename, file2mapping[filename])    \n",
    "    with open(annotations_map[filename], \"r\", encoding=\"utf8\") as ja:\n",
    "        ann = json.load(ja)\n",
    "        for k in ann:\n",
    "            people = list(ann[k].keys())\n",
    "            for personid in people:\n",
    "                intkey = int(personid)\n",
    "                ann[k][intkey] = ann[k][personid]            \n",
    "    exname = os.path.basename(filename).split('.')[0]\n",
    "    student_tries = split_student_tries(sid2kps, ann['people_exercise_frames'])\n",
    "    errs = get_error_codes(ann, encoded_errors)\n",
    "    exercise2points[exname] = student_tries\n",
    "    exercise2errors[exname] = errs        "
   ]
  },
  {
   "cell_type": "markdown",
   "id": "2f5c4f24-b151-4eda-9f24-44ed0b63cbfd",
   "metadata": {},
   "source": [
    "2. Аннотации видео одного ученика"
   ]
  },
  {
   "cell_type": "code",
   "execution_count": 7,
   "id": "aca1eee5-5b93-47aa-8ace-e28eed873cbc",
   "metadata": {},
   "outputs": [],
   "source": [
    "student2points = dict()\n",
    "#student2errors = dict()\n",
    "with open(single_st_ann, \"r\", encoding=\"utf8\") as common_ann_file:\n",
    "    common_ann = json.load(common_ann_file)\n",
    "ss_vid_ann = [os.path.join(\"../alphapose_res\", f) for f in [\"0756_alpha.json\", \"0912_alpha.json\",\n",
    "                                                           \"1043_alpha.json\", \"1156_alpha.json\", \n",
    "                                                            \"1237_alpha.json\"]]\n",
    "for filename in ss_vid_ann:\n",
    "    stud_id = os.path.split(filename)[-1][:4]\n",
    "    dynamic = parse_single_person_exercise(filename, single_student_tids[stud_id])\n",
    "    internal_vid_id = common_ann[\"file2id\"][stud_id]\n",
    "    student_tries = split_student_tries({internal_vid_id:dynamic}, common_ann['people_exercise_frames'])\n",
    "    student2points[internal_vid_id] = student_tries[internal_vid_id]\n",
    "student2errors = get_error_codes(common_ann, encoded_errors)"
   ]
  },
  {
   "cell_type": "code",
   "execution_count": 8,
   "id": "1d535c5f-86f7-47b9-aa32-fe82539b1781",
   "metadata": {},
   "outputs": [],
   "source": [
    "delete_keys = []\n",
    "for ename in exercise2errors:\n",
    "    for k in exercise2errors[ename]:\n",
    "        if type(k) == str:\n",
    "            delete_keys.append(k)\n",
    "    for k in delete_keys:\n",
    "        del exercise2errors[ename][k]\n",
    "    delete_keys.clear()    "
   ]
  },
  {
   "cell_type": "code",
   "execution_count": 9,
   "id": "2f43f87a-917b-495f-8e2a-7e062a80afbe",
   "metadata": {},
   "outputs": [],
   "source": [
    "idx2error = dict()\n",
    "for n in encoded_errors:\n",
    "    idx = encoded_errors[n]\n",
    "    idx2error[idx] = n"
   ]
  },
  {
   "cell_type": "code",
   "execution_count": 10,
   "id": "e14db7ea-ea68-42eb-b75b-c8c69f514dce",
   "metadata": {},
   "outputs": [],
   "source": [
    "exercise2points[\"single_student\"] = student2points\n",
    "exercise2errors[\"single_student\"] = student2errors"
   ]
  },
  {
   "cell_type": "markdown",
   "id": "be35ee66-1016-4015-98de-be272b171f30",
   "metadata": {},
   "source": [
    "Dataset"
   ]
  },
  {
   "cell_type": "code",
   "execution_count": 11,
   "id": "a8ff437c-c347-42b2-95e8-b1e11ffaf073",
   "metadata": {},
   "outputs": [],
   "source": [
    "def encode_label(label:list, class_count:int):\n",
    "    target = torch.zeros(class_count)\n",
    "    for idx in label:\n",
    "      target[idx] = 1\n",
    "    return target\n",
    "    \n",
    "def decode_target(target, classes:dict, threshold:float=0.5):\n",
    "    result = []\n",
    "    for i, x in enumerate(target):\n",
    "        if (x >= threshold):\n",
    "          result.append(classes[i])\n",
    "    return result"
   ]
  },
  {
   "cell_type": "code",
   "execution_count": 12,
   "id": "f71aa273-588c-421f-8163-4b98eb060cf2",
   "metadata": {},
   "outputs": [],
   "source": [
    "class AutoEvalCNNDataset(Dataset):\n",
    "    def __init__(self, images:list, labels:list, class_mapping:dict, transform, encode_target=True):\n",
    "        self.transform = transform\n",
    "        self.idx2class = class_mapping\n",
    "        self.images = images\n",
    "        self.labels = labels\n",
    "        self.do_encode = encode_target\n",
    "\n",
    "    def __len__(self):\n",
    "        return len(self.images)\n",
    "\n",
    "    def __getitem__(self, idx):\n",
    "        img = self.images[idx]\n",
    "        label = self.labels[idx]\n",
    "        if self.transform:\n",
    "            img = self.transform(img)\n",
    "        if self.do_encode:\n",
    "            target = encode_label(label, max(self.idx2class) + 1)\n",
    "        else:\n",
    "            target = label\n",
    "        return img, target"
   ]
  },
  {
   "cell_type": "code",
   "execution_count": 13,
   "id": "921f4132-5716-4a50-b7cd-ece622f5505c",
   "metadata": {},
   "outputs": [],
   "source": [
    "def random_mirroring(img_array:np.ndarray, channel:int, proba:float=0.5)->np.ndarray:\n",
    "    if torch.rand(1) <= proba: # apply with probability\n",
    "        return mirror_coordinate(img_array, channel)\n",
    "    else: # else - return unchanged\n",
    "        return img_array\n",
    "\n",
    "def normalize01(img_array:np.ndarray)->np.ndarray:\n",
    "    res = np.copy(img_array)\n",
    "    for channel in range(res.shape[-1]):\n",
    "        charr = res[:, :, channel]\n",
    "        res[:, :, channel] = (charr - charr.min()) / (charr.max() - charr.min())\n",
    "    return res\n",
    "    \n",
    "keep_1st_n_channels = lambda img_array: img_array[:, :, :CHANNELS]\n",
    "\n",
    "train_transform = T.Compose([\n",
    "    T.Lambda(keep_1st_n_channels),\n",
    "    T.Lambda(lambda ar: resample_to_frame_length(ar, SAMPLE_MAX_FRAME_COUNT)),\n",
    "    # T.Lambda(lambda ar: random_mirroring(ar, 0)),\n",
    "    # T.Lambda(normalize01),\n",
    "    T.ToTensor(),\n",
    "    T.ConvertImageDtype(torch.float32)\n",
    "])\n",
    "val_transform = T.Compose([\n",
    "    T.Lambda(keep_1st_n_channels),    \n",
    "    T.Lambda(lambda ar: resample_to_frame_length(ar, SAMPLE_MAX_FRAME_COUNT)),\n",
    "    #T.Lambda(normalize01),\n",
    "    T.ToTensor(),\n",
    "    T.ConvertImageDtype(torch.float32)\n",
    "]) "
   ]
  },
  {
   "cell_type": "markdown",
   "id": "6914cd98-086d-40dc-bfb0-90632f75f53b",
   "metadata": {},
   "source": [
    "Train/Val/Test Split"
   ]
  },
  {
   "cell_type": "code",
   "execution_count": 14,
   "id": "d1213c4a-203e-4c0d-b5b1-d886406ce2fa",
   "metadata": {},
   "outputs": [],
   "source": [
    "random.seed(42)"
   ]
  },
  {
   "cell_type": "code",
   "execution_count": 15,
   "id": "d3f52de3-58b9-48df-8067-03984b0816b2",
   "metadata": {},
   "outputs": [],
   "source": [
    "def fraction_split(exercise2points:dict, exercise2errors:dict, train_frac:float, val_frac:float, test_frac:float):\n",
    "    assert (train_frac + val_frac + test_frac) == 1\n",
    "    train_imgs, train_labels = [], []\n",
    "    test_imgs, test_labels = [], []\n",
    "    val_imgs, val_labels = [], []\n",
    "    \n",
    "    train_ids = []\n",
    "    val_ids = []\n",
    "    test_ids = []\n",
    "    total_data_count = 0\n",
    "    for exname in exercise2points:\n",
    "        cur_exerc = exercise2points[exname]\n",
    "        cur_errors = exercise2errors[exname]\n",
    "        for p in cur_exerc:\n",
    "            tries = cur_exerc[p]\n",
    "            errs = cur_errors[p]\n",
    "            for i, e in enumerate(tries):\n",
    "                total_data_count += 1\n",
    "                rval = random.random()\n",
    "                if rval <= train_frac:\n",
    "                    train_imgs.append(e)\n",
    "                    train_labels.append(errs[i])\n",
    "                    train_ids.append((exname, p, i))\n",
    "                elif rval <= (train_frac + test_frac):\n",
    "                    test_imgs.append(e)\n",
    "                    test_labels.append(errs[i])\n",
    "                    test_ids.append((exname, p, i))\n",
    "                else:\n",
    "                    val_imgs.append(e)\n",
    "                    val_labels.append(errs[i])\n",
    "                    val_ids.append((exname, p, i))\n",
    "    return [(train_imgs, train_labels), (test_imgs, test_labels), (val_imgs, val_labels)]\n",
    "\n",
    "def pick_elems_on_indices_from_both(data, labels, indices):\n",
    "    X = []\n",
    "    y = []\n",
    "    for i in indices:\n",
    "        X.append(data[i])\n",
    "        y.append(labels[i])\n",
    "    return X, y\n",
    "\n",
    "def stratify_split(exercise2points:dict, exercise2errors:dict, train_frac:float, val_frac:float, test_frac:float, class_count:int, state=0):    \n",
    "    input_data = []\n",
    "    labels = []\n",
    "    total_count = 0\n",
    "    class2idx = dict()\n",
    "    for exname in exercise2points:\n",
    "        cur_exerc = exercise2points[exname]\n",
    "        cur_errors = exercise2errors[exname]\n",
    "        for p in cur_exerc:\n",
    "            tries = cur_exerc[p]\n",
    "            errs = cur_errors[p]\n",
    "            for i, e in enumerate(tries):\n",
    "                input_data.append(e)\n",
    "                labels.append(errs[i])\n",
    "                #labels.append(encode_label(errs[i], class_count).numpy())\n",
    "                for error in errs[i]:\n",
    "                    if error not in class2idx:\n",
    "                        class2idx[error] = []\n",
    "                    class2idx[error].append(total_count)\n",
    "                total_count += 1\n",
    "    random.seed(state)\n",
    "    train_instances_idx = set()\n",
    "    val_instances_idx = set()\n",
    "    test_instances_idx = set()\n",
    "    for cl in class2idx:\n",
    "        class_indices = class2idx[cl]\n",
    "        random.shuffle(class_indices)\n",
    "        last_train_idx = max(int(train_frac * len(class_indices)), 1)\n",
    "        train_picks = class_indices[:last_train_idx]\n",
    "        train_instances_idx.update(train_picks)\n",
    "        if (len(class_indices) - len(train_picks)) == 0:\n",
    "            continue\n",
    "        last_test_idx = last_train_idx + max(int(test_frac * len(class_indices)), 1)\n",
    "        test_picks = class_indices[last_train_idx:last_test_idx]\n",
    "        test_instances_idx.update(test_picks)\n",
    "        if (len(class_indices) - len(train_picks) - len(test_picks)) == 0:\n",
    "            continue\n",
    "        val_instances_idx.update(class_indices[last_test_idx:])\n",
    "    # clear repeating values\n",
    "    val_instances_idx = val_instances_idx - val_instances_idx.intersection(train_instances_idx)\n",
    "    test_instances_idx = test_instances_idx - test_instances_idx.intersection(train_instances_idx)\n",
    "    \n",
    "    X_train, y_train = pick_elems_on_indices_from_both(input_data, labels, train_instances_idx)  \n",
    "    X_test, y_test = pick_elems_on_indices_from_both(input_data, labels, test_instances_idx)\n",
    "    X_val, y_val = pick_elems_on_indices_from_both(input_data, labels, val_instances_idx)\n",
    "    \n",
    "    # train_count = round(total_count * train_frac)\n",
    "    # val_count = round(total_count * val_frac)\n",
    "    # test_count = round(total_count * test_frac)\n",
    "    # \"The minimum number of groups for any class cannot be less than 2\" для sklearn.model_selection.train_test_split\n",
    "    # X_train, X_test, y_train, y_test = train_test_split(input_data, \n",
    "    #                                                     train_size=train_count+val_count, \n",
    "    #                                                     random_state=state, stratify=labels)\n",
    "    # X_train, X_val, y_train, y_val = train_test_split(X_train, \n",
    "    #                                                   train_size=train_count, \n",
    "    #                                                   random_state=state, stratify=y_train)\n",
    "    return [(X_train, y_train), (X_test, y_test), (X_val, y_val)]\n",
    "                "
   ]
  },
  {
   "cell_type": "code",
   "execution_count": 53,
   "id": "82970d7c-c18d-456d-8c1f-9fdca9e66645",
   "metadata": {},
   "outputs": [
    {
     "name": "stdout",
     "output_type": "stream",
     "text": [
      "Total 298\n",
      "Train count 210\n",
      "Test count 54\n",
      "Val count 34\n"
     ]
    }
   ],
   "source": [
    "# dividing\n",
    "train_frac = 0.7\n",
    "val_frac = 0.1\n",
    "test_frac = 0.2\n",
    "\n",
    "#train_data, test_data, val_data = fraction_split(exercise2points, exercise2errors, train_frac, val_frac, test_frac)\n",
    "train_data, test_data, val_data = stratify_split(exercise2points, exercise2errors, train_frac, val_frac, test_frac, 42)\n",
    "train_imgs, train_labels = train_data\n",
    "test_imgs, test_labels = test_data\n",
    "val_imgs, val_labels = val_data\n",
    "total_data_count = len(train_imgs) + len(test_imgs) + len(val_imgs)\n",
    "\n",
    "print(\"Total\", total_data_count)\n",
    "print(\"Train count\", len(train_imgs))\n",
    "print(\"Test count\", len(test_imgs))\n",
    "print(\"Val count\", len(val_imgs))"
   ]
  },
  {
   "cell_type": "code",
   "execution_count": 54,
   "id": "95e72d43-afd7-4bb6-8e8a-b128acc6ac81",
   "metadata": {},
   "outputs": [],
   "source": [
    "assert len(train_imgs)==len(train_labels)\n",
    "assert len(test_imgs)==len(test_labels)\n",
    "assert len(val_imgs)==len(val_labels)"
   ]
  },
  {
   "cell_type": "code",
   "execution_count": 55,
   "id": "7d139276-1d46-4cd5-a6f2-88b28c949679",
   "metadata": {},
   "outputs": [],
   "source": [
    "train_ds = AutoEvalCNNDataset(train_imgs, train_labels, idx2error, train_transform)\n",
    "val_ds = AutoEvalCNNDataset(val_imgs, val_labels, idx2error, val_transform)\n",
    "test_ds = AutoEvalCNNDataset(test_imgs, test_labels, idx2error, val_transform)"
   ]
  },
  {
   "cell_type": "markdown",
   "id": "76fc1ed7-97d0-42a6-a840-4edca21f3109",
   "metadata": {},
   "source": [
    "Dataloader"
   ]
  },
  {
   "cell_type": "code",
   "execution_count": 56,
   "id": "ddec91b7-8064-4bad-95fa-658b66e8ade2",
   "metadata": {},
   "outputs": [],
   "source": [
    "# setting batch size for Dataloader to load the data batch by batch\n",
    "batch_size = 32\n",
    "train_loader = DataLoader(train_ds, batch_size, shuffle=True)\n",
    "val_loader = DataLoader(val_ds, batch_size)\n",
    "test_loader = DataLoader(test_ds, 1, shuffle=False)"
   ]
  },
  {
   "cell_type": "markdown",
   "id": "44b6e71b-d3a2-4a4a-abff-66ceb69108ab",
   "metadata": {
    "jp-MarkdownHeadingCollapsed": true
   },
   "source": [
    "# Кореляция классов"
   ]
  },
  {
   "cell_type": "code",
   "execution_count": 20,
   "id": "49aea27a-ac80-4351-a7e5-c9a46fe127fe",
   "metadata": {},
   "outputs": [],
   "source": [
    "def encode_label_list(labels:list, class_count:int)->np.ndarray:\n",
    "    all_encodings = []\n",
    "    for lls in labels:\n",
    "        all_encodings.append(encode_label(lls, class_count).numpy())\n",
    "    return np.array(all_encodings)\n",
    "\n",
    "def show_corrs_img(corr_mat:np.ndarray, idx2error:dict):\n",
    "    ticks_idx = np.arange(corr_mat.shape[0])\n",
    "    error_names = [f\"{idx2error[i]}({i})\" for i in ticks_idx]\n",
    "    plt.figure(figsize=(12, 12))\n",
    "    plt.imshow(corr_mat)\n",
    "    plt.xticks(ticks_idx,ticks_idx)\n",
    "    plt.yticks(ticks_idx,error_names)\n",
    "    for y in ticks_idx:\n",
    "        for x in ticks_idx:\n",
    "            if abs(corr_mat[y, x]) >= 0.2:\n",
    "                plt.text(x, y, str(corr_mat[y, x]),\n",
    "                         horizontalalignment='center',\n",
    "                         verticalalignment='center',\n",
    "                         )\n",
    "    plt.title(\"Матрица корреляционных коэффициентов\")\n",
    "    plt.show()"
   ]
  },
  {
   "cell_type": "code",
   "execution_count": 46,
   "id": "e463451d-dd6d-4053-8947-43b5dd15509d",
   "metadata": {},
   "outputs": [
    {
     "data": {
      "image/png": "[encoded data removed]",
      "text/plain": [
       "<Figure size 1200x1200 with 1 Axes>"
      ]
     },
     "metadata": {},
     "output_type": "display_data"
    }
   ],
   "source": [
    "total_labels = train_labels + test_labels + val_labels\n",
    "all_ar_labels = encode_label_list(total_labels, len(idx2error))\n",
    "total_corrs = np.corrcoef(all_ar_labels, rowvar=False).round(2)\n",
    "total_corrs = np.nan_to_num(total_corrs)\n",
    "show_corrs_img(total_corrs, idx2error)"
   ]
  },
  {
   "cell_type": "code",
   "execution_count": 53,
   "id": "deb64641-a14b-4d03-bb76-063f4d5b594b",
   "metadata": {},
   "outputs": [
    {
     "name": "stdout",
     "output_type": "stream",
     "text": [
      "Классы обучения==================================================\n",
      "                                     Имя класса  Кол-во | Доля  \n",
      "                                     нет ошибок:    146 | 0.695 \n",
      "                                 наклон корпуса:     15 | 0.071 \n",
      "                                короткая стойка:      4 | 0.019 \n",
      "                                  вес на задней:      7 | 0.033 \n",
      "                             касание, нет упора:      8 | 0.038 \n",
      "                                  подтаскивание:      4 | 0.019 \n",
      "                                стопа в воздухе:      2 | 0.01  \n",
      "                        стопы не доворачиваются:      4 | 0.019 \n",
      "                                 повышение таза:      3 | 0.014 \n",
      "                        стопы направлены внутрь:      8 | 0.038 \n",
      "                             ноги распрямляются:      1 | 0.005 \n",
      "                           пятки на одной линии:      2 | 0.01  \n",
      "                                  перепрыгивает:      1 | 0.005 \n",
      "                              подтащил переднюю:      3 | 0.014 \n",
      "                                 недоворот таза:      3 | 0.014 \n",
      "                    ось вращения в центре стопы:      1 | 0.005 \n",
      "                            движение из падения:      1 | 0.005 \n",
      "   задняя стопа пересекает прямую между стопами:      7 | 0.033 \n",
      "                          сгибается задняя нога:      7 | 0.033 \n",
      "                          колени смотрят внутрь:      1 | 0.005 \n",
      "                       завалено переднее колено:      2 | 0.01  \n",
      "передняя пятка смещается назад, а должна вперед:      1 | 0.005 \n",
      "                      задняя нога распрямляется:      1 | 0.005 \n",
      "\n",
      "Классы валидации==================================================\n",
      "                                     Имя класса  Кол-во | Доля  \n",
      "                                     нет ошибок:     22 | 0.647 \n",
      "                                 наклон корпуса:      3 | 0.088 \n",
      "                                короткая стойка:      1 | 0.029 \n",
      "                                  вес на задней:      2 | 0.059 \n",
      "                             касание, нет упора:      2 | 0.059 \n",
      "                                  подтаскивание:      1 | 0.029 \n",
      "                                стопа в воздухе:      0 | 0.0   \n",
      "                        стопы не доворачиваются:      1 | 0.029 \n",
      "                                 повышение таза:      0 | 0.0   \n",
      "                        стопы направлены внутрь:      1 | 0.029 \n",
      "                             ноги распрямляются:      0 | 0.0   \n",
      "                           пятки на одной линии:      0 | 0.0   \n",
      "                                  перепрыгивает:      0 | 0.0   \n",
      "                              подтащил переднюю:      0 | 0.0   \n",
      "                                 недоворот таза:      0 | 0.0   \n",
      "                    ось вращения в центре стопы:      0 | 0.0   \n",
      "                            движение из падения:      0 | 0.0   \n",
      "   задняя стопа пересекает прямую между стопами:      1 | 0.029 \n",
      "                          сгибается задняя нога:      1 | 0.029 \n",
      "                          колени смотрят внутрь:      0 | 0.0   \n",
      "                       завалено переднее колено:      0 | 0.0   \n",
      "передняя пятка смещается назад, а должна вперед:      1 | 0.029 \n",
      "                      задняя нога распрямляется:      0 | 0.0   \n",
      "\n",
      "Классы тестирования==================================================\n",
      "                                     Имя класса  Кол-во | Доля  \n",
      "                                     нет ошибок:     41 | 0.759 \n",
      "                                 наклон корпуса:      3 | 0.056 \n",
      "                                короткая стойка:      1 | 0.019 \n",
      "                                  вес на задней:      2 | 0.037 \n",
      "                             касание, нет упора:      2 | 0.037 \n",
      "                                  подтаскивание:      1 | 0.019 \n",
      "                                стопа в воздухе:      1 | 0.019 \n",
      "                        стопы не доворачиваются:      1 | 0.019 \n",
      "                                 повышение таза:      0 | 0.0   \n",
      "                        стопы направлены внутрь:      1 | 0.019 \n",
      "                             ноги распрямляются:      0 | 0.0   \n",
      "                           пятки на одной линии:      0 | 0.0   \n",
      "                                  перепрыгивает:      0 | 0.0   \n",
      "                              подтащил переднюю:      1 | 0.019 \n",
      "                                 недоворот таза:      1 | 0.019 \n",
      "                    ось вращения в центре стопы:      0 | 0.0   \n",
      "                            движение из падения:      0 | 0.0   \n",
      "   задняя стопа пересекает прямую между стопами:      1 | 0.019 \n",
      "                          сгибается задняя нога:      0 | 0.0   \n",
      "                          колени смотрят внутрь:      0 | 0.0   \n",
      "                       завалено переднее колено:      0 | 0.0   \n",
      "передняя пятка смещается назад, а должна вперед:      1 | 0.019 \n",
      "                      задняя нога распрямляется:      0 | 0.0   \n"
     ]
    }
   ],
   "source": [
    "tr_ar_labels = encode_label_list(train_labels, len(idx2error))\n",
    "te_ar_labels = encode_label_list(test_labels, len(idx2error))\n",
    "va_ar_labels = encode_label_list(val_labels, len(idx2error))\n",
    "\n",
    "def print_class_counts(arr_labels:np.ndarray, title:str, idx2error:dict):\n",
    "    total_samples = arr_labels.shape[0]\n",
    "    col0_width = max([len(idx2error[k]) for k in idx2error])\n",
    "    print(title+\"=\"*50)    \n",
    "    print(\"{}  {:>6} | {:<6}\".format(\"Имя класса\".rjust(col0_width), \"Кол-во\", \"Доля\"))\n",
    "    for class_idx in range(arr_labels.shape[1]):\n",
    "        class_name = idx2error[class_idx]\n",
    "        class_count = int(arr_labels[:, class_idx].sum())\n",
    "        percent = round(class_count / total_samples, 3)\n",
    "        print(f\"{class_name.rjust(col0_width)}: {class_count:>6} | {percent:<6}\")\n",
    "\n",
    "print_class_counts(tr_ar_labels, \"Классы обучения\", idx2error)\n",
    "print()\n",
    "print_class_counts(va_ar_labels, \"Классы валидации\", idx2error)\n",
    "print()\n",
    "print_class_counts(te_ar_labels, \"Классы тестирования\", idx2error)"
   ]
  },
  {
   "cell_type": "code",
   "execution_count": 118,
   "id": "4273b880-1b7a-463e-a0b2-aa43acaae593",
   "metadata": {},
   "outputs": [
    {
     "name": "stdout",
     "output_type": "stream",
     "text": [
      "Суммарная статистика==================================================\n",
      "                                     Имя класса  Кол-во | Доля  \n",
      "                                     нет ошибок:    209 | 0.706 \n",
      "                                 наклон корпуса:     21 | 0.071 \n",
      "                                короткая стойка:      6 | 0.02  \n",
      "                                  вес на задней:     10 | 0.034 \n",
      "                             касание, нет упора:     12 | 0.041 \n",
      "                                  подтаскивание:      6 | 0.02  \n",
      "                                стопа в воздухе:      3 | 0.01  \n",
      "                        стопы не доворачиваются:      6 | 0.02  \n",
      "                                 повышение таза:      3 | 0.01  \n",
      "                        стопы направлены внутрь:      9 | 0.03  \n",
      "                             ноги распрямляются:      1 | 0.003 \n",
      "                           пятки на одной линии:      2 | 0.007 \n",
      "                                  перепрыгивает:      1 | 0.003 \n",
      "                              подтащил переднюю:      4 | 0.014 \n",
      "                                 недоворот таза:      4 | 0.014 \n",
      "                    ось вращения в центре стопы:      1 | 0.003 \n",
      "                            движение из падения:      1 | 0.003 \n",
      "   задняя стопа пересекает прямую между стопами:      8 | 0.027 \n",
      "                          сгибается задняя нога:      8 | 0.027 \n",
      "                          колени смотрят внутрь:      1 | 0.003 \n",
      "                       завалено переднее колено:      2 | 0.007 \n",
      "передняя пятка смещается назад, а должна вперед:      2 | 0.007 \n",
      "                      задняя нога распрямляется:      1 | 0.003 \n"
     ]
    }
   ],
   "source": [
    "print_class_counts(all_ar_labels, \"Суммарная статистика\", idx2error)"
   ]
  },
  {
   "cell_type": "markdown",
   "id": "4fc5f99a-7be9-4768-84d0-307a99633c8d",
   "metadata": {},
   "source": [
    "# Training"
   ]
  },
  {
   "cell_type": "code",
   "execution_count": 20,
   "id": "837f09ac-b7e1-48cc-b25a-2d987da9b84f",
   "metadata": {},
   "outputs": [],
   "source": [
    "def F_score(output, label, threshold=0.5, beta=1): #Calculate the accuracy of the model\n",
    "    prob = output > threshold\n",
    "    label = label > threshold\n",
    "\n",
    "    TP = (prob & label).sum(1).float()\n",
    "    TN = ((~prob) & (~label)).sum(1).float()\n",
    "    FP = (prob & (~label)).sum(1).float()\n",
    "    FN = ((~prob) & label).sum(1).float()\n",
    "\n",
    "    precision = torch.mean(TP / (TP + FP + 1e-12))\n",
    "    recall = torch.mean(TP / (TP + FN + 1e-12))\n",
    "    F2 = (1 + beta**2) * precision * recall / (beta**2 * precision + recall + 1e-12)\n",
    "    return F2.mean(0)\n",
    "\n",
    "class MultilabelImageClassificationBase(torch.nn.Module):\n",
    "    def training_step(self, batch):\n",
    "        images, targets = batch \n",
    "        out = self(images)                            # Generate predictions\n",
    "        loss = F.binary_cross_entropy(out, targets)   # Calculate loss\n",
    "        return loss    \n",
    "\n",
    "    def validation_step(self, batch):\n",
    "        images, targets = batch \n",
    "        out = self(images)                           # Generate predictions\n",
    "        loss = F.binary_cross_entropy(out, targets)  # Calculate loss\n",
    "        score = F_score(out, targets)                # Calculate accuracy\n",
    "        return {'val_loss': loss.detach(), 'val_score': score.detach() }\n",
    "\n",
    "    def validation_epoch_end(self, outputs):\n",
    "        batch_losses = [x['val_loss'] for x in outputs]\n",
    "        epoch_loss = torch.stack(batch_losses).mean()       # Combine losses and get the mean value\n",
    "        batch_scores = [x['val_score'] for x in outputs]    \n",
    "        epoch_score = torch.stack(batch_scores).mean()      # Combine accuracies and get the mean value\n",
    "        return {'val_loss': epoch_loss.item(), 'val_score': epoch_score.item()}    \n",
    "\n",
    "    def epoch_end(self, epoch, result):                     # display the losses\n",
    "        # print(\"Epoch [{}], last_lr: {:.4f}, train_loss: {:.4f}, val_loss: {:.4f}, val_score: {:.4f}\".format(\n",
    "        #     epoch, result['lrs'][-1], result['train_loss'], result['val_loss'], result['val_score']))\n",
    "        print(\"Epoch [{}], train_loss: {:.4f}, val_loss: {:.4f}, val_score: {:.4f}\".format(\n",
    "            epoch, result['train_loss'], result['val_loss'], result['val_score']))"
   ]
  },
  {
   "cell_type": "code",
   "execution_count": 57,
   "id": "34aa27bc-c639-4f18-ae63-e5808b68e978",
   "metadata": {},
   "outputs": [
    {
     "name": "stdout",
     "output_type": "stream",
     "text": [
      "cuda\n"
     ]
    }
   ],
   "source": [
    "def to_device(data, device):\n",
    "    \"\"\"Move tensor(s) to chosen device\"\"\"\n",
    "    if isinstance(data, (list,tuple)):\n",
    "        return [to_device(x, device) for x in data]\n",
    "    return data.to(device, non_blocking=True)\n",
    "\n",
    "class DeviceDataLoader():  \n",
    "    \"\"\"Wrap a dataloader to move data to a device\"\"\"\n",
    "    def __init__(self, dl, device):\n",
    "        self.dl = dl\n",
    "        self.device = device       \n",
    "\n",
    "    def __iter__(self):\n",
    "        \"\"\"Yield a batch of data after moving it to device\"\"\"\n",
    "        for b in self.dl: \n",
    "            yield to_device(b, self.device)\n",
    "\n",
    "    def __len__(self):\n",
    "        \"\"\"Number of batches\"\"\"\n",
    "        return len(self.dl)\n",
    "\n",
    "device = torch.device('cuda') if torch.cuda.is_available() else torch.device('cpu')\n",
    "print(device)\n",
    "\n",
    "train_dl = DeviceDataLoader(train_loader, device)\n",
    "val_dl = DeviceDataLoader(val_loader, device)"
   ]
  },
  {
   "cell_type": "code",
   "execution_count": 22,
   "id": "a46a2002-58ed-431b-b1e0-342d113c6bcc",
   "metadata": {},
   "outputs": [],
   "source": [
    "@torch.no_grad()\n",
    "def evaluate(model, val_loader):\n",
    "    model.eval()\n",
    "    outputs = [model.validation_step(batch) for batch in val_loader]\n",
    "    return model.validation_epoch_end(outputs)\n",
    "\n",
    "def fit(epochs, lr, model, train_loader, val_loader, opt_func=torch.optim.SGD):\n",
    "    history = []\n",
    "    optimizer = opt_func(model.parameters(), lr)\n",
    "    for epoch in range(epochs):\n",
    "        # Training Phase\n",
    "        model.train()\n",
    "        train_losses = []\n",
    "        for batch in tqdm(train_loader):\n",
    "            loss = model.training_step(batch)\n",
    "            train_losses.append(loss)\n",
    "            loss.backward()\n",
    "            optimizer.step()\n",
    "            optimizer.zero_grad()\n",
    "        # Validation phase\n",
    "        result = evaluate(model, val_loader)\n",
    "        result['train_loss'] = torch.stack(train_losses).mean().item()\n",
    "        model.epoch_end(epoch, result)\n",
    "        history.append(result)\n",
    "    return history\n",
    "\n",
    "def get_lr(optimizer):\n",
    "    for param_group in optimizer.param_groups:\n",
    "        return param_group['lr']\n"
   ]
  },
  {
   "cell_type": "code",
   "execution_count": 64,
   "id": "0bce190e-f1b3-41ee-a748-ae0f57940531",
   "metadata": {
    "scrolled": true
   },
   "outputs": [],
   "source": [
    "# just using baseline\n",
    "class ResNetWrapper(MultilabelImageClassificationBase):\n",
    "    def __init__(self, num_classes, num_channels=3):\n",
    "        super().__init__()     \n",
    "        self.model = models.resnet50()\n",
    "        self.model.conv1 = torch.nn.Conv2d(num_channels, 64, kernel_size=(3, 3), bias=False)#kernel_size=(7, 7), stride=(2, 2), padding=(3, 3), bias=False)\n",
    "        infeats = self.model.fc.in_features\n",
    "        self.model.fc = torch.nn.Sequential(\n",
    "            #torch.nn.Dropout(0.2),\n",
    "            torch.nn.Linear(infeats, infeats//2),\n",
    "            torch.nn.ReLU(),\n",
    "            torch.nn.Linear(infeats//2, num_classes)\n",
    "        )\n",
    "        self.sigmoid = torch.nn.Sigmoid()\n",
    "\n",
    "    def forward(self, xb):\n",
    "        tmp_x = self.model(xb)\n",
    "        return self.sigmoid(tmp_x)"
   ]
  },
  {
   "cell_type": "code",
   "execution_count": 65,
   "id": "ba65161b-8993-4f85-b25c-744acd9e7ed4",
   "metadata": {
    "scrolled": true
   },
   "outputs": [],
   "source": [
    "model = to_device(ResNetWrapper(len(idx2error), CHANNELS), device)"
   ]
  },
  {
   "cell_type": "markdown",
   "id": "9eaebcb4-ad1d-4265-87cc-98bcbf3b6f4f",
   "metadata": {},
   "source": [
    "Checking"
   ]
  },
  {
   "cell_type": "code",
   "execution_count": 162,
   "id": "c8008415-f17d-4d77-b5f9-2d3407bfdb50",
   "metadata": {},
   "outputs": [
    {
     "name": "stdout",
     "output_type": "stream",
     "text": [
      "torch.Size([32, 3, 26, 192])\n",
      "outputs.shape :  torch.Size([32, 23])\n",
      "Sample outputs :\n",
      " tensor([[0.5631, 0.6463, 0.4864, 0.5605, 0.5991, 0.5132, 0.4605, 0.5172, 0.5120,\n",
      "         0.4140, 0.6112, 0.5523, 0.4799, 0.5247, 0.5280, 0.4062, 0.4922, 0.4838,\n",
      "         0.5657, 0.5461, 0.5270, 0.4677, 0.4218],\n",
      "        [0.5786, 0.6304, 0.4226, 0.5792, 0.5793, 0.5005, 0.4644, 0.5101, 0.5164,\n",
      "         0.4280, 0.6081, 0.5385, 0.4665, 0.5796, 0.5463, 0.3807, 0.4680, 0.4756,\n",
      "         0.5741, 0.5691, 0.5396, 0.4790, 0.4278]], device='cuda:0')\n",
      "[{'val_loss': 0.6960353851318359, 'val_score': 0.13156896829605103}]\n"
     ]
    }
   ],
   "source": [
    "#checking the shape of outputs that the model will produce before starting the training process\n",
    "for images, labels in train_dl:\n",
    "    print(images.shape)\n",
    "    outputs = model(images)\n",
    "    break\n",
    "\n",
    "print('outputs.shape : ', outputs.shape)\n",
    "print('Sample outputs :\\n', outputs[:2].data)\n",
    "history = [evaluate(model, val_dl)]\n",
    "print(history)"
   ]
  },
  {
   "cell_type": "code",
   "execution_count": 66,
   "id": "c688ecde-2242-4394-b89e-0e56533979af",
   "metadata": {},
   "outputs": [],
   "source": [
    "epochs = 100\n",
    "lr = 0.001\n",
    "grad_clip = 0.1\n",
    "weight_decay = 1e-4\n",
    "opt_func = torch.optim.Adam"
   ]
  },
  {
   "cell_type": "code",
   "execution_count": 67,
   "id": "6102e6e8-e216-4af7-b806-9a3e06ee4553",
   "metadata": {
    "scrolled": true
   },
   "outputs": [
    {
     "name": "stderr",
     "output_type": "stream",
     "text": [
      "100%|████████████████████████████████████████████████████████████████████████████████████| 7/7 [00:00<00:00, 10.54it/s]\n"
     ]
    },
    {
     "name": "stdout",
     "output_type": "stream",
     "text": [
      "Epoch [0], train_loss: 0.2390, val_loss: 0.1390, val_score: 0.8125\n"
     ]
    },
    {
     "name": "stderr",
     "output_type": "stream",
     "text": [
      "100%|████████████████████████████████████████████████████████████████████████████████████| 7/7 [00:00<00:00, 16.98it/s]\n"
     ]
    },
    {
     "name": "stdout",
     "output_type": "stream",
     "text": [
      "Epoch [1], train_loss: 0.1187, val_loss: 0.1028, val_score: 0.8125\n"
     ]
    },
    {
     "name": "stderr",
     "output_type": "stream",
     "text": [
      "100%|████████████████████████████████████████████████████████████████████████████████████| 7/7 [00:00<00:00, 16.99it/s]\n"
     ]
    },
    {
     "name": "stdout",
     "output_type": "stream",
     "text": [
      "Epoch [2], train_loss: 0.1177, val_loss: 0.0777, val_score: 0.8125\n"
     ]
    },
    {
     "name": "stderr",
     "output_type": "stream",
     "text": [
      "100%|████████████████████████████████████████████████████████████████████████████████████| 7/7 [00:00<00:00, 16.53it/s]\n"
     ]
    },
    {
     "name": "stdout",
     "output_type": "stream",
     "text": [
      "Epoch [3], train_loss: 0.1045, val_loss: 0.0943, val_score: 0.5000\n"
     ]
    },
    {
     "name": "stderr",
     "output_type": "stream",
     "text": [
      "100%|████████████████████████████████████████████████████████████████████████████████████| 7/7 [00:00<00:00, 17.50it/s]\n"
     ]
    },
    {
     "name": "stdout",
     "output_type": "stream",
     "text": [
      "Epoch [4], train_loss: 0.0906, val_loss: 0.0892, val_score: 0.4844\n"
     ]
    },
    {
     "name": "stderr",
     "output_type": "stream",
     "text": [
      "100%|████████████████████████████████████████████████████████████████████████████████████| 7/7 [00:00<00:00, 17.07it/s]\n"
     ]
    },
    {
     "name": "stdout",
     "output_type": "stream",
     "text": [
      "Epoch [5], train_loss: 0.0945, val_loss: 0.1031, val_score: 0.3906\n"
     ]
    },
    {
     "name": "stderr",
     "output_type": "stream",
     "text": [
      "100%|████████████████████████████████████████████████████████████████████████████████████| 7/7 [00:00<00:00, 17.64it/s]\n"
     ]
    },
    {
     "name": "stdout",
     "output_type": "stream",
     "text": [
      "Epoch [6], train_loss: 0.0960, val_loss: 0.1736, val_score: 0.5156\n"
     ]
    },
    {
     "name": "stderr",
     "output_type": "stream",
     "text": [
      "100%|████████████████████████████████████████████████████████████████████████████████████| 7/7 [00:00<00:00, 16.94it/s]\n"
     ]
    },
    {
     "name": "stdout",
     "output_type": "stream",
     "text": [
      "Epoch [7], train_loss: 0.0950, val_loss: 0.0967, val_score: 0.7969\n"
     ]
    },
    {
     "name": "stderr",
     "output_type": "stream",
     "text": [
      "100%|████████████████████████████████████████████████████████████████████████████████████| 7/7 [00:00<00:00, 16.72it/s]\n"
     ]
    },
    {
     "name": "stdout",
     "output_type": "stream",
     "text": [
      "Epoch [8], train_loss: 0.0900, val_loss: 0.1865, val_score: 0.8125\n"
     ]
    },
    {
     "name": "stderr",
     "output_type": "stream",
     "text": [
      "100%|████████████████████████████████████████████████████████████████████████████████████| 7/7 [00:00<00:00, 17.39it/s]\n"
     ]
    },
    {
     "name": "stdout",
     "output_type": "stream",
     "text": [
      "Epoch [9], train_loss: 0.0888, val_loss: 0.1647, val_score: 0.8125\n"
     ]
    },
    {
     "name": "stderr",
     "output_type": "stream",
     "text": [
      "100%|████████████████████████████████████████████████████████████████████████████████████| 7/7 [00:00<00:00, 17.48it/s]\n"
     ]
    },
    {
     "name": "stdout",
     "output_type": "stream",
     "text": [
      "Epoch [10], train_loss: 0.0749, val_loss: 0.0703, val_score: 0.7812\n"
     ]
    },
    {
     "name": "stderr",
     "output_type": "stream",
     "text": [
      "100%|████████████████████████████████████████████████████████████████████████████████████| 7/7 [00:00<00:00, 17.32it/s]\n"
     ]
    },
    {
     "name": "stdout",
     "output_type": "stream",
     "text": [
      "Epoch [11], train_loss: 0.0791, val_loss: 0.0748, val_score: 0.5156\n"
     ]
    },
    {
     "name": "stderr",
     "output_type": "stream",
     "text": [
      "100%|████████████████████████████████████████████████████████████████████████████████████| 7/7 [00:00<00:00, 17.04it/s]\n"
     ]
    },
    {
     "name": "stdout",
     "output_type": "stream",
     "text": [
      "Epoch [12], train_loss: 0.0786, val_loss: 0.0683, val_score: 0.5312\n"
     ]
    },
    {
     "name": "stderr",
     "output_type": "stream",
     "text": [
      "100%|████████████████████████████████████████████████████████████████████████████████████| 7/7 [00:00<00:00, 16.32it/s]\n"
     ]
    },
    {
     "name": "stdout",
     "output_type": "stream",
     "text": [
      "Epoch [13], train_loss: 0.0800, val_loss: 0.1423, val_score: 0.5312\n"
     ]
    },
    {
     "name": "stderr",
     "output_type": "stream",
     "text": [
      "100%|████████████████████████████████████████████████████████████████████████████████████| 7/7 [00:00<00:00, 17.05it/s]\n"
     ]
    },
    {
     "name": "stdout",
     "output_type": "stream",
     "text": [
      "Epoch [14], train_loss: 0.0742, val_loss: 0.1092, val_score: 0.8125\n"
     ]
    },
    {
     "name": "stderr",
     "output_type": "stream",
     "text": [
      "100%|████████████████████████████████████████████████████████████████████████████████████| 7/7 [00:00<00:00, 16.63it/s]\n"
     ]
    },
    {
     "name": "stdout",
     "output_type": "stream",
     "text": [
      "Epoch [15], train_loss: 0.0701, val_loss: 0.1485, val_score: 0.8125\n"
     ]
    },
    {
     "name": "stderr",
     "output_type": "stream",
     "text": [
      "100%|████████████████████████████████████████████████████████████████████████████████████| 7/7 [00:00<00:00, 16.23it/s]\n"
     ]
    },
    {
     "name": "stdout",
     "output_type": "stream",
     "text": [
      "Epoch [16], train_loss: 0.0724, val_loss: 0.1293, val_score: 0.5000\n"
     ]
    },
    {
     "name": "stderr",
     "output_type": "stream",
     "text": [
      "100%|████████████████████████████████████████████████████████████████████████████████████| 7/7 [00:00<00:00, 17.34it/s]\n"
     ]
    },
    {
     "name": "stdout",
     "output_type": "stream",
     "text": [
      "Epoch [17], train_loss: 0.0672, val_loss: 0.0680, val_score: 0.5469\n"
     ]
    },
    {
     "name": "stderr",
     "output_type": "stream",
     "text": [
      "100%|████████████████████████████████████████████████████████████████████████████████████| 7/7 [00:00<00:00, 16.98it/s]\n"
     ]
    },
    {
     "name": "stdout",
     "output_type": "stream",
     "text": [
      "Epoch [18], train_loss: 0.0711, val_loss: 0.0647, val_score: 0.7656\n"
     ]
    },
    {
     "name": "stderr",
     "output_type": "stream",
     "text": [
      "100%|████████████████████████████████████████████████████████████████████████████████████| 7/7 [00:00<00:00, 17.65it/s]\n"
     ]
    },
    {
     "name": "stdout",
     "output_type": "stream",
     "text": [
      "Epoch [19], train_loss: 0.0670, val_loss: 0.0563, val_score: 0.7500\n"
     ]
    },
    {
     "name": "stderr",
     "output_type": "stream",
     "text": [
      "100%|████████████████████████████████████████████████████████████████████████████████████| 7/7 [00:00<00:00, 17.60it/s]\n"
     ]
    },
    {
     "name": "stdout",
     "output_type": "stream",
     "text": [
      "Epoch [20], train_loss: 0.0811, val_loss: 0.1103, val_score: 0.4375\n"
     ]
    },
    {
     "name": "stderr",
     "output_type": "stream",
     "text": [
      "100%|████████████████████████████████████████████████████████████████████████████████████| 7/7 [00:00<00:00, 16.94it/s]\n"
     ]
    },
    {
     "name": "stdout",
     "output_type": "stream",
     "text": [
      "Epoch [21], train_loss: 0.0759, val_loss: 0.1993, val_score: 0.4844\n"
     ]
    },
    {
     "name": "stderr",
     "output_type": "stream",
     "text": [
      "100%|████████████████████████████████████████████████████████████████████████████████████| 7/7 [00:00<00:00, 17.56it/s]\n"
     ]
    },
    {
     "name": "stdout",
     "output_type": "stream",
     "text": [
      "Epoch [22], train_loss: 0.0716, val_loss: 0.1440, val_score: 0.7969\n"
     ]
    },
    {
     "name": "stderr",
     "output_type": "stream",
     "text": [
      "100%|████████████████████████████████████████████████████████████████████████████████████| 7/7 [00:00<00:00, 17.46it/s]\n"
     ]
    },
    {
     "name": "stdout",
     "output_type": "stream",
     "text": [
      "Epoch [23], train_loss: 0.0608, val_loss: 0.0683, val_score: 0.5156\n"
     ]
    },
    {
     "name": "stderr",
     "output_type": "stream",
     "text": [
      "100%|████████████████████████████████████████████████████████████████████████████████████| 7/7 [00:00<00:00, 16.92it/s]\n"
     ]
    },
    {
     "name": "stdout",
     "output_type": "stream",
     "text": [
      "Epoch [24], train_loss: 0.0800, val_loss: 0.1480, val_score: 0.5738\n"
     ]
    },
    {
     "name": "stderr",
     "output_type": "stream",
     "text": [
      "100%|████████████████████████████████████████████████████████████████████████████████████| 7/7 [00:00<00:00, 16.79it/s]\n"
     ]
    },
    {
     "name": "stdout",
     "output_type": "stream",
     "text": [
      "Epoch [25], train_loss: 0.0568, val_loss: 0.1013, val_score: 0.5273\n"
     ]
    },
    {
     "name": "stderr",
     "output_type": "stream",
     "text": [
      "100%|████████████████████████████████████████████████████████████████████████████████████| 7/7 [00:00<00:00, 17.22it/s]\n"
     ]
    },
    {
     "name": "stdout",
     "output_type": "stream",
     "text": [
      "Epoch [26], train_loss: 0.0589, val_loss: 0.1378, val_score: 0.5273\n"
     ]
    },
    {
     "name": "stderr",
     "output_type": "stream",
     "text": [
      "100%|████████████████████████████████████████████████████████████████████████████████████| 7/7 [00:00<00:00, 17.46it/s]\n"
     ]
    },
    {
     "name": "stdout",
     "output_type": "stream",
     "text": [
      "Epoch [27], train_loss: 0.0632, val_loss: 0.1608, val_score: 0.5156\n"
     ]
    },
    {
     "name": "stderr",
     "output_type": "stream",
     "text": [
      "100%|████████████████████████████████████████████████████████████████████████████████████| 7/7 [00:00<00:00, 17.41it/s]\n"
     ]
    },
    {
     "name": "stdout",
     "output_type": "stream",
     "text": [
      "Epoch [28], train_loss: 0.0639, val_loss: 0.1130, val_score: 0.5625\n"
     ]
    },
    {
     "name": "stderr",
     "output_type": "stream",
     "text": [
      "100%|████████████████████████████████████████████████████████████████████████████████████| 7/7 [00:00<00:00, 17.65it/s]\n"
     ]
    },
    {
     "name": "stdout",
     "output_type": "stream",
     "text": [
      "Epoch [29], train_loss: 0.0651, val_loss: 0.0914, val_score: 0.8125\n"
     ]
    },
    {
     "name": "stderr",
     "output_type": "stream",
     "text": [
      "100%|████████████████████████████████████████████████████████████████████████████████████| 7/7 [00:00<00:00, 16.94it/s]\n"
     ]
    },
    {
     "name": "stdout",
     "output_type": "stream",
     "text": [
      "Epoch [30], train_loss: 0.0656, val_loss: 0.0656, val_score: 0.5469\n"
     ]
    },
    {
     "name": "stderr",
     "output_type": "stream",
     "text": [
      "100%|████████████████████████████████████████████████████████████████████████████████████| 7/7 [00:00<00:00, 16.89it/s]\n"
     ]
    },
    {
     "name": "stdout",
     "output_type": "stream",
     "text": [
      "Epoch [31], train_loss: 0.0605, val_loss: 0.0976, val_score: 0.5585\n"
     ]
    },
    {
     "name": "stderr",
     "output_type": "stream",
     "text": [
      "100%|████████████████████████████████████████████████████████████████████████████████████| 7/7 [00:00<00:00, 16.38it/s]\n"
     ]
    },
    {
     "name": "stdout",
     "output_type": "stream",
     "text": [
      "Epoch [32], train_loss: 0.0524, val_loss: 0.0973, val_score: 0.5232\n"
     ]
    },
    {
     "name": "stderr",
     "output_type": "stream",
     "text": [
      "100%|████████████████████████████████████████████████████████████████████████████████████| 7/7 [00:00<00:00, 16.44it/s]\n"
     ]
    },
    {
     "name": "stdout",
     "output_type": "stream",
     "text": [
      "Epoch [33], train_loss: 0.0529, val_loss: 0.1475, val_score: 0.5469\n"
     ]
    },
    {
     "name": "stderr",
     "output_type": "stream",
     "text": [
      "100%|████████████████████████████████████████████████████████████████████████████████████| 7/7 [00:00<00:00, 17.02it/s]\n"
     ]
    },
    {
     "name": "stdout",
     "output_type": "stream",
     "text": [
      "Epoch [34], train_loss: 0.0469, val_loss: 0.1696, val_score: 0.5391\n"
     ]
    },
    {
     "name": "stderr",
     "output_type": "stream",
     "text": [
      "100%|████████████████████████████████████████████████████████████████████████████████████| 7/7 [00:00<00:00, 15.95it/s]\n"
     ]
    },
    {
     "name": "stdout",
     "output_type": "stream",
     "text": [
      "Epoch [35], train_loss: 0.0414, val_loss: 0.1725, val_score: 0.5545\n"
     ]
    },
    {
     "name": "stderr",
     "output_type": "stream",
     "text": [
      "100%|████████████████████████████████████████████████████████████████████████████████████| 7/7 [00:00<00:00, 15.95it/s]\n"
     ]
    },
    {
     "name": "stdout",
     "output_type": "stream",
     "text": [
      "Epoch [36], train_loss: 0.0793, val_loss: 0.1915, val_score: 0.5742\n"
     ]
    },
    {
     "name": "stderr",
     "output_type": "stream",
     "text": [
      "100%|████████████████████████████████████████████████████████████████████████████████████| 7/7 [00:00<00:00, 16.19it/s]\n"
     ]
    },
    {
     "name": "stdout",
     "output_type": "stream",
     "text": [
      "Epoch [37], train_loss: 0.0454, val_loss: 0.1855, val_score: 0.5351\n"
     ]
    },
    {
     "name": "stderr",
     "output_type": "stream",
     "text": [
      "100%|████████████████████████████████████████████████████████████████████████████████████| 7/7 [00:00<00:00, 16.69it/s]\n"
     ]
    },
    {
     "name": "stdout",
     "output_type": "stream",
     "text": [
      "Epoch [38], train_loss: 0.0483, val_loss: 0.0707, val_score: 0.8085\n"
     ]
    },
    {
     "name": "stderr",
     "output_type": "stream",
     "text": [
      "100%|████████████████████████████████████████████████████████████████████████████████████| 7/7 [00:00<00:00, 16.79it/s]\n"
     ]
    },
    {
     "name": "stdout",
     "output_type": "stream",
     "text": [
      "Epoch [39], train_loss: 0.0518, val_loss: 0.0770, val_score: 0.7263\n"
     ]
    },
    {
     "name": "stderr",
     "output_type": "stream",
     "text": [
      "100%|████████████████████████████████████████████████████████████████████████████████████| 7/7 [00:00<00:00, 16.81it/s]\n"
     ]
    },
    {
     "name": "stdout",
     "output_type": "stream",
     "text": [
      "Epoch [40], train_loss: 0.0517, val_loss: 0.2138, val_score: 0.4179\n"
     ]
    },
    {
     "name": "stderr",
     "output_type": "stream",
     "text": [
      "100%|████████████████████████████████████████████████████████████████████████████████████| 7/7 [00:00<00:00, 16.96it/s]\n"
     ]
    },
    {
     "name": "stdout",
     "output_type": "stream",
     "text": [
      "Epoch [41], train_loss: 0.0479, val_loss: 0.1061, val_score: 0.4753\n"
     ]
    },
    {
     "name": "stderr",
     "output_type": "stream",
     "text": [
      "100%|████████████████████████████████████████████████████████████████████████████████████| 7/7 [00:00<00:00, 16.97it/s]\n"
     ]
    },
    {
     "name": "stdout",
     "output_type": "stream",
     "text": [
      "Epoch [42], train_loss: 0.0443, val_loss: 0.0907, val_score: 0.8228\n"
     ]
    },
    {
     "name": "stderr",
     "output_type": "stream",
     "text": [
      "100%|████████████████████████████████████████████████████████████████████████████████████| 7/7 [00:00<00:00, 16.94it/s]\n"
     ]
    },
    {
     "name": "stdout",
     "output_type": "stream",
     "text": [
      "Epoch [43], train_loss: 0.0372, val_loss: 0.0854, val_score: 0.5572\n"
     ]
    },
    {
     "name": "stderr",
     "output_type": "stream",
     "text": [
      "100%|████████████████████████████████████████████████████████████████████████████████████| 7/7 [00:00<00:00, 17.02it/s]\n"
     ]
    },
    {
     "name": "stdout",
     "output_type": "stream",
     "text": [
      "Epoch [44], train_loss: 0.0327, val_loss: 0.1528, val_score: 0.5117\n"
     ]
    },
    {
     "name": "stderr",
     "output_type": "stream",
     "text": [
      "100%|████████████████████████████████████████████████████████████████████████████████████| 7/7 [00:00<00:00, 16.89it/s]\n"
     ]
    },
    {
     "name": "stdout",
     "output_type": "stream",
     "text": [
      "Epoch [45], train_loss: 0.0321, val_loss: 0.0993, val_score: 0.5674\n"
     ]
    },
    {
     "name": "stderr",
     "output_type": "stream",
     "text": [
      "100%|████████████████████████████████████████████████████████████████████████████████████| 7/7 [00:00<00:00, 16.61it/s]\n"
     ]
    },
    {
     "name": "stdout",
     "output_type": "stream",
     "text": [
      "Epoch [46], train_loss: 0.0308, val_loss: 0.0868, val_score: 0.5000\n"
     ]
    },
    {
     "name": "stderr",
     "output_type": "stream",
     "text": [
      "100%|████████████████████████████████████████████████████████████████████████████████████| 7/7 [00:00<00:00, 17.00it/s]\n"
     ]
    },
    {
     "name": "stdout",
     "output_type": "stream",
     "text": [
      "Epoch [47], train_loss: 0.0383, val_loss: 0.1544, val_score: 0.8281\n"
     ]
    },
    {
     "name": "stderr",
     "output_type": "stream",
     "text": [
      "100%|████████████████████████████████████████████████████████████████████████████████████| 7/7 [00:00<00:00, 17.11it/s]\n"
     ]
    },
    {
     "name": "stdout",
     "output_type": "stream",
     "text": [
      "Epoch [48], train_loss: 0.0304, val_loss: 0.2148, val_score: 0.5469\n"
     ]
    },
    {
     "name": "stderr",
     "output_type": "stream",
     "text": [
      "100%|████████████████████████████████████████████████████████████████████████████████████| 7/7 [00:00<00:00, 17.25it/s]\n"
     ]
    },
    {
     "name": "stdout",
     "output_type": "stream",
     "text": [
      "Epoch [49], train_loss: 0.0375, val_loss: 0.2302, val_score: 0.5781\n"
     ]
    },
    {
     "name": "stderr",
     "output_type": "stream",
     "text": [
      "100%|████████████████████████████████████████████████████████████████████████████████████| 7/7 [00:00<00:00, 16.80it/s]\n"
     ]
    },
    {
     "name": "stdout",
     "output_type": "stream",
     "text": [
      "Epoch [50], train_loss: 0.0339, val_loss: 0.1476, val_score: 0.5728\n"
     ]
    },
    {
     "name": "stderr",
     "output_type": "stream",
     "text": [
      "100%|████████████████████████████████████████████████████████████████████████████████████| 7/7 [00:00<00:00, 16.92it/s]\n"
     ]
    },
    {
     "name": "stdout",
     "output_type": "stream",
     "text": [
      "Epoch [51], train_loss: 0.0367, val_loss: 0.0773, val_score: 0.5429\n"
     ]
    },
    {
     "name": "stderr",
     "output_type": "stream",
     "text": [
      "100%|████████████████████████████████████████████████████████████████████████████████████| 7/7 [00:00<00:00, 17.44it/s]\n"
     ]
    },
    {
     "name": "stdout",
     "output_type": "stream",
     "text": [
      "Epoch [52], train_loss: 0.0336, val_loss: 0.1312, val_score: 0.5781\n"
     ]
    },
    {
     "name": "stderr",
     "output_type": "stream",
     "text": [
      "100%|████████████████████████████████████████████████████████████████████████████████████| 7/7 [00:00<00:00, 16.54it/s]\n"
     ]
    },
    {
     "name": "stdout",
     "output_type": "stream",
     "text": [
      "Epoch [53], train_loss: 0.0392, val_loss: 0.1030, val_score: 0.5858\n"
     ]
    },
    {
     "name": "stderr",
     "output_type": "stream",
     "text": [
      "100%|████████████████████████████████████████████████████████████████████████████████████| 7/7 [00:00<00:00, 17.46it/s]\n"
     ]
    },
    {
     "name": "stdout",
     "output_type": "stream",
     "text": [
      "Epoch [54], train_loss: 0.0401, val_loss: 0.2064, val_score: 0.5742\n"
     ]
    },
    {
     "name": "stderr",
     "output_type": "stream",
     "text": [
      "100%|████████████████████████████████████████████████████████████████████████████████████| 7/7 [00:00<00:00, 16.96it/s]\n"
     ]
    },
    {
     "name": "stdout",
     "output_type": "stream",
     "text": [
      "Epoch [55], train_loss: 0.0413, val_loss: 0.1274, val_score: 0.5232\n"
     ]
    },
    {
     "name": "stderr",
     "output_type": "stream",
     "text": [
      "100%|████████████████████████████████████████████████████████████████████████████████████| 7/7 [00:00<00:00, 17.31it/s]\n"
     ]
    },
    {
     "name": "stdout",
     "output_type": "stream",
     "text": [
      "Epoch [56], train_loss: 0.0516, val_loss: 0.1755, val_score: 0.7363\n"
     ]
    },
    {
     "name": "stderr",
     "output_type": "stream",
     "text": [
      "100%|████████████████████████████████████████████████████████████████████████████████████| 7/7 [00:00<00:00, 16.70it/s]\n"
     ]
    },
    {
     "name": "stdout",
     "output_type": "stream",
     "text": [
      "Epoch [57], train_loss: 0.0392, val_loss: 0.1576, val_score: 0.5625\n"
     ]
    },
    {
     "name": "stderr",
     "output_type": "stream",
     "text": [
      "100%|████████████████████████████████████████████████████████████████████████████████████| 7/7 [00:00<00:00, 16.93it/s]\n"
     ]
    },
    {
     "name": "stdout",
     "output_type": "stream",
     "text": [
      "Epoch [58], train_loss: 0.0395, val_loss: 0.1265, val_score: 0.5858\n"
     ]
    },
    {
     "name": "stderr",
     "output_type": "stream",
     "text": [
      "100%|████████████████████████████████████████████████████████████████████████████████████| 7/7 [00:00<00:00, 17.16it/s]\n"
     ]
    },
    {
     "name": "stdout",
     "output_type": "stream",
     "text": [
      "Epoch [59], train_loss: 0.0304, val_loss: 0.0523, val_score: 0.8281\n"
     ]
    },
    {
     "name": "stderr",
     "output_type": "stream",
     "text": [
      "100%|████████████████████████████████████████████████████████████████████████████████████| 7/7 [00:00<00:00, 17.19it/s]\n"
     ]
    },
    {
     "name": "stdout",
     "output_type": "stream",
     "text": [
      "Epoch [60], train_loss: 0.0281, val_loss: 0.0662, val_score: 0.7969\n"
     ]
    },
    {
     "name": "stderr",
     "output_type": "stream",
     "text": [
      "100%|████████████████████████████████████████████████████████████████████████████████████| 7/7 [00:00<00:00, 16.90it/s]\n"
     ]
    },
    {
     "name": "stdout",
     "output_type": "stream",
     "text": [
      "Epoch [61], train_loss: 0.0256, val_loss: 0.0667, val_score: 0.8398\n"
     ]
    },
    {
     "name": "stderr",
     "output_type": "stream",
     "text": [
      "100%|████████████████████████████████████████████████████████████████████████████████████| 7/7 [00:00<00:00, 17.24it/s]\n"
     ]
    },
    {
     "name": "stdout",
     "output_type": "stream",
     "text": [
      "Epoch [62], train_loss: 0.0236, val_loss: 0.0890, val_score: 0.5503\n"
     ]
    },
    {
     "name": "stderr",
     "output_type": "stream",
     "text": [
      "100%|████████████████████████████████████████████████████████████████████████████████████| 7/7 [00:00<00:00, 16.18it/s]\n"
     ]
    },
    {
     "name": "stdout",
     "output_type": "stream",
     "text": [
      "Epoch [63], train_loss: 0.0204, val_loss: 0.1052, val_score: 0.5781\n"
     ]
    },
    {
     "name": "stderr",
     "output_type": "stream",
     "text": [
      "100%|████████████████████████████████████████████████████████████████████████████████████| 7/7 [00:00<00:00, 16.58it/s]\n"
     ]
    },
    {
     "name": "stdout",
     "output_type": "stream",
     "text": [
      "Epoch [64], train_loss: 0.0205, val_loss: 0.1082, val_score: 0.5701\n"
     ]
    },
    {
     "name": "stderr",
     "output_type": "stream",
     "text": [
      "100%|████████████████████████████████████████████████████████████████████████████████████| 7/7 [00:00<00:00, 16.76it/s]\n"
     ]
    },
    {
     "name": "stdout",
     "output_type": "stream",
     "text": [
      "Epoch [65], train_loss: 0.0177, val_loss: 0.1673, val_score: 0.5273\n"
     ]
    },
    {
     "name": "stderr",
     "output_type": "stream",
     "text": [
      "100%|████████████████████████████████████████████████████████████████████████████████████| 7/7 [00:00<00:00, 16.79it/s]\n"
     ]
    },
    {
     "name": "stdout",
     "output_type": "stream",
     "text": [
      "Epoch [66], train_loss: 0.0191, val_loss: 0.1757, val_score: 0.5701\n"
     ]
    },
    {
     "name": "stderr",
     "output_type": "stream",
     "text": [
      "100%|████████████████████████████████████████████████████████████████████████████████████| 7/7 [00:00<00:00, 16.79it/s]\n"
     ]
    },
    {
     "name": "stdout",
     "output_type": "stream",
     "text": [
      "Epoch [67], train_loss: 0.0208, val_loss: 0.2090, val_score: 0.5469\n"
     ]
    },
    {
     "name": "stderr",
     "output_type": "stream",
     "text": [
      "100%|████████████████████████████████████████████████████████████████████████████████████| 7/7 [00:00<00:00, 16.95it/s]\n"
     ]
    },
    {
     "name": "stdout",
     "output_type": "stream",
     "text": [
      "Epoch [68], train_loss: 0.0233, val_loss: 0.1938, val_score: 0.5429\n"
     ]
    },
    {
     "name": "stderr",
     "output_type": "stream",
     "text": [
      "100%|████████████████████████████████████████████████████████████████████████████████████| 7/7 [00:00<00:00, 16.59it/s]\n"
     ]
    },
    {
     "name": "stdout",
     "output_type": "stream",
     "text": [
      "Epoch [69], train_loss: 0.0274, val_loss: 0.2263, val_score: 0.5000\n"
     ]
    },
    {
     "name": "stderr",
     "output_type": "stream",
     "text": [
      "100%|████████████████████████████████████████████████████████████████████████████████████| 7/7 [00:00<00:00, 16.63it/s]\n"
     ]
    },
    {
     "name": "stdout",
     "output_type": "stream",
     "text": [
      "Epoch [70], train_loss: 0.0279, val_loss: 0.2182, val_score: 0.5625\n"
     ]
    },
    {
     "name": "stderr",
     "output_type": "stream",
     "text": [
      "100%|████████████████████████████████████████████████████████████████████████████████████| 7/7 [00:00<00:00, 16.80it/s]\n"
     ]
    },
    {
     "name": "stdout",
     "output_type": "stream",
     "text": [
      "Epoch [71], train_loss: 0.0276, val_loss: 0.2214, val_score: 0.5625\n"
     ]
    },
    {
     "name": "stderr",
     "output_type": "stream",
     "text": [
      "100%|████████████████████████████████████████████████████████████████████████████████████| 7/7 [00:00<00:00, 17.17it/s]\n"
     ]
    },
    {
     "name": "stdout",
     "output_type": "stream",
     "text": [
      "Epoch [72], train_loss: 0.0250, val_loss: 0.1903, val_score: 0.5859\n"
     ]
    },
    {
     "name": "stderr",
     "output_type": "stream",
     "text": [
      "100%|████████████████████████████████████████████████████████████████████████████████████| 7/7 [00:00<00:00, 16.79it/s]\n"
     ]
    },
    {
     "name": "stdout",
     "output_type": "stream",
     "text": [
      "Epoch [73], train_loss: 0.0249, val_loss: 0.1394, val_score: 0.5585\n"
     ]
    },
    {
     "name": "stderr",
     "output_type": "stream",
     "text": [
      "100%|████████████████████████████████████████████████████████████████████████████████████| 7/7 [00:00<00:00, 16.43it/s]\n"
     ]
    },
    {
     "name": "stdout",
     "output_type": "stream",
     "text": [
      "Epoch [74], train_loss: 0.0199, val_loss: 0.1936, val_score: 0.5781\n"
     ]
    },
    {
     "name": "stderr",
     "output_type": "stream",
     "text": [
      "100%|████████████████████████████████████████████████████████████████████████████████████| 7/7 [00:00<00:00, 16.90it/s]\n"
     ]
    },
    {
     "name": "stdout",
     "output_type": "stream",
     "text": [
      "Epoch [75], train_loss: 0.0230, val_loss: 0.0936, val_score: 0.5429\n"
     ]
    },
    {
     "name": "stderr",
     "output_type": "stream",
     "text": [
      "100%|████████████████████████████████████████████████████████████████████████████████████| 7/7 [00:00<00:00, 16.70it/s]\n"
     ]
    },
    {
     "name": "stdout",
     "output_type": "stream",
     "text": [
      "Epoch [76], train_loss: 0.0237, val_loss: 0.0985, val_score: 0.5156\n"
     ]
    },
    {
     "name": "stderr",
     "output_type": "stream",
     "text": [
      "100%|████████████████████████████████████████████████████████████████████████████████████| 7/7 [00:00<00:00, 16.79it/s]\n"
     ]
    },
    {
     "name": "stdout",
     "output_type": "stream",
     "text": [
      "Epoch [77], train_loss: 0.0216, val_loss: 0.1905, val_score: 0.5585\n"
     ]
    },
    {
     "name": "stderr",
     "output_type": "stream",
     "text": [
      "100%|████████████████████████████████████████████████████████████████████████████████████| 7/7 [00:00<00:00, 16.89it/s]\n"
     ]
    },
    {
     "name": "stdout",
     "output_type": "stream",
     "text": [
      "Epoch [78], train_loss: 0.0186, val_loss: 0.1987, val_score: 0.5195\n"
     ]
    },
    {
     "name": "stderr",
     "output_type": "stream",
     "text": [
      "100%|████████████████████████████████████████████████████████████████████████████████████| 7/7 [00:00<00:00, 16.96it/s]\n"
     ]
    },
    {
     "name": "stdout",
     "output_type": "stream",
     "text": [
      "Epoch [79], train_loss: 0.0147, val_loss: 0.1797, val_score: 0.5625\n"
     ]
    },
    {
     "name": "stderr",
     "output_type": "stream",
     "text": [
      "100%|████████████████████████████████████████████████████████████████████████████████████| 7/7 [00:00<00:00, 17.00it/s]\n"
     ]
    },
    {
     "name": "stdout",
     "output_type": "stream",
     "text": [
      "Epoch [80], train_loss: 0.0177, val_loss: 0.1826, val_score: 0.5469\n"
     ]
    },
    {
     "name": "stderr",
     "output_type": "stream",
     "text": [
      "100%|████████████████████████████████████████████████████████████████████████████████████| 7/7 [00:00<00:00, 17.45it/s]\n"
     ]
    },
    {
     "name": "stdout",
     "output_type": "stream",
     "text": [
      "Epoch [81], train_loss: 0.0147, val_loss: 0.2026, val_score: 0.5469\n"
     ]
    },
    {
     "name": "stderr",
     "output_type": "stream",
     "text": [
      "100%|████████████████████████████████████████████████████████████████████████████████████| 7/7 [00:00<00:00, 16.92it/s]\n"
     ]
    },
    {
     "name": "stdout",
     "output_type": "stream",
     "text": [
      "Epoch [82], train_loss: 0.0259, val_loss: 0.1510, val_score: 0.5312\n"
     ]
    },
    {
     "name": "stderr",
     "output_type": "stream",
     "text": [
      "100%|████████████████████████████████████████████████████████████████████████████████████| 7/7 [00:00<00:00, 16.95it/s]\n"
     ]
    },
    {
     "name": "stdout",
     "output_type": "stream",
     "text": [
      "Epoch [83], train_loss: 0.0216, val_loss: 0.1566, val_score: 0.5469\n"
     ]
    },
    {
     "name": "stderr",
     "output_type": "stream",
     "text": [
      "100%|████████████████████████████████████████████████████████████████████████████████████| 7/7 [00:00<00:00, 16.10it/s]\n"
     ]
    },
    {
     "name": "stdout",
     "output_type": "stream",
     "text": [
      "Epoch [84], train_loss: 0.0301, val_loss: 0.1255, val_score: 0.7969\n"
     ]
    },
    {
     "name": "stderr",
     "output_type": "stream",
     "text": [
      "100%|████████████████████████████████████████████████████████████████████████████████████| 7/7 [00:00<00:00, 17.17it/s]\n"
     ]
    },
    {
     "name": "stdout",
     "output_type": "stream",
     "text": [
      "Epoch [85], train_loss: 0.0381, val_loss: 0.0930, val_score: 0.8160\n"
     ]
    },
    {
     "name": "stderr",
     "output_type": "stream",
     "text": [
      "100%|████████████████████████████████████████████████████████████████████████████████████| 7/7 [00:00<00:00, 17.48it/s]\n"
     ]
    },
    {
     "name": "stdout",
     "output_type": "stream",
     "text": [
      "Epoch [86], train_loss: 0.0360, val_loss: 0.1194, val_score: 0.7812\n"
     ]
    },
    {
     "name": "stderr",
     "output_type": "stream",
     "text": [
      "100%|████████████████████████████████████████████████████████████████████████████████████| 7/7 [00:00<00:00, 16.68it/s]\n"
     ]
    },
    {
     "name": "stdout",
     "output_type": "stream",
     "text": [
      "Epoch [87], train_loss: 0.0258, val_loss: 0.0725, val_score: 0.7812\n"
     ]
    },
    {
     "name": "stderr",
     "output_type": "stream",
     "text": [
      "100%|████████████████████████████████████████████████████████████████████████████████████| 7/7 [00:00<00:00, 16.68it/s]\n"
     ]
    },
    {
     "name": "stdout",
     "output_type": "stream",
     "text": [
      "Epoch [88], train_loss: 0.0169, val_loss: 0.0743, val_score: 0.5625\n"
     ]
    },
    {
     "name": "stderr",
     "output_type": "stream",
     "text": [
      "100%|████████████████████████████████████████████████████████████████████████████████████| 7/7 [00:00<00:00, 16.37it/s]\n"
     ]
    },
    {
     "name": "stdout",
     "output_type": "stream",
     "text": [
      "Epoch [89], train_loss: 0.0127, val_loss: 0.0831, val_score: 0.5545\n"
     ]
    },
    {
     "name": "stderr",
     "output_type": "stream",
     "text": [
      "100%|████████████████████████████████████████████████████████████████████████████████████| 7/7 [00:00<00:00, 17.36it/s]\n"
     ]
    },
    {
     "name": "stdout",
     "output_type": "stream",
     "text": [
      "Epoch [90], train_loss: 0.0114, val_loss: 0.1056, val_score: 0.5429\n"
     ]
    },
    {
     "name": "stderr",
     "output_type": "stream",
     "text": [
      "100%|████████████████████████████████████████████████████████████████████████████████████| 7/7 [00:00<00:00, 16.99it/s]\n"
     ]
    },
    {
     "name": "stdout",
     "output_type": "stream",
     "text": [
      "Epoch [91], train_loss: 0.0125, val_loss: 0.1151, val_score: 0.5312\n"
     ]
    },
    {
     "name": "stderr",
     "output_type": "stream",
     "text": [
      "100%|████████████████████████████████████████████████████████████████████████████████████| 7/7 [00:00<00:00, 17.00it/s]\n"
     ]
    },
    {
     "name": "stdout",
     "output_type": "stream",
     "text": [
      "Epoch [92], train_loss: 0.0129, val_loss: 0.0765, val_score: 0.7773\n"
     ]
    },
    {
     "name": "stderr",
     "output_type": "stream",
     "text": [
      "100%|████████████████████████████████████████████████████████████████████████████████████| 7/7 [00:00<00:00, 17.49it/s]\n"
     ]
    },
    {
     "name": "stdout",
     "output_type": "stream",
     "text": [
      "Epoch [93], train_loss: 0.0114, val_loss: 0.0828, val_score: 0.7929\n"
     ]
    },
    {
     "name": "stderr",
     "output_type": "stream",
     "text": [
      "100%|████████████████████████████████████████████████████████████████████████████████████| 7/7 [00:00<00:00, 16.94it/s]\n"
     ]
    },
    {
     "name": "stdout",
     "output_type": "stream",
     "text": [
      "Epoch [94], train_loss: 0.0093, val_loss: 0.0840, val_score: 0.7929\n"
     ]
    },
    {
     "name": "stderr",
     "output_type": "stream",
     "text": [
      "100%|████████████████████████████████████████████████████████████████████████████████████| 7/7 [00:00<00:00, 17.30it/s]\n"
     ]
    },
    {
     "name": "stdout",
     "output_type": "stream",
     "text": [
      "Epoch [95], train_loss: 0.0081, val_loss: 0.0919, val_score: 0.8085\n"
     ]
    },
    {
     "name": "stderr",
     "output_type": "stream",
     "text": [
      "100%|████████████████████████████████████████████████████████████████████████████████████| 7/7 [00:00<00:00, 17.62it/s]\n"
     ]
    },
    {
     "name": "stdout",
     "output_type": "stream",
     "text": [
      "Epoch [96], train_loss: 0.0063, val_loss: 0.0972, val_score: 0.8242\n"
     ]
    },
    {
     "name": "stderr",
     "output_type": "stream",
     "text": [
      "100%|████████████████████████████████████████████████████████████████████████████████████| 7/7 [00:00<00:00, 16.95it/s]\n"
     ]
    },
    {
     "name": "stdout",
     "output_type": "stream",
     "text": [
      "Epoch [97], train_loss: 0.0070, val_loss: 0.1753, val_score: 0.8242\n"
     ]
    },
    {
     "name": "stderr",
     "output_type": "stream",
     "text": [
      "100%|████████████████████████████████████████████████████████████████████████████████████| 7/7 [00:00<00:00, 16.98it/s]\n"
     ]
    },
    {
     "name": "stdout",
     "output_type": "stream",
     "text": [
      "Epoch [98], train_loss: 0.0159, val_loss: 0.1033, val_score: 0.8281\n"
     ]
    },
    {
     "name": "stderr",
     "output_type": "stream",
     "text": [
      "100%|████████████████████████████████████████████████████████████████████████████████████| 7/7 [00:00<00:00, 17.55it/s]"
     ]
    },
    {
     "name": "stdout",
     "output_type": "stream",
     "text": [
      "Epoch [99], train_loss: 0.0148, val_loss: 0.0880, val_score: 0.8203\n"
     ]
    },
    {
     "name": "stderr",
     "output_type": "stream",
     "text": [
      "\n"
     ]
    }
   ],
   "source": [
    "history = fit(epochs, lr, model, train_dl, val_dl, opt_func=opt_func)"
   ]
  },
  {
   "cell_type": "markdown",
   "id": "d1e70476-f8e8-4a98-8a82-bb46f7cc6470",
   "metadata": {},
   "source": [
    "Showing results"
   ]
  },
  {
   "cell_type": "code",
   "execution_count": 50,
   "id": "059ad775-a404-497b-9fdf-3aa79ba50c68",
   "metadata": {},
   "outputs": [],
   "source": [
    "def plot_scores(history):\n",
    "    scores = [x['val_score'] for x in history]\n",
    "    plt.plot(scores, '-')\n",
    "    plt.xlabel('Эпоха')\n",
    "    #plt.ylabel('score')\n",
    "    plt.title('F1 оценка на валидационном наборе');\n",
    "    \n",
    "def plot_losses(history, loss_name):\n",
    "    train_losses = [x.get('train_loss') for x in history]\n",
    "    val_losses = [x['val_loss'] for x in history]\n",
    "    plt.plot(train_losses, '-b')\n",
    "    plt.plot(val_losses, '-r')\n",
    "    plt.xlabel('Эпоха')\n",
    "    plt.ylabel('Потеря')\n",
    "    plt.legend(['Обучение', 'Валидация'])\n",
    "    plt.title('Бинарная кросс-энтропия');"
   ]
  },
  {
   "cell_type": "code",
   "execution_count": 68,
   "id": "33cfc1bd-4b35-42ef-88ac-d32c4e426db3",
   "metadata": {},
   "outputs": [
    {
     "data": {
      "image/png": "[encoded data removed]",
      "text/plain": [
       "<Figure size 640x480 with 1 Axes>"
      ]
     },
     "metadata": {},
     "output_type": "display_data"
    }
   ],
   "source": [
    "plot_scores(history)"
   ]
  },
  {
   "cell_type": "code",
   "execution_count": 69,
   "id": "38c52754-477c-4656-b3bb-b24bcd3fb10a",
   "metadata": {},
   "outputs": [
    {
     "data": {
      "image/png": "[encoded data removed]",
      "text/plain": [
       "<Figure size 640x480 with 1 Axes>"
      ]
     },
     "metadata": {},
     "output_type": "display_data"
    }
   ],
   "source": [
    "plot_losses(history, \"BCE\")"
   ]
  },
  {
   "cell_type": "markdown",
   "id": "55b5b5ba-c915-48f2-86da-a95d4402b0fd",
   "metadata": {},
   "source": [
    "# Metrics"
   ]
  },
  {
   "cell_type": "markdown",
   "id": "d32a952e-d2db-445c-a3c8-f71b55d0702f",
   "metadata": {},
   "source": [
    "https://stats.stackexchange.com/questions/12702/what-are-the-measure-for-accuracy-of-multilabel-data"
   ]
  },
  {
   "cell_type": "code",
   "execution_count": 95,
   "id": "37f340a2-a4ac-44bd-949a-faad9591b869",
   "metadata": {},
   "outputs": [],
   "source": [
    "def exact_match_ratio(y_pred:np.ndarray, y_true:np.ndarray)->float:\n",
    "    samples_count = y_pred.shape[0]\n",
    "    return (y_true == y_pred).all(1).astype(np.float32).sum() / samples_count\n",
    "\n",
    "def multilabel_accuracy(y_pred:np.ndarray, y_true:np.ndarray)->float: # пока равна recall\n",
    "    samples_count = y_pred.shape[0]\n",
    "    # intersection over union of classes\n",
    "    accuracy_sum = 0.0\n",
    "    for sample in range(samples_count):\n",
    "        pred_sample = y_pred[sample, :]\n",
    "        true_sample = y_true[sample, :]\n",
    "        pred_classes = set(decode_target(pred_sample, idx2error))\n",
    "        true_classes = set(decode_target(true_sample, idx2error))\n",
    "        accuracy_sum += float(len(pred_classes&true_classes))/len(pred_classes|true_classes)\n",
    "    return accuracy_sum / samples_count\n",
    "\n",
    "def hamming_loss(y_pred:np.ndarray, y_true:np.ndarray)->float:\n",
    "    hl_sum = (1 - y_pred[np.nonzero(y_true)]).sum()\n",
    "    hl_sum += y_pred[y_true == 0].sum()\n",
    "    return hl_sum / y_pred.size"
   ]
  },
  {
   "cell_type": "markdown",
   "id": "511ab0ff-77ed-4186-a99f-151e68321929",
   "metadata": {},
   "source": [
    "# Testing"
   ]
  },
  {
   "cell_type": "code",
   "execution_count": 96,
   "id": "297bed59-d4d1-445b-9b90-ae9df3140e3d",
   "metadata": {},
   "outputs": [],
   "source": [
    "def show_example(img, pred_label, true_label=None):\n",
    "    plt.imshow(img.permute(1,2,0))\n",
    "    print(\"Predicted label:\", decode_target(pred_label, idx2error))\n",
    "    if true_label != None:\n",
    "        print(\"True label:\", decode_target(true_label, idx2error))\n",
    "    print()\n",
    "    print(pred_label)\n",
    "\n",
    "def predict_single(image, label=None):\n",
    "    xb = image.unsqueeze(0)\n",
    "    xb = to_device(xb, device)\n",
    "    preds = model(xb)\n",
    "    prediction = preds[0]\n",
    "    show_example(image, prediction, label)"
   ]
  },
  {
   "cell_type": "code",
   "execution_count": 97,
   "id": "c635d4c8-7267-417a-9258-4fa34128dff3",
   "metadata": {},
   "outputs": [],
   "source": [
    "model.eval()\n",
    "test_dl = DeviceDataLoader(test_loader, device)\n",
    "\n",
    "test_losses = []\n",
    "test_f1s = []\n",
    "preds = []\n",
    "trues = []\n",
    "with torch.no_grad():\n",
    "    for batch in test_dl:\n",
    "        images, targets = batch \n",
    "        out = model(images)                           # Generate predictions\n",
    "        loss = F.binary_cross_entropy(out, targets)   # Calculate loss\n",
    "        score = F_score(out, targets)                 # Calculate accuracy\n",
    "        test_losses.append(loss.detach().cpu().item())\n",
    "        test_f1s.append(score.detach().cpu().item())\n",
    "        preds.append(out.cpu().numpy())\n",
    "        trues.append(targets.cpu().numpy())"
   ]
  },
  {
   "cell_type": "code",
   "execution_count": 98,
   "id": "c4627e2d-5638-4b8b-ab94-e1414b36513c",
   "metadata": {},
   "outputs": [],
   "source": [
    "preds_labels = []\n",
    "for pred in preds:\n",
    "    preds_labels.append((pred > THRESHOLD).astype(np.float32))\n",
    "pred_ar = np.array(preds_labels).squeeze()\n",
    "trues_ar = np.array(trues).squeeze()"
   ]
  },
  {
   "cell_type": "code",
   "execution_count": 99,
   "id": "217d43ef-77b7-44c2-a2f4-7816e59452a7",
   "metadata": {},
   "outputs": [
    {
     "name": "stdout",
     "output_type": "stream",
     "text": [
      "Zeros in data: 0.9541062801932367\n"
     ]
    }
   ],
   "source": [
    "zeros_fraction = (trues_ar == 0).astype(np.float32).sum() / trues_ar.size\n",
    "print(\"Zeros in data:\", zeros_fraction)"
   ]
  },
  {
   "cell_type": "code",
   "execution_count": 100,
   "id": "b9d78fd7-5690-455f-8190-7a1f2deb4e7e",
   "metadata": {},
   "outputs": [
    {
     "name": "stdout",
     "output_type": "stream",
     "text": [
      "Test BCE loss: 0.17057301222726146\n",
      "Test F1-score: 0.600000000110379\n"
     ]
    }
   ],
   "source": [
    "# test_loss = np.mean(test_losses)\n",
    "# testf1 = np.mean(test_f1s)\n",
    "print(\"Test BCE loss:\", np.mean(test_losses))\n",
    "print(\"Test F1-score:\", np.mean(test_f1s))"
   ]
  },
  {
   "cell_type": "code",
   "execution_count": 101,
   "id": "2763874c-cb96-4ef9-a085-7b74aa3c9445",
   "metadata": {},
   "outputs": [
    {
     "name": "stdout",
     "output_type": "stream",
     "text": [
      "Exact match ratio: 0.5925925925925926\n"
     ]
    }
   ],
   "source": [
    "# exact match ratio\n",
    "#emr = (trues_ar == pred_ar).astype(np.float32).sum() / trues_ar.size\n",
    "emr = exact_match_ratio(pred_ar, trues_ar)\n",
    "print(\"Exact match ratio:\", emr)"
   ]
  },
  {
   "cell_type": "code",
   "execution_count": 102,
   "id": "eb6582f1-b30a-44ae-bff8-ee702d2ed7a4",
   "metadata": {},
   "outputs": [
    {
     "name": "stdout",
     "output_type": "stream",
     "text": [
      "Hamming loss: 0.03140096618357488\n"
     ]
    }
   ],
   "source": [
    "print(\"Hamming loss:\", hamming_loss(pred_ar, trues_ar)) # less is better"
   ]
  },
  {
   "cell_type": "code",
   "execution_count": 113,
   "id": "f426d57a-d1d5-4c95-8636-a58b05ccfe96",
   "metadata": {},
   "outputs": [
    {
     "name": "stdout",
     "output_type": "stream",
     "text": [
      "Hamming loss: 0.06521739130434782\n"
     ]
    }
   ],
   "source": [
    "# только для образцов с ошибками\n",
    "print(\"Hamming loss:\", hamming_loss(pred_ar[pred_ar[:, 0]!=1], trues_ar[pred_ar[:, 0]!=1])) # less is better"
   ]
  },
  {
   "cell_type": "code",
   "execution_count": 114,
   "id": "d6c96e84-60c1-42ff-88b7-37ce4a0f40d5",
   "metadata": {},
   "outputs": [
    {
     "data": {
      "text/plain": [
       "11.555555555555555"
      ]
     },
     "execution_count": 114,
     "metadata": {},
     "output_type": "execute_result"
    }
   ],
   "source": [
    "pred_ar[pred_ar[:, 0]!=1].size * 0.03140096618357488"
   ]
  },
  {
   "cell_type": "code",
   "execution_count": 103,
   "id": "9a7244c0-e8d8-4214-adef-30ee10979136",
   "metadata": {},
   "outputs": [
    {
     "name": "stdout",
     "output_type": "stream",
     "text": [
      "Accuracy: 0.5972222222222222\n"
     ]
    }
   ],
   "source": [
    "print(\"Accuracy:\", multilabel_accuracy(pred_ar, trues_ar))"
   ]
  },
  {
   "cell_type": "code",
   "execution_count": 104,
   "id": "7dbe66f5-bf4a-4a0c-baf6-b5470b1eb192",
   "metadata": {},
   "outputs": [
    {
     "name": "stdout",
     "output_type": "stream",
     "text": [
      "                                                 precision    recall  f1-score   support\n",
      "\n",
      "                                     нет ошибок       0.82      0.76      0.78        41\n",
      "                                 наклон корпуса       0.25      0.33      0.29         3\n",
      "                                короткая стойка       0.00      0.00      0.00         1\n",
      "                                  вес на задней       0.00      0.00      0.00         2\n",
      "                             касание, нет упора       0.00      0.00      0.00         2\n",
      "                                  подтаскивание       0.00      0.00      0.00         1\n",
      "                                стопа в воздухе       0.00      0.00      0.00         1\n",
      "                        стопы не доворачиваются       0.00      0.00      0.00         1\n",
      "                                 повышение таза       0.00      0.00      0.00         0\n",
      "                        стопы направлены внутрь       0.00      0.00      0.00         1\n",
      "                             ноги распрямляются       0.00      0.00      0.00         0\n",
      "                           пятки на одной линии       0.00      0.00      0.00         0\n",
      "                                  перепрыгивает       0.00      0.00      0.00         0\n",
      "                              подтащил переднюю       0.00      0.00      0.00         1\n",
      "                                 недоворот таза       0.00      0.00      0.00         1\n",
      "                    ось вращения в центре стопы       0.00      0.00      0.00         0\n",
      "                            движение из падения       0.00      0.00      0.00         0\n",
      "   задняя стопа пересекает прямую между стопами       0.50      1.00      0.67         1\n",
      "                          сгибается задняя нога       0.00      0.00      0.00         0\n",
      "                          колени смотрят внутрь       0.00      0.00      0.00         0\n",
      "                       завалено переднее колено       0.00      0.00      0.00         0\n",
      "передняя пятка смещается назад, а должна вперед       0.00      0.00      0.00         1\n",
      "                      задняя нога распрямляется       0.00      0.00      0.00         0\n",
      "\n",
      "                                      micro avg       0.69      0.58      0.63        57\n",
      "                                      macro avg       0.07      0.09      0.08        57\n",
      "                                   weighted avg       0.61      0.58      0.59        57\n",
      "                                    samples avg       0.60      0.60      0.60        57\n",
      "\n"
     ]
    }
   ],
   "source": [
    "#def print_class_statistic(y_pred:np.ndarray, y_true:np.ndarray, class_index:dict):\n",
    "print(classification_report(trues_ar, pred_ar, target_names=np.array([idx2error[i] for i in range(len(idx2error))]), zero_division=0))"
   ]
  }
 ],
 "metadata": {
  "kernelspec": {
   "display_name": "Python 3 (ipykernel)",
   "language": "python",
   "name": "python3"
  },
  "language_info": {
   "codemirror_mode": {
    "name": "ipython",
    "version": 3
   },
   "file_extension": ".py",
   "mimetype": "text/x-python",
   "name": "python",
   "nbconvert_exporter": "python",
   "pygments_lexer": "ipython3",
   "version": "3.11.7"
  }
 },
 "nbformat": 4,
 "nbformat_minor": 5
}
