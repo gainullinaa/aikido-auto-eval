{
 "cells": [
  {
   "cell_type": "code",
   "execution_count": 2,
   "id": "a12f07f9-eb3a-4fc6-afaf-edcc7869be84",
   "metadata": {},
   "outputs": [],
   "source": [
    "import numpy as np\n",
    "from tqdm import tqdm\n",
    "import cv2 as cv\n",
    "import matplotlib.pyplot as plt\n",
    "\n",
    "from sklearn.metrics import precision_score, recall_score, f1_score, classification_report\n",
    "from sklearn.model_selection import train_test_split\n",
    "\n",
    "import torch\n",
    "from torch.utils.data import Dataset, random_split, DataLoader\n",
    "import torch.nn.functional as F\n",
    "\n",
    "import json\n",
    "import os\n",
    "import random"
   ]
  },
  {
   "cell_type": "code",
   "execution_count": 3,
   "id": "e1f278ae-7a85-41f6-acc3-6c070079c463",
   "metadata": {},
   "outputs": [],
   "source": [
    "track_id2student_id_it = {7:0, 6:1, 0:2, 8:3, 1:4, 3:5, 11:6, 15:7, 16:8, 2:9, 5:12, 9:13, 4:14} # irimi tenkan, my tracking algo\n",
    "track_id2student_id_ta = {8:0, 7:1, 2:2, 10:3, 3:4, 4:5, 14:6, 9:7, 1:8, 12:9, 11:10, 0:11, 6:12, 5:13} # tsugi ashi, my tracking algo\n",
    "track_id2student_id_utmt = {7:0, 6:1, 1:2, 8:3, 3:4, 5:5, 11:6, 10:7, 2:8, 0:11, 4:13, 9:9, 12:10, 19:12} # utmt, my tracking algo\n",
    "single_student_tids = {\"1156\":0, \"1237\":1, \"0756\":0, \"0912\":0, \"1043\":0}\n",
    "file2mapping = {\"../alphapose_res/irimi_tenkan_kps.json\":track_id2student_id_it,\n",
    "                \"../alphapose_res/ta_tracking.json\":track_id2student_id_ta,\n",
    "                \"../alphapose_res/utmt_kps.json\":track_id2student_id_utmt}\n",
    "annotations_map = {\"../alphapose_res/irimi_tenkan_kps.json\":\"../data/irimi_tenkan/annotations.json\",\n",
    "                \"../alphapose_res/ta_tracking.json\":\"../data/tsugi_ashi/annotations.json\",\n",
    "                \"../alphapose_res/utmt_kps.json\":\"../data/ushiro_tenkan_mae_tenkan/annotations.json\"}\n",
    "single_st_ann = \"../data/single_student_annotations.json\""
   ]
  },
  {
   "cell_type": "code",
   "execution_count": 193,
   "id": "826ab248-3be0-409d-be6d-1c0fffa1629a",
   "metadata": {},
   "outputs": [],
   "source": [
    "SAMPLE_MAX_FRAME_COUNT = 192 # ?\n",
    "THRESHOLD = 0.5\n",
    "CHANNELS = 3\n",
    "BATCH_FIRST = False\n",
    "SEED = 42"
   ]
  },
  {
   "cell_type": "markdown",
   "id": "d63ab9f6-dc10-42f0-9f62-f066c0ac3c67",
   "metadata": {},
   "source": [
    "# Подготовка данных"
   ]
  },
  {
   "cell_type": "code",
   "execution_count": 5,
   "id": "40b5164d-3b16-4303-b6ce-90d2b80d6cec",
   "metadata": {},
   "outputs": [],
   "source": [
    "from dataproc import *"
   ]
  },
  {
   "cell_type": "markdown",
   "id": "259a1000-402f-492e-9713-ad4b89cc8705",
   "metadata": {},
   "source": [
    "Собрать всё в массивы"
   ]
  },
  {
   "cell_type": "markdown",
   "id": "205ef2da-cced-46bf-8560-b7247e64a7d6",
   "metadata": {},
   "source": [
    "1. Аннотации видео с толпой"
   ]
  },
  {
   "cell_type": "code",
   "execution_count": 6,
   "id": "9b0844a5-4ef9-46a1-ac42-a4c2fd2f22ae",
   "metadata": {},
   "outputs": [],
   "source": [
    "exercise2points = dict()\n",
    "exercise2errors = dict()\n",
    "encoded_errors = {\"нет ошибок\":0}\n",
    "for filename in file2mapping:\n",
    "    sid2kps = parse_crowd_exercise(filename, file2mapping[filename])    \n",
    "    with open(annotations_map[filename], \"r\", encoding=\"utf8\") as ja:\n",
    "        ann = json.load(ja)\n",
    "        for k in ann:\n",
    "            people = list(ann[k].keys())\n",
    "            for personid in people:\n",
    "                intkey = int(personid)\n",
    "                ann[k][intkey] = ann[k][personid]            \n",
    "    exname = os.path.basename(filename).split('.')[0]\n",
    "    student_tries = split_student_tries(sid2kps, ann['people_exercise_frames'])\n",
    "    errs = get_error_codes(ann, encoded_errors)\n",
    "    exercise2points[exname] = student_tries\n",
    "    exercise2errors[exname] = errs        "
   ]
  },
  {
   "cell_type": "markdown",
   "id": "e679c48a-0b50-417b-8269-7d2d11ac1cd2",
   "metadata": {},
   "source": [
    "2. Аннотации видео одного ученика"
   ]
  },
  {
   "cell_type": "code",
   "execution_count": 7,
   "id": "8cbac130-6af4-4e7d-9325-13df3e3154e3",
   "metadata": {},
   "outputs": [],
   "source": [
    "student2points = dict()\n",
    "#student2errors = dict()\n",
    "with open(single_st_ann, \"r\", encoding=\"utf8\") as common_ann_file:\n",
    "    common_ann = json.load(common_ann_file)\n",
    "ss_vid_ann = [os.path.join(\"../alphapose_res\", f) for f in [\"0756_alpha.json\", \"0912_alpha.json\",\n",
    "                                                           \"1043_alpha.json\", \"1156_alpha.json\", \n",
    "                                                            \"1237_alpha.json\"]]\n",
    "for filename in ss_vid_ann:\n",
    "    stud_id = os.path.split(filename)[-1][:4]\n",
    "    dynamic = parse_single_person_exercise(filename, single_student_tids[stud_id])\n",
    "    internal_vid_id = common_ann[\"file2id\"][stud_id]\n",
    "    student_tries = split_student_tries({internal_vid_id:dynamic}, common_ann['people_exercise_frames'])\n",
    "    student2points[internal_vid_id] = student_tries[internal_vid_id]\n",
    "student2errors = get_error_codes(common_ann, encoded_errors)"
   ]
  },
  {
   "cell_type": "code",
   "execution_count": 8,
   "id": "70c96ed0-e9d0-404f-902d-492db0b4ee8d",
   "metadata": {},
   "outputs": [],
   "source": [
    "delete_keys = []\n",
    "for ename in exercise2errors:\n",
    "    for k in exercise2errors[ename]:\n",
    "        if type(k) == str:\n",
    "            delete_keys.append(k)\n",
    "    for k in delete_keys:\n",
    "        del exercise2errors[ename][k]\n",
    "    delete_keys.clear()    "
   ]
  },
  {
   "cell_type": "code",
   "execution_count": 9,
   "id": "1aa149c4-29a0-4e89-abe0-d433f763b609",
   "metadata": {},
   "outputs": [],
   "source": [
    "idx2error = dict()\n",
    "for n in encoded_errors:\n",
    "    idx = encoded_errors[n]\n",
    "    idx2error[idx] = n"
   ]
  },
  {
   "cell_type": "code",
   "execution_count": 10,
   "id": "cf2f4167-1d2d-4897-aeb9-f7a28751872b",
   "metadata": {},
   "outputs": [],
   "source": [
    "exercise2points[\"single_student\"] = student2points\n",
    "exercise2errors[\"single_student\"] = student2errors"
   ]
  },
  {
   "cell_type": "markdown",
   "id": "6f914cfe-109f-4b8e-87a0-06a2b543b4ea",
   "metadata": {},
   "source": [
    "Dataset"
   ]
  },
  {
   "cell_type": "code",
   "execution_count": 67,
   "id": "baca9a63-11f6-4c2a-8147-3d15027249c6",
   "metadata": {},
   "outputs": [],
   "source": [
    "def encode_label(label:list, class_count:int):\n",
    "    target = np.zeros(class_count)\n",
    "    for idx in label:\n",
    "      target[idx] = 1\n",
    "    return target\n",
    "    \n",
    "def decode_target(target, classes:dict, threshold:float=0.5):\n",
    "    result = []\n",
    "    for i, x in enumerate(target):\n",
    "        if (x >= threshold):\n",
    "          result.append(classes[i])\n",
    "    return result"
   ]
  },
  {
   "cell_type": "code",
   "execution_count": 86,
   "id": "342d836d-87a5-4532-b55c-823fd53acb2d",
   "metadata": {},
   "outputs": [],
   "source": [
    "class AutoEvalLSTMDataset(Dataset):\n",
    "    def __init__(self, images:list, labels:list, class_mapping:dict, frame_length:int, channel_count:int, batch_first=False):\n",
    "        self.images = images\n",
    "        self.labels = labels\n",
    "        self.idx2class = class_mapping\n",
    "        self.frame_len = frame_length\n",
    "        self.channels = channel_count\n",
    "        self.batch_first = batch_first\n",
    "        \n",
    "    def __len__(self):\n",
    "        return len(self.images)\n",
    "\n",
    "    def __getitem__(self, idx):\n",
    "        img = self.images[idx]\n",
    "        label = self.labels[idx]\n",
    "        target = encode_label(label, max(self.idx2class) + 1)\n",
    "        fixed_length_exerc = resample_to_frame_length(img, self.frame_len) \n",
    "        fixed_length_exerc = fixed_length_exerc[:, :, :self.channels]\n",
    "        # fixed_length_exerc.shape = (n joints, self.frame_len, self.channels)        \n",
    "        # flatten channels\n",
    "        if self.batch_first:\n",
    "            inp = fixed_length_exerc.reshape(self.frame_len, -1).astype('float32')\n",
    "        else:\n",
    "            inp = fixed_length_exerc.reshape(self.frame_len, 1, -1).astype('float32')\n",
    "        return inp, target.astype('float32')\n",
    "\n",
    "def batch_second_collate(batch):\n",
    "    #print(batch[0])\n",
    "    data = []\n",
    "    labels = []\n",
    "    for i, t in batch:\n",
    "        data.append(torch.tensor(i))\n",
    "        labels.append(torch.tensor(t))\n",
    "    #data, labels = zip(*batch)\n",
    "    stacked_data = torch.cat(data, 1)\n",
    "    stacked_labels = torch.stack(labels)\n",
    "    return stacked_data, stacked_labels"
   ]
  },
  {
   "cell_type": "markdown",
   "id": "45e02439-45e1-4a6d-96eb-bb834132f219",
   "metadata": {},
   "source": [
    "Splits"
   ]
  },
  {
   "cell_type": "code",
   "execution_count": 13,
   "id": "41e8d1c7-4dbb-4f11-9042-c3a0a0ee82c6",
   "metadata": {},
   "outputs": [],
   "source": [
    "def fraction_split(exercise2points:dict, exercise2errors:dict, train_frac:float, val_frac:float, test_frac:float):\n",
    "    assert (train_frac + val_frac + test_frac) == 1\n",
    "    train_imgs, train_labels = [], []\n",
    "    test_imgs, test_labels = [], []\n",
    "    val_imgs, val_labels = [], []\n",
    "    \n",
    "    train_ids = []\n",
    "    val_ids = []\n",
    "    test_ids = []\n",
    "    total_data_count = 0\n",
    "    for exname in exercise2points:\n",
    "        cur_exerc = exercise2points[exname]\n",
    "        cur_errors = exercise2errors[exname]\n",
    "        for p in cur_exerc:\n",
    "            tries = cur_exerc[p]\n",
    "            errs = cur_errors[p]\n",
    "            for i, e in enumerate(tries):\n",
    "                total_data_count += 1\n",
    "                rval = random.random()\n",
    "                if rval <= train_frac:\n",
    "                    train_imgs.append(e)\n",
    "                    train_labels.append(errs[i])\n",
    "                    train_ids.append((exname, p, i))\n",
    "                elif rval <= (train_frac + test_frac):\n",
    "                    test_imgs.append(e)\n",
    "                    test_labels.append(errs[i])\n",
    "                    test_ids.append((exname, p, i))\n",
    "                else:\n",
    "                    val_imgs.append(e)\n",
    "                    val_labels.append(errs[i])\n",
    "                    val_ids.append((exname, p, i))\n",
    "    return [(train_imgs, train_labels), (test_imgs, test_labels), (val_imgs, val_labels)]\n",
    "\n",
    "def pick_elems_on_indices_from_both(data, labels, indices):\n",
    "    X = []\n",
    "    y = []\n",
    "    for i in indices:\n",
    "        X.append(data[i])\n",
    "        y.append(labels[i])\n",
    "    return X, y\n",
    "\n",
    "def stratify_split(exercise2points:dict, exercise2errors:dict, train_frac:float, val_frac:float, test_frac:float, class_count:int, state=0):    \n",
    "    input_data = []\n",
    "    labels = []\n",
    "    total_count = 0\n",
    "    class2idx = dict()\n",
    "    for exname in exercise2points:\n",
    "        cur_exerc = exercise2points[exname]\n",
    "        cur_errors = exercise2errors[exname]\n",
    "        for p in cur_exerc:\n",
    "            tries = cur_exerc[p]\n",
    "            errs = cur_errors[p]\n",
    "            for i, e in enumerate(tries):\n",
    "                input_data.append(e)\n",
    "                labels.append(errs[i])\n",
    "                #labels.append(encode_label(errs[i], class_count).numpy())\n",
    "                for error in errs[i]:\n",
    "                    if error not in class2idx:\n",
    "                        class2idx[error] = []\n",
    "                    class2idx[error].append(total_count)\n",
    "                total_count += 1\n",
    "    random.seed(state)\n",
    "    train_instances_idx = set()\n",
    "    val_instances_idx = set()\n",
    "    test_instances_idx = set()\n",
    "    for cl in class2idx:\n",
    "        class_indices = class2idx[cl]\n",
    "        random.shuffle(class_indices)\n",
    "        last_train_idx = max(int(train_frac * len(class_indices)), 1)\n",
    "        train_picks = class_indices[:last_train_idx]\n",
    "        train_instances_idx.update(train_picks)\n",
    "        if (len(class_indices) - len(train_picks)) == 0:\n",
    "            continue\n",
    "        last_test_idx = last_train_idx + max(int(test_frac * len(class_indices)), 1)\n",
    "        test_picks = class_indices[last_train_idx:last_test_idx]\n",
    "        test_instances_idx.update(test_picks)\n",
    "        if (len(class_indices) - len(train_picks) - len(test_picks)) == 0:\n",
    "            continue\n",
    "        val_instances_idx.update(class_indices[last_test_idx:])\n",
    "    # clear repeating values\n",
    "    val_instances_idx = val_instances_idx - val_instances_idx.intersection(train_instances_idx)\n",
    "    test_instances_idx = test_instances_idx - test_instances_idx.intersection(train_instances_idx)\n",
    "    \n",
    "    X_train, y_train = pick_elems_on_indices_from_both(input_data, labels, train_instances_idx)  \n",
    "    X_test, y_test = pick_elems_on_indices_from_both(input_data, labels, test_instances_idx)\n",
    "    X_val, y_val = pick_elems_on_indices_from_both(input_data, labels, val_instances_idx)\n",
    "    \n",
    "    # train_count = round(total_count * train_frac)\n",
    "    # val_count = round(total_count * val_frac)\n",
    "    # test_count = round(total_count * test_frac)\n",
    "    # \"The minimum number of groups for any class cannot be less than 2\" для sklearn.model_selection.train_test_split\n",
    "    # X_train, X_test, y_train, y_test = train_test_split(input_data, \n",
    "    #                                                     train_size=train_count+val_count, \n",
    "    #                                                     random_state=state, stratify=labels)\n",
    "    # X_train, X_val, y_train, y_val = train_test_split(X_train, \n",
    "    #                                                   train_size=train_count, \n",
    "    #                                                   random_state=state, stratify=y_train)\n",
    "    return [(X_train, y_train), (X_test, y_test), (X_val, y_val)]\n",
    "                "
   ]
  },
  {
   "cell_type": "code",
   "execution_count": 14,
   "id": "2890aa4e-b34b-4ecc-ba9c-8a3d6cb02917",
   "metadata": {},
   "outputs": [
    {
     "name": "stdout",
     "output_type": "stream",
     "text": [
      "Total 298\n",
      "Train count 210\n",
      "Test count 54\n",
      "Val count 34\n"
     ]
    }
   ],
   "source": [
    "random.seed(SEED)\n",
    "# dividing\n",
    "train_frac = 0.7\n",
    "val_frac = 0.1\n",
    "test_frac = 0.2\n",
    "\n",
    "#train_data, test_data, val_data = fraction_split(exercise2points, exercise2errors, train_frac, val_frac, test_frac)\n",
    "train_data, test_data, val_data = stratify_split(exercise2points, exercise2errors, train_frac, val_frac, test_frac, SEED)\n",
    "train_imgs, train_labels = train_data\n",
    "test_imgs, test_labels = test_data\n",
    "val_imgs, val_labels = val_data\n",
    "total_data_count = len(train_imgs) + len(test_imgs) + len(val_imgs)\n",
    "\n",
    "print(\"Total\", total_data_count)\n",
    "print(\"Train count\", len(train_imgs))\n",
    "print(\"Test count\", len(test_imgs))\n",
    "print(\"Val count\", len(val_imgs))"
   ]
  },
  {
   "cell_type": "code",
   "execution_count": 87,
   "id": "c5530438-d798-4723-bb56-d8061261ed4c",
   "metadata": {},
   "outputs": [],
   "source": [
    "#frame_length:int, channel_count:int, batch_first=False\n",
    "train_ds = AutoEvalLSTMDataset(train_imgs, train_labels, idx2error, SAMPLE_MAX_FRAME_COUNT, CHANNELS, BATCH_FIRST)\n",
    "val_ds = AutoEvalLSTMDataset(val_imgs, val_labels, idx2error, SAMPLE_MAX_FRAME_COUNT, CHANNELS, BATCH_FIRST)\n",
    "test_ds = AutoEvalLSTMDataset(test_imgs, test_labels, idx2error, SAMPLE_MAX_FRAME_COUNT, CHANNELS, BATCH_FIRST)"
   ]
  },
  {
   "cell_type": "code",
   "execution_count": 89,
   "id": "3d6a6045-2d3b-48b2-b4b0-67203d03618c",
   "metadata": {},
   "outputs": [],
   "source": [
    "batch_size = 32\n",
    "if BATCH_FIRST:\n",
    "    collate_func = torch.utils.data.default_collate\n",
    "else:\n",
    "    collate_func = batch_second_collate\n",
    "train_loader = DataLoader(train_ds, batch_size, shuffle=True, collate_fn=collate_func)\n",
    "val_loader = DataLoader(val_ds, batch_size, collate_fn=collate_func)\n",
    "test_loader = DataLoader(test_ds, 1, shuffle=False, collate_fn=collate_func)"
   ]
  },
  {
   "cell_type": "markdown",
   "id": "8ca27d1f-f2b9-4128-a1de-3718f076ac74",
   "metadata": {},
   "source": [
    "# Training"
   ]
  },
  {
   "cell_type": "markdown",
   "id": "cec79ec1-f84d-49db-ae86-c9ef210749fd",
   "metadata": {},
   "source": [
    "Model"
   ]
  },
  {
   "cell_type": "code",
   "execution_count": 109,
   "id": "eb4853f7-b8f0-47ef-985c-ff044e972317",
   "metadata": {},
   "outputs": [],
   "source": [
    "class RNNClassifier(torch.nn.Module):\n",
    "    def __init__(self, num_classes:int, input_dim:int, batch_first:bool, hidden_size:int=100, layers:int=5):\n",
    "        super().__init__()\n",
    "        # try 5? lstm layers\n",
    "        #hidden size?\n",
    "        self.feature_extractor = torch.nn.LSTM(input_dim, hidden_size, num_layers=layers, batch_first=batch_first)\n",
    "        self.cls = torch.nn.Sequential(\n",
    "            torch.nn.Linear(hidden_size, num_classes),\n",
    "            torch.nn.Sigmoid()\n",
    "        )\n",
    "        \n",
    "    def forward(self, xb):\n",
    "        #xb.shape = (seq, batch, feat) or (batch, seq, feat)\n",
    "        out, hidden_t = self.feature_extractor(xb)\n",
    "        hidden = hidden_t[0]\n",
    "        cls_input = hidden[-1,:]#.flatten()\n",
    "        return self.cls(cls_input)"
   ]
  },
  {
   "cell_type": "markdown",
   "id": "1b296360-1e90-4001-a40d-3cef615ddaf8",
   "metadata": {},
   "source": [
    "Train Functions"
   ]
  },
  {
   "cell_type": "code",
   "execution_count": 110,
   "id": "df7f2cdb-b390-48eb-9289-20607d83c301",
   "metadata": {},
   "outputs": [
    {
     "name": "stdout",
     "output_type": "stream",
     "text": [
      "cuda\n"
     ]
    }
   ],
   "source": [
    "def F_score(output, label, threshold=0.5, beta=1): #Calculate the accuracy of the model\n",
    "    prob = output > threshold\n",
    "    label = label > threshold\n",
    "\n",
    "    TP = (prob & label).sum(1).float()\n",
    "    TN = ((~prob) & (~label)).sum(1).float()\n",
    "    FP = (prob & (~label)).sum(1).float()\n",
    "    FN = ((~prob) & label).sum(1).float()\n",
    "\n",
    "    precision = torch.mean(TP / (TP + FP + 1e-12))\n",
    "    recall = torch.mean(TP / (TP + FN + 1e-12))\n",
    "    F2 = (1 + beta**2) * precision * recall / (beta**2 * precision + recall + 1e-12)\n",
    "    return F2.mean(0)\n",
    "    \n",
    "def to_device(data, device):\n",
    "    \"\"\"Move tensor(s) to chosen device\"\"\"\n",
    "    if isinstance(data, (list,tuple)):\n",
    "        return [to_device(x, device) for x in data]\n",
    "    return data.to(device, non_blocking=True)\n",
    "\n",
    "class DeviceDataLoader():  \n",
    "    \"\"\"Wrap a dataloader to move data to a device\"\"\"\n",
    "    def __init__(self, dl, device):\n",
    "        self.dl = dl\n",
    "        self.device = device       \n",
    "\n",
    "    def __iter__(self):\n",
    "        \"\"\"Yield a batch of data after moving it to device\"\"\"\n",
    "        for b in self.dl: \n",
    "            yield to_device(b, self.device)\n",
    "\n",
    "    def __len__(self):\n",
    "        \"\"\"Number of batches\"\"\"\n",
    "        return len(self.dl)\n",
    "        \n",
    "device = torch.device('cuda') if torch.cuda.is_available() else torch.device('cpu')\n",
    "print(device)\n",
    "\n",
    "train_dl = DeviceDataLoader(train_loader, device)\n",
    "val_dl = DeviceDataLoader(val_loader, device)"
   ]
  },
  {
   "cell_type": "code",
   "execution_count": 111,
   "id": "b09df444-3f53-41be-86a5-477ba36bd791",
   "metadata": {},
   "outputs": [],
   "source": [
    "def train_one_epoch(model:torch.nn.Module, criterion, optimizer, data_loader:DeviceDataLoader):\n",
    "    model.train()\n",
    "    running_losses = []\n",
    "    for i, (image, target) in enumerate(data_loader):        \n",
    "        optimizer.zero_grad()\n",
    "        out = model(image)\n",
    "        loss = criterion(out, target)\n",
    "        loss.backward()\n",
    "        optimizer.step() \n",
    "        running_losses.append(loss)\n",
    "    return torch.stack(running_losses).mean().item()\n",
    "    \n",
    "def evaluate(model, val_data_loader:DeviceDataLoader, criterion=F.binary_cross_entropy):\n",
    "    model.eval() \n",
    "    running_losses = []\n",
    "    running_fscore = []\n",
    "    with torch.no_grad():\n",
    "        for i, (image, target) in enumerate(val_data_loader):\n",
    "            out = model(image)\n",
    "            loss = criterion(out, target)\n",
    "            running_losses.append(loss.detach())\n",
    "            running_fscore.append(F_score(out, target).detach())\n",
    "    l = torch.stack(running_losses).mean().item()\n",
    "    fs = torch.stack(running_fscore).mean().item()\n",
    "    return l, fs\n",
    "\n",
    "def fit(epochs, lr, model, train_loader, val_loader, opt_func=torch.optim.SGD, criterion=F.binary_cross_entropy):\n",
    "    history = []\n",
    "    optimizer = opt_func(model.parameters(), lr)\n",
    "    for epoch in range(epochs):\n",
    "        # Training Phase\n",
    "        train_loss = train_one_epoch(model, criterion, optimizer, train_loader)\n",
    "        # Validation phase\n",
    "        val_loss, val_score = evaluate(model, val_loader, criterion)\n",
    "        result = {'train_loss':train_loss, 'val_loss':val_loss, 'val_score':val_score}\n",
    "        print(\"Epoch [{}], train_loss: {:.4f}, val_loss: {:.4f}, val_score: {:.4f}\".format(\n",
    "            epoch, result['train_loss'], result['val_loss'], result['val_score']))\n",
    "        history.append(result)\n",
    "    return history"
   ]
  },
  {
   "cell_type": "code",
   "execution_count": 112,
   "id": "07e2f434-3360-4384-a956-5bcc24103ca7",
   "metadata": {},
   "outputs": [
    {
     "name": "stdout",
     "output_type": "stream",
     "text": [
      "torch.Size([192, 32, 78])\n",
      "outputs.shape :  torch.Size([32, 23])\n",
      "Sample outputs :\n",
      " tensor([[0.5085, 0.4735, 0.4958, 0.5091, 0.5120, 0.4944, 0.4903, 0.4871, 0.4756,\n",
      "         0.4837, 0.5106, 0.4986, 0.5048, 0.4987, 0.5165, 0.4872, 0.4844, 0.4787,\n",
      "         0.5105, 0.5139, 0.5113, 0.4951, 0.5215],\n",
      "        [0.5085, 0.4735, 0.4959, 0.5091, 0.5119, 0.4943, 0.4903, 0.4872, 0.4757,\n",
      "         0.4836, 0.5108, 0.4986, 0.5048, 0.4986, 0.5165, 0.4873, 0.4842, 0.4787,\n",
      "         0.5106, 0.5138, 0.5113, 0.4950, 0.5215]], device='cuda:0')\n",
      "[(0.6892766952514648, 0.1618002951145172)]\n"
     ]
    }
   ],
   "source": [
    "#checking the shape of outputs that the model will produce before starting the training process\n",
    "model = to_device(RNNClassifier(len(idx2error), 26*CHANNELS, BATCH_FIRST), device)\n",
    "for images, labels in train_dl:\n",
    "    print(images.shape)\n",
    "    outputs = model(images)\n",
    "    break\n",
    "\n",
    "print('outputs.shape : ', outputs.shape)\n",
    "print('Sample outputs :\\n', outputs[:2].data)\n",
    "history = [evaluate(model, val_dl)]\n",
    "print(history)"
   ]
  },
  {
   "cell_type": "markdown",
   "id": "fbfb3e8e-7349-4056-8b84-5569e677f144",
   "metadata": {},
   "source": [
    "Само обучение"
   ]
  },
  {
   "cell_type": "code",
   "execution_count": 180,
   "id": "fc805cd6-2c36-4bbe-b598-7425c715c576",
   "metadata": {},
   "outputs": [],
   "source": [
    "model = to_device(RNNClassifier(len(idx2error), 26*CHANNELS, BATCH_FIRST, hidden_size=10, layers=1), device)\n",
    "epochs = 100\n",
    "lr = 0.001\n",
    "grad_clip = 0.1\n",
    "weight_decay = 1e-4\n",
    "opt_func = torch.optim.Adam"
   ]
  },
  {
   "cell_type": "code",
   "execution_count": null,
   "id": "20c21aa5-56f9-4c99-a978-96bdcb8decf6",
   "metadata": {
    "scrolled": true
   },
   "outputs": [],
   "source": [
    "history = fit(epochs, lr, model, train_dl, val_dl, opt_func=opt_func)"
   ]
  },
  {
   "cell_type": "markdown",
   "id": "ed210ed8-dcff-4a54-837b-0741912a67a1",
   "metadata": {},
   "source": [
    "Showing results"
   ]
  },
  {
   "cell_type": "code",
   "execution_count": 115,
   "id": "40eb0114-4abd-4199-b317-251f355aa021",
   "metadata": {},
   "outputs": [],
   "source": [
    "def plot_scores(history):\n",
    "    scores = [x['val_score'] for x in history]\n",
    "    plt.plot(scores, '-x')\n",
    "    plt.xlabel('epoch')\n",
    "    plt.ylabel('score')\n",
    "    plt.title('Validation F1 score vs. No. of epochs');\n",
    "    \n",
    "def plot_losses(history, loss_name):\n",
    "    train_losses = [x.get('train_loss') for x in history]\n",
    "    val_losses = [x['val_loss'] for x in history]\n",
    "    plt.plot(train_losses, '-bx')\n",
    "    plt.plot(val_losses, '-rx')\n",
    "    plt.xlabel('epoch')\n",
    "    plt.ylabel('loss')\n",
    "    plt.legend(['Training', 'Validation'])\n",
    "    plt.title(f'{loss_name} Loss vs. No. of epochs');"
   ]
  },
  {
   "cell_type": "code",
   "execution_count": 182,
   "id": "0e489501-a21e-432d-a046-3d1323374aaf",
   "metadata": {},
   "outputs": [
    {
     "data": {
      "image/png": "[encoded data removed]",
      "text/plain": [
       "<Figure size 640x480 with 1 Axes>"
      ]
     },
     "metadata": {},
     "output_type": "display_data"
    }
   ],
   "source": [
    "plot_scores(history)"
   ]
  },
  {
   "cell_type": "code",
   "execution_count": 183,
   "id": "85fe2da6-865c-45d1-be06-fd6fda7d49c5",
   "metadata": {},
   "outputs": [
    {
     "data": {
      "image/png": "[encoded data removed]",
      "text/plain": [
       "<Figure size 640x480 with 1 Axes>"
      ]
     },
     "metadata": {},
     "output_type": "display_data"
    }
   ],
   "source": [
    "plot_losses(history, \"BCE\")"
   ]
  },
  {
   "cell_type": "markdown",
   "id": "4aae3a42-a0df-4634-acac-a75263909d98",
   "metadata": {},
   "source": [
    "# Metrics"
   ]
  },
  {
   "cell_type": "markdown",
   "id": "99941e66-debd-480a-8410-cfb5314b31f3",
   "metadata": {},
   "source": [
    "https://stats.stackexchange.com/questions/12702/what-are-the-measure-for-accuracy-of-multilabel-data"
   ]
  },
  {
   "cell_type": "code",
   "execution_count": 118,
   "id": "225b2b68-95e7-479f-babe-5b9e80664ecf",
   "metadata": {},
   "outputs": [],
   "source": [
    "def exact_match_ratio(y_pred:np.ndarray, y_true:np.ndarray)->float:\n",
    "    samples_count = y_pred.shape[0]\n",
    "    return (y_true == y_pred).all(1).astype(np.float32).sum() / samples_count\n",
    "\n",
    "def multilabel_accuracy(y_pred:np.ndarray, y_true:np.ndarray)->float: # пока равна recall\n",
    "    samples_count = y_pred.shape[0]\n",
    "    # intersection over union of classes\n",
    "    accuracy_sum = 0.0\n",
    "    for sample in range(samples_count):\n",
    "        pred_sample = y_pred[sample, :]\n",
    "        true_sample = y_true[sample, :]\n",
    "        pred_classes = set(decode_target(pred_sample, idx2error))\n",
    "        true_classes = set(decode_target(true_sample, idx2error))\n",
    "        accuracy_sum += float(len(pred_classes&true_classes))/len(pred_classes|true_classes)\n",
    "    return accuracy_sum / samples_count\n",
    "\n",
    "def hamming_loss(y_pred:np.ndarray, y_true:np.ndarray)->float:\n",
    "    hl_sum = (1 - y_pred[np.nonzero(y_true)]).sum()\n",
    "    hl_sum += y_pred[y_true == 0].sum()\n",
    "    return hl_sum / y_pred.size"
   ]
  },
  {
   "cell_type": "markdown",
   "id": "360b9bc0-afdc-43ac-aac2-dd47e136a54f",
   "metadata": {},
   "source": [
    "# Testing"
   ]
  },
  {
   "cell_type": "code",
   "execution_count": 119,
   "id": "52b46762-dc39-4f95-b9b3-055e66a8ee9c",
   "metadata": {},
   "outputs": [],
   "source": [
    "def show_example(img, pred_label, true_label=None):\n",
    "    plt.imshow(img.permute(1,2,0))\n",
    "    print(\"Predicted label:\", decode_target(pred_label, idx2error))\n",
    "    if true_label != None:\n",
    "        print(\"True label:\", decode_target(true_label, idx2error))\n",
    "    print()\n",
    "    print(pred_label)\n",
    "\n",
    "def predict_single(image, label=None):\n",
    "    xb = image.unsqueeze(0)\n",
    "    xb = to_device(xb, device)\n",
    "    preds = model(xb)\n",
    "    prediction = preds[0]\n",
    "    show_example(image, prediction, label)"
   ]
  },
  {
   "cell_type": "code",
   "execution_count": 184,
   "id": "3de3ac3e-518f-4586-8605-7cd204d4b7d3",
   "metadata": {},
   "outputs": [],
   "source": [
    "model.eval()\n",
    "test_dl = DeviceDataLoader(test_loader, device)\n",
    "\n",
    "test_losses = []\n",
    "test_f1s = []\n",
    "preds = []\n",
    "trues = []\n",
    "with torch.no_grad():\n",
    "    for batch in test_dl:\n",
    "        images, targets = batch \n",
    "        out = model(images)                           # Generate predictions\n",
    "        loss = F.binary_cross_entropy(out, targets)   # Calculate loss\n",
    "        score = F_score(out, targets)                 # Calculate accuracy\n",
    "        test_losses.append(loss.detach().cpu().item())\n",
    "        test_f1s.append(score.detach().cpu().item())\n",
    "        preds.append(out.cpu().numpy())\n",
    "        trues.append(targets.cpu().numpy())"
   ]
  },
  {
   "cell_type": "code",
   "execution_count": 185,
   "id": "5bd73540-4189-46a6-8b7f-64e8c0770989",
   "metadata": {},
   "outputs": [],
   "source": [
    "preds_labels = []\n",
    "for pred in preds:\n",
    "    preds_labels.append((pred > THRESHOLD).astype(np.float32))\n",
    "pred_ar = np.array(preds_labels).squeeze()\n",
    "trues_ar = np.array(trues).squeeze()"
   ]
  },
  {
   "cell_type": "code",
   "execution_count": 186,
   "id": "08832023-00e6-4551-b7c6-949b1792bb1b",
   "metadata": {},
   "outputs": [
    {
     "name": "stdout",
     "output_type": "stream",
     "text": [
      "Zeros in data: 0.9541062801932367\n"
     ]
    }
   ],
   "source": [
    "zeros_fraction = (trues_ar == 0).astype(np.float32).sum() / trues_ar.size\n",
    "print(\"Zeros in data:\", zeros_fraction)"
   ]
  },
  {
   "cell_type": "code",
   "execution_count": 187,
   "id": "d5d399e2-caac-4cb1-be96-a6772f4eccf7",
   "metadata": {},
   "outputs": [
    {
     "name": "stdout",
     "output_type": "stream",
     "text": [
      "Test BCE loss: 0.09440668403274483\n",
      "Test F1-score: 0.7592592592592593\n"
     ]
    }
   ],
   "source": [
    "# test_loss = np.mean(test_losses)\n",
    "# testf1 = np.mean(test_f1s)\n",
    "print(\"Test BCE loss:\", np.mean(test_losses))\n",
    "print(\"Test F1-score:\", np.mean(test_f1s))"
   ]
  },
  {
   "cell_type": "code",
   "execution_count": 188,
   "id": "4abd54fe-8e50-49c6-8256-f196c6f04ccf",
   "metadata": {},
   "outputs": [
    {
     "name": "stdout",
     "output_type": "stream",
     "text": [
      "Exact match ratio: 0.7592592592592593\n"
     ]
    }
   ],
   "source": [
    "# exact match ratio\n",
    "#emr = (trues_ar == pred_ar).astype(np.float32).sum() / trues_ar.size\n",
    "emr = exact_match_ratio(pred_ar, trues_ar)\n",
    "print(\"Exact match ratio:\", emr)"
   ]
  },
  {
   "cell_type": "code",
   "execution_count": 189,
   "id": "d929ac61-0ef9-4b69-883d-19aa3ddd52b1",
   "metadata": {},
   "outputs": [
    {
     "name": "stdout",
     "output_type": "stream",
     "text": [
      "Hamming loss: 0.023349436392914653\n"
     ]
    }
   ],
   "source": [
    "print(\"Hamming loss:\", hamming_loss(pred_ar, trues_ar)) # less is better"
   ]
  },
  {
   "cell_type": "code",
   "execution_count": 190,
   "id": "ccbc7989-a8de-4b81-98bd-b32bda5274d1",
   "metadata": {},
   "outputs": [
    {
     "name": "stdout",
     "output_type": "stream",
     "text": [
      "Accuracy: 0.7592592592592593\n"
     ]
    }
   ],
   "source": [
    "print(\"Accuracy:\", multilabel_accuracy(pred_ar, trues_ar))"
   ]
  },
  {
   "cell_type": "code",
   "execution_count": 191,
   "id": "42442325-1d61-42b7-848b-e16c3ca07f59",
   "metadata": {},
   "outputs": [
    {
     "name": "stdout",
     "output_type": "stream",
     "text": [
      "                                                 precision    recall  f1-score   support\n",
      "\n",
      "                                     нет ошибок       0.76      1.00      0.86        41\n",
      "                                 наклон корпуса       0.00      0.00      0.00         3\n",
      "                                короткая стойка       0.00      0.00      0.00         1\n",
      "                                  вес на задней       0.00      0.00      0.00         2\n",
      "                             касание, нет упора       0.00      0.00      0.00         2\n",
      "                                  подтаскивание       0.00      0.00      0.00         1\n",
      "                                стопа в воздухе       0.00      0.00      0.00         1\n",
      "                        стопы не доворачиваются       0.00      0.00      0.00         1\n",
      "                                 повышение таза       0.00      0.00      0.00         0\n",
      "                        стопы направлены внутрь       0.00      0.00      0.00         1\n",
      "                             ноги распрямляются       0.00      0.00      0.00         0\n",
      "                           пятки на одной линии       0.00      0.00      0.00         0\n",
      "                                  перепрыгивает       0.00      0.00      0.00         0\n",
      "                              подтащил переднюю       0.00      0.00      0.00         1\n",
      "                                 недоворот таза       0.00      0.00      0.00         1\n",
      "                    ось вращения в центре стопы       0.00      0.00      0.00         0\n",
      "                            движение из падения       0.00      0.00      0.00         0\n",
      "   задняя стопа пересекает прямую между стопами       0.00      0.00      0.00         1\n",
      "                          сгибается задняя нога       0.00      0.00      0.00         0\n",
      "                          колени смотрят внутрь       0.00      0.00      0.00         0\n",
      "                       завалено переднее колено       0.00      0.00      0.00         0\n",
      "передняя пятка смещается назад, а должна вперед       0.00      0.00      0.00         1\n",
      "                      задняя нога распрямляется       0.00      0.00      0.00         0\n",
      "\n",
      "                                      micro avg       0.76      0.72      0.74        57\n",
      "                                      macro avg       0.03      0.04      0.04        57\n",
      "                                   weighted avg       0.55      0.72      0.62        57\n",
      "                                    samples avg       0.76      0.76      0.76        57\n",
      "\n"
     ]
    }
   ],
   "source": [
    "print(classification_report(trues_ar, pred_ar, target_names=np.array([idx2error[i] for i in range(len(idx2error))]), zero_division=0))"
   ]
  },
  {
   "cell_type": "code",
   "execution_count": 192,
   "id": "587056bb-3a65-4b85-bb96-814ba1a708f1",
   "metadata": {},
   "outputs": [
    {
     "data": {
      "text/plain": [
       "(array([], dtype=int64), array([], dtype=int64))"
      ]
     },
     "execution_count": 192,
     "metadata": {},
     "output_type": "execute_result"
    }
   ],
   "source": [
    "# всегда предсказывает \"нет ошибок\" (индекс 0)\n",
    "pred_ar[:, 1:].nonzero()"
   ]
  }
 ],
 "metadata": {
  "kernelspec": {
   "display_name": "Python 3 (ipykernel)",
   "language": "python",
   "name": "python3"
  },
  "language_info": {
   "codemirror_mode": {
    "name": "ipython",
    "version": 3
   },
   "file_extension": ".py",
   "mimetype": "text/x-python",
   "name": "python",
   "nbconvert_exporter": "python",
   "pygments_lexer": "ipython3",
   "version": "3.11.7"
  }
 },
 "nbformat": 4,
 "nbformat_minor": 5
}
