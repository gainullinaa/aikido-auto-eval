{
 "cells": [
  {
   "cell_type": "code",
   "execution_count": 1,
   "id": "dc2804bf-db32-4298-bf28-b38bbe5a60aa",
   "metadata": {},
   "outputs": [],
   "source": [
    "import numpy as np\n",
    "from tqdm import tqdm\n",
    "import cv2 as cv\n",
    "import matplotlib.pyplot as plt\n",
    "from sklearn.model_selection import train_test_split\n",
    "from PIL import Image\n",
    "\n",
    "from sequitur.models import CONV_LSTM_AE, LSTM_AE\n",
    "\n",
    "import torch\n",
    "import torch.nn as nn\n",
    "import torchvision.models as models\n",
    "import torchvision.transforms as T\n",
    "from torch.utils.data import Dataset, random_split, DataLoader\n",
    "import torch.nn.functional as F\n",
    "\n",
    "import json\n",
    "import os\n",
    "import random\n",
    "from collections import OrderedDict"
   ]
  },
  {
   "cell_type": "markdown",
   "id": "4ea7c9ef-2f9e-443d-80c7-622feddb958e",
   "metadata": {},
   "source": [
    "Идея в том, чтобы принимать картинку за одного и того же человека, если их вектора-эмбеддинги близки.  \n",
    "Получать эмбеддинг картинки, к этому вектору конкатенировать положение картинки на кадре из видео."
   ]
  },
  {
   "cell_type": "code",
   "execution_count": 2,
   "id": "4d97eaf8-244b-4325-9c18-c12fe3be3881",
   "metadata": {},
   "outputs": [],
   "source": [
    "annotations2vid = {\n",
    "    \"../alphapose_res/0756_alpha.json\" : \"../original_vids/0756-30fps.mp4\",\n",
    "    \"../alphapose_res/0912_alpha.json\" : \"../original_vids/0912-30fps.mp4\",\n",
    "    \"../alphapose_res/1043_alpha.json\" : \"../original_vids/1043-30fps.mp4\",\n",
    "    \"../alphapose_res/1156_alpha.json\" : \"../original_vids/1156-30fps.mp4\",\n",
    "    \"../alphapose_res/1237_alpha.json\" : \"../original_vids/1237-30fps.mp4\",\n",
    "    \"../alphapose_res/20240320_alpha.json\" : \"../original_vids/20240320_193441-30fps.mp4\",\n",
    "    \"../alphapose_res/irimi_tenkan_kps.json\" : \"../irimi_tenkan_mistakes_crop.mp4\",\n",
    "    \"../alphapose_res/paths_0220.json\" : \"../original_vids/20230220_2_track-30fps.mp4\",\n",
    "    \"../alphapose_res/selection_192514.json\" : \"../original_vids/selection_20240219_192514-30fps.mp4\",\n",
    "    \"../alphapose_res/selection_192815.json\" : \"../original_vids/selection_20240214_192815-30fps.mp4\",\n",
    "    \"../alphapose_res/ta_tracking.json\" : \"../tsugi_ashi_mistakes_crop.mp4\",\n",
    "    \"../alphapose_res/utmt_kps.json\" : \"../ushiro_tenkan_mae_tenkan_mistakes_crop.mp4\"\n",
    "}\n",
    "\n",
    "EMB_DIM = 28"
   ]
  },
  {
   "cell_type": "markdown",
   "id": "c16ebe7b-9e4a-4142-8c9e-e49a9218df43",
   "metadata": {},
   "source": [
    "# Отслеживание с SSIM или PSNR"
   ]
  },
  {
   "cell_type": "markdown",
   "id": "0ae7565d-4415-4b36-91aa-dd4bd679e434",
   "metadata": {},
   "source": [
    "Все box'ы нужны только для визуализации"
   ]
  },
  {
   "cell_type": "code",
   "execution_count": 18,
   "id": "ca00587f-f2f2-45cd-91c1-58cc60348ebc",
   "metadata": {
    "editable": true,
    "slideshow": {
     "slide_type": ""
    },
    "tags": []
   },
   "outputs": [],
   "source": [
    "def resize_person_image(im:np.ndarray, side:int=224):\n",
    "    tmp_pil = Image.fromarray(im)\n",
    "    resized = tmp_pil.resize((side, side))\n",
    "    return np.array(resized)\n",
    "\n",
    "# https://docs.opencv.org/3.4/d5/dc4/tutorial_video_input_psnr_ssim.html\n",
    "def getPSNR(I1, I2):\n",
    "    if I1.shape != I2.shape: # insure that sizes are the same\n",
    "        I1 = resize_person_image(I1)\n",
    "        I2 = resize_person_image(I2)  \n",
    "    s1 = cv.absdiff(I1, I2) #|I1 - I2|\n",
    "    s1 = np.float32(s1) # cannot make a square on 8 bits\n",
    "    s1 = s1 * s1 # |I1 - I2|^2\n",
    "    sse = s1.sum() # sum elements per channel\n",
    "    if sse <= 1e-10: # sum channels\n",
    "        return 0 # for small values return zero\n",
    "    shape = I1.shape\n",
    "    mse = 1.0 * sse / (shape[0] * shape[1] * shape[2])\n",
    "    psnr = 10.0 * np.log10((255 * 255) / mse)\n",
    "    return psnr\n",
    "    \n",
    "def getMSSISM(i1, i2):\n",
    "    if i1.shape != i2.shape: # insure that sizes are the same\n",
    "        i1 = resize_person_image(i1)\n",
    "        i2 = resize_person_image(i2)    \n",
    "    C1 = 6.5025\n",
    "    C2 = 58.5225\n",
    "    # INITS\n",
    "    I1 = np.float32(i1) # cannot calculate on one byte large values\n",
    "    I2 = np.float32(i2)\n",
    "    I2_2 = I2 * I2 # I2^2\n",
    "    I1_2 = I1 * I1 # I1^2\n",
    "    I1_I2 = I1 * I2 # I1 * I2\n",
    "    # END INITS\n",
    "    # PRELIMINARY COMPUTING\n",
    "    mu1 = cv.GaussianBlur(I1, (11, 11), 1.5)\n",
    "    mu2 = cv.GaussianBlur(I2, (11, 11), 1.5)\n",
    "    mu1_2 = mu1 * mu1\n",
    "    mu2_2 = mu2 * mu2\n",
    "    mu1_mu2 = mu1 * mu2\n",
    "    sigma1_2 = cv.GaussianBlur(I1_2, (11, 11), 1.5)\n",
    "    sigma1_2 -= mu1_2\n",
    "    sigma2_2 = cv.GaussianBlur(I2_2, (11, 11), 1.5)\n",
    "    sigma2_2 -= mu2_2\n",
    "    sigma12 = cv.GaussianBlur(I1_I2, (11, 11), 1.5)\n",
    "    sigma12 -= mu1_mu2\n",
    "    t1 = 2 * mu1_mu2 + C1\n",
    "    t2 = 2 * sigma12 + C2\n",
    "    t3 = t1 * t2 # t3 = ((2*mu1_mu2 + C1).*(2*sigma12 + C2))\n",
    "    t1 = mu1_2 + mu2_2 + C1\n",
    "    t2 = sigma1_2 + sigma2_2 + C2\n",
    "    t1 = t1 * t2 # t1 =((mu1_2 + mu2_2 + C1).*(sigma1_2 + sigma2_2 + C2))\n",
    "    ssim_map = cv.divide(t3, t1) # ssim_map = t3./t1;\n",
    "    mssim = cv.mean(ssim_map) # mssim = average of ssim map\n",
    "    \n",
    "    # my change - return just 1 val\n",
    "    # no alpha channel\n",
    "    return np.mean(mssim[:3]) # mssim\n",
    "\n",
    "def update_person_box_similarity(prev_images:dict, prev_boxes:dict, newly_images:list, newly_boxes:list, ssim_threshold:float=0.5):\n",
    "    new_images_index = dict()\n",
    "    new_box_index = dict()\n",
    "    sims = dict()\n",
    "    for box_idx, box in enumerate(newly_images):\n",
    "        potential_index = dict()\n",
    "        for idx in prev_images:\n",
    "            similarity = getMSSISM(box, prev_images[idx]) #getPSNR(box, prev_images[idx])\n",
    "            if idx in new_images_index and (sims[idx] >= similarity):\n",
    "                continue  \n",
    "            if similarity >= ssim_threshold : #same person\n",
    "                potential_index[idx] = similarity\n",
    "        if len(potential_index) > 0:\n",
    "            max_index = max(potential_index, key=potential_index.get)\n",
    "            new_images_index[max_index] = box\n",
    "            sims[max_index] = potential_index[max_index]\n",
    "            new_box_index[max_index] = newly_boxes[box_idx]\n",
    "        else: # found new person\n",
    "            new_max_idx = max(prev_images) + 1\n",
    "            new_images_index[new_max_idx] = box\n",
    "            sims[new_max_idx] = 1\n",
    "            new_box_index[new_max_idx] = newly_boxes[box_idx]\n",
    "    for idx in prev_images:\n",
    "        if not (idx in new_images_index): #not in new_box_index either\n",
    "            new_images_index[idx] = prev_images[idx]\n",
    "            new_box_index[idx] = prev_boxes[idx]\n",
    "    return new_images_index, new_box_index\n",
    "\n",
    "def vis_box_tracking(image, boxes:dict, colors:np.ndarray) -> np.ndarray:\n",
    "    for box_key in boxes:\n",
    "        color = (int(colors[box_key, 0]), int(colors[box_key, 1]), int(colors[box_key, 2]))\n",
    "        bbox = boxes[box_key]\n",
    "        start_point = int(bbox[0]), int(bbox[1])\n",
    "        end_point = int(bbox[0] + bbox[2]), int(bbox[1] + bbox[3])\n",
    "        cv.rectangle(image, start_point, end_point, color, 2)\n",
    "        text_location = (10 + int(bbox[0]), 20 + int(bbox[1]))\n",
    "        cv.putText(image, str(box_key), text_location, cv.FONT_HERSHEY_PLAIN, 1, color, 3)\n",
    "    return image"
   ]
  },
  {
   "cell_type": "code",
   "execution_count": 17,
   "id": "5e8bff97-c71a-41db-b6b5-1d6a79f795f5",
   "metadata": {},
   "outputs": [
    {
     "data": {
      "text/plain": [
       "True"
      ]
     },
     "execution_count": 17,
     "metadata": {},
     "output_type": "execute_result"
    }
   ],
   "source": [
    "codec_code = cv.VideoWriter.fourcc(*'h264')\n",
    "writer = cv.VideoWriter(\"../0756_ssim_tracking.mp4\", codec_code, 30.0, (1280, 720))\n",
    "writer.isOpened()"
   ]
  },
  {
   "cell_type": "code",
   "execution_count": null,
   "id": "fbffd143-6faa-4d22-9140-4aebb789393b",
   "metadata": {},
   "outputs": [],
   "source": [
    "colors = np.random.default_rng().integers(0, 256, (1000, 3), dtype='uint8')\n",
    "vidcap = cv.VideoCapture(\"../original_vids/0756-30fps.mp4\")\n",
    "fps = vidcap.get(cv.CAP_PROP_FPS)\n",
    "total_frames = int(vidcap.get(cv.CAP_PROP_FRAME_COUNT))\n",
    "\n",
    "vid_width = vidcap.get(cv.CAP_PROP_FRAME_WIDTH)\n",
    "vid_height = vidcap.get(cv.CAP_PROP_FRAME_HEIGHT)\n",
    "\n",
    "current_frame = 0\n",
    "success,frame = vidcap.read()\n",
    "if not success:\n",
    "    print(\"error in video\", vid_path)\n",
    "with open(\"../alphapose_res/0756_alpha.json\", \"r\") as ann_file:\n",
    "    anns = json.load(ann_file)\n",
    "past_frame_identified_people = None\n",
    "past_frame_boxes = None\n",
    "cur_frame_people = []\n",
    "cur_frame_boxes = []\n",
    "for person in tqdm(anns):\n",
    "    if person['image_id'] > current_frame:\n",
    "        # print(\"cur\", cur_frame_boxes)\n",
    "        # print(\"past\", past_frame_boxes)\n",
    "        # if current_frame + 1 == 5: break\n",
    "        if past_frame_identified_people and past_frame_boxes:\n",
    "            past_frame_identified_people, past_frame_boxes = update_person_box_similarity(\n",
    "                past_frame_identified_people, past_frame_boxes,\n",
    "                cur_frame_people, cur_frame_boxes, 0)\n",
    "        else:\n",
    "            past_frame_identified_people = {idx:pic for idx, pic in enumerate(cur_frame_people)}\n",
    "            past_frame_boxes = {idx:pic for idx, pic in enumerate(cur_frame_boxes)}\n",
    "        annotated_img = vis_box_tracking(frame, past_frame_boxes, colors)\n",
    "        writer.write(annotated_img)\n",
    "        \n",
    "        success,frame = vidcap.read()\n",
    "        if not success:\n",
    "            print(\"error in video\", \"../original_vids/0756-30fps.mp4\")\n",
    "            break\n",
    "        current_frame += 1\n",
    "        cur_frame_people = []\n",
    "        cur_frame_boxes = []\n",
    "    person_bbox = np.array(list(map(round, person['box'])))\n",
    "    y, x, h, w = person_bbox\n",
    "    person_img = frame[x:x + w, y:y + h]\n",
    "    #person_scaled_bbox = np.array([x/vid_width, y/vid_height, w/vid_width, h/vid_height])\n",
    "    #cur_frame_people.append((person_img, person_scaled_bbox))\n",
    "    cur_frame_boxes.append(person_bbox)\n",
    "    cur_frame_people.append(person_img)\n",
    "vidcap.release()\n",
    "writer.release()"
   ]
  },
  {
   "cell_type": "markdown",
   "id": "8290e146-08c0-4526-b1d5-944d6315167d",
   "metadata": {},
   "source": [
    "# Отслеживание с ML"
   ]
  },
  {
   "cell_type": "markdown",
   "id": "50befb3c-81c7-42e0-87f1-b8c7ea837c89",
   "metadata": {},
   "source": [
    "## Подготовка данных"
   ]
  },
  {
   "cell_type": "markdown",
   "id": "0e3a4ef5-4d9f-4945-88e0-57e9430d246a",
   "metadata": {},
   "source": [
    "Пока на 1 видео, так как чтение всех видео из списка тормозит мой компьютер до троттлинга."
   ]
  },
  {
   "cell_type": "markdown",
   "id": "1d5dce36-fd8f-4d81-93d8-d2886d74303e",
   "metadata": {},
   "source": [
    "BoundingBox(origin_x, origin_y, width, height)"
   ]
  },
  {
   "cell_type": "code",
   "execution_count": 3,
   "id": "625af075-e096-42e6-871d-c01a05d7d4a7",
   "metadata": {},
   "outputs": [],
   "source": [
    "def read_people_images(annotations_path, vid_path):\n",
    "    people_imgs_coordinates = []\n",
    "    print(\"Processing\", annotations_path)\n",
    "    with open(annotations_path, \"r\") as ann_file:\n",
    "        anns = json.load(ann_file)\n",
    "        \n",
    "    vidcap = cv.VideoCapture(vid_path)\n",
    "    if not vidcap.isOpened():\n",
    "        print(\"error in video\", vid_path)\n",
    "        return people_imgs_coordinates\n",
    "    vid_width = vidcap.get(cv.CAP_PROP_FRAME_WIDTH)\n",
    "    vid_height = vidcap.get(cv.CAP_PROP_FRAME_HEIGHT)\n",
    "    current_frame = 0\n",
    "    success,frame = vidcap.read()\n",
    "    if not success:\n",
    "        print(\"error in video\", vid_path)\n",
    "        vidcap.release()\n",
    "        return people_imgs_coordinates\n",
    "    #cur_frame_people = []\n",
    "    for person in tqdm(anns):\n",
    "        if person['image_id'] > current_frame:\n",
    "            success,frame = vidcap.read()\n",
    "            if not success:\n",
    "                print(\"error in video\", vid_path)\n",
    "                break\n",
    "            current_frame += 1\n",
    "            # people_imgs_coordinates.append(cur_frame_people)\n",
    "            # cur_frame_people = []\n",
    "        person_bbox = np.array(list(map(round, person['box'])))\n",
    "        y, x, h, w = person_bbox\n",
    "        person_img = frame[x:x + w, y:y + h]\n",
    "        person_scaled_bbox = np.array([x/vid_width, y/vid_height, w/vid_width, h/vid_height])\n",
    "        people_imgs_coordinates.append((person_img, person_scaled_bbox))\n",
    "        #cur_frame_people.append(person_img)\n",
    "    vidcap.release()\n",
    "    return people_imgs_coordinates"
   ]
  },
  {
   "cell_type": "code",
   "execution_count": 19,
   "id": "771229fd-0103-493c-9ad5-b69503b198a2",
   "metadata": {},
   "outputs": [
    {
     "name": "stdout",
     "output_type": "stream",
     "text": [
      "Processing ../alphapose_res/0912_alpha.json\n"
     ]
    },
    {
     "name": "stderr",
     "output_type": "stream",
     "text": [
      "100%|██████████████████████████████████████████████████████████████████████████| 13726/13726 [00:07<00:00, 1921.52it/s]\n"
     ]
    },
    {
     "data": {
      "text/plain": [
       "13726"
      ]
     },
     "execution_count": 19,
     "metadata": {},
     "output_type": "execute_result"
    }
   ],
   "source": [
    "frame_people = read_people_images(\"../alphapose_res/0912_alpha.json\", \"../original_vids/0912-30fps.mp4\")\n",
    "len(frame_people)"
   ]
  },
  {
   "cell_type": "code",
   "execution_count": 20,
   "id": "2bcd8cd4-0647-49c1-b05c-b52b90bfbb2b",
   "metadata": {},
   "outputs": [],
   "source": [
    "class NNTrackingDataset(Dataset):\n",
    "    def __init__(self, frame_people:list, transform):\n",
    "        self.transform = transform\n",
    "        self.images, self.boxes = zip(*frame_people)\n",
    "\n",
    "    def __len__(self):\n",
    "        return len(self.images)\n",
    "\n",
    "    def __getitem__(self, idx):\n",
    "        img = Image.fromarray(self.images[idx])\n",
    "        return self.transform(img)\n",
    "\n",
    "    def img_with_box_at(idx):\n",
    "        return self.__getitem__(idx), self.boxes[idx]\n",
    "\n",
    "imagenet_mean = [0.485, 0.456, 0.406]\n",
    "imagenet_std = [0.229, 0.224, 0.225]\n",
    "\n",
    "train_tforms = T.Compose([\n",
    "    T.Resize([224, 224]),\n",
    "    T.RandomHorizontalFlip(),\n",
    "    T.ToTensor(),\n",
    "    T.Normalize(mean=imagenet_mean, std=imagenet_std)\n",
    "])\n",
    "\n",
    "val_tforms = T.Compose([\n",
    "    T.Resize([224, 224]),\n",
    "    T.ToTensor(),\n",
    "    T.Normalize(mean=imagenet_mean, std=imagenet_std)\n",
    "])"
   ]
  },
  {
   "cell_type": "code",
   "execution_count": 21,
   "id": "aa6c734f-7fcc-4950-834e-fa173ff28d10",
   "metadata": {},
   "outputs": [
    {
     "name": "stdout",
     "output_type": "stream",
     "text": [
      "Train count 9681\n",
      "Test count 2690\n",
      "Val count 1355\n"
     ]
    }
   ],
   "source": [
    "train_frac = 0.7\n",
    "val_frac = 0.1\n",
    "test_frac = 0.2\n",
    "\n",
    "train_imgs = []\n",
    "test_imgs = []\n",
    "val_imgs = []\n",
    "for info in frame_people:\n",
    "    rval = random.random()\n",
    "    if rval <= train_frac:\n",
    "        train_imgs.append(info)\n",
    "    elif rval <= (train_frac + test_frac):\n",
    "        test_imgs.append(info)\n",
    "    else:\n",
    "        val_imgs.append(info)\n",
    "\n",
    "print(\"Train count\", len(train_imgs))\n",
    "print(\"Test count\", len(test_imgs))\n",
    "print(\"Val count\", len(val_imgs))"
   ]
  },
  {
   "cell_type": "code",
   "execution_count": 22,
   "id": "6b27a05b-89ab-4c2a-94d1-12e57aa954c0",
   "metadata": {},
   "outputs": [
    {
     "data": {
      "text/plain": [
       "torch.Size([3, 224, 224])"
      ]
     },
     "execution_count": 22,
     "metadata": {},
     "output_type": "execute_result"
    }
   ],
   "source": [
    "train_ds = NNTrackingDataset(train_imgs, train_tforms)\n",
    "val_ds = NNTrackingDataset(val_imgs, val_tforms)\n",
    "test_ds = NNTrackingDataset(test_imgs, val_tforms)\n",
    "train_ds[0].shape"
   ]
  },
  {
   "cell_type": "code",
   "execution_count": 23,
   "id": "9988aabe-0bd6-4289-a9af-d88c4e67e3ce",
   "metadata": {},
   "outputs": [],
   "source": [
    "# setting batch size for Dataloader to load the data batch by batch\n",
    "batch_size = 32\n",
    "train_loader = DataLoader(train_ds, batch_size, shuffle=True)\n",
    "val_loader = DataLoader(val_ds, batch_size, shuffle=False)\n",
    "test_loader = DataLoader(test_ds, 1, shuffle=False)"
   ]
  },
  {
   "cell_type": "markdown",
   "id": "ddd29d7e-e644-4cee-9b64-a09a2ef903ff",
   "metadata": {},
   "source": [
    "## Модель"
   ]
  },
  {
   "cell_type": "markdown",
   "id": "60f328a4-a50b-49c5-8c8d-de161fce6c29",
   "metadata": {},
   "source": [
    "Код для обучения и архитектуры модели взят из:"
   ]
  },
  {
   "cell_type": "markdown",
   "id": "a460a6d5-7232-4e81-9915-dcc386663413",
   "metadata": {},
   "source": [
    "https://pyimagesearch.com/2023/07/17/implementing-a-convolutional-autoencoder-with-pytorch/"
   ]
  },
  {
   "cell_type": "code",
   "execution_count": 11,
   "id": "c60db03a-d74a-47cc-b80a-8f21db30edeb",
   "metadata": {},
   "outputs": [],
   "source": [
    "class Encoder(nn.Module):\n",
    "    def __init__(self, channels, embedding_dim):\n",
    "        super(Encoder, self).__init__()\n",
    "        # define convolutional layers\n",
    "        self.conv1 = nn.Conv2d(channels, 32, kernel_size=3, stride=2, padding=1)\n",
    "        self.conv2 = nn.Conv2d(32, 64, kernel_size=3, stride=2, padding=1)\n",
    "        self.conv3 = nn.Conv2d(64, 128, kernel_size=3, stride=2, padding=1)\n",
    "        # variable to store the shape of the output tensor before flattening\n",
    "        # the features, it will be used in decoders input while reconstructing\n",
    "        self.shape_before_flattening = None\n",
    "        # compute the flattened size after convolutions\n",
    "        flattened_size = 128 * 28 * 28 \n",
    "        # define fully connected layer to create embeddings\n",
    "        self.fc = nn.Linear(flattened_size, embedding_dim)\n",
    "    def forward(self, x):\n",
    "        # apply ReLU activations after each convolutional layer\n",
    "        x = F.relu(self.conv1(x))\n",
    "        x = F.relu(self.conv2(x))\n",
    "        x = F.relu(self.conv3(x))\n",
    "        # store the shape before flattening\n",
    "        self.shape_before_flattening = x.shape[1:]\n",
    "        # flatten the tensor\n",
    "        x = x.view(x.size(0), -1)\n",
    "        # apply fully connected layer to generate embeddings\n",
    "        x = self.fc(x)\n",
    "        return x\n",
    "\n",
    "class Decoder(nn.Module):\n",
    "    def __init__(self, embedding_dim, shape_before_flattening, channels):\n",
    "        super(Decoder, self).__init__()\n",
    "        # define fully connected layer to unflatten the embeddings\n",
    "        self.fc = nn.Linear(embedding_dim, np.prod(shape_before_flattening))\n",
    "        # store the shape before flattening\n",
    "        self.reshape_dim = shape_before_flattening\n",
    "        # define transpose convolutional layers\n",
    "        self.deconv1 = nn.ConvTranspose2d(\n",
    "            128, 128, kernel_size=3, stride=2, padding=1, output_padding=1\n",
    "        )\n",
    "        self.deconv2 = nn.ConvTranspose2d(\n",
    "            128, 64, kernel_size=3, stride=2, padding=1, output_padding=1\n",
    "        )\n",
    "        self.deconv3 = nn.ConvTranspose2d(\n",
    "            64, 32, kernel_size=3, stride=2, padding=1, output_padding=1\n",
    "        )\n",
    "        # define final convolutional layer to generate output image\n",
    "        self.conv1 = nn.Conv2d(32, channels, kernel_size=3, stride=1, padding=1)\n",
    "    def forward(self, x):\n",
    "        # apply fully connected layer to unflatten the embeddings\n",
    "        x = self.fc(x)\n",
    "        # reshape the tensor to match shape before flattening\n",
    "        x = x.view(x.size(0), *self.reshape_dim)\n",
    "        # apply ReLU activations after each transpose convolutional layer\n",
    "        x = F.relu(self.deconv1(x))\n",
    "        x = F.relu(self.deconv2(x))\n",
    "        x = F.relu(self.deconv3(x))\n",
    "        # apply sigmoid activation to the final convolutional layer to generate output image\n",
    "        x = torch.sigmoid(self.conv1(x)) \n",
    "        #x = F.tanh(self.conv1(x))\n",
    "        return x"
   ]
  },
  {
   "cell_type": "markdown",
   "id": "3ffc014a-e971-4a2d-8872-b0d251a9977d",
   "metadata": {},
   "source": [
    "## Обучение"
   ]
  },
  {
   "cell_type": "code",
   "execution_count": 24,
   "id": "b64a57cf-9b16-4145-9651-8f22491eb853",
   "metadata": {},
   "outputs": [
    {
     "name": "stdout",
     "output_type": "stream",
     "text": [
      "cuda\n"
     ]
    }
   ],
   "source": [
    "device = 'cuda' if torch.cuda.is_available() else 'cpu'\n",
    "epochs = 10\n",
    "print(device)\n",
    "encoder = Encoder(channels=3, embedding_dim=EMB_DIM).to(device)\n",
    "# pass the dummy input through the encoder and\n",
    "# get the output (encoded representation)\n",
    "dummy_input = torch.rand(1, 3, 224, 224)\n",
    "enc_out = encoder(dummy_input.to(device))\n",
    "# get the shape of the tensor before it was flattened in the encoder\n",
    "shape_before_flattening = encoder.shape_before_flattening\n",
    "# create a decoder instance with the specified embedding dimensions,\n",
    "# shape before flattening, and channels\n",
    "# then move it to the device (CPU or GPU) specified in the config\n",
    "decoder = Decoder(EMB_DIM, shape_before_flattening, 3).to(device)\n",
    "# instantiate loss, optimizer, and scheduler"
   ]
  },
  {
   "cell_type": "code",
   "execution_count": 13,
   "id": "21af8c36-197c-4e8f-80c5-1ac979b73668",
   "metadata": {},
   "outputs": [],
   "source": [
    "inprogress_metrics = {\"MAE\":F.l1_loss} #, \"MSE\":F.mse_loss\n",
    "\n",
    "def calc_metrics(preds, targets, inprogress_metrics):\n",
    "    report = dict()\n",
    "    for metric in inprogress_metrics:\n",
    "        metric_func = inprogress_metrics[metric]\n",
    "        mval = metric_func(preds, targets)\n",
    "        report[metric] = round(mval.item(), 3)\n",
    "    return report\n",
    "\n",
    "def print_report(loss_value, metric_vals, beginning):\n",
    "    addition = []\n",
    "    for km in metric_vals:\n",
    "        formatteds = f\"{km}: {metric_vals[km]} \"\n",
    "        addition.append(formatteds)    \n",
    "    print(beginning, \"Loss:\", loss_value, \"\".join(addition))\n",
    "\n",
    "def train_one_epoch(model, loader, criterion, optimizer, epoch_num):\n",
    "    model.train()\n",
    "    running_loss = 0.0\n",
    "    running_metrics = {k:0.0 for k in inprogress_metrics}\n",
    "    for batch_idx, data in tqdm(enumerate(loader), total=len(loader), desc=f\"Epoch {epoch_num}\"):\n",
    "        # move the data to the device (GPU or CPU)\n",
    "        data = data.to(device)\n",
    "        # reset the gradients of the optimizer\n",
    "        optimizer.zero_grad()\n",
    "        # forward pass: encode the data and decode the encoded representation\n",
    "        #encoded = encoder(data)\n",
    "        decoded = model(data) #decoder(encoded)\n",
    "        # compute the reconstruction loss between the decoded output and\n",
    "        # the original data\n",
    "        loss = criterion(decoded, data)\n",
    "        # backward pass: compute the gradients\n",
    "        loss.backward()\n",
    "        # update the model weights\n",
    "        optimizer.step()\n",
    "        # accumulate the loss for the current batch\n",
    "        running_loss += loss.item()\n",
    "        metrics = calc_metrics(decoded, data, inprogress_metrics)\n",
    "        for m in metrics:\n",
    "            running_metrics[m] += metrics[m]\n",
    "    # compute the average training loss for the epoch\n",
    "    train_loss = running_loss / len(loader)\n",
    "    train_metrics = {k:(running_metrics[k] / len(loader)) for k in running_metrics}\n",
    "    print_report(train_loss, train_metrics, \"Train|\")\n",
    "\n",
    "    res = dict(train_metrics)\n",
    "    res[\"loss\"] = train_loss\n",
    "    return res\n",
    "\n",
    "def evaluate(model, loader, criterion):\n",
    "    model.eval()\n",
    "    running_loss = 0.0\n",
    "    running_metrics = {k:0.0 for k in inprogress_metrics}\n",
    "    with torch.no_grad():\n",
    "        for i, data in enumerate(loader):\n",
    "            data = data.to(device)\n",
    "            #encoded = encoder(data)\n",
    "            decoded = model(data) #decoder(encoded)\n",
    "            loss = criterion(decoded, data)\n",
    "            running_loss += loss.item()\n",
    "            metrics = calc_metrics(decoded, data, inprogress_metrics)\n",
    "            for m in metrics:\n",
    "                running_metrics[m] += metrics[m]\n",
    "    l = running_loss / len(loader)\n",
    "    scores = {k:(running_metrics[k] / len(loader)) for k in running_metrics}\n",
    "    print_report(l, scores, \"Valid|\")\n",
    "    \n",
    "    res = dict(scores)\n",
    "    res[\"loss\"] = l\n",
    "    return res"
   ]
  },
  {
   "cell_type": "code",
   "execution_count": null,
   "id": "8cebc090-2f0c-443c-ab03-c2046fe085fa",
   "metadata": {
    "scrolled": true
   },
   "outputs": [],
   "source": [
    "train_history = {n:[] for n in (list(inprogress_metrics.keys())+[\"loss\"])}\n",
    "val_history = {n:[] for n in (list(inprogress_metrics.keys())+[\"loss\"])}\n",
    "\n",
    "model = nn.Sequential(OrderedDict([\n",
    "    ('encoder', Encoder(channels=3, embedding_dim=EMB_DIM)),\n",
    "    ('decoder', Decoder(EMB_DIM, shape_before_flattening, 3))\n",
    "])).to(device)\n",
    "criterion = nn.MSELoss() #nn.BCELoss() # MSE, MAE\n",
    "optimizer = torch.optim.Adam(model.parameters(), lr=0.001)\n",
    "scheduler = torch.optim.lr_scheduler.ReduceLROnPlateau(\n",
    "    optimizer, mode=\"min\", factor=0.1, patience=2, verbose=True\n",
    ")\n",
    "\n",
    "for epoch in range(epochs):\n",
    "    #print(f\"Epoch: {epoch + 1}/{epochs}\")\n",
    "    tvals = train_one_epoch(model, train_loader, criterion, optimizer, epoch)\n",
    "    vvals = evaluate(model, val_loader, criterion)\n",
    "    for k in tvals:\n",
    "        train_history[k].append(tvals[k])\n",
    "        val_history[k].append(vvals[k])\n",
    "    # adjust learning rate based on the validation loss\n",
    "    scheduler.step(vvals[\"loss\"])"
   ]
  },
  {
   "cell_type": "code",
   "execution_count": 15,
   "id": "8dd665cf-fb9a-4cf7-b69d-b128e48618e0",
   "metadata": {
    "scrolled": true
   },
   "outputs": [],
   "source": [
    "# displaying losses\n",
    "def plot_metrics(train_hist:dict, val_hist:dict):\n",
    "    metrics_name = [metr_name for metr_name in train_hist if metr_name!=\"loss\"]\n",
    "    plot_counts = len(metrics_name)\n",
    "    fig, axs = plt.subplots(1, len(metrics_name), figsize=(9, 3), squeeze=False)\n",
    "    for idx, mname in enumerate(metrics_name):\n",
    "        train_mvals = train_hist[mname]\n",
    "        val_mvals = val_hist[mname]\n",
    "        axs[0, idx].plot(train_mvals, '-b')\n",
    "        axs[0, idx].plot(val_mvals, '-r')\n",
    "        axs[0, idx].set_xlabel(mname)\n",
    "        axs[0, idx].legend(['Training', 'Validation'])\n",
    "    fig.suptitle(', '.join(metrics_name)+' vs No. of epochs');\n",
    "    \n",
    "def plot_losses(train_hist:dict, val_hist:dict, loss_name:str):\n",
    "    train_losses = train_hist[\"loss\"]\n",
    "    val_losses = val_hist[\"loss\"]\n",
    "    plt.plot(train_losses, '-b')\n",
    "    plt.plot(val_losses, '-r')\n",
    "    plt.xlabel('epoch')\n",
    "    plt.ylabel('loss')\n",
    "    plt.legend(['Training', 'Validation'])\n",
    "    plt.title(f'{loss_name} Loss vs. No. of epochs');"
   ]
  },
  {
   "cell_type": "code",
   "execution_count": 26,
   "id": "2349340a-8d73-4af5-b03f-1dd2e71d0c2c",
   "metadata": {},
   "outputs": [
    {
     "data": {
      "image/png": "[encoded data removed]",
      "text/plain": [
       "<Figure size 640x480 with 1 Axes>"
      ]
     },
     "metadata": {},
     "output_type": "display_data"
    }
   ],
   "source": [
    "plot_losses(train_history, val_history, \"MSE\")"
   ]
  },
  {
   "cell_type": "code",
   "execution_count": 27,
   "id": "f2bb2b37-c3c5-445f-89a9-a95ad3ee3c84",
   "metadata": {},
   "outputs": [
    {
     "data": {
      "image/png": "[encoded data removed]",
      "text/plain": [
       "<Figure size 900x300 with 1 Axes>"
      ]
     },
     "metadata": {},
     "output_type": "display_data"
    }
   ],
   "source": [
    "plot_metrics(train_history, val_history)"
   ]
  },
  {
   "cell_type": "markdown",
   "id": "20f01af5-7be5-4300-a072-966308a107b4",
   "metadata": {},
   "source": [
    "## Тестирование на видео"
   ]
  },
  {
   "cell_type": "code",
   "execution_count": 45,
   "id": "71e17509-71f7-459d-a82e-ba9aa94ac54b",
   "metadata": {},
   "outputs": [],
   "source": [
    "model.eval()\n",
    "\n",
    "def get_distance_between(im1:np.ndarray, im2:np.ndarray, coord1:np.ndarray=None, coord2:np.ndarray=None):\n",
    "    im1t = val_tforms(Image.fromarray(im1)).unsqueeze(0).to(device)\n",
    "    im2t = val_tforms(Image.fromarray(im2)).unsqueeze(0).to(device)\n",
    "    \n",
    "    im1_emb = model.encoder(im1t).detach().cpu().numpy().ravel()\n",
    "    im2_emb = model.encoder(im2t).detach().cpu().numpy().ravel()\n",
    "\n",
    "    if type(coord1) is np.ndarray and type(coord2) is np.ndarray:\n",
    "        im1_emb = np.concatenate((im1_emb, coord1))\n",
    "        im2_emb = np.concatenate((im2_emb, coord2))\n",
    "\n",
    "    return np.linalg.norm(im1_emb - im2_emb, 2)\n",
    "\n",
    "def pick_person(frame:np.ndarray, bbox:np.ndarray):\n",
    "    y, x, h, w = bbox\n",
    "    return frame[x:x + w, y:y + h]\n",
    "\n",
    "def update_person_box_emb_dist(cur_frame:np.ndarray, past_frame:np.ndarray, prev_boxes:dict, newly_boxes:list):\n",
    "    new_people_idx = dict()\n",
    "    distances = dict()\n",
    "    for box in newly_boxes:\n",
    "        potential_index = dict()\n",
    "        cur_person_img = pick_person(cur_frame, box)\n",
    "        for idx in prev_boxes:\n",
    "            past_person_img = pick_person(past_frame, prev_boxes[idx])\n",
    "            dist = get_distance_between(cur_person_img, past_person_img)\n",
    "            if idx in new_people_idx and (distances[idx] < dist):\n",
    "                continue\n",
    "            potential_index[idx] = dist\n",
    "        if len(potential_index) > 0:\n",
    "            min_index = min(potential_index, key=potential_index.get)\n",
    "            new_people_idx[min_index] = box\n",
    "            distances[min_index] = potential_index[min_index]\n",
    "    for idx in prev_boxes:\n",
    "        if not (idx in new_people_idx): #not in new_box_index either\n",
    "            new_people_idx[idx] = prev_boxes[idx]\n",
    "    return new_people_idx"
   ]
  },
  {
   "cell_type": "code",
   "execution_count": 48,
   "id": "71e94a5e-50d7-4d54-85bf-70e2cfc911f0",
   "metadata": {},
   "outputs": [
    {
     "data": {
      "text/plain": [
       "298.2577059202683"
      ]
     },
     "execution_count": 48,
     "metadata": {},
     "output_type": "execute_result"
    }
   ],
   "source": [
    "im1, c1 = frame_people[0]\n",
    "im2, c2 = frame_people[1]\n",
    "get_distance_between(im1, im2, c1, c2)"
   ]
  },
  {
   "cell_type": "code",
   "execution_count": 52,
   "id": "de7366df-06e0-43ef-a34b-8909cd7a543b",
   "metadata": {},
   "outputs": [
    {
     "data": {
      "text/plain": [
       "True"
      ]
     },
     "execution_count": 52,
     "metadata": {},
     "output_type": "execute_result"
    }
   ],
   "source": [
    "codec_code = cv.VideoWriter.fourcc(*'h264')\n",
    "writer = cv.VideoWriter(\"../0756_nn_tracking.mp4\", codec_code, 30.0, (1280, 720))\n",
    "writer.isOpened()"
   ]
  },
  {
   "cell_type": "code",
   "execution_count": 53,
   "id": "fcd8e949-4adf-4fec-a3e3-1221fcc75167",
   "metadata": {},
   "outputs": [
    {
     "name": "stderr",
     "output_type": "stream",
     "text": [
      " 99%|█████████████████████████████████████████████████████████████████████████▎| 13304/13419 [00:04<00:00, 3040.33it/s]\n"
     ]
    },
    {
     "name": "stdout",
     "output_type": "stream",
     "text": [
      "error in video ../original_vids/0756-30fps.mp4\n"
     ]
    }
   ],
   "source": [
    "colors = np.random.default_rng().integers(0, 256, (1000, 3), dtype='uint8')\n",
    "vidcap = cv.VideoCapture(\"../original_vids/0756-30fps.mp4\")\n",
    "fps = vidcap.get(cv.CAP_PROP_FPS)\n",
    "total_frames = int(vidcap.get(cv.CAP_PROP_FRAME_COUNT))\n",
    "\n",
    "vid_width = vidcap.get(cv.CAP_PROP_FRAME_WIDTH)\n",
    "vid_height = vidcap.get(cv.CAP_PROP_FRAME_HEIGHT)\n",
    "\n",
    "current_frame = 0\n",
    "success,frame = vidcap.read()\n",
    "if not success:\n",
    "    print(\"error in video\", vid_path)\n",
    "with open(\"../alphapose_res/0756_alpha.json\", \"r\") as ann_file:\n",
    "    anns = json.load(ann_file)\n",
    "past_frame = None\n",
    "past_frame_boxes = None\n",
    "cur_frame_boxes = []\n",
    "for person in tqdm(anns):\n",
    "    if person['image_id'] > current_frame:\n",
    "        # print(\"cur\", cur_frame_boxes)\n",
    "        # print(\"past\", past_frame_boxes)\n",
    "        # if current_frame + 1 == 5: break\n",
    "        if type(past_frame) is np.ndarray and type(past_frame_boxes) is np.ndarray:\n",
    "            past_frame_boxes = update_person_box_emb_dist(\n",
    "                frame, past_frame, past_frame_boxes, cur_frame_boxes)\n",
    "        else:\n",
    "            past_frame_boxes = {idx:pic for idx, pic in enumerate(cur_frame_boxes)}\n",
    "        annotated_img = vis_box_tracking(frame, past_frame_boxes, colors)\n",
    "        writer.write(annotated_img)\n",
    "        past_frame = frame\n",
    "        success,frame = vidcap.read()\n",
    "        if not success:\n",
    "            print(\"error in video\", \"../original_vids/0756-30fps.mp4\")\n",
    "            break\n",
    "        current_frame += 1\n",
    "        cur_frame_boxes = []\n",
    "    person_bbox = np.array(list(map(round, person['box'])))\n",
    "    cur_frame_boxes.append(person_bbox)\n",
    "    #cur_frame_people.append(person_img)\n",
    "vidcap.release()\n",
    "writer.release()"
   ]
  },
  {
   "cell_type": "code",
   "execution_count": 51,
   "id": "a2d019cf-ae82-494e-8e08-31b3a23f318a",
   "metadata": {},
   "outputs": [],
   "source": [
    "vidcap.release()\n",
    "writer.release()"
   ]
  }
 ],
 "metadata": {
  "kernelspec": {
   "display_name": "Python 3 (ipykernel)",
   "language": "python",
   "name": "python3"
  },
  "language_info": {
   "codemirror_mode": {
    "name": "ipython",
    "version": 3
   },
   "file_extension": ".py",
   "mimetype": "text/x-python",
   "name": "python",
   "nbconvert_exporter": "python",
   "pygments_lexer": "ipython3",
   "version": "3.11.7"
  }
 },
 "nbformat": 4,
 "nbformat_minor": 5
}
