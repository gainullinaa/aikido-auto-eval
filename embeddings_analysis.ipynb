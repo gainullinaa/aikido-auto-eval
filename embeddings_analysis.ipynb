{
 "cells": [
  {
   "cell_type": "code",
   "execution_count": 1,
   "id": "89bb873e-c76a-42da-b935-3f5ae0f49df0",
   "metadata": {},
   "outputs": [],
   "source": [
    "import numpy as np\n",
    "from tqdm import tqdm\n",
    "import cv2 as cv\n",
    "import matplotlib.pyplot as plt\n",
    "from sklearn.metrics import precision_score, recall_score, f1_score, classification_report\n",
    "from sklearn.model_selection import train_test_split\n",
    "\n",
    "import torch\n",
    "import torch.nn as nn\n",
    "import torchvision.models as models\n",
    "import torchvision.transforms as T\n",
    "from torch.utils.data import Dataset, random_split, DataLoader\n",
    "import torch.nn.functional as F\n",
    "\n",
    "import json\n",
    "import os\n",
    "import random"
   ]
  },
  {
   "cell_type": "code",
   "execution_count": 2,
   "id": "9f114712-f06f-4ae3-8626-cf278eff6cc2",
   "metadata": {},
   "outputs": [],
   "source": [
    "track_id2student_id_it = {7:0, 6:1, 0:2, 8:3, 1:4, 3:5, 11:6, 15:7, 16:8, 2:9, 5:12, 9:13, 4:14} # irimi tenkan, my tracking algo\n",
    "track_id2student_id_ta = {8:0, 7:1, 2:2, 10:3, 3:4, 4:5, 14:6, 9:7, 1:8, 12:9, 11:10, 0:11, 6:12, 5:13} # tsugi ashi, my tracking algo\n",
    "track_id2student_id_utmt = {7:0, 6:1, 1:2, 8:3, 3:4, 5:5, 11:6, 10:7, 2:8, 0:11, 4:13, 9:9, 12:10, 19:12} # utmt, my tracking algo\n",
    "\n",
    "single_student_tids = {\"1156\":0, \"1237\":1, \"0756\":0, \"0912\":0, \"1043\":0}"
   ]
  },
  {
   "cell_type": "code",
   "execution_count": 3,
   "id": "0fa51a81-ed53-4460-a15f-97588aaf81de",
   "metadata": {},
   "outputs": [],
   "source": [
    "file2mapping = {\"../alphapose_res/irimi_tenkan_kps.json\":track_id2student_id_it,\n",
    "                \"../alphapose_res/ta_tracking.json\":track_id2student_id_ta,\n",
    "                \"../alphapose_res/utmt_kps.json\":track_id2student_id_utmt}\n",
    "annotations_map = {\"../alphapose_res/irimi_tenkan_kps.json\":\"../data/irimi_tenkan/annotations.json\",\n",
    "                \"../alphapose_res/ta_tracking.json\":\"../data/tsugi_ashi/annotations.json\",\n",
    "                \"../alphapose_res/utmt_kps.json\":\"../data/ushiro_tenkan_mae_tenkan/annotations.json\"}\n",
    "single_st_ann = \"../data/single_student_annotations.json\"\n",
    "\n",
    "\n",
    "SAMPLE_MAX_FRAME_COUNT = 192 # ?\n",
    "CHANNELS = 3\n",
    "EMB_DIM = 2"
   ]
  },
  {
   "cell_type": "markdown",
   "id": "a2327ee8-917a-4f63-8517-d43195db5e06",
   "metadata": {},
   "source": [
    "# Подготовка данных"
   ]
  },
  {
   "cell_type": "code",
   "execution_count": 4,
   "id": "89589a25-47d0-4ba2-91a9-28f4fa6134ed",
   "metadata": {},
   "outputs": [],
   "source": [
    "from dataproc import *\n",
    "from train_utils import *\n",
    "\n",
    "# augmentations\n",
    "def mirror_coordinate(coords:np.ndarray, coord_idx:int=0):\n",
    "    \"\"\" Принимает, что координата должна быть в основном в 0...1, но может быть >1 и <0.\n",
    "        Отражает относительно 0.5, меняется только в 3 размерности (coords.shape[2]), как цветовой канал. \n",
    "        Не для нормализованных данных!\n",
    "        Args:\n",
    "            coords, ndarray - len(coords.shape)==3\n",
    "            coord_idx, int - какую координату нужно отразить\n",
    "        Returns:\n",
    "            np.copy(coords), но соответствующая координата отражена\n",
    "    \"\"\"\n",
    "    new_coords = np.copy(coords)\n",
    "    new_coords[:, :, coord_idx] = 1 - new_coords[:, :, coord_idx]\n",
    "    return new_coords    "
   ]
  },
  {
   "cell_type": "code",
   "execution_count": 5,
   "id": "52ba0261-516d-4caf-8ce3-b03cd04136d9",
   "metadata": {},
   "outputs": [],
   "source": [
    "ss_vid_ann = [os.path.join(\"../alphapose_res\", f) for f in [\"0756_alpha.json\", \"0912_alpha.json\",\n",
    "                                                            \"1043_alpha.json\", \"1156_alpha.json\", \n",
    "                                                            \"1237_alpha.json\"]]\n",
    "idx2error, exercise2points, exercise2errors = parse_annotations(file2mapping, single_st_ann, annotations_map, ss_vid_ann, single_student_tids)"
   ]
  },
  {
   "cell_type": "markdown",
   "id": "31c2e459-bf08-467d-a613-0b47cc092cac",
   "metadata": {},
   "source": [
    "## Датасет"
   ]
  },
  {
   "cell_type": "code",
   "execution_count": 6,
   "id": "c8fc3249-0fd5-4815-bf01-f37912d8e35a",
   "metadata": {},
   "outputs": [],
   "source": [
    "class AutoencoderDataset(Dataset):\n",
    "    def __init__(self, images:list, transform):\n",
    "        self.transform = transform\n",
    "        self.images = images\n",
    "\n",
    "    def __len__(self):\n",
    "        return len(self.images)\n",
    "\n",
    "    def __getitem__(self, idx):\n",
    "        img = self.images[idx]\n",
    "        return self.transform(img)\n",
    "\n",
    "tform = T.Compose([\n",
    "    T.Lambda(lambda ar: resample_to_frame_length(ar, SAMPLE_MAX_FRAME_COUNT)),\n",
    "    #T.Lambda(lambda ar: random_mirroring(ar, 0)),\n",
    "    T.Lambda(normalize01),\n",
    "    T.ToTensor(),\n",
    "    T.ConvertImageDtype(torch.float32)\n",
    "])"
   ]
  },
  {
   "cell_type": "code",
   "execution_count": 7,
   "id": "dd6cd5c3-38a9-4d81-8829-9fd991432b26",
   "metadata": {},
   "outputs": [
    {
     "name": "stdout",
     "output_type": "stream",
     "text": [
      "Total 298\n",
      "Train count 210\n",
      "Test count 54\n",
      "Val count 34\n"
     ]
    }
   ],
   "source": [
    "# dividing\n",
    "train_frac = 0.7\n",
    "val_frac = 0.1\n",
    "test_frac = 0.2\n",
    "\n",
    "#train_data, test_data, val_data = fraction_split(exercise2points, exercise2errors, train_frac, val_frac, test_frac, 42)\n",
    "train_data, test_data, val_data = stratify_split(exercise2points, exercise2errors, train_frac, val_frac, test_frac, 42)\n",
    "train_imgs, train_labels = train_data\n",
    "test_imgs, test_labels = test_data\n",
    "val_imgs, val_labels = val_data\n",
    "total_data_count = len(train_imgs) + len(test_imgs) + len(val_imgs)\n",
    "\n",
    "print(\"Total\", total_data_count)\n",
    "print(\"Train count\", len(train_imgs))\n",
    "print(\"Test count\", len(test_imgs))\n",
    "print(\"Val count\", len(val_imgs))"
   ]
  },
  {
   "cell_type": "code",
   "execution_count": 8,
   "id": "2104f612-ad8e-4592-be3e-c34f9bddd99c",
   "metadata": {},
   "outputs": [],
   "source": [
    "train_ds = AutoencoderDataset(train_imgs, tform)\n",
    "val_ds = AutoencoderDataset(val_imgs, tform)\n",
    "test_ds = AutoencoderDataset(test_imgs, tform)"
   ]
  },
  {
   "cell_type": "markdown",
   "id": "ee08d791-6594-49af-8b47-542a3f39ffe6",
   "metadata": {},
   "source": [
    "Dataloader"
   ]
  },
  {
   "cell_type": "code",
   "execution_count": 9,
   "id": "d8d8cf3e-4cce-4aef-8b75-7cb97884e169",
   "metadata": {},
   "outputs": [],
   "source": [
    "# setting batch size for Dataloader to load the data batch by batch\n",
    "batch_size = 32\n",
    "train_loader = DataLoader(train_ds, batch_size, shuffle=True)\n",
    "val_loader = DataLoader(val_ds, batch_size, shuffle=False)\n",
    "test_loader = DataLoader(test_ds, 1, shuffle=False)"
   ]
  },
  {
   "cell_type": "code",
   "execution_count": 10,
   "id": "ca481300-b0b2-49b1-990f-142209c9e9df",
   "metadata": {},
   "outputs": [
    {
     "data": {
      "text/plain": [
       "torch.Size([3, 26, 192])"
      ]
     },
     "execution_count": 10,
     "metadata": {},
     "output_type": "execute_result"
    }
   ],
   "source": [
    "train_ds[0].shape"
   ]
  },
  {
   "cell_type": "markdown",
   "id": "fd16fd93-20c1-4fb8-835f-9497b86599ac",
   "metadata": {},
   "source": [
    "# Определение автокодировщика"
   ]
  },
  {
   "cell_type": "markdown",
   "id": "dfac8210-08f2-4c30-a6a3-6c2ccf8262be",
   "metadata": {},
   "source": [
    "Код для обучения и архитектуры модели взят из:"
   ]
  },
  {
   "cell_type": "markdown",
   "id": "8c8318a2-5732-4dba-807d-cb7c1445608b",
   "metadata": {},
   "source": [
    "https://pyimagesearch.com/2023/07/17/implementing-a-convolutional-autoencoder-with-pytorch/"
   ]
  },
  {
   "cell_type": "code",
   "execution_count": 11,
   "id": "4378fffa-b154-4dda-8295-3e2d5ee0e4b6",
   "metadata": {},
   "outputs": [],
   "source": [
    "class Encoder(nn.Module):\n",
    "    def __init__(self, channels, embedding_dim):\n",
    "        super(Encoder, self).__init__()\n",
    "        # define convolutional layers\n",
    "        self.conv1 = nn.Conv2d(channels, 32, kernel_size=3, stride=2, padding=1)\n",
    "        self.conv2 = nn.Conv2d(32, 64, kernel_size=3, stride=2, padding=1)\n",
    "        self.conv3 = nn.Conv2d(64, 128, kernel_size=3, stride=2, padding=1)\n",
    "        # variable to store the shape of the output tensor before flattening\n",
    "        # the features, it will be used in decoders input while reconstructing\n",
    "        self.shape_before_flattening = None\n",
    "        # compute the flattened size after convolutions\n",
    "        flattened_size = 128 * 4 * 24 # from input of 26 * 192 to 4 * 24\n",
    "        # define fully connected layer to create embeddings\n",
    "        self.fc = nn.Linear(flattened_size, embedding_dim)\n",
    "    def forward(self, x):\n",
    "        # apply ReLU activations after each convolutional layer\n",
    "        x = F.relu(self.conv1(x))\n",
    "        x = F.relu(self.conv2(x))\n",
    "        x = F.relu(self.conv3(x))\n",
    "        # store the shape before flattening\n",
    "        self.shape_before_flattening = x.shape[1:]\n",
    "        # flatten the tensor\n",
    "        x = x.view(x.size(0), -1)\n",
    "        # apply fully connected layer to generate embeddings\n",
    "        x = self.fc(x)\n",
    "        return x\n",
    "\n",
    "class Decoder(nn.Module):\n",
    "    def __init__(self, embedding_dim, shape_before_flattening, channels):\n",
    "        super(Decoder, self).__init__()\n",
    "        # define fully connected layer to unflatten the embeddings\n",
    "        self.fc = nn.Linear(embedding_dim, np.prod(shape_before_flattening))\n",
    "        # store the shape before flattening\n",
    "        self.reshape_dim = shape_before_flattening\n",
    "        # define transpose convolutional layers\n",
    "        self.deconv1 = nn.ConvTranspose2d(\n",
    "            128, 128, kernel_size=3, stride=2, padding=1\n",
    "        )\n",
    "        self.deconv2 = nn.ConvTranspose2d(\n",
    "            128, 64, kernel_size=3, stride=2, padding=(1, 0), output_padding=(0, 1)\n",
    "        )\n",
    "        self.deconv3 = nn.ConvTranspose2d(\n",
    "            64, 32, kernel_size=3, stride=2, padding=1, output_padding=1\n",
    "        )\n",
    "        # define final convolutional layer to generate output image\n",
    "        self.conv1 = nn.Conv2d(32, channels, kernel_size=3, stride=1, padding=1)\n",
    "    def forward(self, x):\n",
    "        # apply fully connected layer to unflatten the embeddings\n",
    "        x = self.fc(x)\n",
    "        # reshape the tensor to match shape before flattening\n",
    "        x = x.view(x.size(0), *self.reshape_dim)\n",
    "        # apply ReLU activations after each transpose convolutional layer\n",
    "        x = F.relu(self.deconv1(x))\n",
    "        x = F.relu(self.deconv2(x))\n",
    "        x = F.relu(self.deconv3(x))\n",
    "        # apply sigmoid activation to the final convolutional layer to generate output image\n",
    "        x = torch.sigmoid(self.conv1(x)) \n",
    "        #x = F.tanh(self.conv1(x))\n",
    "        return x"
   ]
  },
  {
   "cell_type": "markdown",
   "id": "8e7b2033-f79b-4c26-a1cb-cc5163ab3596",
   "metadata": {},
   "source": [
    "# Обучение"
   ]
  },
  {
   "cell_type": "code",
   "execution_count": 12,
   "id": "deb74c34-2285-4320-bee3-44497d92adfd",
   "metadata": {},
   "outputs": [
    {
     "data": {
      "text/plain": [
       "'cuda'"
      ]
     },
     "execution_count": 12,
     "metadata": {},
     "output_type": "execute_result"
    }
   ],
   "source": [
    "device = 'cuda' if torch.cuda.is_available() else 'cpu'\n",
    "epochs = 100\n",
    "device"
   ]
  },
  {
   "cell_type": "code",
   "execution_count": 20,
   "id": "5340db68-cafe-4416-95cb-232fca7b4d57",
   "metadata": {},
   "outputs": [],
   "source": [
    "encoder = Encoder(channels=CHANNELS, embedding_dim=EMB_DIM).to(device)\n",
    "# pass the dummy input through the encoder and\n",
    "# get the output (encoded representation)\n",
    "dummy_input = torch.rand(1, 3, 26, 192)\n",
    "enc_out = encoder(dummy_input.to(device))\n",
    "# get the shape of the tensor before it was flattened in the encoder\n",
    "shape_before_flattening = encoder.shape_before_flattening\n",
    "# create a decoder instance with the specified embedding dimensions,\n",
    "# shape before flattening, and channels\n",
    "# then move it to the device (CPU or GPU) specified in the config\n",
    "decoder = Decoder(EMB_DIM, shape_before_flattening, CHANNELS).to(device)\n",
    "# instantiate loss, optimizer, and scheduler\n",
    "criterion = nn.MSELoss() #nn.BCELoss() # MSE, MAE\n",
    "optimizer = torch.optim.Adam(\n",
    "    list(encoder.parameters()) + list(decoder.parameters()), lr=0.001\n",
    ")\n",
    "scheduler = torch.optim.lr_scheduler.ReduceLROnPlateau(\n",
    "    optimizer, mode=\"min\", factor=0.1, patience=2, verbose=True\n",
    ")"
   ]
  },
  {
   "cell_type": "code",
   "execution_count": 21,
   "id": "c9603dd2-16eb-4ea1-8480-e8356d319a5a",
   "metadata": {},
   "outputs": [],
   "source": [
    "inprogress_metrics = {\"MAE\":F.l1_loss} #, \"MSE\":F.mse_loss\n",
    "\n",
    "def calc_metrics(preds, targets, inprogress_metrics):\n",
    "    report = dict()\n",
    "    for metric in inprogress_metrics:\n",
    "        metric_func = inprogress_metrics[metric]\n",
    "        mval = metric_func(preds, targets)\n",
    "        report[metric] = round(mval.item(), 3)\n",
    "    return report\n",
    "\n",
    "def print_report(loss_value, metric_vals, beginning):\n",
    "    addition = []\n",
    "    for km in metric_vals:\n",
    "        formatteds = f\"{km}: {metric_vals[km]} \"\n",
    "        addition.append(formatteds)    \n",
    "    print(beginning, \"Loss:\", loss_value, \"\".join(addition))\n",
    "\n",
    "def train_one_epoch(encoder, decoder, loader, criterion, optimizer, epoch_num):\n",
    "    encoder.train()\n",
    "    decoder.train()\n",
    "    running_loss = 0.0\n",
    "    running_metrics = {k:0.0 for k in inprogress_metrics}\n",
    "    for batch_idx, data in tqdm(enumerate(loader), total=len(loader), desc=f\"Epoch {epoch_num}\"):\n",
    "        # move the data to the device (GPU or CPU)\n",
    "        data = data.to(device)\n",
    "        # reset the gradients of the optimizer\n",
    "        optimizer.zero_grad()\n",
    "        # forward pass: encode the data and decode the encoded representation\n",
    "        encoded = encoder(data)\n",
    "        decoded = decoder(encoded)\n",
    "        # compute the reconstruction loss between the decoded output and\n",
    "        # the original data\n",
    "        loss = criterion(decoded, data)\n",
    "        # backward pass: compute the gradients\n",
    "        loss.backward()\n",
    "        # update the model weights\n",
    "        optimizer.step()\n",
    "        # accumulate the loss for the current batch\n",
    "        running_loss += loss.item()\n",
    "        metrics = calc_metrics(decoded, data, inprogress_metrics)\n",
    "        for m in metrics:\n",
    "            running_metrics[m] += metrics[m]\n",
    "    # compute the average training loss for the epoch\n",
    "    train_loss = running_loss / len(loader)\n",
    "    train_metrics = {k:(running_metrics[k] / len(loader)) for k in running_metrics}\n",
    "    print_report(train_loss, train_metrics, \"Train|\")\n",
    "\n",
    "    res = dict(train_metrics)\n",
    "    res[\"loss\"] = train_loss\n",
    "    return res\n",
    "\n",
    "def evaluate(encoder, decoder, loader, criterion):\n",
    "    encoder.eval() \n",
    "    decoder.eval()\n",
    "    running_loss = 0.0\n",
    "    running_metrics = {k:0.0 for k in inprogress_metrics}\n",
    "    with torch.no_grad():\n",
    "        for i, data in enumerate(loader):\n",
    "            data = data.to(device)\n",
    "            encoded = encoder(data)\n",
    "            decoded = decoder(encoded)\n",
    "            loss = criterion(decoded, data)\n",
    "            running_loss += loss.item()\n",
    "            metrics = calc_metrics(decoded, data, inprogress_metrics)\n",
    "            for m in metrics:\n",
    "                running_metrics[m] += metrics[m]\n",
    "    l = running_loss / len(loader)\n",
    "    scores = {k:(running_metrics[k] / len(loader)) for k in running_metrics}\n",
    "    print_report(l, scores, \"Valid|\")\n",
    "    \n",
    "    res = dict(scores)\n",
    "    res[\"loss\"] = l\n",
    "    return res\n"
   ]
  },
  {
   "cell_type": "code",
   "execution_count": null,
   "id": "58a4d8c0-5ffb-4922-8d67-e7b2952359d3",
   "metadata": {
    "scrolled": true
   },
   "outputs": [],
   "source": [
    "train_history = {n:[] for n in (list(inprogress_metrics.keys())+[\"loss\"])}\n",
    "val_history = {n:[] for n in (list(inprogress_metrics.keys())+[\"loss\"])}\n",
    "\n",
    "for epoch in range(epochs):\n",
    "    #print(f\"Epoch: {epoch + 1}/{epochs}\")\n",
    "    tvals = train_one_epoch(encoder, decoder, train_loader, criterion, optimizer, epoch)\n",
    "    vvals = evaluate(encoder, decoder, val_loader, criterion)\n",
    "    for k in tvals:\n",
    "        train_history[k].append(tvals[k])\n",
    "        val_history[k].append(vvals[k])\n",
    "    # adjust learning rate based on the validation loss\n",
    "    scheduler.step(vvals[\"loss\"])\n",
    "    "
   ]
  },
  {
   "cell_type": "code",
   "execution_count": 26,
   "id": "cda65bd2-bb2f-49cc-b57b-0fe649363d2b",
   "metadata": {
    "scrolled": true
   },
   "outputs": [],
   "source": [
    "# displaying losses\n",
    "def plot_metrics(train_hist:dict, val_hist:dict):\n",
    "    metrics_name = [metr_name for metr_name in train_hist if metr_name!=\"loss\"]\n",
    "    plot_counts = len(metrics_name)\n",
    "    fig, axs = plt.subplots(1, len(metrics_name), figsize=(9, 3), squeeze=False)\n",
    "    for idx, mname in enumerate(metrics_name):\n",
    "        train_mvals = train_hist[mname]\n",
    "        val_mvals = val_hist[mname]\n",
    "        axs[0, idx].plot(train_mvals, '-b')\n",
    "        axs[0, idx].plot(val_mvals, '-r')\n",
    "        axs[0, idx].set_xlabel(mname)\n",
    "        axs[0, idx].legend(['Training', 'Validation'])\n",
    "    fig.suptitle(', '.join(metrics_name)+' vs No. of epochs');\n",
    "    \n",
    "def plot_losses(train_hist:dict, val_hist:dict, loss_name:str):\n",
    "    train_losses = train_hist[\"loss\"]\n",
    "    val_losses = val_hist[\"loss\"]\n",
    "    plt.plot(train_losses, '-b')\n",
    "    plt.plot(val_losses, '-r')\n",
    "    plt.xlabel('epoch')\n",
    "    plt.ylabel('loss')\n",
    "    plt.legend(['Training', 'Validation'])\n",
    "    plt.title(f'{loss_name} Loss vs. No. of epochs');"
   ]
  },
  {
   "cell_type": "code",
   "execution_count": 24,
   "id": "c483123d-740c-4ca9-a9e8-10471bbfb5cd",
   "metadata": {},
   "outputs": [
    {
     "data": {
      "image/png": "[encoded data removed]",
      "text/plain": [
       "<Figure size 640x480 with 1 Axes>"
      ]
     },
     "metadata": {},
     "output_type": "display_data"
    }
   ],
   "source": [
    "plot_losses(train_history, val_history, \"MSE\")"
   ]
  },
  {
   "cell_type": "code",
   "execution_count": 27,
   "id": "95962083-3370-4acd-b51d-6cc5e0984892",
   "metadata": {},
   "outputs": [
    {
     "data": {
      "image/png": "[encoded data removed]",
      "text/plain": [
       "<Figure size 900x300 with 1 Axes>"
      ]
     },
     "metadata": {},
     "output_type": "display_data"
    }
   ],
   "source": [
    "plot_metrics(train_history, val_history)"
   ]
  },
  {
   "cell_type": "markdown",
   "id": "977e44da-4015-43ef-9ae7-6ba725264e68",
   "metadata": {},
   "source": [
    "# Тестирование"
   ]
  },
  {
   "cell_type": "code",
   "execution_count": 34,
   "id": "ad6325e0-83f0-4d86-b916-3746ba9433bf",
   "metadata": {},
   "outputs": [
    {
     "name": "stdout",
     "output_type": "stream",
     "text": [
      "Test| Loss: 0.028905550397380634 MAE: 0.1075925925925926 \n"
     ]
    }
   ],
   "source": [
    "encoder.eval() \n",
    "decoder.eval()\n",
    "\n",
    "preds = []\n",
    "trues = []\n",
    "test_history = {k:0.0 for k in inprogress_metrics}\n",
    "running_loss = 0.0\n",
    "with torch.no_grad():\n",
    "    for i, data in enumerate(test_loader):\n",
    "        data = data.to(device)\n",
    "        encoded = encoder(data)\n",
    "        decoded = decoder(encoded)\n",
    "        trues.append(data.cpu().permute((0, 2, 3, 1)).numpy().squeeze())\n",
    "        preds.append(decoded.cpu().permute((0, 2, 3, 1)).numpy().squeeze())\n",
    "        loss = criterion(decoded, data)\n",
    "        running_loss += loss.item()\n",
    "        metrics = calc_metrics(decoded, data, inprogress_metrics)\n",
    "        for m in metrics:\n",
    "            test_history[m] += metrics[m]\n",
    "l = running_loss / len(test_loader)\n",
    "scores = {k:(test_history[k] / len(test_loader)) for k in test_history}\n",
    "print_report(l, scores, \"Test|\")"
   ]
  },
  {
   "cell_type": "code",
   "execution_count": null,
   "id": "ff8f5d2d-f99c-4e76-9f85-41ee458108ed",
   "metadata": {},
   "outputs": [],
   "source": [
    "def compare_true_recon(inp_img, decoded):\n",
    "    fig, axs = plt.subplots(1, 2, figsize=(12, 16))\n",
    "    axs[0].imshow(inp_img)\n",
    "    axs[0].set_title(\"Истина\")\n",
    "    axs[0].axis(\"off\")\n",
    "    axs[1].imshow(decoded)\n",
    "    axs[1].set_title(\"Декодировано\")\n",
    "    axs[1].axis(\"off\")\n",
    "    plt.show()\n",
    "\n",
    "compare_true_recon(trues[10], preds[10])"
   ]
  },
  {
   "cell_type": "markdown",
   "id": "f6d732b9-e915-40b3-8c9f-e669d131c9ed",
   "metadata": {},
   "source": [
    "# Исследование эмбеддингов"
   ]
  },
  {
   "cell_type": "code",
   "execution_count": 57,
   "id": "21a20180-47b1-4aac-9a80-6f3417c9d2ac",
   "metadata": {},
   "outputs": [
    {
     "data": {
      "text/plain": [
       "array([ 7.0180845, -3.8365474], dtype=float32)"
      ]
     },
     "execution_count": 57,
     "metadata": {},
     "output_type": "execute_result"
    }
   ],
   "source": [
    "encoder.eval()\n",
    "def get_motion_embedding(enc, motion_img, transforms):\n",
    "    prepared_inp = transforms(motion_img).to(device).unsqueeze(0)\n",
    "    return enc(prepared_inp).cpu().detach().numpy().squeeze()\n",
    "\n",
    "get_motion_embedding(encoder, train_imgs[0], tform)"
   ]
  },
  {
   "cell_type": "markdown",
   "id": "0314b84c-481f-42aa-b50e-679cefa47151",
   "metadata": {},
   "source": [
    "### Общие характеристики"
   ]
  },
  {
   "cell_type": "code",
   "execution_count": 63,
   "id": "b1bf25be-ed43-4262-b3f5-b8b4c4765acb",
   "metadata": {},
   "outputs": [
    {
     "name": "stdout",
     "output_type": "stream",
     "text": [
      "Количество = 298\n"
     ]
    },
    {
     "data": {
      "image/png": "[encoded data removed]",
      "text/plain": [
       "<Figure size 640x480 with 1 Axes>"
      ]
     },
     "metadata": {},
     "output_type": "display_data"
    }
   ],
   "source": [
    "all_data = train_imgs + test_imgs + val_imgs\n",
    "embeddings = []\n",
    "for motion in all_data:\n",
    "    emb = get_motion_embedding(encoder, motion, tform)\n",
    "    embeddings.append(emb)\n",
    "embeddings = np.array(embeddings)\n",
    "\n",
    "x = embeddings[:, 0]\n",
    "y = embeddings[:, 1]\n",
    "plt.scatter(x, y)\n",
    "plt.show()"
   ]
  },
  {
   "cell_type": "markdown",
   "id": "e2f845e0-1b68-4f34-b532-fa178e23ac10",
   "metadata": {},
   "source": [
    "### По ошибкам"
   ]
  },
  {
   "cell_type": "code",
   "execution_count": 67,
   "id": "69a9f839-3c03-4055-b697-f45741a2747f",
   "metadata": {},
   "outputs": [
    {
     "data": {
      "image/png": "[encoded data removed]",
      "text/plain": [
       "<Figure size 640x480 with 1 Axes>"
      ]
     },
     "metadata": {},
     "output_type": "display_data"
    }
   ],
   "source": [
    "# separate on mistakes\n",
    "normal = []\n",
    "wrong = []\n",
    "for motions, labels in zip([train_imgs, test_imgs, val_imgs], [train_labels, test_labels, val_labels]):\n",
    "    for idx, motion in enumerate(motions):\n",
    "        if labels[idx][0] != 0: # with errors\n",
    "            wrong.append(get_motion_embedding(encoder, motion, tform))\n",
    "        else:\n",
    "            normal.append(get_motion_embedding(encoder, motion, tform))\n",
    "normal = np.array(normal)\n",
    "wrong = np.array(wrong)\n",
    "\n",
    "for clr_code, points in zip([\"green\", \"red\"], [normal, wrong]):\n",
    "    x = points[:, 0]\n",
    "    y = points[:, 1]\n",
    "    plt.scatter(x, y, c=clr_code)\n",
    "plt.legend([\"Без ошибок\", \"С ошибкой\"])\n",
    "plt.show()"
   ]
  },
  {
   "cell_type": "markdown",
   "id": "f01bd037-380c-4ab7-a66a-db7c2a16eb81",
   "metadata": {},
   "source": [
    "### По упражнениям"
   ]
  },
  {
   "cell_type": "code",
   "execution_count": null,
   "id": "2bbacf53-6acc-4008-8c3e-0b76b4661151",
   "metadata": {},
   "outputs": [],
   "source": []
  }
 ],
 "metadata": {
  "kernelspec": {
   "display_name": "Python 3 (ipykernel)",
   "language": "python",
   "name": "python3"
  },
  "language_info": {
   "codemirror_mode": {
    "name": "ipython",
    "version": 3
   },
   "file_extension": ".py",
   "mimetype": "text/x-python",
   "name": "python",
   "nbconvert_exporter": "python",
   "pygments_lexer": "ipython3",
   "version": "3.11.7"
  }
 },
 "nbformat": 4,
 "nbformat_minor": 5
}
