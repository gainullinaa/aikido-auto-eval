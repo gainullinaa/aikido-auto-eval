{
 "cells": [
  {
   "cell_type": "code",
   "execution_count": 1,
   "id": "89bb873e-c76a-42da-b935-3f5ae0f49df0",
   "metadata": {},
   "outputs": [],
   "source": [
    "import numpy as np\n",
    "from tqdm import tqdm\n",
    "import cv2 as cv\n",
    "import matplotlib.pyplot as plt\n",
    "from sklearn.metrics import precision_score, recall_score, f1_score, classification_report\n",
    "from sklearn.model_selection import train_test_split\n",
    "\n",
    "import torch\n",
    "import torch.nn as nn\n",
    "import torchvision.models as models\n",
    "import torchvision.transforms as T\n",
    "from torch.utils.data import Dataset, random_split, DataLoader\n",
    "import torch.nn.functional as F\n",
    "\n",
    "import json\n",
    "import os\n",
    "import random"
   ]
  },
  {
   "cell_type": "code",
   "execution_count": 2,
   "id": "9f114712-f06f-4ae3-8626-cf278eff6cc2",
   "metadata": {},
   "outputs": [],
   "source": [
    "track_id2student_id_it = {7:0, 6:1, 0:2, 8:3, 1:4, 3:5, 11:6, 15:7, 16:8, 2:9, 5:12, 9:13, 4:14} # irimi tenkan, my tracking algo\n",
    "track_id2student_id_ta = {8:0, 7:1, 2:2, 10:3, 3:4, 4:5, 14:6, 9:7, 1:8, 12:9, 11:10, 0:11, 6:12, 5:13} # tsugi ashi, my tracking algo\n",
    "track_id2student_id_utmt = {7:0, 6:1, 1:2, 8:3, 3:4, 5:5, 11:6, 10:7, 2:8, 0:11, 4:13, 9:9, 12:10, 19:12} # utmt, my tracking algo\n",
    "\n",
    "single_student_tids = {\"1156\":0, \"1237\":1, \"0756\":0, \"0912\":0, \"1043\":0}"
   ]
  },
  {
   "cell_type": "code",
   "execution_count": 39,
   "id": "0fa51a81-ed53-4460-a15f-97588aaf81de",
   "metadata": {},
   "outputs": [],
   "source": [
    "file2mapping = {\"../alphapose_res/irimi_tenkan_kps.json\":track_id2student_id_it,\n",
    "                \"../alphapose_res/ta_tracking.json\":track_id2student_id_ta,\n",
    "                \"../alphapose_res/utmt_kps.json\":track_id2student_id_utmt}\n",
    "annotations_map = {\"../alphapose_res/irimi_tenkan_kps.json\":\"../data/irimi_tenkan/annotations.json\",\n",
    "                \"../alphapose_res/ta_tracking.json\":\"../data/tsugi_ashi/annotations.json\",\n",
    "                \"../alphapose_res/utmt_kps.json\":\"../data/ushiro_tenkan_mae_tenkan/annotations.json\"}\n",
    "file2exercise = {\"../alphapose_res/irimi_tenkan_kps.json\":\"ирими тенкан\", \n",
    "                 \"../alphapose_res/ta_tracking.json\":\"цуги аши\",\n",
    "                 \"../alphapose_res/utmt_kps.json\":\"уширо тенкан мае тенкан\"}\n",
    "single_st_ann = \"../data/single_student_annotations.json\"\n",
    "\n",
    "\n",
    "SAMPLE_MAX_FRAME_COUNT = 192 # ?\n",
    "CHANNELS = 3\n",
    "EMB_DIM = 2"
   ]
  },
  {
   "cell_type": "markdown",
   "id": "a2327ee8-917a-4f63-8517-d43195db5e06",
   "metadata": {},
   "source": [
    "# Подготовка данных"
   ]
  },
  {
   "cell_type": "code",
   "execution_count": 4,
   "id": "89589a25-47d0-4ba2-91a9-28f4fa6134ed",
   "metadata": {},
   "outputs": [],
   "source": [
    "from dataproc import *\n",
    "from train_utils import * "
   ]
  },
  {
   "cell_type": "code",
   "execution_count": 31,
   "id": "52ba0261-516d-4caf-8ce3-b03cd04136d9",
   "metadata": {},
   "outputs": [],
   "source": [
    "ss_vid_ann = [os.path.join(\"../alphapose_res\", f) for f in [\"0756_alpha.json\", \"0912_alpha.json\",\n",
    "                                                            \"1043_alpha.json\", \"1156_alpha.json\", \n",
    "                                                            \"1237_alpha.json\"]]\n",
    "idx2error, exercise2points, exercise2errors = parse_annotations(file2mapping, single_st_ann, annotations_map, \n",
    "                                                                ss_vid_ann, single_student_tids, file2exercise)"
   ]
  },
  {
   "cell_type": "markdown",
   "id": "31c2e459-bf08-467d-a613-0b47cc092cac",
   "metadata": {},
   "source": [
    "## Датасет"
   ]
  },
  {
   "cell_type": "code",
   "execution_count": 40,
   "id": "c8fc3249-0fd5-4815-bf01-f37912d8e35a",
   "metadata": {},
   "outputs": [],
   "source": [
    "class AutoencoderDataset(Dataset):\n",
    "    def __init__(self, images:list, transform):\n",
    "        self.transform = transform\n",
    "        self.images = images\n",
    "\n",
    "    def __len__(self):\n",
    "        return len(self.images)\n",
    "\n",
    "    def __getitem__(self, idx):\n",
    "        img = self.images[idx]\n",
    "        return self.transform(img)\n",
    "\n",
    "tform = T.Compose([\n",
    "    T.Lambda(lambda ar: resample_to_frame_length(ar, SAMPLE_MAX_FRAME_COUNT)),\n",
    "    #T.Lambda(lambda ar: random_mirroring(ar, 0)),\n",
    "    T.Lambda(normalize01),\n",
    "    T.ToTensor(),\n",
    "    T.ConvertImageDtype(torch.float32)\n",
    "])"
   ]
  },
  {
   "cell_type": "code",
   "execution_count": 41,
   "id": "dd6cd5c3-38a9-4d81-8829-9fd991432b26",
   "metadata": {},
   "outputs": [
    {
     "name": "stdout",
     "output_type": "stream",
     "text": [
      "Total 297\n",
      "Train count 208\n",
      "Test count 56\n",
      "Val count 33\n"
     ]
    }
   ],
   "source": [
    "# dividing\n",
    "train_frac = 0.7\n",
    "val_frac = 0.1\n",
    "test_frac = 0.2\n",
    "\n",
    "#train_data, test_data, val_data = fraction_split(exercise2points, exercise2errors, train_frac, val_frac, test_frac, 42)\n",
    "train_data, test_data, val_data = stratify_split(exercise2points, exercise2errors, train_frac, val_frac, test_frac, 42)\n",
    "train_imgs, train_labels = train_data\n",
    "test_imgs, test_labels = test_data\n",
    "val_imgs, val_labels = val_data\n",
    "total_data_count = len(train_imgs) + len(test_imgs) + len(val_imgs)\n",
    "\n",
    "print(\"Total\", total_data_count)\n",
    "print(\"Train count\", len(train_imgs))\n",
    "print(\"Test count\", len(test_imgs))\n",
    "print(\"Val count\", len(val_imgs))"
   ]
  },
  {
   "cell_type": "code",
   "execution_count": 42,
   "id": "2104f612-ad8e-4592-be3e-c34f9bddd99c",
   "metadata": {},
   "outputs": [],
   "source": [
    "train_ds = AutoencoderDataset(train_imgs, tform)\n",
    "val_ds = AutoencoderDataset(val_imgs, tform)\n",
    "test_ds = AutoencoderDataset(test_imgs, tform)"
   ]
  },
  {
   "cell_type": "markdown",
   "id": "ee08d791-6594-49af-8b47-542a3f39ffe6",
   "metadata": {},
   "source": [
    "Dataloader"
   ]
  },
  {
   "cell_type": "code",
   "execution_count": 43,
   "id": "d8d8cf3e-4cce-4aef-8b75-7cb97884e169",
   "metadata": {},
   "outputs": [],
   "source": [
    "# setting batch size for Dataloader to load the data batch by batch\n",
    "batch_size = 32\n",
    "train_loader = DataLoader(train_ds, batch_size, shuffle=True)\n",
    "val_loader = DataLoader(val_ds, batch_size, shuffle=False)\n",
    "test_loader = DataLoader(test_ds, 1, shuffle=False)"
   ]
  },
  {
   "cell_type": "code",
   "execution_count": 44,
   "id": "ca481300-b0b2-49b1-990f-142209c9e9df",
   "metadata": {},
   "outputs": [
    {
     "data": {
      "text/plain": [
       "torch.Size([3, 26, 192])"
      ]
     },
     "execution_count": 44,
     "metadata": {},
     "output_type": "execute_result"
    }
   ],
   "source": [
    "train_ds[0].shape"
   ]
  },
  {
   "cell_type": "markdown",
   "id": "fd16fd93-20c1-4fb8-835f-9497b86599ac",
   "metadata": {},
   "source": [
    "# Определение автокодировщика"
   ]
  },
  {
   "cell_type": "markdown",
   "id": "dfac8210-08f2-4c30-a6a3-6c2ccf8262be",
   "metadata": {},
   "source": [
    "Код для обучения и архитектуры модели взят из:"
   ]
  },
  {
   "cell_type": "markdown",
   "id": "8c8318a2-5732-4dba-807d-cb7c1445608b",
   "metadata": {},
   "source": [
    "https://pyimagesearch.com/2023/07/17/implementing-a-convolutional-autoencoder-with-pytorch/"
   ]
  },
  {
   "cell_type": "code",
   "execution_count": 45,
   "id": "4378fffa-b154-4dda-8295-3e2d5ee0e4b6",
   "metadata": {},
   "outputs": [],
   "source": [
    "class Encoder(nn.Module):\n",
    "    def __init__(self, channels, embedding_dim):\n",
    "        super(Encoder, self).__init__()\n",
    "        # define convolutional layers\n",
    "        self.conv1 = nn.Conv2d(channels, 32, kernel_size=3, stride=2, padding=1)\n",
    "        self.conv2 = nn.Conv2d(32, 64, kernel_size=3, stride=2, padding=1)\n",
    "        self.conv3 = nn.Conv2d(64, 128, kernel_size=3, stride=2, padding=1)\n",
    "        # variable to store the shape of the output tensor before flattening\n",
    "        # the features, it will be used in decoders input while reconstructing\n",
    "        self.shape_before_flattening = None\n",
    "        # compute the flattened size after convolutions\n",
    "        flattened_size = 128 * 4 * 24 # from input of 26 * 192 to 4 * 24\n",
    "        # define fully connected layer to create embeddings\n",
    "        self.fc = nn.Linear(flattened_size, embedding_dim)\n",
    "    def forward(self, x):\n",
    "        # apply ReLU activations after each convolutional layer\n",
    "        x = F.relu(self.conv1(x))\n",
    "        x = F.relu(self.conv2(x))\n",
    "        x = F.relu(self.conv3(x))\n",
    "        # store the shape before flattening\n",
    "        self.shape_before_flattening = x.shape[1:]\n",
    "        # flatten the tensor\n",
    "        x = x.view(x.size(0), -1)\n",
    "        # apply fully connected layer to generate embeddings\n",
    "        x = self.fc(x)\n",
    "        return x\n",
    "\n",
    "class Decoder(nn.Module):\n",
    "    def __init__(self, embedding_dim, shape_before_flattening, channels):\n",
    "        super(Decoder, self).__init__()\n",
    "        # define fully connected layer to unflatten the embeddings\n",
    "        self.fc = nn.Linear(embedding_dim, np.prod(shape_before_flattening))\n",
    "        # store the shape before flattening\n",
    "        self.reshape_dim = shape_before_flattening\n",
    "        # define transpose convolutional layers\n",
    "        self.deconv1 = nn.ConvTranspose2d(\n",
    "            128, 128, kernel_size=3, stride=2, padding=1\n",
    "        )\n",
    "        self.deconv2 = nn.ConvTranspose2d(\n",
    "            128, 64, kernel_size=3, stride=2, padding=(1, 0), output_padding=(0, 1)\n",
    "        )\n",
    "        self.deconv3 = nn.ConvTranspose2d(\n",
    "            64, 32, kernel_size=3, stride=2, padding=1, output_padding=1\n",
    "        )\n",
    "        # define final convolutional layer to generate output image\n",
    "        self.conv1 = nn.Conv2d(32, channels, kernel_size=3, stride=1, padding=1)\n",
    "    def forward(self, x):\n",
    "        # apply fully connected layer to unflatten the embeddings\n",
    "        x = self.fc(x)\n",
    "        # reshape the tensor to match shape before flattening\n",
    "        x = x.view(x.size(0), *self.reshape_dim)\n",
    "        # apply ReLU activations after each transpose convolutional layer\n",
    "        x = F.relu(self.deconv1(x))\n",
    "        x = F.relu(self.deconv2(x))\n",
    "        x = F.relu(self.deconv3(x))\n",
    "        # apply sigmoid activation to the final convolutional layer to generate output image\n",
    "        x = torch.sigmoid(self.conv1(x)) \n",
    "        #x = F.tanh(self.conv1(x))\n",
    "        return x"
   ]
  },
  {
   "cell_type": "markdown",
   "id": "8e7b2033-f79b-4c26-a1cb-cc5163ab3596",
   "metadata": {},
   "source": [
    "# Обучение"
   ]
  },
  {
   "cell_type": "code",
   "execution_count": 46,
   "id": "deb74c34-2285-4320-bee3-44497d92adfd",
   "metadata": {},
   "outputs": [
    {
     "data": {
      "text/plain": [
       "'cuda'"
      ]
     },
     "execution_count": 46,
     "metadata": {},
     "output_type": "execute_result"
    }
   ],
   "source": [
    "device = 'cuda' if torch.cuda.is_available() else 'cpu'\n",
    "epochs = 100\n",
    "device"
   ]
  },
  {
   "cell_type": "code",
   "execution_count": 47,
   "id": "5340db68-cafe-4416-95cb-232fca7b4d57",
   "metadata": {},
   "outputs": [],
   "source": [
    "encoder = Encoder(channels=CHANNELS, embedding_dim=EMB_DIM).to(device)\n",
    "# pass the dummy input through the encoder and\n",
    "# get the output (encoded representation)\n",
    "dummy_input = torch.rand(1, 3, 26, 192)\n",
    "enc_out = encoder(dummy_input.to(device))\n",
    "# get the shape of the tensor before it was flattened in the encoder\n",
    "shape_before_flattening = encoder.shape_before_flattening\n",
    "# create a decoder instance with the specified embedding dimensions,\n",
    "# shape before flattening, and channels\n",
    "# then move it to the device (CPU or GPU) specified in the config\n",
    "decoder = Decoder(EMB_DIM, shape_before_flattening, CHANNELS).to(device)\n",
    "# instantiate loss, optimizer, and scheduler\n",
    "criterion = nn.MSELoss() #nn.BCELoss() # MSE, MAE\n",
    "optimizer = torch.optim.Adam(\n",
    "    list(encoder.parameters()) + list(decoder.parameters()), lr=0.001\n",
    ")\n",
    "scheduler = torch.optim.lr_scheduler.ReduceLROnPlateau(\n",
    "    optimizer, mode=\"min\", factor=0.1, patience=2, verbose=True\n",
    ")"
   ]
  },
  {
   "cell_type": "code",
   "execution_count": 48,
   "id": "c9603dd2-16eb-4ea1-8480-e8356d319a5a",
   "metadata": {},
   "outputs": [],
   "source": [
    "inprogress_metrics = {\"MAE\":F.l1_loss} #, \"MSE\":F.mse_loss\n",
    "\n",
    "def calc_metrics(preds, targets, inprogress_metrics):\n",
    "    report = dict()\n",
    "    for metric in inprogress_metrics:\n",
    "        metric_func = inprogress_metrics[metric]\n",
    "        mval = metric_func(preds, targets)\n",
    "        report[metric] = round(mval.item(), 3)\n",
    "    return report\n",
    "\n",
    "def print_report(loss_value, metric_vals, beginning):\n",
    "    addition = []\n",
    "    for km in metric_vals:\n",
    "        formatteds = f\"{km}: {metric_vals[km]} \"\n",
    "        addition.append(formatteds)    \n",
    "    print(beginning, \"Loss:\", loss_value, \"\".join(addition))\n",
    "\n",
    "def train_one_epoch(encoder, decoder, loader, criterion, optimizer, epoch_num):\n",
    "    encoder.train()\n",
    "    decoder.train()\n",
    "    running_loss = 0.0\n",
    "    running_metrics = {k:0.0 for k in inprogress_metrics}\n",
    "    for batch_idx, data in tqdm(enumerate(loader), total=len(loader), desc=f\"Epoch {epoch_num}\"):\n",
    "        # move the data to the device (GPU or CPU)\n",
    "        data = data.to(device)\n",
    "        # reset the gradients of the optimizer\n",
    "        optimizer.zero_grad()\n",
    "        # forward pass: encode the data and decode the encoded representation\n",
    "        encoded = encoder(data)\n",
    "        decoded = decoder(encoded)\n",
    "        # compute the reconstruction loss between the decoded output and\n",
    "        # the original data\n",
    "        loss = criterion(decoded, data)\n",
    "        # backward pass: compute the gradients\n",
    "        loss.backward()\n",
    "        # update the model weights\n",
    "        optimizer.step()\n",
    "        # accumulate the loss for the current batch\n",
    "        running_loss += loss.item()\n",
    "        metrics = calc_metrics(decoded, data, inprogress_metrics)\n",
    "        for m in metrics:\n",
    "            running_metrics[m] += metrics[m]\n",
    "    # compute the average training loss for the epoch\n",
    "    train_loss = running_loss / len(loader)\n",
    "    train_metrics = {k:(running_metrics[k] / len(loader)) for k in running_metrics}\n",
    "    print_report(train_loss, train_metrics, \"Train|\")\n",
    "\n",
    "    res = dict(train_metrics)\n",
    "    res[\"loss\"] = train_loss\n",
    "    return res\n",
    "\n",
    "def evaluate(encoder, decoder, loader, criterion):\n",
    "    encoder.eval() \n",
    "    decoder.eval()\n",
    "    running_loss = 0.0\n",
    "    running_metrics = {k:0.0 for k in inprogress_metrics}\n",
    "    with torch.no_grad():\n",
    "        for i, data in enumerate(loader):\n",
    "            data = data.to(device)\n",
    "            encoded = encoder(data)\n",
    "            decoded = decoder(encoded)\n",
    "            loss = criterion(decoded, data)\n",
    "            running_loss += loss.item()\n",
    "            metrics = calc_metrics(decoded, data, inprogress_metrics)\n",
    "            for m in metrics:\n",
    "                running_metrics[m] += metrics[m]\n",
    "    l = running_loss / len(loader)\n",
    "    scores = {k:(running_metrics[k] / len(loader)) for k in running_metrics}\n",
    "    print_report(l, scores, \"Valid|\")\n",
    "    \n",
    "    res = dict(scores)\n",
    "    res[\"loss\"] = l\n",
    "    return res\n"
   ]
  },
  {
   "cell_type": "code",
   "execution_count": 49,
   "id": "58a4d8c0-5ffb-4922-8d67-e7b2952359d3",
   "metadata": {
    "scrolled": true
   },
   "outputs": [
    {
     "name": "stderr",
     "output_type": "stream",
     "text": [
      "Epoch 0: 100%|███████████████████████████████████████████████████████████████████████████| 7/7 [00:01<00:00,  6.96it/s]\n"
     ]
    },
    {
     "name": "stdout",
     "output_type": "stream",
     "text": [
      "Train| Loss: 0.12896402712379182 MAE: 0.323 \n",
      "Valid| Loss: 0.1077776588499546 MAE: 0.2835 \n"
     ]
    },
    {
     "name": "stderr",
     "output_type": "stream",
     "text": [
      "Epoch 1: 100%|██████████████████████████████████████████████████████████████████████████| 7/7 [00:00<00:00, 104.42it/s]\n"
     ]
    },
    {
     "name": "stdout",
     "output_type": "stream",
     "text": [
      "Train| Loss: 0.11075283693415779 MAE: 0.29157142857142854 \n",
      "Valid| Loss: 0.10038484260439873 MAE: 0.2725 \n"
     ]
    },
    {
     "name": "stderr",
     "output_type": "stream",
     "text": [
      "Epoch 2: 100%|███████████████████████████████████████████████████████████████████████████| 7/7 [00:00<00:00, 87.87it/s]\n"
     ]
    },
    {
     "name": "stdout",
     "output_type": "stream",
     "text": [
      "Train| Loss: 0.09292708869491305 MAE: 0.2582857142857143 \n",
      "Valid| Loss: 0.0856933444738388 MAE: 0.2465 \n"
     ]
    },
    {
     "name": "stderr",
     "output_type": "stream",
     "text": [
      "Epoch 3: 100%|██████████████████████████████████████████████████████████████████████████| 7/7 [00:00<00:00, 106.17it/s]\n"
     ]
    },
    {
     "name": "stdout",
     "output_type": "stream",
     "text": [
      "Train| Loss: 0.0783308031303542 MAE: 0.2238571428571429 \n",
      "Valid| Loss: 0.08023089542984962 MAE: 0.2385 \n"
     ]
    },
    {
     "name": "stderr",
     "output_type": "stream",
     "text": [
      "Epoch 4: 100%|███████████████████████████████████████████████████████████████████████████| 7/7 [00:00<00:00, 91.59it/s]\n"
     ]
    },
    {
     "name": "stdout",
     "output_type": "stream",
     "text": [
      "Train| Loss: 0.0720748347895486 MAE: 0.20957142857142855 \n",
      "Valid| Loss: 0.07559774816036224 MAE: 0.22949999999999998 \n"
     ]
    },
    {
     "name": "stderr",
     "output_type": "stream",
     "text": [
      "Epoch 5: 100%|███████████████████████████████████████████████████████████████████████████| 7/7 [00:00<00:00, 89.41it/s]\n"
     ]
    },
    {
     "name": "stdout",
     "output_type": "stream",
     "text": [
      "Train| Loss: 0.06602876048002924 MAE: 0.19500000000000003 \n",
      "Valid| Loss: 0.07095413655042648 MAE: 0.219 \n"
     ]
    },
    {
     "name": "stderr",
     "output_type": "stream",
     "text": [
      "Epoch 6: 100%|██████████████████████████████████████████████████████████████████████████| 7/7 [00:00<00:00, 104.58it/s]\n"
     ]
    },
    {
     "name": "stdout",
     "output_type": "stream",
     "text": [
      "Train| Loss: 0.06280913257173129 MAE: 0.18657142857142855 \n",
      "Valid| Loss: 0.06462524458765984 MAE: 0.20650000000000002 \n"
     ]
    },
    {
     "name": "stderr",
     "output_type": "stream",
     "text": [
      "Epoch 7: 100%|███████████████████████████████████████████████████████████████████████████| 7/7 [00:00<00:00, 90.93it/s]\n"
     ]
    },
    {
     "name": "stdout",
     "output_type": "stream",
     "text": [
      "Train| Loss: 0.05708800043378558 MAE: 0.17771428571428569 \n",
      "Valid| Loss: 0.055018775165081024 MAE: 0.185 \n"
     ]
    },
    {
     "name": "stderr",
     "output_type": "stream",
     "text": [
      "Epoch 8: 100%|███████████████████████████████████████████████████████████████████████████| 7/7 [00:00<00:00, 92.45it/s]\n"
     ]
    },
    {
     "name": "stdout",
     "output_type": "stream",
     "text": [
      "Train| Loss: 0.04643897392920086 MAE: 0.15257142857142858 \n",
      "Valid| Loss: 0.04043351672589779 MAE: 0.1485 \n"
     ]
    },
    {
     "name": "stderr",
     "output_type": "stream",
     "text": [
      "Epoch 9: 100%|██████████████████████████████████████████████████████████████████████████| 7/7 [00:00<00:00, 104.58it/s]\n"
     ]
    },
    {
     "name": "stdout",
     "output_type": "stream",
     "text": [
      "Train| Loss: 0.03807117390845503 MAE: 0.12914285714285714 \n",
      "Valid| Loss: 0.03461591713130474 MAE: 0.1305 \n"
     ]
    },
    {
     "name": "stderr",
     "output_type": "stream",
     "text": [
      "Epoch 10: 100%|██████████████████████████████████████████████████████████████████████████| 7/7 [00:00<00:00, 84.77it/s]\n"
     ]
    },
    {
     "name": "stdout",
     "output_type": "stream",
     "text": [
      "Train| Loss: 0.033297562173434665 MAE: 0.11957142857142856 \n",
      "Valid| Loss: 0.02908326778560877 MAE: 0.12 \n"
     ]
    },
    {
     "name": "stderr",
     "output_type": "stream",
     "text": [
      "Epoch 11: 100%|██████████████████████████████████████████████████████████████████████████| 7/7 [00:00<00:00, 84.49it/s]\n"
     ]
    },
    {
     "name": "stdout",
     "output_type": "stream",
     "text": [
      "Train| Loss: 0.03201486862131527 MAE: 0.11457142857142856 \n",
      "Valid| Loss: 0.026454702951014042 MAE: 0.11 \n"
     ]
    },
    {
     "name": "stderr",
     "output_type": "stream",
     "text": [
      "Epoch 12: 100%|██████████████████████████████████████████████████████████████████████████| 7/7 [00:00<00:00, 98.63it/s]\n"
     ]
    },
    {
     "name": "stdout",
     "output_type": "stream",
     "text": [
      "Train| Loss: 0.029724405812365667 MAE: 0.1087142857142857 \n",
      "Valid| Loss: 0.02588675357401371 MAE: 0.1085 \n"
     ]
    },
    {
     "name": "stderr",
     "output_type": "stream",
     "text": [
      "Epoch 13: 100%|█████████████████████████████████████████████████████████████████████████| 7/7 [00:00<00:00, 100.70it/s]\n"
     ]
    },
    {
     "name": "stdout",
     "output_type": "stream",
     "text": [
      "Train| Loss: 0.028930532612970898 MAE: 0.107 \n",
      "Valid| Loss: 0.025745276361703873 MAE: 0.107 \n"
     ]
    },
    {
     "name": "stderr",
     "output_type": "stream",
     "text": [
      "Epoch 14: 100%|██████████████████████████████████████████████████████████████████████████| 7/7 [00:00<00:00, 91.12it/s]\n"
     ]
    },
    {
     "name": "stdout",
     "output_type": "stream",
     "text": [
      "Train| Loss: 0.028701303792851313 MAE: 0.10442857142857143 \n",
      "Valid| Loss: 0.0247415229678154 MAE: 0.1065 \n"
     ]
    },
    {
     "name": "stderr",
     "output_type": "stream",
     "text": [
      "Epoch 15: 100%|██████████████████████████████████████████████████████████████████████████| 7/7 [00:00<00:00, 90.18it/s]\n"
     ]
    },
    {
     "name": "stdout",
     "output_type": "stream",
     "text": [
      "Train| Loss: 0.027417383023670742 MAE: 0.10371428571428572 \n",
      "Valid| Loss: 0.024345778860151768 MAE: 0.10250000000000001 \n"
     ]
    },
    {
     "name": "stderr",
     "output_type": "stream",
     "text": [
      "Epoch 16: 100%|██████████████████████████████████████████████████████████████████████████| 7/7 [00:00<00:00, 93.88it/s]\n"
     ]
    },
    {
     "name": "stdout",
     "output_type": "stream",
     "text": [
      "Train| Loss: 0.027310062998107502 MAE: 0.10157142857142856 \n",
      "Valid| Loss: 0.024522543884813786 MAE: 0.105 \n"
     ]
    },
    {
     "name": "stderr",
     "output_type": "stream",
     "text": [
      "Epoch 17: 100%|█████████████████████████████████████████████████████████████████████████| 7/7 [00:00<00:00, 106.93it/s]\n"
     ]
    },
    {
     "name": "stdout",
     "output_type": "stream",
     "text": [
      "Train| Loss: 0.026816200464963913 MAE: 0.10214285714285713 \n",
      "Valid| Loss: 0.024184350855648518 MAE: 0.101 \n"
     ]
    },
    {
     "name": "stderr",
     "output_type": "stream",
     "text": [
      "Epoch 18: 100%|██████████████████████████████████████████████████████████████████████████| 7/7 [00:00<00:00, 91.58it/s]\n"
     ]
    },
    {
     "name": "stdout",
     "output_type": "stream",
     "text": [
      "Train| Loss: 0.02645712984459741 MAE: 0.10014285714285713 \n",
      "Valid| Loss: 0.024510719813406467 MAE: 0.10350000000000001 \n"
     ]
    },
    {
     "name": "stderr",
     "output_type": "stream",
     "text": [
      "Epoch 19: 100%|██████████████████████████████████████████████████████████████████████████| 7/7 [00:00<00:00, 90.95it/s]\n"
     ]
    },
    {
     "name": "stdout",
     "output_type": "stream",
     "text": [
      "Train| Loss: 0.026398478874138424 MAE: 0.09928571428571428 \n",
      "Valid| Loss: 0.02265980839729309 MAE: 0.0985 \n"
     ]
    },
    {
     "name": "stderr",
     "output_type": "stream",
     "text": [
      "Epoch 20: 100%|█████████████████████████████████████████████████████████████████████████| 7/7 [00:00<00:00, 105.81it/s]\n"
     ]
    },
    {
     "name": "stdout",
     "output_type": "stream",
     "text": [
      "Train| Loss: 0.025235714656966075 MAE: 0.09728571428571428 \n",
      "Valid| Loss: 0.02420277427881956 MAE: 0.10300000000000001 \n"
     ]
    },
    {
     "name": "stderr",
     "output_type": "stream",
     "text": [
      "Epoch 21: 100%|█████████████████████████████████████████████████████████████████████████| 7/7 [00:00<00:00, 101.53it/s]\n"
     ]
    },
    {
     "name": "stdout",
     "output_type": "stream",
     "text": [
      "Train| Loss: 0.024999128388507024 MAE: 0.09728571428571428 \n",
      "Valid| Loss: 0.023528295569121838 MAE: 0.1 \n"
     ]
    },
    {
     "name": "stderr",
     "output_type": "stream",
     "text": [
      "Epoch 22: 100%|██████████████████████████████████████████████████████████████████████████| 7/7 [00:00<00:00, 84.84it/s]\n"
     ]
    },
    {
     "name": "stdout",
     "output_type": "stream",
     "text": [
      "Train| Loss: 0.024458233000976697 MAE: 0.09728571428571428 \n",
      "Valid| Loss: 0.024317441508173943 MAE: 0.10450000000000001 \n",
      "Epoch 00023: reducing learning rate of group 0 to 1.0000e-04.\n"
     ]
    },
    {
     "name": "stderr",
     "output_type": "stream",
     "text": [
      "Epoch 23: 100%|██████████████████████████████████████████████████████████████████████████| 7/7 [00:00<00:00, 93.42it/s]\n"
     ]
    },
    {
     "name": "stdout",
     "output_type": "stream",
     "text": [
      "Train| Loss: 0.02360182548207896 MAE: 0.09499999999999999 \n",
      "Valid| Loss: 0.022794311866164207 MAE: 0.099 \n"
     ]
    },
    {
     "name": "stderr",
     "output_type": "stream",
     "text": [
      "Epoch 24: 100%|██████████████████████████████████████████████████████████████████████████| 7/7 [00:00<00:00, 87.81it/s]\n"
     ]
    },
    {
     "name": "stdout",
     "output_type": "stream",
     "text": [
      "Train| Loss: 0.023777916761381284 MAE: 0.09457142857142857 \n",
      "Valid| Loss: 0.022279337979853153 MAE: 0.0975 \n"
     ]
    },
    {
     "name": "stderr",
     "output_type": "stream",
     "text": [
      "Epoch 25: 100%|██████████████████████████████████████████████████████████████████████████| 7/7 [00:00<00:00, 89.35it/s]\n"
     ]
    },
    {
     "name": "stdout",
     "output_type": "stream",
     "text": [
      "Train| Loss: 0.023611802075590407 MAE: 0.09371428571428572 \n",
      "Valid| Loss: 0.022403070703148842 MAE: 0.098 \n"
     ]
    },
    {
     "name": "stderr",
     "output_type": "stream",
     "text": [
      "Epoch 26: 100%|██████████████████████████████████████████████████████████████████████████| 7/7 [00:00<00:00, 90.77it/s]\n"
     ]
    },
    {
     "name": "stdout",
     "output_type": "stream",
     "text": [
      "Train| Loss: 0.02329330039875848 MAE: 0.09385714285714285 \n",
      "Valid| Loss: 0.022530216723680496 MAE: 0.099 \n"
     ]
    },
    {
     "name": "stderr",
     "output_type": "stream",
     "text": [
      "Epoch 27: 100%|██████████████████████████████████████████████████████████████████████████| 7/7 [00:00<00:00, 92.92it/s]\n"
     ]
    },
    {
     "name": "stdout",
     "output_type": "stream",
     "text": [
      "Train| Loss: 0.022800945543817112 MAE: 0.09314285714285712 \n",
      "Valid| Loss: 0.022446854040026665 MAE: 0.098 \n",
      "Epoch 00028: reducing learning rate of group 0 to 1.0000e-05.\n"
     ]
    },
    {
     "name": "stderr",
     "output_type": "stream",
     "text": [
      "Epoch 28: 100%|██████████████████████████████████████████████████████████████████████████| 7/7 [00:00<00:00, 95.71it/s]\n"
     ]
    },
    {
     "name": "stdout",
     "output_type": "stream",
     "text": [
      "Train| Loss: 0.022658559892858778 MAE: 0.09242857142857143 \n",
      "Valid| Loss: 0.022415943443775177 MAE: 0.098 \n"
     ]
    },
    {
     "name": "stderr",
     "output_type": "stream",
     "text": [
      "Epoch 29: 100%|██████████████████████████████████████████████████████████████████████████| 7/7 [00:00<00:00, 85.14it/s]\n"
     ]
    },
    {
     "name": "stdout",
     "output_type": "stream",
     "text": [
      "Train| Loss: 0.023352706006595066 MAE: 0.09399999999999999 \n",
      "Valid| Loss: 0.02241270523518324 MAE: 0.098 \n"
     ]
    },
    {
     "name": "stderr",
     "output_type": "stream",
     "text": [
      "Epoch 30: 100%|██████████████████████████████████████████████████████████████████████████| 7/7 [00:00<00:00, 86.42it/s]\n"
     ]
    },
    {
     "name": "stdout",
     "output_type": "stream",
     "text": [
      "Train| Loss: 0.022403043561748097 MAE: 0.09228571428571428 \n",
      "Valid| Loss: 0.022375009022653103 MAE: 0.098 \n",
      "Epoch 00031: reducing learning rate of group 0 to 1.0000e-06.\n"
     ]
    },
    {
     "name": "stderr",
     "output_type": "stream",
     "text": [
      "Epoch 31: 100%|██████████████████████████████████████████████████████████████████████████| 7/7 [00:00<00:00, 98.07it/s]\n"
     ]
    },
    {
     "name": "stdout",
     "output_type": "stream",
     "text": [
      "Train| Loss: 0.022613727088485445 MAE: 0.09271428571428572 \n",
      "Valid| Loss: 0.02237251028418541 MAE: 0.098 \n"
     ]
    },
    {
     "name": "stderr",
     "output_type": "stream",
     "text": [
      "Epoch 32: 100%|█████████████████████████████████████████████████████████████████████████| 7/7 [00:00<00:00, 101.45it/s]\n"
     ]
    },
    {
     "name": "stdout",
     "output_type": "stream",
     "text": [
      "Train| Loss: 0.023244324273296764 MAE: 0.09399999999999999 \n",
      "Valid| Loss: 0.02237183414399624 MAE: 0.098 \n"
     ]
    },
    {
     "name": "stderr",
     "output_type": "stream",
     "text": [
      "Epoch 33: 100%|██████████████████████████████████████████████████████████████████████████| 7/7 [00:00<00:00, 99.19it/s]\n"
     ]
    },
    {
     "name": "stdout",
     "output_type": "stream",
     "text": [
      "Train| Loss: 0.022979663152779852 MAE: 0.09299999999999999 \n",
      "Valid| Loss: 0.022369710728526115 MAE: 0.098 \n",
      "Epoch 00034: reducing learning rate of group 0 to 1.0000e-07.\n"
     ]
    },
    {
     "name": "stderr",
     "output_type": "stream",
     "text": [
      "Epoch 34: 100%|█████████████████████████████████████████████████████████████████████████| 7/7 [00:00<00:00, 110.61it/s]\n"
     ]
    },
    {
     "name": "stdout",
     "output_type": "stream",
     "text": [
      "Train| Loss: 0.02236418253076928 MAE: 0.09214285714285712 \n",
      "Valid| Loss: 0.022369559854269028 MAE: 0.098 \n"
     ]
    },
    {
     "name": "stderr",
     "output_type": "stream",
     "text": [
      "Epoch 35: 100%|██████████████████████████████████████████████████████████████████████████| 7/7 [00:00<00:00, 84.24it/s]\n"
     ]
    },
    {
     "name": "stdout",
     "output_type": "stream",
     "text": [
      "Train| Loss: 0.022906757092901638 MAE: 0.09342857142857142 \n",
      "Valid| Loss: 0.022369449958205223 MAE: 0.098 \n"
     ]
    },
    {
     "name": "stderr",
     "output_type": "stream",
     "text": [
      "Epoch 36: 100%|██████████████████████████████████████████████████████████████████████████| 7/7 [00:00<00:00, 86.92it/s]\n"
     ]
    },
    {
     "name": "stdout",
     "output_type": "stream",
     "text": [
      "Train| Loss: 0.023415078542062213 MAE: 0.09399999999999999 \n",
      "Valid| Loss: 0.02236912027001381 MAE: 0.098 \n",
      "Epoch 00037: reducing learning rate of group 0 to 1.0000e-08.\n"
     ]
    },
    {
     "name": "stderr",
     "output_type": "stream",
     "text": [
      "Epoch 37: 100%|██████████████████████████████████████████████████████████████████████████| 7/7 [00:00<00:00, 88.87it/s]\n"
     ]
    },
    {
     "name": "stdout",
     "output_type": "stream",
     "text": [
      "Train| Loss: 0.022562466827886447 MAE: 0.09285714285714285 \n",
      "Valid| Loss: 0.022369087673723698 MAE: 0.098 \n"
     ]
    },
    {
     "name": "stderr",
     "output_type": "stream",
     "text": [
      "Epoch 38: 100%|█████████████████████████████████████████████████████████████████████████| 7/7 [00:00<00:00, 101.17it/s]\n"
     ]
    },
    {
     "name": "stdout",
     "output_type": "stream",
     "text": [
      "Train| Loss: 0.023110113771898404 MAE: 0.09328571428571428 \n",
      "Valid| Loss: 0.02236907370388508 MAE: 0.098 \n"
     ]
    },
    {
     "name": "stderr",
     "output_type": "stream",
     "text": [
      "Epoch 39: 100%|██████████████████████████████████████████████████████████████████████████| 7/7 [00:00<00:00, 93.59it/s]\n"
     ]
    },
    {
     "name": "stdout",
     "output_type": "stream",
     "text": [
      "Train| Loss: 0.02310196895684515 MAE: 0.09357142857142856 \n",
      "Valid| Loss: 0.022368994541466236 MAE: 0.098 \n"
     ]
    },
    {
     "name": "stderr",
     "output_type": "stream",
     "text": [
      "Epoch 40: 100%|██████████████████████████████████████████████████████████████████████████| 7/7 [00:00<00:00, 84.38it/s]\n"
     ]
    },
    {
     "name": "stdout",
     "output_type": "stream",
     "text": [
      "Train| Loss: 0.022293662652373314 MAE: 0.092 \n",
      "Valid| Loss: 0.022368994541466236 MAE: 0.098 \n"
     ]
    },
    {
     "name": "stderr",
     "output_type": "stream",
     "text": [
      "Epoch 41: 100%|██████████████████████████████████████████████████████████████████████████| 7/7 [00:00<00:00, 88.20it/s]\n"
     ]
    },
    {
     "name": "stdout",
     "output_type": "stream",
     "text": [
      "Train| Loss: 0.02310320415667125 MAE: 0.09385714285714286 \n",
      "Valid| Loss: 0.022368970327079296 MAE: 0.098 \n"
     ]
    },
    {
     "name": "stderr",
     "output_type": "stream",
     "text": [
      "Epoch 42: 100%|██████████████████████████████████████████████████████████████████████████| 7/7 [00:00<00:00, 90.10it/s]\n"
     ]
    },
    {
     "name": "stdout",
     "output_type": "stream",
     "text": [
      "Train| Loss: 0.02313568868807384 MAE: 0.09357142857142856 \n",
      "Valid| Loss: 0.02236898522824049 MAE: 0.098 \n"
     ]
    },
    {
     "name": "stderr",
     "output_type": "stream",
     "text": [
      "Epoch 43: 100%|██████████████████████████████████████████████████████████████████████████| 7/7 [00:00<00:00, 91.89it/s]\n"
     ]
    },
    {
     "name": "stdout",
     "output_type": "stream",
     "text": [
      "Train| Loss: 0.022503798561436788 MAE: 0.09214285714285712 \n",
      "Valid| Loss: 0.022368968464434147 MAE: 0.098 \n"
     ]
    },
    {
     "name": "stderr",
     "output_type": "stream",
     "text": [
      "Epoch 44: 100%|██████████████████████████████████████████████████████████████████████████| 7/7 [00:00<00:00, 93.39it/s]\n"
     ]
    },
    {
     "name": "stdout",
     "output_type": "stream",
     "text": [
      "Train| Loss: 0.022843956149050167 MAE: 0.09342857142857142 \n",
      "Valid| Loss: 0.022368947975337505 MAE: 0.098 \n"
     ]
    },
    {
     "name": "stderr",
     "output_type": "stream",
     "text": [
      "Epoch 45: 100%|██████████████████████████████████████████████████████████████████████████| 7/7 [00:00<00:00, 90.62it/s]\n"
     ]
    },
    {
     "name": "stdout",
     "output_type": "stream",
     "text": [
      "Train| Loss: 0.02339805050620011 MAE: 0.09428571428571428 \n",
      "Valid| Loss: 0.02236895728856325 MAE: 0.098 \n"
     ]
    },
    {
     "name": "stderr",
     "output_type": "stream",
     "text": [
      "Epoch 46: 100%|██████████████████████████████████████████████████████████████████████████| 7/7 [00:00<00:00, 92.29it/s]\n"
     ]
    },
    {
     "name": "stdout",
     "output_type": "stream",
     "text": [
      "Train| Loss: 0.02331483124622277 MAE: 0.09342857142857142 \n",
      "Valid| Loss: 0.022368929348886013 MAE: 0.098 \n"
     ]
    },
    {
     "name": "stderr",
     "output_type": "stream",
     "text": [
      "Epoch 47: 100%|██████████████████████████████████████████████████████████████████████████| 7/7 [00:00<00:00, 91.34it/s]\n"
     ]
    },
    {
     "name": "stdout",
     "output_type": "stream",
     "text": [
      "Train| Loss: 0.023353899163859233 MAE: 0.09414285714285713 \n",
      "Valid| Loss: 0.02236894052475691 MAE: 0.098 \n"
     ]
    },
    {
     "name": "stderr",
     "output_type": "stream",
     "text": [
      "Epoch 48: 100%|██████████████████████████████████████████████████████████████████████████| 7/7 [00:00<00:00, 93.30it/s]\n"
     ]
    },
    {
     "name": "stdout",
     "output_type": "stream",
     "text": [
      "Train| Loss: 0.022461558293019022 MAE: 0.09228571428571428 \n",
      "Valid| Loss: 0.022368899546563625 MAE: 0.098 \n"
     ]
    },
    {
     "name": "stderr",
     "output_type": "stream",
     "text": [
      "Epoch 49: 100%|██████████████████████████████████████████████████████████████████████████| 7/7 [00:00<00:00, 95.04it/s]\n"
     ]
    },
    {
     "name": "stdout",
     "output_type": "stream",
     "text": [
      "Train| Loss: 0.022880176082253456 MAE: 0.09299999999999999 \n",
      "Valid| Loss: 0.02236889023333788 MAE: 0.098 \n"
     ]
    },
    {
     "name": "stderr",
     "output_type": "stream",
     "text": [
      "Epoch 50: 100%|██████████████████████████████████████████████████████████████████████████| 7/7 [00:00<00:00, 97.23it/s]\n"
     ]
    },
    {
     "name": "stdout",
     "output_type": "stream",
     "text": [
      "Train| Loss: 0.02317154380892004 MAE: 0.09399999999999999 \n",
      "Valid| Loss: 0.022368899546563625 MAE: 0.098 \n"
     ]
    },
    {
     "name": "stderr",
     "output_type": "stream",
     "text": [
      "Epoch 51: 100%|██████████████████████████████████████████████████████████████████████████| 7/7 [00:00<00:00, 99.85it/s]\n"
     ]
    },
    {
     "name": "stdout",
     "output_type": "stream",
     "text": [
      "Train| Loss: 0.023104367245520865 MAE: 0.09371428571428571 \n",
      "Valid| Loss: 0.022368879057466984 MAE: 0.098 \n"
     ]
    },
    {
     "name": "stderr",
     "output_type": "stream",
     "text": [
      "Epoch 52: 100%|██████████████████████████████████████████████████████████████████████████| 7/7 [00:00<00:00, 84.06it/s]\n"
     ]
    },
    {
     "name": "stdout",
     "output_type": "stream",
     "text": [
      "Train| Loss: 0.022570479661226273 MAE: 0.09271428571428571 \n",
      "Valid| Loss: 0.022368880920112133 MAE: 0.098 \n"
     ]
    },
    {
     "name": "stderr",
     "output_type": "stream",
     "text": [
      "Epoch 53: 100%|██████████████████████████████████████████████████████████████████████████| 7/7 [00:00<00:00, 96.63it/s]\n"
     ]
    },
    {
     "name": "stdout",
     "output_type": "stream",
     "text": [
      "Train| Loss: 0.022992523120982305 MAE: 0.09342857142857143 \n",
      "Valid| Loss: 0.02236886601895094 MAE: 0.098 \n"
     ]
    },
    {
     "name": "stderr",
     "output_type": "stream",
     "text": [
      "Epoch 54: 100%|█████████████████████████████████████████████████████████████████████████| 7/7 [00:00<00:00, 101.49it/s]\n"
     ]
    },
    {
     "name": "stdout",
     "output_type": "stream",
     "text": [
      "Train| Loss: 0.022553153868232454 MAE: 0.09228571428571428 \n",
      "Valid| Loss: 0.022368847392499447 MAE: 0.098 \n"
     ]
    },
    {
     "name": "stderr",
     "output_type": "stream",
     "text": [
      "Epoch 55: 100%|██████████████████████████████████████████████████████████████████████████| 7/7 [00:00<00:00, 97.85it/s]\n"
     ]
    },
    {
     "name": "stdout",
     "output_type": "stream",
     "text": [
      "Train| Loss: 0.02272441184946469 MAE: 0.09271428571428571 \n",
      "Valid| Loss: 0.022368797101080418 MAE: 0.098 \n"
     ]
    },
    {
     "name": "stderr",
     "output_type": "stream",
     "text": [
      "Epoch 56: 100%|█████████████████████████████████████████████████████████████████████████| 7/7 [00:00<00:00, 110.79it/s]\n"
     ]
    },
    {
     "name": "stdout",
     "output_type": "stream",
     "text": [
      "Train| Loss: 0.023048666172793934 MAE: 0.09328571428571428 \n",
      "Valid| Loss: 0.022368766367435455 MAE: 0.098 \n"
     ]
    },
    {
     "name": "stderr",
     "output_type": "stream",
     "text": [
      "Epoch 57: 100%|██████████████████████████████████████████████████████████████████████████| 7/7 [00:00<00:00, 85.14it/s]\n"
     ]
    },
    {
     "name": "stdout",
     "output_type": "stream",
     "text": [
      "Train| Loss: 0.022556465917399952 MAE: 0.09228571428571429 \n",
      "Valid| Loss: 0.022368723526597023 MAE: 0.098 \n"
     ]
    },
    {
     "name": "stderr",
     "output_type": "stream",
     "text": [
      "Epoch 58: 100%|██████████████████████████████████████████████████████████████████████████| 7/7 [00:00<00:00, 84.00it/s]\n"
     ]
    },
    {
     "name": "stdout",
     "output_type": "stream",
     "text": [
      "Train| Loss: 0.022612461021968296 MAE: 0.09228571428571428 \n",
      "Valid| Loss: 0.022368685342371464 MAE: 0.098 \n"
     ]
    },
    {
     "name": "stderr",
     "output_type": "stream",
     "text": [
      "Epoch 59: 100%|██████████████████████████████████████████████████████████████████████████| 7/7 [00:00<00:00, 84.00it/s]\n"
     ]
    },
    {
     "name": "stdout",
     "output_type": "stream",
     "text": [
      "Train| Loss: 0.023078416607209613 MAE: 0.09357142857142856 \n",
      "Valid| Loss: 0.02236865647137165 MAE: 0.098 \n"
     ]
    },
    {
     "name": "stderr",
     "output_type": "stream",
     "text": [
      "Epoch 60: 100%|██████████████████████████████████████████████████████████████████████████| 7/7 [00:00<00:00, 80.75it/s]\n"
     ]
    },
    {
     "name": "stdout",
     "output_type": "stream",
     "text": [
      "Train| Loss: 0.023644763976335526 MAE: 0.09457142857142857 \n",
      "Valid| Loss: 0.022368661127984524 MAE: 0.098 \n"
     ]
    },
    {
     "name": "stderr",
     "output_type": "stream",
     "text": [
      "Epoch 61: 100%|██████████████████████████████████████████████████████████████████████████| 7/7 [00:00<00:00, 80.77it/s]\n"
     ]
    },
    {
     "name": "stdout",
     "output_type": "stream",
     "text": [
      "Train| Loss: 0.022613612668854848 MAE: 0.09257142857142855 \n",
      "Valid| Loss: 0.022368641570210457 MAE: 0.098 \n"
     ]
    },
    {
     "name": "stderr",
     "output_type": "stream",
     "text": [
      "Epoch 62: 100%|█████████████████████████████████████████████████████████████████████████| 7/7 [00:00<00:00, 105.87it/s]\n"
     ]
    },
    {
     "name": "stdout",
     "output_type": "stream",
     "text": [
      "Train| Loss: 0.022563553282192776 MAE: 0.09214285714285715 \n",
      "Valid| Loss: 0.022368624806404114 MAE: 0.098 \n"
     ]
    },
    {
     "name": "stderr",
     "output_type": "stream",
     "text": [
      "Epoch 63: 100%|█████████████████████████████████████████████████████████████████████████| 7/7 [00:00<00:00, 103.11it/s]\n"
     ]
    },
    {
     "name": "stdout",
     "output_type": "stream",
     "text": [
      "Train| Loss: 0.022971730679273605 MAE: 0.09342857142857143 \n",
      "Valid| Loss: 0.022368621081113815 MAE: 0.098 \n"
     ]
    },
    {
     "name": "stderr",
     "output_type": "stream",
     "text": [
      "Epoch 64: 100%|█████████████████████████████████████████████████████████████████████████| 7/7 [00:00<00:00, 100.51it/s]\n"
     ]
    },
    {
     "name": "stdout",
     "output_type": "stream",
     "text": [
      "Train| Loss: 0.023595341348222325 MAE: 0.09428571428571429 \n",
      "Valid| Loss: 0.02236858196556568 MAE: 0.098 \n"
     ]
    },
    {
     "name": "stderr",
     "output_type": "stream",
     "text": [
      "Epoch 65: 100%|██████████████████████████████████████████████████████████████████████████| 7/7 [00:00<00:00, 85.87it/s]\n"
     ]
    },
    {
     "name": "stdout",
     "output_type": "stream",
     "text": [
      "Train| Loss: 0.023119846358895302 MAE: 0.09328571428571429 \n",
      "Valid| Loss: 0.022368562407791615 MAE: 0.098 \n"
     ]
    },
    {
     "name": "stderr",
     "output_type": "stream",
     "text": [
      "Epoch 66: 100%|██████████████████████████████████████████████████████████████████████████| 7/7 [00:00<00:00, 79.38it/s]\n"
     ]
    },
    {
     "name": "stdout",
     "output_type": "stream",
     "text": [
      "Train| Loss: 0.022386636718043258 MAE: 0.09185714285714286 \n",
      "Valid| Loss: 0.02236854936927557 MAE: 0.098 \n"
     ]
    },
    {
     "name": "stderr",
     "output_type": "stream",
     "text": [
      "Epoch 67: 100%|██████████████████████████████████████████████████████████████████████████| 7/7 [00:00<00:00, 89.23it/s]\n"
     ]
    },
    {
     "name": "stdout",
     "output_type": "stream",
     "text": [
      "Train| Loss: 0.023708673992327282 MAE: 0.09485714285714285 \n",
      "Valid| Loss: 0.022368540056049824 MAE: 0.098 \n"
     ]
    },
    {
     "name": "stderr",
     "output_type": "stream",
     "text": [
      "Epoch 68: 100%|██████████████████████████████████████████████████████████████████████████| 7/7 [00:00<00:00, 83.97it/s]\n"
     ]
    },
    {
     "name": "stdout",
     "output_type": "stream",
     "text": [
      "Train| Loss: 0.02283919309931142 MAE: 0.09271428571428571 \n",
      "Valid| Loss: 0.022368543781340122 MAE: 0.098 \n"
     ]
    },
    {
     "name": "stderr",
     "output_type": "stream",
     "text": [
      "Epoch 69: 100%|██████████████████████████████████████████████████████████████████████████| 7/7 [00:00<00:00, 79.77it/s]\n"
     ]
    },
    {
     "name": "stdout",
     "output_type": "stream",
     "text": [
      "Train| Loss: 0.023414483293890953 MAE: 0.09385714285714285 \n",
      "Valid| Loss: 0.022368536330759525 MAE: 0.098 \n"
     ]
    },
    {
     "name": "stderr",
     "output_type": "stream",
     "text": [
      "Epoch 70: 100%|██████████████████████████████████████████████████████████████████████████| 7/7 [00:00<00:00, 84.14it/s]\n"
     ]
    },
    {
     "name": "stdout",
     "output_type": "stream",
     "text": [
      "Train| Loss: 0.02341501441385065 MAE: 0.09428571428571428 \n",
      "Valid| Loss: 0.0223685335367918 MAE: 0.098 \n"
     ]
    },
    {
     "name": "stderr",
     "output_type": "stream",
     "text": [
      "Epoch 71: 100%|██████████████████████████████████████████████████████████████████████████| 7/7 [00:00<00:00, 83.18it/s]\n"
     ]
    },
    {
     "name": "stdout",
     "output_type": "stream",
     "text": [
      "Train| Loss: 0.02284382576388972 MAE: 0.09285714285714285 \n",
      "Valid| Loss: 0.022368512116372585 MAE: 0.098 \n"
     ]
    },
    {
     "name": "stderr",
     "output_type": "stream",
     "text": [
      "Epoch 72: 100%|██████████████████████████████████████████████████████████████████████████| 7/7 [00:00<00:00, 84.34it/s]\n"
     ]
    },
    {
     "name": "stdout",
     "output_type": "stream",
     "text": [
      "Train| Loss: 0.02304313491497721 MAE: 0.09342857142857142 \n",
      "Valid| Loss: 0.02236848510801792 MAE: 0.098 \n"
     ]
    },
    {
     "name": "stderr",
     "output_type": "stream",
     "text": [
      "Epoch 73: 100%|██████████████████████████████████████████████████████████████████████████| 7/7 [00:00<00:00, 87.01it/s]\n"
     ]
    },
    {
     "name": "stdout",
     "output_type": "stream",
     "text": [
      "Train| Loss: 0.023406764758484706 MAE: 0.09371428571428571 \n",
      "Valid| Loss: 0.02236852888017893 MAE: 0.098 \n"
     ]
    },
    {
     "name": "stderr",
     "output_type": "stream",
     "text": [
      "Epoch 74: 100%|██████████████████████████████████████████████████████████████████████████| 7/7 [00:00<00:00, 86.96it/s]\n"
     ]
    },
    {
     "name": "stdout",
     "output_type": "stream",
     "text": [
      "Train| Loss: 0.022442873833434924 MAE: 0.09257142857142855 \n",
      "Valid| Loss: 0.022368503734469414 MAE: 0.098 \n"
     ]
    },
    {
     "name": "stderr",
     "output_type": "stream",
     "text": [
      "Epoch 75: 100%|██████████████████████████████████████████████████████████████████████████| 7/7 [00:00<00:00, 90.44it/s]\n"
     ]
    },
    {
     "name": "stdout",
     "output_type": "stream",
     "text": [
      "Train| Loss: 0.02282522352678435 MAE: 0.09314285714285712 \n",
      "Valid| Loss: 0.022368530742824078 MAE: 0.098 \n"
     ]
    },
    {
     "name": "stderr",
     "output_type": "stream",
     "text": [
      "Epoch 76: 100%|██████████████████████████████████████████████████████████████████████████| 7/7 [00:00<00:00, 93.06it/s]\n"
     ]
    },
    {
     "name": "stdout",
     "output_type": "stream",
     "text": [
      "Train| Loss: 0.022546028718352318 MAE: 0.09228571428571428 \n",
      "Valid| Loss: 0.022368503734469414 MAE: 0.098 \n"
     ]
    },
    {
     "name": "stderr",
     "output_type": "stream",
     "text": [
      "Epoch 77: 100%|█████████████████████████████████████████████████████████████████████████| 7/7 [00:00<00:00, 100.24it/s]\n"
     ]
    },
    {
     "name": "stdout",
     "output_type": "stream",
     "text": [
      "Train| Loss: 0.022724972239562442 MAE: 0.09257142857142855 \n",
      "Valid| Loss: 0.02236850280314684 MAE: 0.098 \n"
     ]
    },
    {
     "name": "stderr",
     "output_type": "stream",
     "text": [
      "Epoch 78: 100%|██████████████████████████████████████████████████████████████████████████| 7/7 [00:00<00:00, 96.76it/s]"
     ]
    },
    {
     "name": "stdout",
     "output_type": "stream",
     "text": [
      "Train| Loss: 0.022840970594968115 MAE: 0.09314285714285712 \n"
     ]
    },
    {
     "name": "stderr",
     "output_type": "stream",
     "text": [
      "\n"
     ]
    },
    {
     "name": "stdout",
     "output_type": "stream",
     "text": [
      "Valid| Loss: 0.022368489764630795 MAE: 0.098 \n"
     ]
    },
    {
     "name": "stderr",
     "output_type": "stream",
     "text": [
      "Epoch 79: 100%|██████████████████████████████████████████████████████████████████████████| 7/7 [00:00<00:00, 89.57it/s]\n"
     ]
    },
    {
     "name": "stdout",
     "output_type": "stream",
     "text": [
      "Train| Loss: 0.023041113944990293 MAE: 0.09357142857142856 \n",
      "Valid| Loss: 0.02236850280314684 MAE: 0.098 \n"
     ]
    },
    {
     "name": "stderr",
     "output_type": "stream",
     "text": [
      "Epoch 80: 100%|█████████████████████████████████████████████████████████████████████████| 7/7 [00:00<00:00, 101.29it/s]\n"
     ]
    },
    {
     "name": "stdout",
     "output_type": "stream",
     "text": [
      "Train| Loss: 0.02354513294994831 MAE: 0.09428571428571428 \n",
      "Valid| Loss: 0.022368486039340496 MAE: 0.098 \n"
     ]
    },
    {
     "name": "stderr",
     "output_type": "stream",
     "text": [
      "Epoch 81: 100%|██████████████████████████████████████████████████████████████████████████| 7/7 [00:00<00:00, 82.86it/s]\n"
     ]
    },
    {
     "name": "stdout",
     "output_type": "stream",
     "text": [
      "Train| Loss: 0.022723635392529622 MAE: 0.09257142857142855 \n",
      "Valid| Loss: 0.022368447855114937 MAE: 0.098 \n"
     ]
    },
    {
     "name": "stderr",
     "output_type": "stream",
     "text": [
      "Epoch 82: 100%|██████████████████████████████████████████████████████████████████████████| 7/7 [00:00<00:00, 84.05it/s]\n"
     ]
    },
    {
     "name": "stdout",
     "output_type": "stream",
     "text": [
      "Train| Loss: 0.022592544821756228 MAE: 0.09242857142857142 \n",
      "Valid| Loss: 0.022368449717760086 MAE: 0.098 \n"
     ]
    },
    {
     "name": "stderr",
     "output_type": "stream",
     "text": [
      "Epoch 83: 100%|█████████████████████████████████████████████████████████████████████████| 7/7 [00:00<00:00, 104.86it/s]\n"
     ]
    },
    {
     "name": "stdout",
     "output_type": "stream",
     "text": [
      "Train| Loss: 0.022372590244880745 MAE: 0.09199999999999998 \n",
      "Valid| Loss: 0.02236844040453434 MAE: 0.098 \n"
     ]
    },
    {
     "name": "stderr",
     "output_type": "stream",
     "text": [
      "Epoch 84: 100%|██████████████████████████████████████████████████████████████████████████| 7/7 [00:00<00:00, 96.46it/s]\n"
     ]
    },
    {
     "name": "stdout",
     "output_type": "stream",
     "text": [
      "Train| Loss: 0.023167066808257784 MAE: 0.09371428571428571 \n",
      "Valid| Loss: 0.02236840222030878 MAE: 0.098 \n"
     ]
    },
    {
     "name": "stderr",
     "output_type": "stream",
     "text": [
      "Epoch 85: 100%|█████████████████████████████████████████████████████████████████████████| 7/7 [00:00<00:00, 100.96it/s]\n"
     ]
    },
    {
     "name": "stdout",
     "output_type": "stream",
     "text": [
      "Train| Loss: 0.02284538745880127 MAE: 0.093 \n",
      "Valid| Loss: 0.022368397563695908 MAE: 0.098 \n"
     ]
    },
    {
     "name": "stderr",
     "output_type": "stream",
     "text": [
      "Epoch 86: 100%|██████████████████████████████████████████████████████████████████████████| 7/7 [00:00<00:00, 83.96it/s]\n"
     ]
    },
    {
     "name": "stdout",
     "output_type": "stream",
     "text": [
      "Train| Loss: 0.022872022220066617 MAE: 0.093 \n",
      "Valid| Loss: 0.022368397563695908 MAE: 0.098 \n"
     ]
    },
    {
     "name": "stderr",
     "output_type": "stream",
     "text": [
      "Epoch 87: 100%|██████████████████████████████████████████████████████████████████████████| 7/7 [00:00<00:00, 97.96it/s]\n"
     ]
    },
    {
     "name": "stdout",
     "output_type": "stream",
     "text": [
      "Train| Loss: 0.023352638419185365 MAE: 0.09371428571428571 \n",
      "Valid| Loss: 0.02236842643469572 MAE: 0.098 \n"
     ]
    },
    {
     "name": "stderr",
     "output_type": "stream",
     "text": [
      "Epoch 88: 100%|██████████████████████████████████████████████████████████████████████████| 7/7 [00:00<00:00, 88.33it/s]\n"
     ]
    },
    {
     "name": "stdout",
     "output_type": "stream",
     "text": [
      "Train| Loss: 0.022487221285700798 MAE: 0.09214285714285712 \n",
      "Valid| Loss: 0.022368443198502064 MAE: 0.098 \n"
     ]
    },
    {
     "name": "stderr",
     "output_type": "stream",
     "text": [
      "Epoch 89: 100%|██████████████████████████████████████████████████████████████████████████| 7/7 [00:00<00:00, 84.07it/s]\n"
     ]
    },
    {
     "name": "stdout",
     "output_type": "stream",
     "text": [
      "Train| Loss: 0.022501311930162565 MAE: 0.09214285714285712 \n",
      "Valid| Loss: 0.02236843854188919 MAE: 0.098 \n"
     ]
    },
    {
     "name": "stderr",
     "output_type": "stream",
     "text": [
      "Epoch 90: 100%|██████████████████████████████████████████████████████████████████████████| 7/7 [00:00<00:00, 84.16it/s]\n"
     ]
    },
    {
     "name": "stdout",
     "output_type": "stream",
     "text": [
      "Train| Loss: 0.022689816941108023 MAE: 0.09242857142857142 \n",
      "Valid| Loss: 0.022368432953953743 MAE: 0.098 \n"
     ]
    },
    {
     "name": "stderr",
     "output_type": "stream",
     "text": [
      "Epoch 91: 100%|██████████████████████████████████████████████████████████████████████████| 7/7 [00:00<00:00, 82.02it/s]\n"
     ]
    },
    {
     "name": "stdout",
     "output_type": "stream",
     "text": [
      "Train| Loss: 0.023072986464415277 MAE: 0.09342857142857143 \n",
      "Valid| Loss: 0.022368385456502438 MAE: 0.098 \n"
     ]
    },
    {
     "name": "stderr",
     "output_type": "stream",
     "text": [
      "Epoch 92: 100%|██████████████████████████████████████████████████████████████████████████| 7/7 [00:00<00:00, 94.07it/s]\n"
     ]
    },
    {
     "name": "stdout",
     "output_type": "stream",
     "text": [
      "Train| Loss: 0.023201162261622294 MAE: 0.09342857142857143 \n",
      "Valid| Loss: 0.022368396632373333 MAE: 0.098 \n"
     ]
    },
    {
     "name": "stderr",
     "output_type": "stream",
     "text": [
      "Epoch 93: 100%|██████████████████████████████████████████████████████████████████████████| 7/7 [00:00<00:00, 92.26it/s]\n"
     ]
    },
    {
     "name": "stdout",
     "output_type": "stream",
     "text": [
      "Train| Loss: 0.022619667063866342 MAE: 0.09285714285714285 \n",
      "Valid| Loss: 0.022368391044437885 MAE: 0.098 \n"
     ]
    },
    {
     "name": "stderr",
     "output_type": "stream",
     "text": [
      "Epoch 94: 100%|██████████████████████████████████████████████████████████████████████████| 7/7 [00:00<00:00, 94.80it/s]\n"
     ]
    },
    {
     "name": "stdout",
     "output_type": "stream",
     "text": [
      "Train| Loss: 0.02253801961030279 MAE: 0.09271428571428571 \n",
      "Valid| Loss: 0.022368394769728184 MAE: 0.098 \n"
     ]
    },
    {
     "name": "stderr",
     "output_type": "stream",
     "text": [
      "Epoch 95: 100%|██████████████████████████████████████████████████████████████████████████| 7/7 [00:00<00:00, 90.84it/s]\n"
     ]
    },
    {
     "name": "stdout",
     "output_type": "stream",
     "text": [
      "Train| Loss: 0.022698359031762396 MAE: 0.09285714285714285 \n",
      "Valid| Loss: 0.02236841805279255 MAE: 0.098 \n"
     ]
    },
    {
     "name": "stderr",
     "output_type": "stream",
     "text": [
      "Epoch 96: 100%|██████████████████████████████████████████████████████████████████████████| 7/7 [00:00<00:00, 99.66it/s]\n"
     ]
    },
    {
     "name": "stdout",
     "output_type": "stream",
     "text": [
      "Train| Loss: 0.022518630538667952 MAE: 0.09214285714285712 \n",
      "Valid| Loss: 0.022368408739566803 MAE: 0.098 \n"
     ]
    },
    {
     "name": "stderr",
     "output_type": "stream",
     "text": [
      "Epoch 97: 100%|██████████████████████████████████████████████████████████████████████████| 7/7 [00:00<00:00, 98.63it/s]\n"
     ]
    },
    {
     "name": "stdout",
     "output_type": "stream",
     "text": [
      "Train| Loss: 0.022997488134673665 MAE: 0.09342857142857142 \n",
      "Valid| Loss: 0.02236833982169628 MAE: 0.098 \n"
     ]
    },
    {
     "name": "stderr",
     "output_type": "stream",
     "text": [
      "Epoch 98: 100%|██████████████████████████████████████████████████████████████████████████| 7/7 [00:00<00:00, 91.69it/s]\n"
     ]
    },
    {
     "name": "stdout",
     "output_type": "stream",
     "text": [
      "Train| Loss: 0.022690086226378168 MAE: 0.09257142857142855 \n",
      "Valid| Loss: 0.022368330508470535 MAE: 0.098 \n"
     ]
    },
    {
     "name": "stderr",
     "output_type": "stream",
     "text": [
      "Epoch 99: 100%|██████████████████████████████████████████████████████████████████████████| 7/7 [00:00<00:00, 91.07it/s]\n"
     ]
    },
    {
     "name": "stdout",
     "output_type": "stream",
     "text": [
      "Train| Loss: 0.02295621537736484 MAE: 0.09314285714285712 \n",
      "Valid| Loss: 0.022368337959051132 MAE: 0.098 \n"
     ]
    }
   ],
   "source": [
    "train_history = {n:[] for n in (list(inprogress_metrics.keys())+[\"loss\"])}\n",
    "val_history = {n:[] for n in (list(inprogress_metrics.keys())+[\"loss\"])}\n",
    "\n",
    "for epoch in range(epochs):\n",
    "    #print(f\"Epoch: {epoch + 1}/{epochs}\")\n",
    "    tvals = train_one_epoch(encoder, decoder, train_loader, criterion, optimizer, epoch)\n",
    "    vvals = evaluate(encoder, decoder, val_loader, criterion)\n",
    "    for k in tvals:\n",
    "        train_history[k].append(tvals[k])\n",
    "        val_history[k].append(vvals[k])\n",
    "    # adjust learning rate based on the validation loss\n",
    "    scheduler.step(vvals[\"loss\"])\n",
    "    "
   ]
  },
  {
   "cell_type": "code",
   "execution_count": 50,
   "id": "cda65bd2-bb2f-49cc-b57b-0fe649363d2b",
   "metadata": {
    "scrolled": true
   },
   "outputs": [],
   "source": [
    "# displaying losses\n",
    "def plot_metrics(train_hist:dict, val_hist:dict):\n",
    "    metrics_name = [metr_name for metr_name in train_hist if metr_name!=\"loss\"]\n",
    "    plot_counts = len(metrics_name)\n",
    "    fig, axs = plt.subplots(1, len(metrics_name), figsize=(9, 3), squeeze=False)\n",
    "    for idx, mname in enumerate(metrics_name):\n",
    "        train_mvals = train_hist[mname]\n",
    "        val_mvals = val_hist[mname]\n",
    "        axs[0, idx].plot(train_mvals, '-b')\n",
    "        axs[0, idx].plot(val_mvals, '-r')\n",
    "        axs[0, idx].set_xlabel(mname)\n",
    "        axs[0, idx].legend(['Training', 'Validation'])\n",
    "    fig.suptitle(', '.join(metrics_name)+' vs No. of epochs');\n",
    "    \n",
    "def plot_losses(train_hist:dict, val_hist:dict, loss_name:str):\n",
    "    train_losses = train_hist[\"loss\"]\n",
    "    val_losses = val_hist[\"loss\"]\n",
    "    plt.plot(train_losses, '-b')\n",
    "    plt.plot(val_losses, '-r')\n",
    "    plt.xlabel('epoch')\n",
    "    plt.ylabel('loss')\n",
    "    plt.legend(['Training', 'Validation'])\n",
    "    plt.title(f'{loss_name} Loss vs. No. of epochs');"
   ]
  },
  {
   "cell_type": "code",
   "execution_count": 51,
   "id": "c483123d-740c-4ca9-a9e8-10471bbfb5cd",
   "metadata": {},
   "outputs": [
    {
     "data": {
      "image/png": "[encoded data removed]",
      "text/plain": [
       "<Figure size 640x480 with 1 Axes>"
      ]
     },
     "metadata": {},
     "output_type": "display_data"
    }
   ],
   "source": [
    "plot_losses(train_history, val_history, \"MSE\")"
   ]
  },
  {
   "cell_type": "code",
   "execution_count": 52,
   "id": "95962083-3370-4acd-b51d-6cc5e0984892",
   "metadata": {},
   "outputs": [
    {
     "data": {
      "image/png": "[encoded data removed]",
      "text/plain": [
       "<Figure size 900x300 with 1 Axes>"
      ]
     },
     "metadata": {},
     "output_type": "display_data"
    }
   ],
   "source": [
    "plot_metrics(train_history, val_history)"
   ]
  },
  {
   "cell_type": "markdown",
   "id": "977e44da-4015-43ef-9ae7-6ba725264e68",
   "metadata": {},
   "source": [
    "# Тестирование"
   ]
  },
  {
   "cell_type": "code",
   "execution_count": 53,
   "id": "ad6325e0-83f0-4d86-b916-3746ba9433bf",
   "metadata": {},
   "outputs": [
    {
     "name": "stdout",
     "output_type": "stream",
     "text": [
      "Test| Loss: 0.025165819346771708 MAE: 0.0971964285714286 \n"
     ]
    }
   ],
   "source": [
    "encoder.eval() \n",
    "decoder.eval()\n",
    "\n",
    "preds = []\n",
    "trues = []\n",
    "test_history = {k:0.0 for k in inprogress_metrics}\n",
    "running_loss = 0.0\n",
    "with torch.no_grad():\n",
    "    for i, data in enumerate(test_loader):\n",
    "        data = data.to(device)\n",
    "        encoded = encoder(data)\n",
    "        decoded = decoder(encoded)\n",
    "        trues.append(data.cpu().permute((0, 2, 3, 1)).numpy().squeeze())\n",
    "        preds.append(decoded.cpu().permute((0, 2, 3, 1)).numpy().squeeze())\n",
    "        loss = criterion(decoded, data)\n",
    "        running_loss += loss.item()\n",
    "        metrics = calc_metrics(decoded, data, inprogress_metrics)\n",
    "        for m in metrics:\n",
    "            test_history[m] += metrics[m]\n",
    "l = running_loss / len(test_loader)\n",
    "scores = {k:(test_history[k] / len(test_loader)) for k in test_history}\n",
    "print_report(l, scores, \"Test|\")"
   ]
  },
  {
   "cell_type": "code",
   "execution_count": 54,
   "id": "ff8f5d2d-f99c-4e76-9f85-41ee458108ed",
   "metadata": {},
   "outputs": [
    {
     "data": {
      "image/png": "[encoded data removed]",
      "text/plain": [
       "<Figure size 1200x1600 with 2 Axes>"
      ]
     },
     "metadata": {},
     "output_type": "display_data"
    }
   ],
   "source": [
    "def compare_true_recon(inp_img, decoded):\n",
    "    fig, axs = plt.subplots(1, 2, figsize=(12, 16))\n",
    "    axs[0].imshow(inp_img)\n",
    "    axs[0].set_title(\"Истина\")\n",
    "    axs[0].axis(\"off\")\n",
    "    axs[1].imshow(decoded)\n",
    "    axs[1].set_title(\"Декодировано\")\n",
    "    axs[1].axis(\"off\")\n",
    "    plt.show()\n",
    "\n",
    "compare_true_recon(trues[10], preds[10])"
   ]
  },
  {
   "cell_type": "markdown",
   "id": "f6d732b9-e915-40b3-8c9f-e669d131c9ed",
   "metadata": {},
   "source": [
    "# Исследование эмбеддингов"
   ]
  },
  {
   "cell_type": "code",
   "execution_count": 55,
   "id": "21a20180-47b1-4aac-9a80-6f3417c9d2ac",
   "metadata": {},
   "outputs": [
    {
     "data": {
      "text/plain": [
       "array([-7.0705366, -9.020551 ], dtype=float32)"
      ]
     },
     "execution_count": 55,
     "metadata": {},
     "output_type": "execute_result"
    }
   ],
   "source": [
    "encoder.eval()\n",
    "def get_motion_embedding(enc, motion_img, transforms):\n",
    "    prepared_inp = transforms(motion_img).to(device).unsqueeze(0)\n",
    "    return enc(prepared_inp).cpu().detach().numpy().squeeze()\n",
    "\n",
    "get_motion_embedding(encoder, train_imgs[0], tform)"
   ]
  },
  {
   "cell_type": "markdown",
   "id": "0314b84c-481f-42aa-b50e-679cefa47151",
   "metadata": {},
   "source": [
    "### Общие характеристики"
   ]
  },
  {
   "cell_type": "code",
   "execution_count": 56,
   "id": "b1bf25be-ed43-4262-b3f5-b8b4c4765acb",
   "metadata": {},
   "outputs": [
    {
     "data": {
      "image/png": "[encoded data removed]",
      "text/plain": [
       "<Figure size 640x480 with 1 Axes>"
      ]
     },
     "metadata": {},
     "output_type": "display_data"
    }
   ],
   "source": [
    "all_data = train_imgs + test_imgs + val_imgs\n",
    "embeddings = []\n",
    "for motion in all_data:\n",
    "    emb = get_motion_embedding(encoder, motion, tform)\n",
    "    embeddings.append(emb)\n",
    "embeddings = np.array(embeddings)\n",
    "\n",
    "x = embeddings[:, 0]\n",
    "y = embeddings[:, 1]\n",
    "plt.scatter(x, y)\n",
    "plt.show()"
   ]
  },
  {
   "cell_type": "markdown",
   "id": "e2f845e0-1b68-4f34-b532-fa178e23ac10",
   "metadata": {},
   "source": [
    "### По ошибкам"
   ]
  },
  {
   "cell_type": "code",
   "execution_count": 57,
   "id": "69a9f839-3c03-4055-b697-f45741a2747f",
   "metadata": {},
   "outputs": [
    {
     "data": {
      "image/png": "[encoded data removed]",
      "text/plain": [
       "<Figure size 640x480 with 1 Axes>"
      ]
     },
     "metadata": {},
     "output_type": "display_data"
    }
   ],
   "source": [
    "# separate on mistakes\n",
    "normal = []\n",
    "wrong = []\n",
    "for motions, labels in zip([train_imgs, test_imgs, val_imgs], [train_labels, test_labels, val_labels]):\n",
    "    for idx, motion in enumerate(motions):\n",
    "        if labels[idx][0] != 0: # with errors\n",
    "            wrong.append(get_motion_embedding(encoder, motion, tform))\n",
    "        else:\n",
    "            normal.append(get_motion_embedding(encoder, motion, tform))\n",
    "normal = np.array(normal)\n",
    "wrong = np.array(wrong)\n",
    "\n",
    "for clr_code, points in zip([\"green\", \"red\"], [normal, wrong]):\n",
    "    x = points[:, 0]\n",
    "    y = points[:, 1]\n",
    "    plt.scatter(x, y, c=clr_code)\n",
    "plt.legend([\"Без ошибок\", \"С ошибкой\"])\n",
    "plt.show()"
   ]
  },
  {
   "cell_type": "markdown",
   "id": "f01bd037-380c-4ab7-a66a-db7c2a16eb81",
   "metadata": {},
   "source": [
    "### По упражнениям"
   ]
  },
  {
   "cell_type": "code",
   "execution_count": 77,
   "id": "2bbacf53-6acc-4008-8c3e-0b76b4661151",
   "metadata": {},
   "outputs": [
    {
     "data": {
      "image/png": "[encoded data removed]",
      "text/plain": [
       "<Figure size 1600x400 with 4 Axes>"
      ]
     },
     "metadata": {},
     "output_type": "display_data"
    }
   ],
   "source": [
    "fig, axs = plt.subplots(1, len(exercise2points), figsize=(16, 4))\n",
    "for idx, exname in enumerate(exercise2points):\n",
    "    wrong_exercises = []\n",
    "    normal_exercises = []\n",
    "    for student in exercise2points[exname]:\n",
    "        for m_idx, motion in enumerate(exercise2points[exname][student]):\n",
    "            if exercise2errors[exname][student][m_idx][0] != 0:\n",
    "                wrong_exercises.append(get_motion_embedding(encoder, motion, tform))\n",
    "            else:\n",
    "                normal_exercises.append(get_motion_embedding(encoder, motion, tform))\n",
    "    wrong_exercises = np.array(wrong_exercises)\n",
    "    normal_exercises = np.array(normal_exercises)\n",
    "    for ccode, exer in zip([\"green\", \"red\"], [normal_exercises, wrong_exercises]):\n",
    "        x = exer[:, 0]\n",
    "        y = exer[:, 1]\n",
    "        axs[idx].scatter(x, y, c=ccode)\n",
    "    axs[idx].legend([\"Без ошибок\", \"С ошибкой\"])\n",
    "    axs[idx].title.set_text(exname)\n",
    "plt.show() "
   ]
  }
 ],
 "metadata": {
  "kernelspec": {
   "display_name": "Python 3 (ipykernel)",
   "language": "python",
   "name": "python3"
  },
  "language_info": {
   "codemirror_mode": {
    "name": "ipython",
    "version": 3
   },
   "file_extension": ".py",
   "mimetype": "text/x-python",
   "name": "python",
   "nbconvert_exporter": "python",
   "pygments_lexer": "ipython3",
   "version": "3.11.7"
  }
 },
 "nbformat": 4,
 "nbformat_minor": 5
}
