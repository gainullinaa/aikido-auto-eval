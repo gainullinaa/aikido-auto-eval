{
 "cells": [
  {
   "cell_type": "code",
   "execution_count": 1,
   "id": "03ca8f1b-f9cd-479a-8d5b-64dd2bbd3192",
   "metadata": {},
   "outputs": [],
   "source": [
    "import numpy as np\n",
    "from tqdm import tqdm\n",
    "import cv2 as cv\n",
    "import matplotlib.pyplot as plt\n",
    "\n",
    "import torch\n",
    "import torch.nn as nn\n",
    "import torchvision.models as models\n",
    "import torchvision.transforms as T\n",
    "from torch.utils.data import Dataset, random_split, DataLoader\n",
    "import torch.nn.functional as F\n",
    "\n",
    "import json\n",
    "import os\n",
    "import random\n",
    "from collections import OrderedDict"
   ]
  },
  {
   "cell_type": "code",
   "execution_count": 2,
   "id": "43882c0a-fe4b-4e08-b53e-03813fc71e25",
   "metadata": {},
   "outputs": [],
   "source": [
    "track_id2student_id_it = {7:0, 6:1, 0:2, 8:3, 1:4, 3:5, 11:6, 15:7, 16:8, 2:9, 5:12, 9:13, 4:14} # irimi tenkan, my tracking algo\n",
    "track_id2student_id_ta = {8:0, 7:1, 2:2, 10:3, 3:4, 4:5, 14:6, 9:7, 1:8, 12:9, 11:10, 0:11, 6:12, 5:13} # tsugi ashi, my tracking algo\n",
    "track_id2student_id_utmt = {7:0, 6:1, 1:2, 8:3, 3:4, 5:5, 11:6, 10:7, 2:8, 0:11, 4:13, 9:9, 12:10, 19:12} # utmt, my tracking algo\n",
    "\n",
    "single_student_tids = {\"1156\":0, \"1237\":1, \"0756\":0, \"0912\":0, \"1043\":0}"
   ]
  },
  {
   "cell_type": "code",
   "execution_count": 3,
   "id": "16e97032-cc8a-43c1-b8cb-c47f511c5f52",
   "metadata": {},
   "outputs": [],
   "source": [
    "file2mapping = {\"../alphapose_res/irimi_tenkan_kps.json\":track_id2student_id_it,\n",
    "                \"../alphapose_res/ta_tracking.json\":track_id2student_id_ta,\n",
    "                \"../alphapose_res/utmt_kps.json\":track_id2student_id_utmt}\n",
    "annotations_map = {\"../alphapose_res/irimi_tenkan_kps.json\":\"../data/irimi_tenkan/annotations.json\",\n",
    "                \"../alphapose_res/ta_tracking.json\":\"../data/tsugi_ashi/annotations.json\",\n",
    "                \"../alphapose_res/utmt_kps.json\":\"../data/ushiro_tenkan_mae_tenkan/annotations.json\"}\n",
    "file2exercise = {\"../alphapose_res/irimi_tenkan_kps.json\":\"ирими тенкан\", \n",
    "                 \"../alphapose_res/ta_tracking.json\":\"цуги аши\",\n",
    "                 \"../alphapose_res/utmt_kps.json\":\"уширо тенкан мае тенкан\"}\n",
    "single_st_ann = \"../data/single_student_annotations.json\"\n",
    "\n",
    "SEQ_LEN_FRAMES = 256\n",
    "CHANNELS = 3\n",
    "SEED = 42\n",
    "BATCH_FIRST = True"
   ]
  },
  {
   "cell_type": "markdown",
   "id": "67112409-a6a3-4fa2-b5ce-4ee7e3fa0078",
   "metadata": {},
   "source": [
    "# Подготовка данных"
   ]
  },
  {
   "cell_type": "code",
   "execution_count": 4,
   "id": "e1b3cca5-a882-4d7a-a0bb-55c45398eb87",
   "metadata": {},
   "outputs": [],
   "source": [
    "from dataproc import *\n",
    "from train_utils import * "
   ]
  },
  {
   "cell_type": "code",
   "execution_count": 5,
   "id": "80752e93-3f65-4ed6-ae38-15014ce6632e",
   "metadata": {},
   "outputs": [],
   "source": [
    "ss_vid_ann = [os.path.join(\"../alphapose_res\", f) for f in [\"0756_alpha.json\", \"0912_alpha.json\",\n",
    "                                                            \"1043_alpha.json\", \"1156_alpha.json\", \n",
    "                                                            \"1237_alpha.json\"]]\n",
    "student_exercise_points, exercise_borders = parse_borders_annotations(file2mapping, single_st_ann, \n",
    "                                                                      annotations_map, ss_vid_ann, \n",
    "                                                                      single_student_tids)\n",
    "frame_durs = [stex.shape[1] for stex in student_exercise_points]\n",
    "encoded_borders = encode_borders(exercise_borders, frame_durs, \"<EXERCISE_BODY>\")\n",
    "split_exercs, split_borders = split_into_equal_frame_len(student_exercise_points, encoded_borders, SEQ_LEN_FRAMES, drop_last=False)"
   ]
  },
  {
   "cell_type": "markdown",
   "id": "9dcfe9d8-fa1b-400e-812b-20fa00f3e2a1",
   "metadata": {},
   "source": [
    "## Датасет"
   ]
  },
  {
   "cell_type": "code",
   "execution_count": 7,
   "id": "92cc95e1-6377-457d-ba05-19393e798bce",
   "metadata": {},
   "outputs": [],
   "source": [
    "default_feature_flatten = lambda x: np.transpose(x, (1, 0, 2)).reshape(SEQ_LEN_FRAMES, -1)\n",
    "\n",
    "def encode_border_label(border_label_vec, total_borders_len):\n",
    "    container = np.zeros((len(border_label_vec), total_borders_len), dtype=np.float32)\n",
    "    for i, label in enumerate(border_label_vec):\n",
    "        container[i, label] = 1\n",
    "    return container\n",
    "\n",
    "class FrameTaggingDataset(Dataset):\n",
    "    def __init__(self, inputs:list, tag_vec:list, channel_count:int, sequence_length:int,\n",
    "                 border_tags_count:int, feature_flatten_fn=default_feature_flatten, batch_first:bool=False):\n",
    "        self.inputs = inputs\n",
    "        self.tag_vecs = tag_vec\n",
    "        self.channels = channel_count\n",
    "        self.batch_first = batch_first\n",
    "        self.seq_len = sequence_length\n",
    "        assert feature_flatten_fn != None\n",
    "        self.feature_flatten = feature_flatten_fn\n",
    "        self.border_tags_count = border_tags_count\n",
    "        \n",
    "    def __len__(self):\n",
    "        return len(self.inputs)\n",
    "\n",
    "    def __getitem__(self, idx):\n",
    "        img = self.inputs[idx]\n",
    "        img = img[:, :, :self.channels] \n",
    "        vectorized_seq = self.feature_flatten(img).astype('float32')\n",
    "        encoded_labels = encode_border_label(self.tag_vecs[idx], self.border_tags_count)\n",
    "        if not self.batch_first:\n",
    "            vectorized_seq = vectorized_seq.reshape(self.seq_len, 1, -1)       \n",
    "        return vectorized_seq, encoded_labels #.astype('float32')"
   ]
  },
  {
   "cell_type": "code",
   "execution_count": 8,
   "id": "1c87302f-7423-4592-be9f-434e08528213",
   "metadata": {},
   "outputs": [
    {
     "name": "stdout",
     "output_type": "stream",
     "text": [
      "Total 209\n",
      "Train count 151\n",
      "Test count 37\n",
      "Val count 21\n"
     ]
    }
   ],
   "source": [
    "# how to split to train/test/validation ?\n",
    "random.seed(SEED)\n",
    "# dividing\n",
    "train_frac = 0.7\n",
    "val_frac = 0.1\n",
    "test_frac = 0.2\n",
    "\n",
    "train_ids, test_ids, val_ids = [], [], []\n",
    "train_xs, train_tags = [], []\n",
    "test_xs, test_tags = [], []\n",
    "val_xs, val_tags = [], []\n",
    "\n",
    "for s in split_exercs:\n",
    "    for i, student_frames in enumerate(split_exercs[s]):\n",
    "        rval = random.random()\n",
    "        if rval <= train_frac:\n",
    "            train_xs.append(student_frames)\n",
    "            train_tags.append(split_borders[s][i])\n",
    "            train_ids.append((s, i))\n",
    "        elif rval <= (train_frac + test_frac):\n",
    "            test_xs.append(student_frames)\n",
    "            test_tags.append(split_borders[s][i])\n",
    "            test_ids.append((s, i))\n",
    "        else:\n",
    "            val_xs.append(student_frames)\n",
    "            val_tags.append(split_borders[s][i])\n",
    "            val_ids.append((s, i))\n",
    "\n",
    "total_data_count = len(train_xs) + len(test_xs) + len(val_xs)\n",
    "\n",
    "print(\"Total\", total_data_count)\n",
    "print(\"Train count\", len(train_xs))\n",
    "print(\"Test count\", len(test_xs))\n",
    "print(\"Val count\", len(val_xs))"
   ]
  },
  {
   "cell_type": "code",
   "execution_count": 9,
   "id": "073e1fb4-cada-4dc5-b926-8b73b38ff769",
   "metadata": {},
   "outputs": [
    {
     "data": {
      "image/png": "[encoded data removed]",
      "text/plain": [
       "<Figure size 700x300 with 3 Axes>"
      ]
     },
     "metadata": {},
     "output_type": "display_data"
    }
   ],
   "source": [
    "train_segment_idx = [f[-1] for f in train_ids]\n",
    "test_segment_idx = [f[-1] for f in test_ids]\n",
    "val_segment_idx = [f[-1] for f in val_ids]\n",
    "\n",
    "train_hist_data = np.histogram(train_segment_idx, 5)\n",
    "test_hist_data = np.histogram(test_segment_idx, 5)\n",
    "val_segment_idx = np.histogram(val_segment_idx, 5)\n",
    "\n",
    "fig, axs = plt.subplots(1, 3, figsize=(7, 3))\n",
    "axs[0].stairs(train_hist_data[0], train_hist_data[1], fill=True)\n",
    "axs[0].set_xlabel(\"Обучение\")\n",
    "axs[1].stairs(test_hist_data[0], test_hist_data[1], fill=True)\n",
    "axs[1].set_xlabel(\"Тестирование\")\n",
    "axs[2].stairs(val_segment_idx[0], val_segment_idx[1], fill=True)\n",
    "axs[2].set_xlabel(\"Валидация\")\n",
    "fig.suptitle('Распределение индексов видеосегментов по сплитам данных')\n",
    "plt.show()"
   ]
  },
  {
   "cell_type": "code",
   "execution_count": 10,
   "id": "2485e71a-3895-4567-bca5-09f5d667756e",
   "metadata": {},
   "outputs": [],
   "source": [
    "train_ds = FrameTaggingDataset(train_xs, train_tags, CHANNELS, SEQ_LEN_FRAMES, len(EXTOKENS), batch_first=BATCH_FIRST)\n",
    "val_ds = FrameTaggingDataset(val_xs, val_tags, CHANNELS, SEQ_LEN_FRAMES, len(EXTOKENS), batch_first=BATCH_FIRST)\n",
    "test_ds = FrameTaggingDataset(test_xs, test_tags, CHANNELS, SEQ_LEN_FRAMES, len(EXTOKENS), batch_first=BATCH_FIRST)\n",
    "\n",
    "batch_size = 32\n",
    "if BATCH_FIRST:\n",
    "    collate_func = torch.utils.data.default_collate\n",
    "else:\n",
    "    collate_func = batch_second_collate\n",
    "train_loader = DataLoader(train_ds, batch_size, shuffle=True, collate_fn=collate_func)\n",
    "val_loader = DataLoader(val_ds, 1, collate_fn=collate_func)\n",
    "test_loader = DataLoader(test_ds, 1, shuffle=False, collate_fn=collate_func)"
   ]
  },
  {
   "cell_type": "markdown",
   "id": "979926e7-753e-4f02-89d7-4c77d991d22c",
   "metadata": {},
   "source": [
    "# Обучение"
   ]
  },
  {
   "cell_type": "markdown",
   "id": "91b2dbdd-ebc4-4ce2-9e86-1d94f7d0ef24",
   "metadata": {},
   "source": [
    "## Модель"
   ]
  },
  {
   "cell_type": "code",
   "execution_count": 11,
   "id": "2a532999-b3b9-4967-b658-e2bfe61f54bf",
   "metadata": {},
   "outputs": [
    {
     "name": "stdout",
     "output_type": "stream",
     "text": [
      "cuda\n"
     ]
    }
   ],
   "source": [
    "# https://pytorch.org/tutorials/beginner/nlp/sequence_models_tutorial.html#example-an-lstm-for-part-of-speech-tagging\n",
    "class FrameTaggerModel(torch.nn.Module):\n",
    "    def __init__(self, input_dim:int, tagset_size:int, seq_len:int, batch_first:bool, hidden_size:int=100, recurrent_layers:int=5):\n",
    "        super(FrameTaggerModel, self).__init__()\n",
    "        self.batch_first = batch_first\n",
    "        self.seq_len = seq_len\n",
    "        self.recurrent = torch.nn.LSTM(input_dim, hidden_size, num_layers=recurrent_layers, batch_first=batch_first)\n",
    "        self.fc = torch.nn.Sequential(\n",
    "            torch.nn.Linear(hidden_size, tagset_size),\n",
    "            torch.nn.LogSoftmax(1)\n",
    "        )\n",
    "        \n",
    "    def forward(self, xb):\n",
    "        if len(xb.shape)==2: # one example\n",
    "            seq_len = xb.shape[0]\n",
    "            lstm_out, _ = self.recurrent(xb)\n",
    "            return self.fc(lstm_out.reshape(self.seq_len, -1))\n",
    "        else: #batch\n",
    "            if self.batch_first:\n",
    "                tagsets = []\n",
    "                for bidx in range(xb.shape[0]):\n",
    "                    lstm_out, _ = self.recurrent(xb[bidx, :, :].view(self.seq_len, -1))\n",
    "                    tagsets.append(self.fc(lstm_out))\n",
    "                return torch.stack(tagsets)                    \n",
    "            else:\n",
    "                tagsets = []\n",
    "                for bidx in range(xb.shape[1]):\n",
    "                    item_hidden = self.recurrent(xb[:, bidx, :].view(self.seq_len, -1))\n",
    "                    tagsets.append(self.fc(item_hidden))\n",
    "                return torch.stack(tagsets)\n",
    "        # if not self.batch_first or len(xb.shape)==2:\n",
    "        #     seq_len = xb.shape[0]\n",
    "        # else:\n",
    "        #     seq_len = xb.shape[1]\n",
    "        \n",
    "        # lstm_out, _ = self.recurrent(xb)\n",
    "        # tag_scores = self.fc(lstm_out.reshape(self.seq_len, -1))\n",
    "        # return tag_scores\n",
    "\n",
    "def to_device(data, device):\n",
    "    \"\"\"Move tensor(s) to chosen device\"\"\"\n",
    "    if isinstance(data, (list,tuple)):\n",
    "        return [to_device(x, device) for x in data]\n",
    "    return data.to(device, non_blocking=True)\n",
    "\n",
    "class DeviceDataLoader():  \n",
    "    \"\"\"Wrap a dataloader to move data to a device\"\"\"\n",
    "    def __init__(self, dl, device):\n",
    "        self.dl = dl\n",
    "        self.device = device       \n",
    "\n",
    "    def __iter__(self):\n",
    "        \"\"\"Yield a batch of data after moving it to device\"\"\"\n",
    "        for b in self.dl: \n",
    "            yield to_device(b, self.device)\n",
    "\n",
    "    def __len__(self):\n",
    "        \"\"\"Number of batches\"\"\"\n",
    "        return len(self.dl)\n",
    "        \n",
    "device = torch.device('cuda') if torch.cuda.is_available() else torch.device('cpu')\n",
    "print(device)\n",
    "\n",
    "train_dl = DeviceDataLoader(train_loader, device)\n",
    "val_dl = DeviceDataLoader(val_loader, device)"
   ]
  },
  {
   "cell_type": "code",
   "execution_count": 12,
   "id": "5a1d8759-fcc0-433d-a99d-5b6886c76974",
   "metadata": {},
   "outputs": [
    {
     "name": "stdout",
     "output_type": "stream",
     "text": [
      "torch.Size([256, 6])\n"
     ]
    },
    {
     "data": {
      "text/plain": [
       "(256,)"
      ]
     },
     "execution_count": 12,
     "metadata": {},
     "output_type": "execute_result"
    }
   ],
   "source": [
    "test_input = torch.rand(SEQ_LEN_FRAMES, 26 * CHANNELS)\n",
    "tester = FrameTaggerModel(26 * CHANNELS, len(EXTOKENS), SEQ_LEN_FRAMES, BATCH_FIRST, hidden_size=10)\n",
    "output = tester(test_input)\n",
    "print(output.shape)\n",
    "np.argmax(output.detach().numpy(), 1).shape"
   ]
  },
  {
   "cell_type": "code",
   "execution_count": 13,
   "id": "70c94f3e-e726-420a-a83e-23e4e2a48ab6",
   "metadata": {},
   "outputs": [
    {
     "name": "stdout",
     "output_type": "stream",
     "text": [
      "torch.Size([32, 256, 10])\n"
     ]
    },
    {
     "data": {
      "text/plain": [
       "torch.Size([32, 256, 6])"
      ]
     },
     "execution_count": 13,
     "metadata": {},
     "output_type": "execute_result"
    }
   ],
   "source": [
    "another = torch.rand(32, SEQ_LEN_FRAMES, 26 * CHANNELS)\n",
    "stuff, (_, _) = tester.recurrent(another)\n",
    "print(stuff.shape)\n",
    "out_another = tester(another)\n",
    "out_another.shape"
   ]
  },
  {
   "cell_type": "code",
   "execution_count": 14,
   "id": "9d724398-bd9b-429d-939a-597cd33c0391",
   "metadata": {},
   "outputs": [],
   "source": [
    "def F_score(output, label, threshold=0.5, beta=1): #Calculate the accuracy of the model\n",
    "    prob = output > threshold\n",
    "    label = label > threshold\n",
    "\n",
    "    TP = (prob & label).sum(1).float()\n",
    "    TN = ((~prob) & (~label)).sum(1).float()\n",
    "    FP = (prob & (~label)).sum(1).float()\n",
    "    FN = ((~prob) & label).sum(1).float()\n",
    "\n",
    "    precision = torch.mean(TP / (TP + FP + 1e-12))\n",
    "    recall = torch.mean(TP / (TP + FN + 1e-12))\n",
    "    F2 = (1 + beta**2) * precision * recall / (beta**2 * precision + recall + 1e-12)\n",
    "    return F2.mean(0)\n",
    "\n",
    "inprogress_metrics = {\"F1\":F_score}\n",
    "\n",
    "def calc_metrics(preds, targets, inprogress_metrics):\n",
    "    report = dict()\n",
    "    for metric in inprogress_metrics:\n",
    "        metric_func = inprogress_metrics[metric]\n",
    "        mval = metric_func(preds, targets)\n",
    "        report[metric] = round(mval.item(), 3)\n",
    "    return report\n",
    "\n",
    "def print_report(loss_value, metric_vals, beginning):\n",
    "    addition = []\n",
    "    for km in metric_vals:\n",
    "        formatteds = f\"{km}: {metric_vals[km]} \"\n",
    "        addition.append(formatteds)    \n",
    "    print(beginning, \"Loss:\", loss_value, \"\".join(addition))\n",
    "\n",
    "def train_one_epoch(model:torch.nn.Module, criterion, optimizer, data_loader:DeviceDataLoader):\n",
    "    model.train()\n",
    "    running_losses = []\n",
    "    for i, (image, target) in enumerate(data_loader):        \n",
    "        optimizer.zero_grad()\n",
    "        out = model(image)\n",
    "        loss = criterion(out, target)\n",
    "        loss.backward()\n",
    "        optimizer.step() \n",
    "        running_losses.append(loss)\n",
    "    return torch.stack(running_losses).mean().item()\n",
    "    \n",
    "def evaluate(model, val_data_loader:DeviceDataLoader, criterion=F.binary_cross_entropy):\n",
    "    model.eval() \n",
    "    running_losses = []\n",
    "    running_fscore = []\n",
    "    with torch.no_grad():\n",
    "        for i, (image, target) in tqdm(enumerate(val_data_loader)):\n",
    "            out = model(image)\n",
    "            loss = criterion(out, target)\n",
    "            running_losses.append(loss.detach())\n",
    "            running_fscore.append(F_score(out, target).detach())\n",
    "    l = torch.stack(running_losses).mean().item()\n",
    "    fs = torch.stack(running_fscore).mean().item()\n",
    "    return l, fs\n",
    "\n",
    "def fit(epochs, lr, model, train_loader, val_loader, opt_func=torch.optim.SGD, criterion=F.binary_cross_entropy):\n",
    "    history = []\n",
    "    optimizer = opt_func(model.parameters(), lr)\n",
    "    for epoch in range(epochs):\n",
    "        # Training Phase\n",
    "        train_loss = train_one_epoch(model, criterion, optimizer, train_loader)\n",
    "        # Validation phase\n",
    "        val_loss, val_score = evaluate(model, val_loader, criterion)\n",
    "        result = {'train_loss':train_loss, 'val_loss':val_loss, 'val_score':val_score}\n",
    "        print(\"Epoch [{}], train_loss: {:.4f}, val_loss: {:.4f}, val_score: {:.4f}\".format(\n",
    "            epoch, result['train_loss'], result['val_loss'], result['val_score']))\n",
    "        history.append(result)\n",
    "    return history"
   ]
  },
  {
   "cell_type": "code",
   "execution_count": 15,
   "id": "86035627-091c-4f4b-b6c8-73300b3e895b",
   "metadata": {},
   "outputs": [],
   "source": [
    "model = to_device(FrameTaggerModel(26*CHANNELS, len(EXTOKENS), SEQ_LEN_FRAMES, BATCH_FIRST, hidden_size=10), device)\n",
    "epochs = 100\n",
    "lr = 0.001\n",
    "grad_clip = 0.1\n",
    "weight_decay = 1e-4\n",
    "opt_func = torch.optim.Adam"
   ]
  },
  {
   "cell_type": "code",
   "execution_count": 16,
   "id": "fa2b2dd4-bebb-4da1-99d9-d61b1a8aef72",
   "metadata": {},
   "outputs": [
    {
     "name": "stdout",
     "output_type": "stream",
     "text": [
      "torch.Size([32, 256, 6])\n"
     ]
    }
   ],
   "source": [
    "for b in train_dl:\n",
    "    #print(b[0].shape)\n",
    "    print(model(b[0]).shape)\n",
    "    break"
   ]
  },
  {
   "cell_type": "code",
   "execution_count": 17,
   "id": "322896f8-3681-4c53-981b-e3c711eccb4b",
   "metadata": {},
   "outputs": [
    {
     "ename": "RuntimeError",
     "evalue": "cuDNN error: CUDNN_STATUS_EXECUTION_FAILED",
     "output_type": "error",
     "traceback": [
      "\u001b[1;31m---------------------------------------------------------------------------\u001b[0m",
      "\u001b[1;31mRuntimeError\u001b[0m                              Traceback (most recent call last)",
      "Cell \u001b[1;32mIn[17], line 1\u001b[0m\n\u001b[1;32m----> 1\u001b[0m history \u001b[38;5;241m=\u001b[39m \u001b[43mfit\u001b[49m\u001b[43m(\u001b[49m\u001b[43mepochs\u001b[49m\u001b[43m,\u001b[49m\u001b[43m \u001b[49m\u001b[43mlr\u001b[49m\u001b[43m,\u001b[49m\u001b[43m \u001b[49m\u001b[43mmodel\u001b[49m\u001b[43m,\u001b[49m\u001b[43m \u001b[49m\u001b[43mtrain_dl\u001b[49m\u001b[43m,\u001b[49m\u001b[43m \u001b[49m\u001b[43mval_dl\u001b[49m\u001b[43m,\u001b[49m\u001b[43m \u001b[49m\u001b[43mopt_func\u001b[49m\u001b[38;5;241;43m=\u001b[39;49m\u001b[43mopt_func\u001b[49m\u001b[43m)\u001b[49m\n",
      "Cell \u001b[1;32mIn[14], line 63\u001b[0m, in \u001b[0;36mfit\u001b[1;34m(epochs, lr, model, train_loader, val_loader, opt_func, criterion)\u001b[0m\n\u001b[0;32m     60\u001b[0m optimizer \u001b[38;5;241m=\u001b[39m opt_func(model\u001b[38;5;241m.\u001b[39mparameters(), lr)\n\u001b[0;32m     61\u001b[0m \u001b[38;5;28;01mfor\u001b[39;00m epoch \u001b[38;5;129;01min\u001b[39;00m \u001b[38;5;28mrange\u001b[39m(epochs):\n\u001b[0;32m     62\u001b[0m     \u001b[38;5;66;03m# Training Phase\u001b[39;00m\n\u001b[1;32m---> 63\u001b[0m     train_loss \u001b[38;5;241m=\u001b[39m \u001b[43mtrain_one_epoch\u001b[49m\u001b[43m(\u001b[49m\u001b[43mmodel\u001b[49m\u001b[43m,\u001b[49m\u001b[43m \u001b[49m\u001b[43mcriterion\u001b[49m\u001b[43m,\u001b[49m\u001b[43m \u001b[49m\u001b[43moptimizer\u001b[49m\u001b[43m,\u001b[49m\u001b[43m \u001b[49m\u001b[43mtrain_loader\u001b[49m\u001b[43m)\u001b[49m\n\u001b[0;32m     64\u001b[0m     \u001b[38;5;66;03m# Validation phase\u001b[39;00m\n\u001b[0;32m     65\u001b[0m     val_loss, val_score \u001b[38;5;241m=\u001b[39m evaluate(model, val_loader, criterion)\n",
      "Cell \u001b[1;32mIn[14], line 39\u001b[0m, in \u001b[0;36mtrain_one_epoch\u001b[1;34m(model, criterion, optimizer, data_loader)\u001b[0m\n\u001b[0;32m     37\u001b[0m out \u001b[38;5;241m=\u001b[39m model(image)\n\u001b[0;32m     38\u001b[0m loss \u001b[38;5;241m=\u001b[39m criterion(out, target)\n\u001b[1;32m---> 39\u001b[0m \u001b[43mloss\u001b[49m\u001b[38;5;241;43m.\u001b[39;49m\u001b[43mbackward\u001b[49m\u001b[43m(\u001b[49m\u001b[43m)\u001b[49m\n\u001b[0;32m     40\u001b[0m optimizer\u001b[38;5;241m.\u001b[39mstep() \n\u001b[0;32m     41\u001b[0m running_losses\u001b[38;5;241m.\u001b[39mappend(loss)\n",
      "File \u001b[1;32m~\\anaconda3\\envs\\alphapose-exercise\\Lib\\site-packages\\torch\\_tensor.py:492\u001b[0m, in \u001b[0;36mTensor.backward\u001b[1;34m(self, gradient, retain_graph, create_graph, inputs)\u001b[0m\n\u001b[0;32m    482\u001b[0m \u001b[38;5;28;01mif\u001b[39;00m has_torch_function_unary(\u001b[38;5;28mself\u001b[39m):\n\u001b[0;32m    483\u001b[0m     \u001b[38;5;28;01mreturn\u001b[39;00m handle_torch_function(\n\u001b[0;32m    484\u001b[0m         Tensor\u001b[38;5;241m.\u001b[39mbackward,\n\u001b[0;32m    485\u001b[0m         (\u001b[38;5;28mself\u001b[39m,),\n\u001b[1;32m   (...)\u001b[0m\n\u001b[0;32m    490\u001b[0m         inputs\u001b[38;5;241m=\u001b[39minputs,\n\u001b[0;32m    491\u001b[0m     )\n\u001b[1;32m--> 492\u001b[0m \u001b[43mtorch\u001b[49m\u001b[38;5;241;43m.\u001b[39;49m\u001b[43mautograd\u001b[49m\u001b[38;5;241;43m.\u001b[39;49m\u001b[43mbackward\u001b[49m\u001b[43m(\u001b[49m\n\u001b[0;32m    493\u001b[0m \u001b[43m    \u001b[49m\u001b[38;5;28;43mself\u001b[39;49m\u001b[43m,\u001b[49m\u001b[43m \u001b[49m\u001b[43mgradient\u001b[49m\u001b[43m,\u001b[49m\u001b[43m \u001b[49m\u001b[43mretain_graph\u001b[49m\u001b[43m,\u001b[49m\u001b[43m \u001b[49m\u001b[43mcreate_graph\u001b[49m\u001b[43m,\u001b[49m\u001b[43m \u001b[49m\u001b[43minputs\u001b[49m\u001b[38;5;241;43m=\u001b[39;49m\u001b[43minputs\u001b[49m\n\u001b[0;32m    494\u001b[0m \u001b[43m\u001b[49m\u001b[43m)\u001b[49m\n",
      "File \u001b[1;32m~\\anaconda3\\envs\\alphapose-exercise\\Lib\\site-packages\\torch\\autograd\\__init__.py:251\u001b[0m, in \u001b[0;36mbackward\u001b[1;34m(tensors, grad_tensors, retain_graph, create_graph, grad_variables, inputs)\u001b[0m\n\u001b[0;32m    246\u001b[0m     retain_graph \u001b[38;5;241m=\u001b[39m create_graph\n\u001b[0;32m    248\u001b[0m \u001b[38;5;66;03m# The reason we repeat the same comment below is that\u001b[39;00m\n\u001b[0;32m    249\u001b[0m \u001b[38;5;66;03m# some Python versions print out the first line of a multi-line function\u001b[39;00m\n\u001b[0;32m    250\u001b[0m \u001b[38;5;66;03m# calls in the traceback and some print out the last line\u001b[39;00m\n\u001b[1;32m--> 251\u001b[0m \u001b[43mVariable\u001b[49m\u001b[38;5;241;43m.\u001b[39;49m\u001b[43m_execution_engine\u001b[49m\u001b[38;5;241;43m.\u001b[39;49m\u001b[43mrun_backward\u001b[49m\u001b[43m(\u001b[49m\u001b[43m  \u001b[49m\u001b[38;5;66;43;03m# Calls into the C++ engine to run the backward pass\u001b[39;49;00m\n\u001b[0;32m    252\u001b[0m \u001b[43m    \u001b[49m\u001b[43mtensors\u001b[49m\u001b[43m,\u001b[49m\n\u001b[0;32m    253\u001b[0m \u001b[43m    \u001b[49m\u001b[43mgrad_tensors_\u001b[49m\u001b[43m,\u001b[49m\n\u001b[0;32m    254\u001b[0m \u001b[43m    \u001b[49m\u001b[43mretain_graph\u001b[49m\u001b[43m,\u001b[49m\n\u001b[0;32m    255\u001b[0m \u001b[43m    \u001b[49m\u001b[43mcreate_graph\u001b[49m\u001b[43m,\u001b[49m\n\u001b[0;32m    256\u001b[0m \u001b[43m    \u001b[49m\u001b[43minputs\u001b[49m\u001b[43m,\u001b[49m\n\u001b[0;32m    257\u001b[0m \u001b[43m    \u001b[49m\u001b[43mallow_unreachable\u001b[49m\u001b[38;5;241;43m=\u001b[39;49m\u001b[38;5;28;43;01mTrue\u001b[39;49;00m\u001b[43m,\u001b[49m\n\u001b[0;32m    258\u001b[0m \u001b[43m    \u001b[49m\u001b[43maccumulate_grad\u001b[49m\u001b[38;5;241;43m=\u001b[39;49m\u001b[38;5;28;43;01mTrue\u001b[39;49;00m\u001b[43m,\u001b[49m\n\u001b[0;32m    259\u001b[0m \u001b[43m\u001b[49m\u001b[43m)\u001b[49m\n",
      "\u001b[1;31mRuntimeError\u001b[0m: cuDNN error: CUDNN_STATUS_EXECUTION_FAILED"
     ]
    }
   ],
   "source": [
    "history = fit(epochs, lr, model, train_dl, val_dl, opt_func=opt_func)"
   ]
  }
 ],
 "metadata": {
  "kernelspec": {
   "display_name": "Python 3 (ipykernel)",
   "language": "python",
   "name": "python3"
  },
  "language_info": {
   "codemirror_mode": {
    "name": "ipython",
    "version": 3
   },
   "file_extension": ".py",
   "mimetype": "text/x-python",
   "name": "python",
   "nbconvert_exporter": "python",
   "pygments_lexer": "ipython3",
   "version": "3.11.7"
  }
 },
 "nbformat": 4,
 "nbformat_minor": 5
}
