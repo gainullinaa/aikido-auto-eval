{
 "cells": [
  {
   "cell_type": "code",
   "execution_count": 1,
   "id": "03ca8f1b-f9cd-479a-8d5b-64dd2bbd3192",
   "metadata": {},
   "outputs": [],
   "source": [
    "import numpy as np\n",
    "from tqdm import tqdm\n",
    "import cv2 as cv\n",
    "import matplotlib.pyplot as plt\n",
    "\n",
    "import torch\n",
    "import torch.nn as nn\n",
    "import torchvision.models as models\n",
    "import torchvision.transforms as T\n",
    "from torch.utils.data import Dataset, random_split, DataLoader\n",
    "import torch.nn.functional as F\n",
    "\n",
    "import json\n",
    "import os\n",
    "import random\n",
    "from collections import OrderedDict"
   ]
  },
  {
   "cell_type": "code",
   "execution_count": 2,
   "id": "43882c0a-fe4b-4e08-b53e-03813fc71e25",
   "metadata": {},
   "outputs": [],
   "source": [
    "track_id2student_id_it = {7:0, 6:1, 0:2, 8:3, 1:4, 3:5, 11:6, 15:7, 16:8, 2:9, 5:12, 9:13, 4:14} # irimi tenkan, my tracking algo\n",
    "track_id2student_id_ta = {8:0, 7:1, 2:2, 10:3, 3:4, 4:5, 14:6, 9:7, 1:8, 12:9, 11:10, 0:11, 6:12, 5:13} # tsugi ashi, my tracking algo\n",
    "track_id2student_id_utmt = {7:0, 6:1, 1:2, 8:3, 3:4, 5:5, 11:6, 10:7, 2:8, 0:11, 4:13, 9:9, 12:10, 19:12} # utmt, my tracking algo\n",
    "\n",
    "single_student_tids = {\"1156\":0, \"1237\":1, \"0756\":0, \"0912\":0, \"1043\":0}"
   ]
  },
  {
   "cell_type": "code",
   "execution_count": 3,
   "id": "16e97032-cc8a-43c1-b8cb-c47f511c5f52",
   "metadata": {},
   "outputs": [],
   "source": [
    "file2mapping = {\"../alphapose_res/irimi_tenkan_kps.json\":track_id2student_id_it,\n",
    "                \"../alphapose_res/ta_tracking.json\":track_id2student_id_ta,\n",
    "                \"../alphapose_res/utmt_kps.json\":track_id2student_id_utmt}\n",
    "annotations_map = {\"../alphapose_res/irimi_tenkan_kps.json\":\"../data/irimi_tenkan/annotations.json\",\n",
    "                \"../alphapose_res/ta_tracking.json\":\"../data/tsugi_ashi/annotations.json\",\n",
    "                \"../alphapose_res/utmt_kps.json\":\"../data/ushiro_tenkan_mae_tenkan/annotations.json\"}\n",
    "file2exercise = {\"../alphapose_res/irimi_tenkan_kps.json\":\"ирими тенкан\", \n",
    "                 \"../alphapose_res/ta_tracking.json\":\"цуги аши\",\n",
    "                 \"../alphapose_res/utmt_kps.json\":\"уширо тенкан мае тенкан\"}\n",
    "single_st_ann = \"../data/single_student_annotations.json\"\n",
    "\n",
    "SEQ_LEN_FRAMES = 512\n",
    "CHANNELS = 3"
   ]
  },
  {
   "cell_type": "markdown",
   "id": "67112409-a6a3-4fa2-b5ce-4ee7e3fa0078",
   "metadata": {},
   "source": [
    "# Подготовка данных"
   ]
  },
  {
   "cell_type": "code",
   "execution_count": 4,
   "id": "e1b3cca5-a882-4d7a-a0bb-55c45398eb87",
   "metadata": {},
   "outputs": [],
   "source": [
    "from dataproc import *\n",
    "from train_utils import * "
   ]
  },
  {
   "cell_type": "code",
   "execution_count": 5,
   "id": "6a01f47b-1ce5-4628-b48d-7343cf0545d0",
   "metadata": {},
   "outputs": [],
   "source": [
    "ss_vid_ann = [os.path.join(\"../alphapose_res\", f) for f in [\"0756_alpha.json\", \"0912_alpha.json\",\n",
    "                                                            \"1043_alpha.json\", \"1156_alpha.json\", \n",
    "                                                            \"1237_alpha.json\"]]\n",
    "student_exercise_points, exercise_borders = parse_borders_annotations(file2mapping, single_st_ann, \n",
    "                                                                      annotations_map, ss_vid_ann, \n",
    "                                                                      single_student_tids)"
   ]
  },
  {
   "cell_type": "code",
   "execution_count": 96,
   "id": "c6db04ba-c3b5-4859-a68b-745816d0bd8e",
   "metadata": {},
   "outputs": [],
   "source": [
    "frame_durs = [stex.shape[1] for stex in student_exercise_points]\n",
    "encoded_borders = encode_borders(exercise_borders, frame_durs, \"<EXERCISE_BODY>\")\n",
    "split_exercs, split_borders = split_into_equal_frame_len(student_exercise_points, encoded_borders, SEQ_LEN_FRAMES, drop_last=False)"
   ]
  }
 ],
 "metadata": {
  "kernelspec": {
   "display_name": "Python 3 (ipykernel)",
   "language": "python",
   "name": "python3"
  },
  "language_info": {
   "codemirror_mode": {
    "name": "ipython",
    "version": 3
   },
   "file_extension": ".py",
   "mimetype": "text/x-python",
   "name": "python",
   "nbconvert_exporter": "python",
   "pygments_lexer": "ipython3",
   "version": "3.11.7"
  }
 },
 "nbformat": 4,
 "nbformat_minor": 5
}
