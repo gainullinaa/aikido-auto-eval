{
 "cells": [
  {
   "cell_type": "code",
   "execution_count": 1,
   "id": "03ca8f1b-f9cd-479a-8d5b-64dd2bbd3192",
   "metadata": {},
   "outputs": [],
   "source": [
    "import numpy as np\n",
    "from tqdm import tqdm\n",
    "import cv2 as cv\n",
    "import matplotlib.pyplot as plt\n",
    "\n",
    "import torch\n",
    "import torch.nn as nn\n",
    "import torchvision.models as models\n",
    "import torchvision.transforms as T\n",
    "from torch.utils.data import Dataset, random_split, DataLoader\n",
    "import torch.nn.functional as F\n",
    "\n",
    "import json\n",
    "import os\n",
    "import random\n",
    "from collections import OrderedDict"
   ]
  },
  {
   "cell_type": "code",
   "execution_count": 2,
   "id": "43882c0a-fe4b-4e08-b53e-03813fc71e25",
   "metadata": {},
   "outputs": [],
   "source": [
    "track_id2student_id_it = {7:0, 6:1, 0:2, 8:3, 1:4, 3:5, 11:6, 15:7, 16:8, 2:9, 5:12, 9:13, 4:14} # irimi tenkan, my tracking algo\n",
    "track_id2student_id_ta = {8:0, 7:1, 2:2, 10:3, 3:4, 4:5, 14:6, 9:7, 1:8, 12:9, 11:10, 0:11, 6:12, 5:13} # tsugi ashi, my tracking algo\n",
    "track_id2student_id_utmt = {7:0, 6:1, 1:2, 8:3, 3:4, 5:5, 11:6, 10:7, 2:8, 0:11, 4:13, 9:9, 12:10, 19:12} # utmt, my tracking algo\n",
    "\n",
    "single_student_tids = {\"1156\":0, \"1237\":1, \"0756\":0, \"0912\":0, \"1043\":0}"
   ]
  },
  {
   "cell_type": "code",
   "execution_count": 3,
   "id": "16e97032-cc8a-43c1-b8cb-c47f511c5f52",
   "metadata": {},
   "outputs": [],
   "source": [
    "file2mapping = {\"../alphapose_res/irimi_tenkan_kps.json\":track_id2student_id_it,\n",
    "                \"../alphapose_res/ta_tracking.json\":track_id2student_id_ta,\n",
    "                \"../alphapose_res/utmt_kps.json\":track_id2student_id_utmt}\n",
    "annotations_map = {\"../alphapose_res/irimi_tenkan_kps.json\":\"../data/irimi_tenkan/annotations.json\",\n",
    "                \"../alphapose_res/ta_tracking.json\":\"../data/tsugi_ashi/annotations.json\",\n",
    "                \"../alphapose_res/utmt_kps.json\":\"../data/ushiro_tenkan_mae_tenkan/annotations.json\"}\n",
    "file2exercise = {\"../alphapose_res/irimi_tenkan_kps.json\":\"ирими тенкан\", \n",
    "                 \"../alphapose_res/ta_tracking.json\":\"цуги аши\",\n",
    "                 \"../alphapose_res/utmt_kps.json\":\"уширо тенкан мае тенкан\"}\n",
    "single_st_ann = \"../data/single_student_annotations.json\"\n",
    "\n",
    "SEQ_LEN_FRAMES = 256\n",
    "CHANNELS = 3\n",
    "SEED = 42\n",
    "BATCH_FIRST = False"
   ]
  },
  {
   "cell_type": "markdown",
   "id": "67112409-a6a3-4fa2-b5ce-4ee7e3fa0078",
   "metadata": {},
   "source": [
    "# Подготовка данных"
   ]
  },
  {
   "cell_type": "code",
   "execution_count": 8,
   "id": "e1b3cca5-a882-4d7a-a0bb-55c45398eb87",
   "metadata": {},
   "outputs": [],
   "source": [
    "from dataproc import *\n",
    "from train_utils import * "
   ]
  },
  {
   "cell_type": "code",
   "execution_count": 9,
   "id": "80752e93-3f65-4ed6-ae38-15014ce6632e",
   "metadata": {},
   "outputs": [],
   "source": [
    "ss_vid_ann = [os.path.join(\"../alphapose_res\", f) for f in [\"0756_alpha.json\", \"0912_alpha.json\",\n",
    "                                                            \"1043_alpha.json\", \"1156_alpha.json\", \n",
    "                                                            \"1237_alpha.json\"]]\n",
    "student_exercise_points, exercise_borders = parse_borders_annotations(file2mapping, single_st_ann, \n",
    "                                                                      annotations_map, ss_vid_ann, \n",
    "                                                                      single_student_tids)\n",
    "frame_durs = [stex.shape[1] for stex in student_exercise_points]\n",
    "encoded_borders = encode_borders(exercise_borders, frame_durs, \"<EXERCISE_BODY>\")\n",
    "split_exercs, split_borders = split_into_equal_frame_len(student_exercise_points, encoded_borders, SEQ_LEN_FRAMES, drop_last=False)"
   ]
  },
  {
   "cell_type": "markdown",
   "id": "9dcfe9d8-fa1b-400e-812b-20fa00f3e2a1",
   "metadata": {},
   "source": [
    "## Датасет"
   ]
  },
  {
   "cell_type": "code",
   "execution_count": 10,
   "id": "92cc95e1-6377-457d-ba05-19393e798bce",
   "metadata": {},
   "outputs": [],
   "source": [
    "default_feature_flatten = lambda x: np.transpose(x, (1, 0, 2)).reshape(SEQ_LEN_FRAMES, -1)\n",
    "\n",
    "class FrameTaggingDataset(Dataset):\n",
    "    def __init__(self, inputs:list, tag_vec:list, channel_count:int, sequence_length:int, \n",
    "                 feature_flatten_fn=default_feature_flatten, batch_first:bool=False):\n",
    "        self.inputs = inputs\n",
    "        self.tag_vecs = tag_vec\n",
    "        self.channels = channel_count\n",
    "        self.batch_first = batch_first\n",
    "        self.seq_len = sequence_length\n",
    "        assert feature_flatten_fn != None\n",
    "        self.feature_flatten = feature_flatten_fn\n",
    "        \n",
    "    def __len__(self):\n",
    "        return len(self.inputs)\n",
    "\n",
    "    def __getitem__(self, idx):\n",
    "        img = self.inputs[idx]\n",
    "        img = img[:, :, :self.channels] \n",
    "        vectorized_seq = self.feature_flatten(img).astype('float32')\n",
    "        if not self.batch_first:\n",
    "            vectorized_seq = vectorized_seq.reshape(self.seq_len, 1, -1)\n",
    "        return vectorized_seq, self.tag_vecs[idx].astype('float32')"
   ]
  },
  {
   "cell_type": "code",
   "execution_count": 11,
   "id": "1c87302f-7423-4592-be9f-434e08528213",
   "metadata": {},
   "outputs": [
    {
     "name": "stdout",
     "output_type": "stream",
     "text": [
      "Total 209\n",
      "Train count 151\n",
      "Test count 37\n",
      "Val count 21\n"
     ]
    }
   ],
   "source": [
    "# how to split to train/test/validation ?\n",
    "random.seed(SEED)\n",
    "# dividing\n",
    "train_frac = 0.7\n",
    "val_frac = 0.1\n",
    "test_frac = 0.2\n",
    "\n",
    "train_ids, test_ids, val_ids = [], [], []\n",
    "train_xs, train_tags = [], []\n",
    "test_xs, test_tags = [], []\n",
    "val_xs, val_tags = [], []\n",
    "\n",
    "for s in split_exercs:\n",
    "    for i, student_frames in enumerate(split_exercs[s]):\n",
    "        rval = random.random()\n",
    "        if rval <= train_frac:\n",
    "            train_xs.append(student_frames)\n",
    "            train_tags.append(split_borders[i])\n",
    "            train_ids.append((s, i))\n",
    "        elif rval <= (train_frac + test_frac):\n",
    "            test_xs.append(student_frames)\n",
    "            test_tags.append(split_borders[i])\n",
    "            test_ids.append((s, i))\n",
    "        else:\n",
    "            val_xs.append(student_frames)\n",
    "            val_tags.append(split_borders[i])\n",
    "            val_ids.append((s, i))\n",
    "\n",
    "total_data_count = len(train_xs) + len(test_xs) + len(val_xs)\n",
    "\n",
    "print(\"Total\", total_data_count)\n",
    "print(\"Train count\", len(train_xs))\n",
    "print(\"Test count\", len(test_xs))\n",
    "print(\"Val count\", len(val_xs))"
   ]
  },
  {
   "cell_type": "code",
   "execution_count": 12,
   "id": "073e1fb4-cada-4dc5-b926-8b73b38ff769",
   "metadata": {},
   "outputs": [
    {
     "data": {
      "image/png": "[encoded data removed]",
      "text/plain": [
       "<Figure size 700x300 with 3 Axes>"
      ]
     },
     "metadata": {},
     "output_type": "display_data"
    }
   ],
   "source": [
    "train_segment_idx = [f[-1] for f in train_ids]\n",
    "test_segment_idx = [f[-1] for f in test_ids]\n",
    "val_segment_idx = [f[-1] for f in val_ids]\n",
    "\n",
    "train_hist_data = np.histogram(train_segment_idx, 5)\n",
    "test_hist_data = np.histogram(test_segment_idx, 5)\n",
    "val_segment_idx = np.histogram(val_segment_idx, 5)\n",
    "\n",
    "fig, axs = plt.subplots(1, 3, figsize=(7, 3))\n",
    "axs[0].stairs(train_hist_data[0], train_hist_data[1], fill=True)\n",
    "axs[0].set_xlabel(\"Train\")\n",
    "axs[1].stairs(test_hist_data[0], test_hist_data[1], fill=True)\n",
    "axs[1].set_xlabel(\"Test\")\n",
    "axs[2].stairs(val_segment_idx[0], val_segment_idx[1], fill=True)\n",
    "axs[2].set_xlabel(\"Validation\")\n",
    "fig.suptitle('Распределение индексов видеосегментов по сплитам данных')\n",
    "plt.show()"
   ]
  },
  {
   "cell_type": "code",
   "execution_count": 13,
   "id": "2485e71a-3895-4567-bca5-09f5d667756e",
   "metadata": {},
   "outputs": [],
   "source": [
    "train_ds = FrameTaggingDataset(train_xs, train_tags, CHANNELS, SEQ_LEN_FRAMES, batch_first=BATCH_FIRST)\n",
    "val_ds = FrameTaggingDataset(val_xs, val_tags, CHANNELS, SEQ_LEN_FRAMES, batch_first=BATCH_FIRST)\n",
    "test_ds = FrameTaggingDataset(test_xs, test_tags, CHANNELS, SEQ_LEN_FRAMES, batch_first=BATCH_FIRST)\n",
    "\n",
    "batch_size = 32\n",
    "if BATCH_FIRST:\n",
    "    collate_func = torch.utils.data.default_collate\n",
    "else:\n",
    "    collate_func = batch_second_collate\n",
    "train_loader = DataLoader(train_ds, batch_size, shuffle=True, collate_fn=collate_func)\n",
    "val_loader = DataLoader(val_ds, 1, collate_fn=collate_func)\n",
    "test_loader = DataLoader(test_ds, 1, shuffle=False, collate_fn=collate_func)"
   ]
  },
  {
   "cell_type": "markdown",
   "id": "979926e7-753e-4f02-89d7-4c77d991d22c",
   "metadata": {},
   "source": [
    "# Обучение"
   ]
  },
  {
   "cell_type": "markdown",
   "id": "91b2dbdd-ebc4-4ce2-9e86-1d94f7d0ef24",
   "metadata": {},
   "source": [
    "## Модель"
   ]
  },
  {
   "cell_type": "code",
   "execution_count": 21,
   "id": "2a532999-b3b9-4967-b658-e2bfe61f54bf",
   "metadata": {},
   "outputs": [],
   "source": [
    "# https://pytorch.org/tutorials/beginner/nlp/sequence_models_tutorial.html#example-an-lstm-for-part-of-speech-tagging\n",
    "class FrameTaggerModel(torch.nn.Module):\n",
    "    def __init__(self, input_dim:int, tagset_size:int, batch_first:bool, hidden_size:int=100, recurrent_layers:int=5):\n",
    "        super(FrameTaggerModel, self).__init__()\n",
    "        self.batch_first = batch_first\n",
    "        self.recurrent = torch.nn.LSTM(input_dim, hidden_size, num_layers=recurrent_layers, batch_first=batch_first)\n",
    "        self.fc = torch.nn.Sequential(\n",
    "            torch.nn.Linear(hidden_size, tagset_size),\n",
    "            torch.nn.LogSoftmax(1)\n",
    "        )\n",
    "        \n",
    "    def forward(self, xb):\n",
    "        if not self.batch_first or len(xb.shape)==2:\n",
    "            seq_len = xb.shape[0]\n",
    "        else:\n",
    "            seq_len = xb.shape[1]\n",
    "        lstm_out, _ = self.recurrent(xb)\n",
    "        tag_scores = self.fc(lstm_out.view(seq_len, -1))\n",
    "        return tag_scores"
   ]
  },
  {
   "cell_type": "code",
   "execution_count": 22,
   "id": "5a1d8759-fcc0-433d-a99d-5b6886c76974",
   "metadata": {},
   "outputs": [
    {
     "data": {
      "text/plain": [
       "torch.Size([256, 6])"
      ]
     },
     "execution_count": 22,
     "metadata": {},
     "output_type": "execute_result"
    }
   ],
   "source": [
    "test_input = torch.rand(SEQ_LEN_FRAMES, 26 * CHANNELS)\n",
    "tester = FrameTaggerModel(26 * CHANNELS, len(EXTOKENS), BATCH_FIRST, 10)\n",
    "output = tester(test_input)\n",
    "output.shape"
   ]
  }
 ],
 "metadata": {
  "kernelspec": {
   "display_name": "Python 3 (ipykernel)",
   "language": "python",
   "name": "python3"
  },
  "language_info": {
   "codemirror_mode": {
    "name": "ipython",
    "version": 3
   },
   "file_extension": ".py",
   "mimetype": "text/x-python",
   "name": "python",
   "nbconvert_exporter": "python",
   "pygments_lexer": "ipython3",
   "version": "3.11.7"
  }
 },
 "nbformat": 4,
 "nbformat_minor": 5
}
